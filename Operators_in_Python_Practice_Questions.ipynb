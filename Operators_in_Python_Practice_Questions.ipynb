{
  "nbformat": 4,
  "nbformat_minor": 0,
  "metadata": {
    "colab": {
      "provenance": [],
      "include_colab_link": true
    },
    "kernelspec": {
      "name": "python3",
      "display_name": "Python 3"
    },
    "language_info": {
      "name": "python"
    }
  },
  "cells": [
    {
      "cell_type": "markdown",
      "metadata": {
        "id": "view-in-github",
        "colab_type": "text"
      },
      "source": [
        "<a href=\"https://colab.research.google.com/github/rm17octo22/PYTHON/blob/main/Operators_in_Python_Practice_Questions.ipynb\" target=\"_parent\"><img src=\"https://colab.research.google.com/assets/colab-badge.svg\" alt=\"Open In Colab\"/></a>"
      ]
    },
    {
      "cell_type": "markdown",
      "source": [
        "#### Fitness Tracker Analysis"
      ],
      "metadata": {
        "id": "tz3j8nDzok0n"
      }
    },
    {
      "cell_type": "markdown",
      "source": [
        "Scenario:\n",
        "You are developing a basic fitness tracker app that helps users monitor their daily workout routines. The app tracks the number of steps, calories burned, distance covered, and some user-specific details like age and weight."
      ],
      "metadata": {
        "id": "tlGizYwfoo2Y"
      }
    },
    {
      "cell_type": "code",
      "source": [
        "# A user logs 8,000 steps in a day. The app calculates calories burned using the formula:\n",
        "# calories_burned =   0.04 times of steps.\n",
        "# Determine the total calories burned by the user.\n",
        "# Also, check if the user burned more than  300 calories.\n",
        "\n",
        "steps = 8000\n",
        "calories_burned = 0.04 * steps # Write your code here\n",
        "burned_more_than_300 = calories_burned > 300  # Write your code for the condition\n",
        "\n",
        "print(\"Calories Burned:\", calories_burned)\n",
        "print(\"Burned More Than 300 Calories:\", burned_more_than_300)\n",
        "# print(calories_burned)\n",
        "# print(burned_more_than_300)"
      ],
      "metadata": {
        "id": "Usep1_43ood8",
        "colab": {
          "base_uri": "https://localhost:8080/"
        },
        "outputId": "dbef9370-22cd-4340-ae3b-e3adb56b1d1f"
      },
      "execution_count": null,
      "outputs": [
        {
          "output_type": "stream",
          "name": "stdout",
          "text": [
            "Calories Burned: 320.0\n",
            "Burned More Than 300 Calories: True\n"
          ]
        }
      ]
    },
    {
      "cell_type": "code",
      "source": [
        "# The app awards a badge if the user meets either of the following conditions:\n",
        "# (a) The user burns exactly 300 calories, or\n",
        "# (b) The user completes exactly 10,000 steps.\n",
        "# Check if the user qualifies for the badge.\n",
        "\n",
        "\n",
        "badge_condition1 = calories_burned == 300 # Write your code here checking the condition calorie exactly 300\n",
        "badge_condition2 = steps == 10000 # Write your code here checking the condition steps exactly 10,000\n",
        "qualifies_for_badge = badge_condition1 or badge_condition2\n",
        "\n",
        "print(\"Qualifies for Badge:\", qualifies_for_badge)\n",
        "\n"
      ],
      "metadata": {
        "id": "SRc4KyVBpsCZ",
        "colab": {
          "base_uri": "https://localhost:8080/"
        },
        "outputId": "9d4dc2bb-fce3-40d7-a5fb-ab4591236bff"
      },
      "execution_count": null,
      "outputs": [
        {
          "output_type": "stream",
          "name": "stdout",
          "text": [
            "Qualifies for Badge: False\n"
          ]
        }
      ]
    },
    {
      "cell_type": "code",
      "source": [
        "# The app awards a badge if the user meets either of the following conditions:\n",
        "# (a) The user burns atleast 300 calories, or\n",
        "# (b) The user completes atleast 10,000 steps.\n",
        "# Check if the user qualifies for the badge.\n",
        "\n",
        "\n",
        "badge_condition1 = calories_burned >= 300 # Write your code here checking the condition calorie exactly 300\n",
        "badge_condition2 = steps >= 10000 # Write your code here checking the condition steps exactly 10,000\n",
        "qualifies_for_badge = badge_condition1 or badge_condition2\n",
        "\n",
        "print(\"User Qualifies for Badge:\", qualifies_for_badge)"
      ],
      "metadata": {
        "colab": {
          "base_uri": "https://localhost:8080/"
        },
        "id": "3Bs6Pc6F3R_i",
        "outputId": "e8eaa819-2c99-4546-ec68-a05b67ccc28a"
      },
      "execution_count": null,
      "outputs": [
        {
          "output_type": "stream",
          "name": "stdout",
          "text": [
            "User Qualifies for Badge: True\n"
          ]
        }
      ]
    },
    {
      "cell_type": "code",
      "source": [
        "# The app also calculates the user's Body Mass Index (BMI) using the formula:\n",
        "# BMI = weight / (height_in_meters ** 2).\n",
        "# Given the user’s weight as 70 kg and height as 1.75 meters, calculate their BMI.\n",
        "# If the BMI is greater than or equal to 25, the app advises the user to focus on losing weight.\n",
        "\n",
        "weight = 70\n",
        "height_in_meters = 1.75\n",
        "\n",
        "BMI = weight / (height_in_meters ** 2)  # Write the code to calculate the BMI\n",
        "focus_on_weight_loss =  BMI >= 25   # Write the code to check the weight loss suggestion\n",
        "\n",
        "print(\"BMI:\", BMI)\n",
        "print(\"Focus on Weight Loss:\", focus_on_weight_loss)"
      ],
      "metadata": {
        "id": "W0rfcNceqQrc",
        "colab": {
          "base_uri": "https://localhost:8080/"
        },
        "outputId": "4ad555f8-648a-4b67-ac1e-72501d0416e9"
      },
      "execution_count": null,
      "outputs": [
        {
          "output_type": "stream",
          "name": "stdout",
          "text": [
            "BMI: 22.857142857142858\n",
            "Focus on Weight Loss: False\n"
          ]
        }
      ]
    },
    {
      "cell_type": "code",
      "source": [
        "# height_in_meters * height_in_meters\n",
        "# height_in_meters ** 2\n",
        "# height_in_meters ** height_in_meters\n",
        "# 1.7 * 1.7"
      ],
      "metadata": {
        "id": "j7RxqEdQ45MH"
      },
      "execution_count": null,
      "outputs": []
    },
    {
      "cell_type": "code",
      "source": [
        "# The app has a feature to track weekly goals.\n",
        "# The user aims to walk 56,000 steps in a week.\n",
        "# Calculate the percentage of the goal achieved if the user walks 42,000 steps.\n",
        "# Also, check if the user has achieved at least 75% of his/her goal\n",
        "\n",
        "weekly_goal = 56000\n",
        "steps_taken = 42000\n",
        "\n",
        "percentage_goal_achieved = (steps_taken/weekly_goal) * 100 # Write the code here to calculcate the percentage goal achieved\n",
        "achieved_at_least_75_percent = percentage_goal_achieved>=75 # Write the code here to check the condition of percentage_goal_achieved >= 75%\n",
        "\n",
        "print(\"Percentage of Goal Achieved:\", percentage_goal_achieved,'%')\n",
        "print(\"Achieved at Least 75% of Goal:\", achieved_at_least_75_percent)"
      ],
      "metadata": {
        "id": "I4Ed1Ro6qccl",
        "colab": {
          "base_uri": "https://localhost:8080/"
        },
        "outputId": "32700670-b629-40c6-f1a2-79231532d74f"
      },
      "execution_count": null,
      "outputs": [
        {
          "output_type": "stream",
          "name": "stdout",
          "text": [
            "Percentage of Goal Achieved: 75.0 %\n",
            "Achieved at Least 75% of Goal: True\n"
          ]
        }
      ]
    },
    {
      "cell_type": "code",
      "source": [
        "# Code : you need the right data flow --> '75%' , 0.75"
      ],
      "metadata": {
        "id": "6dkBI3Kt6MkR"
      },
      "execution_count": null,
      "outputs": []
    },
    {
      "cell_type": "code",
      "source": [
        "# 75%: Excel : 0.75\n"
      ],
      "metadata": {
        "id": "qOegKRon6gKA"
      },
      "execution_count": null,
      "outputs": []
    },
    {
      "cell_type": "code",
      "source": [
        "# In built function | print, etc.\n",
        "# 3rd party libraries | pandas, sklearn, keras, matplotlib, seaborn,etc.\n",
        "# Custom Functions --> def"
      ],
      "metadata": {
        "id": "Ex3NKH59aG2v"
      },
      "execution_count": null,
      "outputs": []
    },
    {
      "cell_type": "code",
      "source": [],
      "metadata": {
        "id": "5oImMQyGaM3W"
      },
      "execution_count": null,
      "outputs": []
    },
    {
      "cell_type": "code",
      "source": [],
      "metadata": {
        "id": "lLP1ysdja8kR"
      },
      "execution_count": null,
      "outputs": []
    },
    {
      "cell_type": "code",
      "source": [],
      "metadata": {
        "id": "CR0gpEFpbRno"
      },
      "execution_count": null,
      "outputs": []
    }
  ]
}