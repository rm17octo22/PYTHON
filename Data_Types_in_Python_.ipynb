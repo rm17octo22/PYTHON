{
  "nbformat": 4,
  "nbformat_minor": 0,
  "metadata": {
    "colab": {
      "provenance": [],
      "include_colab_link": true
    },
    "kernelspec": {
      "name": "python3",
      "display_name": "Python 3"
    },
    "language_info": {
      "name": "python"
    }
  },
  "cells": [
    {
      "cell_type": "markdown",
      "metadata": {
        "id": "view-in-github",
        "colab_type": "text"
      },
      "source": [
        "<a href=\"https://colab.research.google.com/github/rm17octo22/PYTHON/blob/main/Data_Types_in_Python_.ipynb\" target=\"_parent\"><img src=\"https://colab.research.google.com/assets/colab-badge.svg\" alt=\"Open In Colab\"/></a>"
      ]
    },
    {
      "cell_type": "code",
      "source": [
        "# Data types in python\n",
        "# primitive : int, float, Boolean ,\n",
        "# Non Primitive Dtypes : string, list, tuple, Dictionaries, set | Collection of elements\n",
        "# Value is data --> Data type"
      ],
      "metadata": {
        "id": "IC-n3vFlQMEU"
      },
      "execution_count": null,
      "outputs": []
    },
    {
      "cell_type": "markdown",
      "source": [
        "#### Representation of data types"
      ],
      "metadata": {
        "id": "b9VmaceeM86Y"
      }
    },
    {
      "cell_type": "code",
      "source": [
        "19.45 # Why you consider this as one number?\n",
        "True # Single data being used"
      ],
      "metadata": {
        "id": "SElrJuszzNiZ"
      },
      "execution_count": null,
      "outputs": []
    },
    {
      "cell_type": "code",
      "source": [
        "_var = 'hello' # '' --> String\n",
        "type(_var) # type"
      ],
      "metadata": {
        "colab": {
          "base_uri": "https://localhost:8080/"
        },
        "id": "S0eJLQvvp37T",
        "outputId": "f11ee1b9-d043-4545-ac94-87b1faadd43e"
      },
      "execution_count": null,
      "outputs": [
        {
          "output_type": "execute_result",
          "data": {
            "text/plain": [
              "str"
            ]
          },
          "metadata": {},
          "execution_count": 65
        }
      ]
    },
    {
      "cell_type": "code",
      "source": [
        "_var = [3,4,5,'a'] # list --> []\n",
        "type(_var)"
      ],
      "metadata": {
        "colab": {
          "base_uri": "https://localhost:8080/"
        },
        "id": "TKZcBgCGzeNC",
        "outputId": "57645a48-564b-456c-e0aa-55479f254e71"
      },
      "execution_count": null,
      "outputs": [
        {
          "output_type": "execute_result",
          "data": {
            "text/plain": [
              "list"
            ]
          },
          "metadata": {},
          "execution_count": 66
        }
      ]
    },
    {
      "cell_type": "code",
      "source": [
        "_var = (3,4,6,7, '$') # tuple --> ()\n",
        "type(_var)"
      ],
      "metadata": {
        "colab": {
          "base_uri": "https://localhost:8080/"
        },
        "id": "J1DyFtZLzxmQ",
        "outputId": "e1fd83df-8cfb-4479-b1ca-4307bc003256"
      },
      "execution_count": null,
      "outputs": [
        {
          "output_type": "execute_result",
          "data": {
            "text/plain": [
              "tuple"
            ]
          },
          "metadata": {},
          "execution_count": 67
        }
      ]
    },
    {
      "cell_type": "code",
      "source": [
        "_var = {3,4,5} # Set\n",
        "type(_var)"
      ],
      "metadata": {
        "colab": {
          "base_uri": "https://localhost:8080/"
        },
        "id": "jFpKm3sF0gLp",
        "outputId": "709e8cf2-b413-4728-c21c-bb2c71b4a922"
      },
      "execution_count": null,
      "outputs": [
        {
          "output_type": "execute_result",
          "data": {
            "text/plain": [
              "set"
            ]
          },
          "metadata": {},
          "execution_count": 68
        }
      ]
    },
    {
      "cell_type": "code",
      "source": [
        "_var = {'a':3, 'b':4} #\n",
        "type(_var)# Dict"
      ],
      "metadata": {
        "colab": {
          "base_uri": "https://localhost:8080/"
        },
        "id": "iN-jRIR01DSz",
        "outputId": "006c4012-e3a6-4703-f43f-319340751b65"
      },
      "execution_count": null,
      "outputs": [
        {
          "output_type": "execute_result",
          "data": {
            "text/plain": [
              "dict"
            ]
          },
          "metadata": {},
          "execution_count": 69
        }
      ]
    },
    {
      "cell_type": "code",
      "source": [
        "# String"
      ],
      "metadata": {
        "id": "WzJ2FDm3XF8G"
      },
      "execution_count": null,
      "outputs": []
    },
    {
      "cell_type": "code",
      "source": [
        "# Single Quote\n",
        "_string_var = 'hello world' # Recognised as string\n",
        "type(_string_var)"
      ],
      "metadata": {
        "colab": {
          "base_uri": "https://localhost:8080/"
        },
        "id": "ta4NUK92XFni",
        "outputId": "8cecde7a-3b69-4fd1-9806-d67985319402"
      },
      "execution_count": null,
      "outputs": [
        {
          "output_type": "execute_result",
          "data": {
            "text/plain": [
              "str"
            ]
          },
          "metadata": {},
          "execution_count": 70
        }
      ]
    },
    {
      "cell_type": "code",
      "source": [
        "# Issue with Single Quote\n",
        "_string_var = 'I'm Alok' # -->"
      ],
      "metadata": {
        "id": "Lv9OPtUnqcq2"
      },
      "execution_count": null,
      "outputs": []
    },
    {
      "cell_type": "code",
      "source": [
        "# Escape character \\ --> Backward slash\n",
        "_string_var = 'I\\'m Alok'\n",
        "_string_var"
      ],
      "metadata": {
        "id": "5PrNTZC-rdoP",
        "colab": {
          "base_uri": "https://localhost:8080/",
          "height": 35
        },
        "outputId": "e60830df-bbc9-43f7-e239-3c700efdcd3c"
      },
      "execution_count": null,
      "outputs": [
        {
          "output_type": "execute_result",
          "data": {
            "text/plain": [
              "\"I'm Alok\""
            ],
            "application/vnd.google.colaboratory.intrinsic+json": {
              "type": "string"
            }
          },
          "metadata": {},
          "execution_count": 71
        }
      ]
    },
    {
      "cell_type": "code",
      "source": [
        "_string_var = 'I\\'m Alok,I\\'m learning python'\n",
        "print(_string_var)"
      ],
      "metadata": {
        "colab": {
          "base_uri": "https://localhost:8080/"
        },
        "id": "AOA9s1eLrXf3",
        "outputId": "74a32174-599e-4edc-a3fb-fc0f1c855c55"
      },
      "execution_count": null,
      "outputs": [
        {
          "output_type": "stream",
          "name": "stdout",
          "text": [
            "I'm Alok,I'm learning python\n"
          ]
        }
      ]
    },
    {
      "cell_type": "code",
      "source": [
        "# Double Quote\n",
        "_string_var = \"I'm Alok,I'm learning python\"\n",
        "print(_string_var)"
      ],
      "metadata": {
        "colab": {
          "base_uri": "https://localhost:8080/"
        },
        "id": "oOpQEqk9XFk6",
        "outputId": "623a6072-bd86-4360-f0f2-335ffca24ba2"
      },
      "execution_count": null,
      "outputs": [
        {
          "output_type": "stream",
          "name": "stdout",
          "text": [
            "I'm Alok,I'm learning python\n"
          ]
        }
      ]
    },
    {
      "cell_type": "code",
      "source": [],
      "metadata": {
        "id": "UsYMzyrq27_t"
      },
      "execution_count": null,
      "outputs": []
    },
    {
      "cell_type": "code",
      "source": [
        "# issue with Double & Single Quotes\n",
        "# Python tries to find the termination of single & double quotes in the same line."
      ],
      "metadata": {
        "id": "-fF4cpOLsbIr"
      },
      "execution_count": null,
      "outputs": []
    },
    {
      "cell_type": "code",
      "source": [
        "# Multiliner strings\n",
        "_string_var = \"My name is Alok\n",
        "I am learning Python\n",
        "at AlmaBetter.\"\n",
        "# Issue with Single or double quote"
      ],
      "metadata": {
        "id": "pjGAJASD29dq"
      },
      "execution_count": null,
      "outputs": []
    },
    {
      "cell_type": "code",
      "source": [
        "# triple quotes\n",
        "_String_var = ''' My name is Alok\n",
        "I am Learning Python\n",
        "at AlmaBetter\n",
        "'''\n",
        "print(_String_var)"
      ],
      "metadata": {
        "colab": {
          "base_uri": "https://localhost:8080/"
        },
        "id": "u8LREMJm3Nre",
        "outputId": "f4e67322-1d5f-4c7e-b16e-23ecec2f26c0"
      },
      "execution_count": null,
      "outputs": [
        {
          "output_type": "stream",
          "name": "stdout",
          "text": [
            " My name is Alok\n",
            "I am Learning Python\n",
            "at AlmaBetter\n",
            "\n"
          ]
        }
      ]
    },
    {
      "cell_type": "code",
      "source": [
        "# Represent a string\n",
        "# '' --> Single\n",
        "# \" \" --> Double\n",
        "# ''' ''' --> Triple"
      ],
      "metadata": {
        "id": "ZuRZ-EfK3aMS"
      },
      "execution_count": null,
      "outputs": []
    },
    {
      "cell_type": "code",
      "source": [
        " # Use triple quotes for multiliner strings\n"
      ],
      "metadata": {
        "id": "q0YxI_p3aUe8"
      },
      "execution_count": null,
      "outputs": []
    },
    {
      "cell_type": "code",
      "source": [],
      "metadata": {
        "id": "miOxkz8k_Ll2"
      },
      "execution_count": null,
      "outputs": []
    },
    {
      "cell_type": "code",
      "source": [
        "# # Comment # Multi line comment is a hack which we use ''' '''\n",
        "'''\n",
        "Multiliner comment\n",
        "'''\n",
        "_x = 5\n",
        "print(_x)\n"
      ],
      "metadata": {
        "id": "uhO_jqJlVu47",
        "colab": {
          "base_uri": "https://localhost:8080/"
        },
        "outputId": "35a42c78-e662-467c-8bfe-c5530af022e2"
      },
      "execution_count": null,
      "outputs": [
        {
          "output_type": "stream",
          "name": "stdout",
          "text": [
            "5\n"
          ]
        }
      ]
    },
    {
      "cell_type": "code",
      "source": [
        "_x = '234' # Doesn't if it is number or @... , '' , \"\", ''' ''' --> String\n",
        "type(_x)"
      ],
      "metadata": {
        "colab": {
          "base_uri": "https://localhost:8080/"
        },
        "id": "E68i8dmP4g6A",
        "outputId": "5d5bb10e-46f5-49f4-ed4c-ce6a19791894"
      },
      "execution_count": null,
      "outputs": [
        {
          "output_type": "execute_result",
          "data": {
            "text/plain": [
              "str"
            ]
          },
          "metadata": {},
          "execution_count": 81
        }
      ]
    },
    {
      "cell_type": "code",
      "source": [
        "# int(\"24\")"
      ],
      "metadata": {
        "colab": {
          "base_uri": "https://localhost:8080/"
        },
        "id": "Fwo40C3c4-gP",
        "outputId": "01c76200-4769-410b-de6b-9739a94e818c"
      },
      "execution_count": null,
      "outputs": [
        {
          "output_type": "execute_result",
          "data": {
            "text/plain": [
              "24"
            ]
          },
          "metadata": {},
          "execution_count": 83
        }
      ]
    },
    {
      "cell_type": "code",
      "source": [
        "# int(\"24.5\")"
      ],
      "metadata": {
        "colab": {
          "base_uri": "https://localhost:8080/",
          "height": 141
        },
        "id": "b4W6lE8S44el",
        "outputId": "ed82bb3e-cedd-4c91-abf3-08caf25b4937"
      },
      "execution_count": null,
      "outputs": [
        {
          "output_type": "error",
          "ename": "ValueError",
          "evalue": "invalid literal for int() with base 10: '24.5'",
          "traceback": [
            "\u001b[0;31m---------------------------------------------------------------------------\u001b[0m",
            "\u001b[0;31mValueError\u001b[0m                                Traceback (most recent call last)",
            "\u001b[0;32m<ipython-input-82-6e7ab3061e0b>\u001b[0m in \u001b[0;36m<cell line: 1>\u001b[0;34m()\u001b[0m\n\u001b[0;32m----> 1\u001b[0;31m \u001b[0mint\u001b[0m\u001b[0;34m(\u001b[0m\u001b[0;34m\"24.5\"\u001b[0m\u001b[0;34m)\u001b[0m\u001b[0;34m\u001b[0m\u001b[0;34m\u001b[0m\u001b[0m\n\u001b[0m",
            "\u001b[0;31mValueError\u001b[0m: invalid literal for int() with base 10: '24.5'"
          ]
        }
      ]
    },
    {
      "cell_type": "code",
      "source": [
        "# x = 'hello'\n",
        "# y = 'world'\n",
        "# a = x +y # '35'\n",
        "# print(a)\n",
        "# # a ==8 #"
      ],
      "metadata": {
        "colab": {
          "base_uri": "https://localhost:8080/"
        },
        "id": "wub7MXe45FT_",
        "outputId": "d7fd360d-ec94-4f9f-b72d-faf330eb4a6b"
      },
      "execution_count": null,
      "outputs": [
        {
          "output_type": "stream",
          "name": "stdout",
          "text": [
            "helloworld\n"
          ]
        }
      ]
    },
    {
      "cell_type": "code",
      "source": [
        "# _x = \"\"\"\n",
        "\n",
        "# abcwdc\n",
        "# \"\"\"\"\n",
        "# print(_x)"
      ],
      "metadata": {
        "colab": {
          "base_uri": "https://localhost:8080/",
          "height": 106
        },
        "id": "aiNKIHUN4Eb_",
        "outputId": "6c196024-d0e6-408e-c8f9-49589f10045a"
      },
      "execution_count": null,
      "outputs": [
        {
          "output_type": "error",
          "ename": "SyntaxError",
          "evalue": "unterminated string literal (detected at line 4) (<ipython-input-80-2631f8343782>, line 4)",
          "traceback": [
            "\u001b[0;36m  File \u001b[0;32m\"<ipython-input-80-2631f8343782>\"\u001b[0;36m, line \u001b[0;32m4\u001b[0m\n\u001b[0;31m    \"\"\"\"\u001b[0m\n\u001b[0m       ^\u001b[0m\n\u001b[0;31mSyntaxError\u001b[0m\u001b[0;31m:\u001b[0m unterminated string literal (detected at line 4)\n"
          ]
        }
      ]
    },
    {
      "cell_type": "code",
      "source": [
        "# List : []\n",
        "_list_var = ['a',1,2,4,5] # 5 elements\n",
        "type(_list_var)"
      ],
      "metadata": {
        "colab": {
          "base_uri": "https://localhost:8080/"
        },
        "id": "TpGsnmLWtMjc",
        "outputId": "e70abe90-6cd5-48ae-f38d-8534b111baa4"
      },
      "execution_count": null,
      "outputs": [
        {
          "output_type": "execute_result",
          "data": {
            "text/plain": [
              "list"
            ]
          },
          "metadata": {},
          "execution_count": 86
        }
      ]
    },
    {
      "cell_type": "code",
      "source": [
        "# Tuple : ()\n",
        "_tuple_var = ('a',3,4,5,6)  # 5 elements\n",
        "type(_tuple_var)"
      ],
      "metadata": {
        "colab": {
          "base_uri": "https://localhost:8080/"
        },
        "id": "-20HP1mQtMgi",
        "outputId": "6230aafa-bc64-43ba-9185-74f3d9121cf1"
      },
      "execution_count": null,
      "outputs": [
        {
          "output_type": "execute_result",
          "data": {
            "text/plain": [
              "tuple"
            ]
          },
          "metadata": {},
          "execution_count": 87
        }
      ]
    },
    {
      "cell_type": "code",
      "source": [
        "# Dictionary : Key & Value Pair\n",
        "# Dictionary : elements ? How many key & values pairs are there?\n",
        "_dict_var = {'Student1':40, 'student2':50, 'a':70, 'b':80} # {1:2, 3:4}\n",
        "# key:value --> element\n",
        "# 1 element in dictionary is a pair of keys & value\n",
        "# {} --> Key:value"
      ],
      "metadata": {
        "id": "uCbEsIt3tMTS"
      },
      "execution_count": null,
      "outputs": []
    },
    {
      "cell_type": "code",
      "source": [
        "# Set : Value with curly bracket\n",
        "_set_var = {2,3,4,'a'}  # 4 elements | Curly brackets"
      ],
      "metadata": {
        "id": "xroSaOo4tMI-"
      },
      "execution_count": null,
      "outputs": []
    },
    {
      "cell_type": "code",
      "source": [
        "# Differentiate Dictionary vs Set\n",
        "# Set : only values\n",
        "# Dictionary : key:value"
      ],
      "metadata": {
        "id": "aCE68uUi69-z"
      },
      "execution_count": null,
      "outputs": []
    },
    {
      "cell_type": "code",
      "source": [],
      "metadata": {
        "colab": {
          "base_uri": "https://localhost:8080/"
        },
        "id": "7oJIcgME9aSP",
        "outputId": "f0060105-207f-4dda-f3af-013b0b7cdc5c"
      },
      "execution_count": null,
      "outputs": [
        {
          "output_type": "stream",
          "name": "stdout",
          "text": [
            "The total number of 'e's in the list of python books is  4\n"
          ]
        }
      ]
    },
    {
      "cell_type": "code",
      "source": [],
      "metadata": {
        "id": "J4uYrA_r9hhA"
      },
      "execution_count": null,
      "outputs": []
    },
    {
      "cell_type": "markdown",
      "source": [
        "#### Empty Data Type, Single Element\n",
        "-- len() : No. of elements in a variable."
      ],
      "metadata": {
        "id": "lLU47_-XNMYt"
      }
    },
    {
      "cell_type": "code",
      "source": [
        "_var = [2,3,4,5,'a'] # How many elements are here? --> 4 elements\n",
        "len(_var)"
      ],
      "metadata": {
        "colab": {
          "base_uri": "https://localhost:8080/"
        },
        "id": "Lsxu-prky1bB",
        "outputId": "707332d0-c11c-4782-af55-e3277b1c1914"
      },
      "execution_count": null,
      "outputs": [
        {
          "output_type": "execute_result",
          "data": {
            "text/plain": [
              "5"
            ]
          },
          "metadata": {},
          "execution_count": 2
        }
      ]
    },
    {
      "cell_type": "code",
      "source": [
        "# Empty Data type : String\n",
        "_var = '' # \"\",''''''\n"
      ],
      "metadata": {
        "id": "di4m1SAPeAwY"
      },
      "execution_count": null,
      "outputs": []
    },
    {
      "cell_type": "code",
      "source": [
        "len(_var)"
      ],
      "metadata": {
        "colab": {
          "base_uri": "https://localhost:8080/"
        },
        "id": "qnDuX8im02-D",
        "outputId": "9bf1084b-3fe8-4d15-a04d-3211bbcee154"
      },
      "execution_count": null,
      "outputs": [
        {
          "output_type": "execute_result",
          "data": {
            "text/plain": [
              "0"
            ]
          },
          "metadata": {},
          "execution_count": 4
        }
      ]
    },
    {
      "cell_type": "code",
      "source": [
        "type(_var)"
      ],
      "metadata": {
        "colab": {
          "base_uri": "https://localhost:8080/"
        },
        "id": "WjeqBx9t08Z2",
        "outputId": "0a55166f-3b93-4503-b812-d11d221894a1"
      },
      "execution_count": null,
      "outputs": [
        {
          "output_type": "execute_result",
          "data": {
            "text/plain": [
              "str"
            ]
          },
          "metadata": {},
          "execution_count": 5
        }
      ]
    },
    {
      "cell_type": "code",
      "source": [
        "# len() --> No of elements in a data types\n",
        "# Inside single quote everything is an element.\n"
      ],
      "metadata": {
        "id": "A2PUEZRcQ8Ob"
      },
      "execution_count": null,
      "outputs": []
    },
    {
      "cell_type": "code",
      "source": [
        "_var = ' ' # Space will be considered as element\n",
        "len(_var)"
      ],
      "metadata": {
        "colab": {
          "base_uri": "https://localhost:8080/"
        },
        "id": "BQhQHTjW1M5S",
        "outputId": "b997dd6d-23cf-4acc-ddbf-f1f7219f2926"
      },
      "execution_count": null,
      "outputs": [
        {
          "output_type": "execute_result",
          "data": {
            "text/plain": [
              "1"
            ]
          },
          "metadata": {},
          "execution_count": 6
        }
      ]
    },
    {
      "cell_type": "code",
      "source": [
        "_var = '2,3,4,5' # How many elements are here?\n",
        "len(_var)"
      ],
      "metadata": {
        "colab": {
          "base_uri": "https://localhost:8080/"
        },
        "id": "kECD34vM1Xd6",
        "outputId": "0aa4697f-9478-49cd-b966-863904dc0493"
      },
      "execution_count": null,
      "outputs": [
        {
          "output_type": "execute_result",
          "data": {
            "text/plain": [
              "7"
            ]
          },
          "metadata": {},
          "execution_count": 7
        }
      ]
    },
    {
      "cell_type": "code",
      "source": [
        "# String - Inside quotes everything is an element"
      ],
      "metadata": {
        "id": "e6O7Bzoy1mg6"
      },
      "execution_count": null,
      "outputs": []
    },
    {
      "cell_type": "code",
      "source": [
        "_var = '[2,3,4,5]'\n",
        "len(_var)"
      ],
      "metadata": {
        "colab": {
          "base_uri": "https://localhost:8080/"
        },
        "id": "HUKkRhcX1wsx",
        "outputId": "421ed30b-06c9-449e-dccc-19f4c16b7971"
      },
      "execution_count": null,
      "outputs": [
        {
          "output_type": "execute_result",
          "data": {
            "text/plain": [
              "9"
            ]
          },
          "metadata": {},
          "execution_count": 9
        }
      ]
    },
    {
      "cell_type": "code",
      "source": [
        "_var = '[2,3 ,4,5]'\n",
        "len(_var)"
      ],
      "metadata": {
        "colab": {
          "base_uri": "https://localhost:8080/"
        },
        "id": "gbnbyAqV2LZS",
        "outputId": "396da277-e5e8-418e-b2c6-f7673494fa81"
      },
      "execution_count": null,
      "outputs": [
        {
          "output_type": "execute_result",
          "data": {
            "text/plain": [
              "10"
            ]
          },
          "metadata": {},
          "execution_count": 10
        }
      ]
    },
    {
      "cell_type": "code",
      "source": [
        "_var = '$% @{2,3}'\n",
        "len(_var)"
      ],
      "metadata": {
        "colab": {
          "base_uri": "https://localhost:8080/"
        },
        "id": "ePqRv7v_2Zdy",
        "outputId": "dab40c69-a45d-42c2-9a9d-3387d45c475b"
      },
      "execution_count": null,
      "outputs": [
        {
          "output_type": "execute_result",
          "data": {
            "text/plain": [
              "9"
            ]
          },
          "metadata": {},
          "execution_count": 11
        }
      ]
    },
    {
      "cell_type": "code",
      "source": [
        "# Escape character (\\). not getting stored in string ,so not considered as element\n",
        "_var = 'I\\'m Alok'\n",
        "print(_var)\n",
        "len(_var)"
      ],
      "metadata": {
        "colab": {
          "base_uri": "https://localhost:8080/"
        },
        "id": "_X_fPbo02pOv",
        "outputId": "128a2e99-93b1-4925-ad4c-5928d9aa87b8"
      },
      "execution_count": null,
      "outputs": [
        {
          "output_type": "stream",
          "name": "stdout",
          "text": [
            "I'm Alok\n"
          ]
        },
        {
          "output_type": "execute_result",
          "data": {
            "text/plain": [
              "8"
            ]
          },
          "metadata": {},
          "execution_count": 15
        }
      ]
    },
    {
      "cell_type": "code",
      "source": [
        "# # Empty Data type : List\n",
        "_var_list = [] # List with 0 elements\n",
        "print(len(_var_list))\n",
        "type(_var_list)"
      ],
      "metadata": {
        "id": "byDv1UDNQ8KT",
        "colab": {
          "base_uri": "https://localhost:8080/"
        },
        "outputId": "838a4060-1624-459a-f61d-6bf40e1e611f"
      },
      "execution_count": null,
      "outputs": [
        {
          "output_type": "stream",
          "name": "stdout",
          "text": [
            "0\n"
          ]
        },
        {
          "output_type": "execute_result",
          "data": {
            "text/plain": [
              "list"
            ]
          },
          "metadata": {},
          "execution_count": 18
        }
      ]
    },
    {
      "cell_type": "code",
      "source": [
        "# Elements are separated by Comma\n",
        "_var_list = [2, 3, 4] # How many elements are here?\n",
        "len(_var_list)"
      ],
      "metadata": {
        "id": "B0EPtCMVxuKI",
        "colab": {
          "base_uri": "https://localhost:8080/"
        },
        "outputId": "5bdf870d-61f5-4a50-cdc9-d41bff6af917"
      },
      "execution_count": null,
      "outputs": [
        {
          "output_type": "execute_result",
          "data": {
            "text/plain": [
              "3"
            ]
          },
          "metadata": {},
          "execution_count": 19
        }
      ]
    },
    {
      "cell_type": "code",
      "source": [
        "_var_list = [3,4,5,6, 'a   '] # how many elements are here?\n",
        "len(_var_list)"
      ],
      "metadata": {
        "colab": {
          "base_uri": "https://localhost:8080/"
        },
        "id": "4qcoXTGd5GEv",
        "outputId": "0e1e0652-3a21-4250-eae3-d76c160bdfe4"
      },
      "execution_count": null,
      "outputs": [
        {
          "output_type": "execute_result",
          "data": {
            "text/plain": [
              "5"
            ]
          },
          "metadata": {},
          "execution_count": 20
        }
      ]
    },
    {
      "cell_type": "code",
      "source": [
        "_var_list = [3, 4.5 , True, 'a. ', 'ab']\n",
        "len(_var_list)"
      ],
      "metadata": {
        "colab": {
          "base_uri": "https://localhost:8080/"
        },
        "id": "UddCySiA5ofp",
        "outputId": "1da3693b-0bfe-4f87-83b7-c39ffc68989b"
      },
      "execution_count": null,
      "outputs": [
        {
          "output_type": "execute_result",
          "data": {
            "text/plain": [
              "5"
            ]
          },
          "metadata": {},
          "execution_count": 21
        }
      ]
    },
    {
      "cell_type": "code",
      "source": [
        "_var_list = [3, 4.5 , True, 'a. ', 'ab,', False]\n",
        "len(_var_list)"
      ],
      "metadata": {
        "colab": {
          "base_uri": "https://localhost:8080/"
        },
        "id": "RbG88_-d6QOa",
        "outputId": "12285941-4d3a-4cfb-c4a5-9d6d3039ffb7"
      },
      "execution_count": null,
      "outputs": [
        {
          "output_type": "execute_result",
          "data": {
            "text/plain": [
              "6"
            ]
          },
          "metadata": {},
          "execution_count": 22
        }
      ]
    },
    {
      "cell_type": "code",
      "source": [
        "_x = 5\n",
        "_y = 10\n",
        "\n",
        "_var_list = [_x, '_y']\n",
        "print(_var_list)\n",
        "# variable represents the data"
      ],
      "metadata": {
        "colab": {
          "base_uri": "https://localhost:8080/"
        },
        "id": "jh7s7gy561Jf",
        "outputId": "1f8c9197-8e2f-499b-c205-8ef565030cc9"
      },
      "execution_count": null,
      "outputs": [
        {
          "output_type": "stream",
          "name": "stdout",
          "text": [
            "[5, '_y']\n"
          ]
        }
      ]
    },
    {
      "cell_type": "code",
      "source": [],
      "metadata": {
        "id": "59RIeG7b72wI"
      },
      "execution_count": null,
      "outputs": []
    },
    {
      "cell_type": "code",
      "source": [
        "# _y vs '_y' --> 1st is variable and 2nd is string"
      ],
      "metadata": {
        "id": "ln13bVOU698W"
      },
      "execution_count": null,
      "outputs": []
    },
    {
      "cell_type": "code",
      "source": [
        "_x = 5\n",
        "_y = 10\n",
        "\n",
        "_var_list = [_x, _y]\n",
        "print(_var_list)"
      ],
      "metadata": {
        "colab": {
          "base_uri": "https://localhost:8080/"
        },
        "id": "uu5gZj6G7XD1",
        "outputId": "3f6a47f1-0ab5-4cc4-839a-6008d425c08d"
      },
      "execution_count": null,
      "outputs": [
        {
          "output_type": "stream",
          "name": "stdout",
          "text": [
            "[5, 10]\n"
          ]
        }
      ]
    },
    {
      "cell_type": "code",
      "source": [
        "# List acts differnt from string\n",
        "# String : Everything inside the quotes will be a character, including space\n",
        "# List : Elements are separated by comma and space is not counted"
      ],
      "metadata": {
        "id": "w74Xb5gU4bYh"
      },
      "execution_count": null,
      "outputs": []
    },
    {
      "cell_type": "code",
      "source": [
        "# # Empty Data type : Tuple\n",
        "_var_tuple  = () #small bracket\n",
        "len(_var_tuple)"
      ],
      "metadata": {
        "id": "ISmxziDHyJ3u",
        "colab": {
          "base_uri": "https://localhost:8080/"
        },
        "outputId": "e3801e37-496f-4ce1-f2cc-62eb1917a999"
      },
      "execution_count": null,
      "outputs": [
        {
          "output_type": "execute_result",
          "data": {
            "text/plain": [
              "0"
            ]
          },
          "metadata": {},
          "execution_count": 25
        }
      ]
    },
    {
      "cell_type": "code",
      "source": [
        "# Elements are separated by comma\n",
        "_var_tuple  = (2,3,4,5 , 'a')\n",
        "len(_var_tuple)"
      ],
      "metadata": {
        "id": "5pPgEnZlyWw-",
        "colab": {
          "base_uri": "https://localhost:8080/"
        },
        "outputId": "268762d9-e1e6-44a7-8e66-c6e435227daa"
      },
      "execution_count": null,
      "outputs": [
        {
          "output_type": "execute_result",
          "data": {
            "text/plain": [
              "5"
            ]
          },
          "metadata": {},
          "execution_count": 26
        }
      ]
    },
    {
      "cell_type": "code",
      "source": [
        "# Single element in string, list\n",
        "_var_string = 'a' # Single Element\n",
        "_var_list = [2] # Single element\n",
        "type(_var_list)"
      ],
      "metadata": {
        "id": "0JQra8ELyuaT",
        "colab": {
          "base_uri": "https://localhost:8080/"
        },
        "outputId": "354482fb-3e7b-4b05-e267-c91c265f7b82"
      },
      "execution_count": null,
      "outputs": [
        {
          "output_type": "execute_result",
          "data": {
            "text/plain": [
              "list"
            ]
          },
          "metadata": {},
          "execution_count": 27
        }
      ]
    },
    {
      "cell_type": "code",
      "source": [
        "# Single element in tuple : Exception || VVIP\n",
        "_var_tuple = (3)\n",
        "type(_var_tuple)"
      ],
      "metadata": {
        "id": "O186jFyDylTB",
        "colab": {
          "base_uri": "https://localhost:8080/"
        },
        "outputId": "af7d3188-e0fe-4b2e-d3f4-208244e370f7"
      },
      "execution_count": null,
      "outputs": [
        {
          "output_type": "execute_result",
          "data": {
            "text/plain": [
              "int"
            ]
          },
          "metadata": {},
          "execution_count": 28
        }
      ]
    },
    {
      "cell_type": "code",
      "source": [
        "(3+4) * 5 # here I am not creating the tuple rather applying operators Arithmetic"
      ],
      "metadata": {
        "colab": {
          "base_uri": "https://localhost:8080/"
        },
        "id": "2v0WfywI9IPD",
        "outputId": "358e495d-e47b-4c7e-bbc5-533a2243f4aa"
      },
      "execution_count": null,
      "outputs": [
        {
          "output_type": "execute_result",
          "data": {
            "text/plain": [
              "35"
            ]
          },
          "metadata": {},
          "execution_count": 31
        }
      ]
    },
    {
      "cell_type": "code",
      "source": [
        "# PEMDAS rule\n",
        "4 * (5 - 6)"
      ],
      "metadata": {
        "colab": {
          "base_uri": "https://localhost:8080/"
        },
        "id": "kvb02cmQ9wSD",
        "outputId": "f854ef54-c416-44af-a387-e1c45347ce74"
      },
      "execution_count": null,
      "outputs": [
        {
          "output_type": "execute_result",
          "data": {
            "text/plain": [
              "-4"
            ]
          },
          "metadata": {},
          "execution_count": 32
        }
      ]
    },
    {
      "cell_type": "code",
      "source": [],
      "metadata": {
        "id": "Lho7FADF97YU"
      },
      "execution_count": null,
      "outputs": []
    },
    {
      "cell_type": "code",
      "source": [
        "_var_tuple = (3,) #to create single element tuple put one comma after the element\n",
        "type(_var_tuple)\n",
        "len(_var_tuple)"
      ],
      "metadata": {
        "id": "juqY8Cutzne4",
        "colab": {
          "base_uri": "https://localhost:8080/"
        },
        "outputId": "ea21868a-1055-4859-a442-be7728d625ff"
      },
      "execution_count": null,
      "outputs": [
        {
          "output_type": "execute_result",
          "data": {
            "text/plain": [
              "1"
            ]
          },
          "metadata": {},
          "execution_count": 29
        }
      ]
    },
    {
      "cell_type": "code",
      "source": [
        "# more than 1 elements\n",
        "_var_tuple = (2,3)\n",
        "type(_var_tuple)"
      ],
      "metadata": {
        "colab": {
          "base_uri": "https://localhost:8080/"
        },
        "id": "5bIhnzL9-G9Y",
        "outputId": "05e9d553-4458-4a04-e7ab-0d0d2c694d00"
      },
      "execution_count": null,
      "outputs": [
        {
          "output_type": "execute_result",
          "data": {
            "text/plain": [
              "tuple"
            ]
          },
          "metadata": {},
          "execution_count": 33
        }
      ]
    },
    {
      "cell_type": "code",
      "source": [
        "_var_tuple = ('cow')\n",
        "type(_var_tuple)\n",
        "len(_var_tuple)"
      ],
      "metadata": {
        "colab": {
          "base_uri": "https://localhost:8080/"
        },
        "id": "IAhi1AkZ-fLH",
        "outputId": "e0e20e4b-b683-4b53-d916-84c6984a2056"
      },
      "execution_count": null,
      "outputs": [
        {
          "output_type": "execute_result",
          "data": {
            "text/plain": [
              "3"
            ]
          },
          "metadata": {},
          "execution_count": 37
        }
      ]
    },
    {
      "cell_type": "code",
      "source": [
        "_var_tuple = ('cow',)\n",
        "type(_var_tuple)\n",
        "len(_var_tuple)"
      ],
      "metadata": {
        "colab": {
          "base_uri": "https://localhost:8080/"
        },
        "id": "lBhPnICF-roc",
        "outputId": "0f58cf6d-0c41-4d80-9ffc-c92d4766c66d"
      },
      "execution_count": null,
      "outputs": [
        {
          "output_type": "execute_result",
          "data": {
            "text/plain": [
              "1"
            ]
          },
          "metadata": {},
          "execution_count": 36
        }
      ]
    },
    {
      "cell_type": "code",
      "source": [
        "#_var_list = ['car','book','ford']"
      ],
      "metadata": {
        "id": "GElMff1U872U"
      },
      "execution_count": null,
      "outputs": []
    },
    {
      "cell_type": "code",
      "source": [
        "# Dictionary | Key & Value pair\n",
        "# Empty Dictionary\n",
        "_var_dict = {}\n",
        "type(_var_dict)"
      ],
      "metadata": {
        "id": "1lxzenebzuH7",
        "colab": {
          "base_uri": "https://localhost:8080/"
        },
        "outputId": "a6356f1c-a345-4b96-ec3b-676191da0789"
      },
      "execution_count": null,
      "outputs": [
        {
          "output_type": "execute_result",
          "data": {
            "text/plain": [
              "dict"
            ]
          },
          "metadata": {},
          "execution_count": 42
        }
      ]
    },
    {
      "cell_type": "code",
      "source": [
        "len(_var_dict)"
      ],
      "metadata": {
        "colab": {
          "base_uri": "https://localhost:8080/"
        },
        "id": "Uaw4nFET_den",
        "outputId": "175c7edf-5d12-4869-eac1-23c976f5248b"
      },
      "execution_count": null,
      "outputs": [
        {
          "output_type": "execute_result",
          "data": {
            "text/plain": [
              "0"
            ]
          },
          "metadata": {},
          "execution_count": 39
        }
      ]
    },
    {
      "cell_type": "code",
      "source": [
        "_var_dict = {2:'a', 5:'b'} # how many elements?\n",
        "len(_var_dict) # In dict : one element is a pair of keys and values, separated by comma"
      ],
      "metadata": {
        "colab": {
          "base_uri": "https://localhost:8080/"
        },
        "id": "82tSfHw2_fxF",
        "outputId": "7048cb5a-f737-4683-88e1-0d42cede8051"
      },
      "execution_count": null,
      "outputs": [
        {
          "output_type": "execute_result",
          "data": {
            "text/plain": [
              "2"
            ]
          },
          "metadata": {},
          "execution_count": 40
        }
      ]
    },
    {
      "cell_type": "code",
      "source": [
        "# Key and values are separated by : and each element will contain key & value both spearated by ,\n",
        "# left of (Colon : ) - key\n",
        "# right of (Colon : ) - value"
      ],
      "metadata": {
        "id": "OCawGYy4z6aX"
      },
      "execution_count": null,
      "outputs": []
    },
    {
      "cell_type": "code",
      "source": [
        "# Set -- value\n",
        "# set with 0 elements\n",
        "_var_set = set() # {} is reserved for dict to create emtpy datatype\n",
        "type(_var_set)"
      ],
      "metadata": {
        "id": "Pin0FACO0XcJ",
        "colab": {
          "base_uri": "https://localhost:8080/"
        },
        "outputId": "c3a174f1-4324-4c9d-8c31-5e2bd377c808"
      },
      "execution_count": null,
      "outputs": [
        {
          "output_type": "execute_result",
          "data": {
            "text/plain": [
              "set"
            ]
          },
          "metadata": {},
          "execution_count": 44
        }
      ]
    },
    {
      "cell_type": "code",
      "source": [
        "_var_set= {3,4,5}\n",
        "len(_var_set)"
      ],
      "metadata": {
        "id": "kdkcNq51sPKI",
        "colab": {
          "base_uri": "https://localhost:8080/"
        },
        "outputId": "d0d277bd-a283-49c1-f789-e61846c77c36"
      },
      "execution_count": null,
      "outputs": [
        {
          "output_type": "execute_result",
          "data": {
            "text/plain": [
              "3"
            ]
          },
          "metadata": {},
          "execution_count": 45
        }
      ]
    },
    {
      "cell_type": "code",
      "source": [
        "_var_set= {3,4,5, 5}\n",
        "len(_var_set) # How ? --> We will talk about this in the next section."
      ],
      "metadata": {
        "colab": {
          "base_uri": "https://localhost:8080/"
        },
        "id": "O-2oAz3wAWvZ",
        "outputId": "1f051c63-120a-4e8a-e938-7b8e263d65a5"
      },
      "execution_count": null,
      "outputs": [
        {
          "output_type": "execute_result",
          "data": {
            "text/plain": [
              "3"
            ]
          },
          "metadata": {},
          "execution_count": 46
        }
      ]
    },
    {
      "cell_type": "code",
      "source": [
        "# Create an empty set\n",
        "# Dict  = {} | key & value pair\n",
        "# Set = set() | value\n"
      ],
      "metadata": {
        "id": "biimVr8esa5b"
      },
      "execution_count": null,
      "outputs": []
    },
    {
      "cell_type": "code",
      "source": [],
      "metadata": {
        "id": "0eOGV_hYuM9I"
      },
      "execution_count": null,
      "outputs": []
    },
    {
      "cell_type": "markdown",
      "source": [
        "#### Restriction on Elements & Duplicate values"
      ],
      "metadata": {
        "id": "fr8D92Q3ReMs"
      }
    },
    {
      "cell_type": "code",
      "source": [
        "# String\n",
        "# Single Quote notation of String\n",
        "# Each character will become your element.\n",
        "# there is no restriction of element\n",
        "\n"
      ],
      "metadata": {
        "id": "vLK8z232Rk-A"
      },
      "execution_count": null,
      "outputs": []
    },
    {
      "cell_type": "code",
      "source": [
        "# String : there is no restriction in terms of what you can put inside the quotes\n",
        "_var_string = '3y2hrp23r 33r3,23r3R[]()$@$$@#r23r83r3\\$@!#*@#*!@Y'\n",
        "# All values inside it.\n",
        "# No restriction in terms of duplicate values or elements"
      ],
      "metadata": {
        "id": "ihn4PBHNRk2s"
      },
      "execution_count": null,
      "outputs": []
    },
    {
      "cell_type": "code",
      "source": [
        "# Important Concept\n",
        "# String is a collection of elements\n",
        "# Indexing of each element in string or any data types starts from 0\n"
      ],
      "metadata": {
        "id": "65jHYUTMRj7l"
      },
      "execution_count": null,
      "outputs": []
    },
    {
      "cell_type": "code",
      "source": [
        "_var_string = 'abc' # 3 elements\n",
        "len(_var_string)"
      ],
      "metadata": {
        "id": "__Geml3Szwk9",
        "colab": {
          "base_uri": "https://localhost:8080/"
        },
        "outputId": "e8e13728-847d-44a6-826b-69da7e337fdf"
      },
      "execution_count": null,
      "outputs": [
        {
          "output_type": "execute_result",
          "data": {
            "text/plain": [
              "3"
            ]
          },
          "metadata": {},
          "execution_count": 48
        }
      ]
    },
    {
      "cell_type": "code",
      "source": [
        "_var_string[0] # Python to give the element stored at index 0"
      ],
      "metadata": {
        "colab": {
          "base_uri": "https://localhost:8080/",
          "height": 35
        },
        "id": "0Xj1e2KYDzhW",
        "outputId": "49fa245c-e5b6-49f7-8bf0-0d67ca3f1550"
      },
      "execution_count": null,
      "outputs": [
        {
          "output_type": "execute_result",
          "data": {
            "text/plain": [
              "'a'"
            ],
            "application/vnd.google.colaboratory.intrinsic+json": {
              "type": "string"
            }
          },
          "metadata": {},
          "execution_count": 49
        }
      ]
    },
    {
      "cell_type": "code",
      "source": [
        "# Indexing -\n",
        "_var_string[1]"
      ],
      "metadata": {
        "colab": {
          "base_uri": "https://localhost:8080/",
          "height": 35
        },
        "id": "k-cz6AoiDW7S",
        "outputId": "e30ebabf-c6e9-4a07-e4e5-bc36bf6bfb0f"
      },
      "execution_count": null,
      "outputs": [
        {
          "output_type": "execute_result",
          "data": {
            "text/plain": [
              "'b'"
            ],
            "application/vnd.google.colaboratory.intrinsic+json": {
              "type": "string"
            }
          },
          "metadata": {},
          "execution_count": 50
        }
      ]
    },
    {
      "cell_type": "code",
      "source": [
        "_var_string[2]"
      ],
      "metadata": {
        "colab": {
          "base_uri": "https://localhost:8080/",
          "height": 35
        },
        "id": "WDqzeiCIEFEM",
        "outputId": "943ef547-4692-4a56-f760-c4e7f604630e"
      },
      "execution_count": null,
      "outputs": [
        {
          "output_type": "execute_result",
          "data": {
            "text/plain": [
              "'c'"
            ],
            "application/vnd.google.colaboratory.intrinsic+json": {
              "type": "string"
            }
          },
          "metadata": {},
          "execution_count": 51
        }
      ]
    },
    {
      "cell_type": "code",
      "source": [
        "# a --> variable || 'a'--> String\n",
        "# [2,4,5] --> Create a data as list|| variable_name[4]--> Indexing : extract the data using the index\n",
        "# (2,3,4,5)--> Create a data as tuple || name() --> name is a function | print(), type(), len()"
      ],
      "metadata": {
        "id": "bdyD1x1rEP2S"
      },
      "execution_count": null,
      "outputs": []
    },
    {
      "cell_type": "code",
      "source": [
        "_var = [2,3,4]# --> Create a data having 2,3,4 as elements as a data type  of list\n",
        "_var[2] # --> Indexing, Extract the data stored in a particular index"
      ],
      "metadata": {
        "colab": {
          "base_uri": "https://localhost:8080/"
        },
        "id": "e9CJN2lLEwSq",
        "outputId": "72e82eac-27a3-4621-946d-7822dc357c00"
      },
      "execution_count": null,
      "outputs": [
        {
          "output_type": "execute_result",
          "data": {
            "text/plain": [
              "4"
            ]
          },
          "metadata": {},
          "execution_count": 52
        }
      ]
    },
    {
      "cell_type": "code",
      "source": [
        "_var = (2,3,4) #-Create a data having 2,3,4 as elements as a data type  of tuple\n",
        "# _var() #--> I'm considring _var as funciton to use\n",
        "print(_var)"
      ],
      "metadata": {
        "colab": {
          "base_uri": "https://localhost:8080/"
        },
        "id": "RQ-UBX9JFopq",
        "outputId": "4c916f7c-bd46-44d6-d388-1654d86bd21c"
      },
      "execution_count": null,
      "outputs": [
        {
          "output_type": "stream",
          "name": "stdout",
          "text": [
            "(2, 3, 4)\n"
          ]
        }
      ]
    },
    {
      "cell_type": "code",
      "source": [
        "# String -->\n",
        "_var_string  = 'a456'\n"
      ],
      "metadata": {
        "id": "z6PQT0NeGGaU"
      },
      "execution_count": null,
      "outputs": []
    },
    {
      "cell_type": "code",
      "source": [
        "_var_string[0]"
      ],
      "metadata": {
        "colab": {
          "base_uri": "https://localhost:8080/",
          "height": 35
        },
        "id": "xMOb2QhPGORX",
        "outputId": "5f6579ca-a562-44b6-9a49-4ffa66385a58"
      },
      "execution_count": null,
      "outputs": [
        {
          "output_type": "execute_result",
          "data": {
            "text/plain": [
              "'a'"
            ],
            "application/vnd.google.colaboratory.intrinsic+json": {
              "type": "string"
            }
          },
          "metadata": {},
          "execution_count": 59
        }
      ]
    },
    {
      "cell_type": "code",
      "source": [
        "type(_var_string[0])"
      ],
      "metadata": {
        "colab": {
          "base_uri": "https://localhost:8080/"
        },
        "id": "Wl1-VPxSGTwx",
        "outputId": "7bdf14a2-cba3-421f-f9da-484cecef24d4"
      },
      "execution_count": null,
      "outputs": [
        {
          "output_type": "execute_result",
          "data": {
            "text/plain": [
              "str"
            ]
          },
          "metadata": {},
          "execution_count": 60
        }
      ]
    },
    {
      "cell_type": "code",
      "source": [
        "_var_string[1]"
      ],
      "metadata": {
        "colab": {
          "base_uri": "https://localhost:8080/",
          "height": 35
        },
        "id": "Rs4H18l5GX4w",
        "outputId": "a47676ec-0e7c-4538-e997-d5d91b5c1d4c"
      },
      "execution_count": null,
      "outputs": [
        {
          "output_type": "execute_result",
          "data": {
            "text/plain": [
              "'4'"
            ],
            "application/vnd.google.colaboratory.intrinsic+json": {
              "type": "string"
            }
          },
          "metadata": {},
          "execution_count": 61
        }
      ]
    },
    {
      "cell_type": "code",
      "source": [
        "type(_var_string[1])"
      ],
      "metadata": {
        "colab": {
          "base_uri": "https://localhost:8080/"
        },
        "id": "7HoQ1ybxGgqA",
        "outputId": "32c9a9b8-5c08-4641-c582-1b2b4b7359cb"
      },
      "execution_count": null,
      "outputs": [
        {
          "output_type": "execute_result",
          "data": {
            "text/plain": [
              "str"
            ]
          },
          "metadata": {},
          "execution_count": 62
        }
      ]
    },
    {
      "cell_type": "code",
      "source": [
        "# Everything inside your string is a string"
      ],
      "metadata": {
        "id": "qkDVfjaGGqIU"
      },
      "execution_count": null,
      "outputs": []
    },
    {
      "cell_type": "code",
      "source": [
        "# String : There is no restriction on elements, everything is accepted\n",
        "# Exception : Everything will become string"
      ],
      "metadata": {
        "id": "vWJftNG7z6r0"
      },
      "execution_count": null,
      "outputs": []
    },
    {
      "cell_type": "code",
      "source": [
        "# list\n",
        "# No restriction of elements for list | Dumpyard of data\n",
        "\n",
        "_var_list = [1,2.3, True, 'abc', [3,4], (4,5,6),{2:3},{5,6,7}, 2.3]\n",
        "# Everything is accepted inside the list , duplicates are allowed"
      ],
      "metadata": {
        "id": "sgIswYEmz4LJ"
      },
      "execution_count": null,
      "outputs": []
    },
    {
      "cell_type": "code",
      "source": [
        "print(_var_list)"
      ],
      "metadata": {
        "colab": {
          "base_uri": "https://localhost:8080/"
        },
        "id": "tFmRvzSOHO4_",
        "outputId": "575bfc67-71ee-467b-b2dd-d10f4ee3681a"
      },
      "execution_count": null,
      "outputs": [
        {
          "output_type": "stream",
          "name": "stdout",
          "text": [
            "[1, 2.3, True, 'abc', [3, 4], (4, 5, 6), {2: 3}, {5, 6, 7}, 2.3]\n"
          ]
        }
      ]
    },
    {
      "cell_type": "code",
      "source": [
        "_var_list[0]"
      ],
      "metadata": {
        "colab": {
          "base_uri": "https://localhost:8080/"
        },
        "id": "vJ9hwrwyHTLy",
        "outputId": "aaef0716-797b-4d9b-a103-98c195a984cd"
      },
      "execution_count": null,
      "outputs": [
        {
          "output_type": "execute_result",
          "data": {
            "text/plain": [
              "1"
            ]
          },
          "metadata": {},
          "execution_count": 66
        }
      ]
    },
    {
      "cell_type": "code",
      "source": [
        "type(_var_list[0])"
      ],
      "metadata": {
        "colab": {
          "base_uri": "https://localhost:8080/"
        },
        "id": "-0d2Nmt3HYgz",
        "outputId": "3a3b335c-6d0f-4cfd-ed4f-0302e8fcbfb2"
      },
      "execution_count": null,
      "outputs": [
        {
          "output_type": "execute_result",
          "data": {
            "text/plain": [
              "int"
            ]
          },
          "metadata": {},
          "execution_count": 67
        }
      ]
    },
    {
      "cell_type": "code",
      "source": [
        "# String vs list, tuple, dict, set\n",
        "# string --> Everything inside the quotes become string\n",
        "# List --> Element will retain it's data types"
      ],
      "metadata": {
        "id": "JcZLsNneHdt7"
      },
      "execution_count": null,
      "outputs": []
    },
    {
      "cell_type": "code",
      "source": [
        "_var_list = [1]\n",
        "_var_string = '1'"
      ],
      "metadata": {
        "id": "TQOeZqGDHnfb"
      },
      "execution_count": null,
      "outputs": []
    },
    {
      "cell_type": "code",
      "source": [
        "type(_var_list[0])"
      ],
      "metadata": {
        "colab": {
          "base_uri": "https://localhost:8080/"
        },
        "id": "jDwDIEwxHtaq",
        "outputId": "6a39a396-5bbc-4a8d-fbaf-5c20f7247a69"
      },
      "execution_count": null,
      "outputs": [
        {
          "output_type": "execute_result",
          "data": {
            "text/plain": [
              "int"
            ]
          },
          "metadata": {},
          "execution_count": 70
        }
      ]
    },
    {
      "cell_type": "code",
      "source": [
        "type(_var_string[0])"
      ],
      "metadata": {
        "colab": {
          "base_uri": "https://localhost:8080/"
        },
        "id": "jatHbteVHzY7",
        "outputId": "49bb6342-e54a-46f9-a61d-ca313af531a8"
      },
      "execution_count": null,
      "outputs": [
        {
          "output_type": "execute_result",
          "data": {
            "text/plain": [
              "str"
            ]
          },
          "metadata": {},
          "execution_count": 71
        }
      ]
    },
    {
      "cell_type": "code",
      "source": [
        "# How many elements are there?\n",
        "# all elements are separated by Comma"
      ],
      "metadata": {
        "id": "lKfybzy71bHA"
      },
      "execution_count": null,
      "outputs": []
    },
    {
      "cell_type": "code",
      "source": [
        "# Same concept of indexing will be applied\n"
      ],
      "metadata": {
        "id": "0Q5gQOa61zkW"
      },
      "execution_count": null,
      "outputs": []
    },
    {
      "cell_type": "code",
      "source": [
        "# get hello from the list\n"
      ],
      "metadata": {
        "id": "0llkoHAV1_Ez"
      },
      "execution_count": null,
      "outputs": []
    },
    {
      "cell_type": "code",
      "source": [
        "# String & List is different\n",
        "# String : All elements will become string\n",
        "# List : All elements will retain their own data type separated by ,"
      ],
      "metadata": {
        "id": "muh4RKLr3Osn"
      },
      "execution_count": null,
      "outputs": []
    },
    {
      "cell_type": "code",
      "source": [],
      "metadata": {
        "id": "XVQ1IX-I3fat"
      },
      "execution_count": null,
      "outputs": []
    },
    {
      "cell_type": "code",
      "source": [],
      "metadata": {
        "id": "NfAZ79hF35sA"
      },
      "execution_count": null,
      "outputs": []
    },
    {
      "cell_type": "code",
      "source": [],
      "metadata": {
        "id": "DBhMX9La3-Up"
      },
      "execution_count": null,
      "outputs": []
    },
    {
      "cell_type": "code",
      "source": [
        "# String & List : No restriction of elements"
      ],
      "metadata": {
        "id": "m9vaJJML7Cjk"
      },
      "execution_count": null,
      "outputs": []
    },
    {
      "cell_type": "code",
      "source": [
        "# tuple behaves almost similar to List\n",
        "# All data types are accepted\n",
        "# Same Indexing concept is applied and data types are retained\n",
        "_var_tuple = (1,2.3, True, 'abc', [3,4], (4,5,6),{2:3},{5,6,7}, 2.3)\n",
        "type(_var_tuple)\n"
      ],
      "metadata": {
        "id": "2qMrpNjr5l21",
        "colab": {
          "base_uri": "https://localhost:8080/"
        },
        "outputId": "9ed10284-97f0-4f1a-c329-baa037789d13"
      },
      "execution_count": null,
      "outputs": [
        {
          "output_type": "execute_result",
          "data": {
            "text/plain": [
              "tuple"
            ]
          },
          "metadata": {},
          "execution_count": 72
        }
      ]
    },
    {
      "cell_type": "code",
      "source": [
        "type(_var_tuple[2])"
      ],
      "metadata": {
        "id": "UDCVgZt07SS2",
        "colab": {
          "base_uri": "https://localhost:8080/"
        },
        "outputId": "748134e6-1a70-4f1e-b64c-13e6bd30ecfc"
      },
      "execution_count": null,
      "outputs": [
        {
          "output_type": "execute_result",
          "data": {
            "text/plain": [
              "bool"
            ]
          },
          "metadata": {},
          "execution_count": 73
        }
      ]
    },
    {
      "cell_type": "code",
      "source": [],
      "metadata": {
        "id": "6PwUTpmw7VCH"
      },
      "execution_count": null,
      "outputs": []
    },
    {
      "cell_type": "code",
      "source": [
        "# Acceptance of Duplicate values\n",
        "# String , list & Tuple all three will accept duplicate/ repeated value\n",
        "# No restriction on data\n"
      ],
      "metadata": {
        "id": "Ijheq9fN7gyS"
      },
      "execution_count": null,
      "outputs": []
    },
    {
      "cell_type": "code",
      "source": [
        "# Dictionary | key, value\n",
        "_var_dict = {1:2 , 'a':3, 4.5 : 'abc', True: 345, (45,60):[56,67], (4,5,6):{'hello':2} }\n",
        "print(_var_dict)\n",
        "# Key : int, float, boolean, string, tuple (accepted)| list, dict, set not accepted\n",
        "# values : accepts everything"
      ],
      "metadata": {
        "id": "yJN0CTjW7-2d",
        "colab": {
          "base_uri": "https://localhost:8080/"
        },
        "outputId": "e0fe5bf4-3e30-46ab-f37f-3666ef07195b"
      },
      "execution_count": null,
      "outputs": [
        {
          "output_type": "stream",
          "name": "stdout",
          "text": [
            "{1: 345, 'a': 3, 4.5: 'abc', (45, 60): [56, 67], (4, 5, 6): {'hello': 2}}\n"
          ]
        }
      ]
    },
    {
      "cell_type": "code",
      "source": [
        "# Restriction with Dictionary\n",
        "# key : Int, Float, Boolean, String & Tuple are accepted | list, dict & set are not accepted as keys\n",
        "# value : All are accepted"
      ],
      "metadata": {
        "id": "UBKKmlqn8yXm"
      },
      "execution_count": null,
      "outputs": []
    },
    {
      "cell_type": "code",
      "source": [
        "\n"
      ],
      "metadata": {
        "id": "mQw8Mx4r8k-F"
      },
      "execution_count": null,
      "outputs": []
    },
    {
      "cell_type": "code",
      "source": [
        "# Duplicate values in Key\n",
        "# In dictionary : Your keys must be unique |Key can't have duplicate values\n",
        "# Exception :True is considered as 1, False is considered as 0"
      ],
      "metadata": {
        "id": "0tN82nBH9rhr"
      },
      "execution_count": null,
      "outputs": []
    },
    {
      "cell_type": "code",
      "source": [
        "_var_dict = {2:3, 4:3, 2:5}"
      ],
      "metadata": {
        "id": "BwUsGHYz-ieW"
      },
      "execution_count": null,
      "outputs": []
    },
    {
      "cell_type": "code",
      "source": [
        "print(_var_dict)"
      ],
      "metadata": {
        "id": "R5L3wWDn-kai",
        "colab": {
          "base_uri": "https://localhost:8080/"
        },
        "outputId": "6c21bb79-ca7a-4e94-f1ce-0838fe04d987"
      },
      "execution_count": null,
      "outputs": [
        {
          "output_type": "stream",
          "name": "stdout",
          "text": [
            "{2: 5, 4: 3}\n"
          ]
        }
      ]
    },
    {
      "cell_type": "code",
      "source": [
        "# What if you have duplicate key? - What happens?\n",
        "# --> Executed left to right | right most combination of key : value will the final"
      ],
      "metadata": {
        "id": "xihzGT_mA357"
      },
      "execution_count": null,
      "outputs": []
    },
    {
      "cell_type": "code",
      "source": [
        "_var_dict = {2:5, 4:3, 2:3, 2:7}"
      ],
      "metadata": {
        "id": "Ja-__oux_LBr"
      },
      "execution_count": null,
      "outputs": []
    },
    {
      "cell_type": "code",
      "source": [
        "print(_var_dict)"
      ],
      "metadata": {
        "id": "agdbMJVsAyic",
        "colab": {
          "base_uri": "https://localhost:8080/"
        },
        "outputId": "2744385a-7d29-48c0-9a04-76909deb0fc0"
      },
      "execution_count": null,
      "outputs": [
        {
          "output_type": "stream",
          "name": "stdout",
          "text": [
            "{2: 7, 4: 3}\n"
          ]
        }
      ]
    },
    {
      "cell_type": "code",
      "source": [
        "_var_dict[4]"
      ],
      "metadata": {
        "id": "yI0yeaBfB3H_",
        "colab": {
          "base_uri": "https://localhost:8080/"
        },
        "outputId": "a13f7474-4d1f-4244-fb3b-89f76566a88b"
      },
      "execution_count": null,
      "outputs": [
        {
          "output_type": "execute_result",
          "data": {
            "text/plain": [
              "3"
            ]
          },
          "metadata": {},
          "execution_count": 91
        }
      ]
    },
    {
      "cell_type": "code",
      "source": [
        "# Note for Dictionary\n",
        "# 1. key : List, Dict & Set as a data not accepted\n",
        "# 2. value : Accepts all\n",
        "# 3. variable[key] : you extract the value | key will act as an address /index\n",
        "# 4. Key must be unique otherwise last| right most key & value pair is retained.\n",
        "# 5. All data will retain their data types. it will not loose like String."
      ],
      "metadata": {
        "id": "nkSfMAZyDDyU"
      },
      "execution_count": null,
      "outputs": []
    },
    {
      "cell_type": "code",
      "source": [
        "# Set\n",
        "# Set acts similar to keys in dictionary : List, Dict & Set itself will not be accepted."
      ],
      "metadata": {
        "id": "p7imfcRuDnQg"
      },
      "execution_count": null,
      "outputs": []
    },
    {
      "cell_type": "code",
      "source": [
        "_var_set = {2,3.4, True, (3,4), (5,6),(7,8)}\n",
        "print(_var_set)"
      ],
      "metadata": {
        "colab": {
          "base_uri": "https://localhost:8080/"
        },
        "id": "o16LHp6vLsLD",
        "outputId": "8791370c-aeef-4b05-b81e-f2d71ce8a684"
      },
      "execution_count": null,
      "outputs": [
        {
          "output_type": "stream",
          "name": "stdout",
          "text": [
            "{True, 2, 3.4, (3, 4), (5, 6), (7, 8)}\n"
          ]
        }
      ]
    },
    {
      "cell_type": "code",
      "source": [
        "# Set doesn't accept : list, dictionary & set"
      ],
      "metadata": {
        "id": "G6KsWZZBL6QC"
      },
      "execution_count": null,
      "outputs": []
    },
    {
      "cell_type": "code",
      "source": [
        "# Set will not accept the duplicate values | unique values"
      ],
      "metadata": {
        "id": "DQ4sb7wZEMA-"
      },
      "execution_count": null,
      "outputs": []
    },
    {
      "cell_type": "code",
      "source": [],
      "metadata": {
        "id": "sCEeDDofEXnL"
      },
      "execution_count": null,
      "outputs": []
    },
    {
      "cell_type": "code",
      "source": [
        "_var_set = { 3, 4.5, (3,), (3), 3.0 }\n",
        "len(_var_set) # how many unique data that is present? -- 3"
      ],
      "metadata": {
        "id": "sIBb-Vx7EacO",
        "colab": {
          "base_uri": "https://localhost:8080/"
        },
        "outputId": "fea7a1dc-1782-4748-baaf-2e01dfa68ceb"
      },
      "execution_count": null,
      "outputs": [
        {
          "output_type": "execute_result",
          "data": {
            "text/plain": [
              "3"
            ]
          },
          "metadata": {},
          "execution_count": 90
        }
      ]
    },
    {
      "cell_type": "code",
      "source": [],
      "metadata": {
        "id": "U8QwUlC4Ek2j"
      },
      "execution_count": null,
      "outputs": []
    },
    {
      "cell_type": "code",
      "source": [],
      "metadata": {
        "id": "E_AAZmvUEpuR"
      },
      "execution_count": null,
      "outputs": []
    },
    {
      "cell_type": "code",
      "source": [],
      "metadata": {
        "id": "Ml12B21KFDxu"
      },
      "execution_count": null,
      "outputs": []
    },
    {
      "cell_type": "code",
      "source": [],
      "metadata": {
        "id": "TYxxlU_WFIkO"
      },
      "execution_count": null,
      "outputs": []
    },
    {
      "cell_type": "code",
      "source": [],
      "metadata": {
        "id": "xd7eOrYjFsmw"
      },
      "execution_count": null,
      "outputs": []
    },
    {
      "cell_type": "code",
      "source": [
        "# Set : Your indexing doesn't work\n",
        "# _set_var[0]"
      ],
      "metadata": {
        "id": "UG2csm4JFyr0"
      },
      "execution_count": null,
      "outputs": []
    },
    {
      "cell_type": "code",
      "source": [
        "# Note for Set:\n",
        "# 1. Set will not accept : list, dict & Set\n",
        "# 2. Set will only keep unique values.\n",
        "# 3. Indexing not applied on Set"
      ],
      "metadata": {
        "id": "RsavuBpUF7xI"
      },
      "execution_count": null,
      "outputs": []
    },
    {
      "cell_type": "code",
      "source": [
        "# String, List, Tuple, Dict, Set\n",
        "# Indexing : String, List, Tuple, on Dict using Keys., not applied on set\n",
        "# Duplicate values accepted :\n",
        "# - String, List & Tuple accept the duplicate values\n",
        "# - Dict : keys must be unique but values can be repeated\n",
        "# - set : Only unqiue values are accepted.\n",
        "# Restriction on Data\n",
        "# - String, List & tuple : No Restriction\n",
        "#  - Dict : Keys will not accept list, dict & Set , values : no restriction\n",
        "# -Set : will not accept list, dict & Set"
      ],
      "metadata": {
        "id": "innH34PYGPId"
      },
      "execution_count": null,
      "outputs": []
    },
    {
      "cell_type": "markdown",
      "source": [
        "#### Ordered vs Unordered"
      ],
      "metadata": {
        "id": "s_WI-7ndOZGE"
      }
    },
    {
      "cell_type": "code",
      "source": [
        "# Ordered : Position + Object\n",
        "# Unordered : Object"
      ],
      "metadata": {
        "id": "T7eqp27VOpD-"
      },
      "execution_count": null,
      "outputs": []
    },
    {
      "cell_type": "code",
      "source": [
        "# String, List, Tuple : Ordered\n",
        "# Dict, Set : Unordered"
      ],
      "metadata": {
        "id": "T5IgjJehOpA2"
      },
      "execution_count": null,
      "outputs": []
    },
    {
      "cell_type": "code",
      "source": [
        "# string : ordered\n",
        "# Position + Element will matter\n",
        "'hello' == 'elloh' # False"
      ],
      "metadata": {
        "id": "Pl4NYKatOo14",
        "colab": {
          "base_uri": "https://localhost:8080/"
        },
        "outputId": "861b8485-bcf1-4b26-8647-1b675e40604a"
      },
      "execution_count": null,
      "outputs": [
        {
          "output_type": "execute_result",
          "data": {
            "text/plain": [
              "False"
            ]
          },
          "metadata": {},
          "execution_count": 92
        }
      ]
    },
    {
      "cell_type": "code",
      "source": [
        "# List : Ordered\n",
        "[1,2,3] == [2,1,3] # False"
      ],
      "metadata": {
        "id": "uvaKq-c4Oov5",
        "colab": {
          "base_uri": "https://localhost:8080/"
        },
        "outputId": "e2936187-835f-4019-a92f-c7a8a761fcac"
      },
      "execution_count": null,
      "outputs": [
        {
          "output_type": "execute_result",
          "data": {
            "text/plain": [
              "False"
            ]
          },
          "metadata": {},
          "execution_count": 93
        }
      ]
    },
    {
      "cell_type": "code",
      "source": [
        "# Tuples : Ordered\n",
        "(2,1,3) ==(1,2,3) # False"
      ],
      "metadata": {
        "id": "BZRsYQAVeAtQ",
        "colab": {
          "base_uri": "https://localhost:8080/"
        },
        "outputId": "633b6d46-49d7-426b-a5f0-6cc113c25284"
      },
      "execution_count": null,
      "outputs": [
        {
          "output_type": "execute_result",
          "data": {
            "text/plain": [
              "False"
            ]
          },
          "metadata": {},
          "execution_count": 94
        }
      ]
    },
    {
      "cell_type": "code",
      "source": [
        "# Set : Unordered\n",
        "{2,1,3} =={1,2,3} # True # Position doesn't matter | Only compare the value"
      ],
      "metadata": {
        "id": "pP6YiUxseAqZ",
        "colab": {
          "base_uri": "https://localhost:8080/"
        },
        "outputId": "50dd0e69-e944-4aab-cd81-47c241043150"
      },
      "execution_count": null,
      "outputs": [
        {
          "output_type": "execute_result",
          "data": {
            "text/plain": [
              "True"
            ]
          },
          "metadata": {},
          "execution_count": 95
        }
      ]
    },
    {
      "cell_type": "code",
      "source": [
        "# Dictionary : Unordered\n",
        "{ 'a':3, 'b':4} == {'b':4, 'a':3} # True # Position doesn't matter | Only compare the elements\n"
      ],
      "metadata": {
        "id": "O8wK_jxYeAnR",
        "colab": {
          "base_uri": "https://localhost:8080/"
        },
        "outputId": "b87fce15-5b55-4998-a0eb-0c9be94bee0b"
      },
      "execution_count": null,
      "outputs": [
        {
          "output_type": "execute_result",
          "data": {
            "text/plain": [
              "True"
            ]
          },
          "metadata": {},
          "execution_count": 96
        }
      ]
    },
    {
      "cell_type": "code",
      "source": [
        "# Object is defined by Key & value pair together"
      ],
      "metadata": {
        "id": "oaKlpktgKGsx"
      },
      "execution_count": null,
      "outputs": []
    },
    {
      "cell_type": "code",
      "source": [
        "# Ordered Data types --> Python assigns the index (0 to ..) | string, list, tuple\n",
        "# Unordered Data types --> Dictionary: you assign the index as keys , set : no index or address to values"
      ],
      "metadata": {
        "id": "dwcb0OuRQDwO"
      },
      "execution_count": null,
      "outputs": []
    },
    {
      "cell_type": "markdown",
      "source": [
        "#### Data Updation | Mutable vs Immutable"
      ],
      "metadata": {
        "id": "_p8KMMY5NUuS"
      }
    },
    {
      "cell_type": "code",
      "source": [
        "# Mutable Vs Immutable\n",
        "# Mutable  -- List, Set & Dictionary | Can be updated | You are writing with pencil, You can erase one specific part\n",
        "# Immutable -- String, Tuple | Can't be updated | You are writing with pen, Cut it and replace with new"
      ],
      "metadata": {
        "id": "_WLrxiNjO0sO"
      },
      "execution_count": null,
      "outputs": []
    },
    {
      "cell_type": "code",
      "source": [
        "_var_list = [3,4,6,'a']\n",
        "_var_list[0] = 'b' # I have updated one value present at 0th index\n",
        "print(_var_list)"
      ],
      "metadata": {
        "id": "s6WjUv2CO0pw",
        "colab": {
          "base_uri": "https://localhost:8080/"
        },
        "outputId": "9277ade4-1d74-4b28-9c69-9e5ef63528cd"
      },
      "execution_count": null,
      "outputs": [
        {
          "output_type": "stream",
          "name": "stdout",
          "text": [
            "['b', 4, 6, 'a']\n"
          ]
        }
      ]
    },
    {
      "cell_type": "code",
      "source": [
        "_var_str = 'hello'\n",
        "_var_str[0] = 'H' # Immutable"
      ],
      "metadata": {
        "id": "GDalQkVcitnj",
        "colab": {
          "base_uri": "https://localhost:8080/",
          "height": 159
        },
        "outputId": "17998725-e6ac-4b61-f60d-0a510ec8b560"
      },
      "execution_count": null,
      "outputs": [
        {
          "output_type": "error",
          "ename": "TypeError",
          "evalue": "'str' object does not support item assignment",
          "traceback": [
            "\u001b[0;31m---------------------------------------------------------------------------\u001b[0m",
            "\u001b[0;31mTypeError\u001b[0m                                 Traceback (most recent call last)",
            "\u001b[0;32m<ipython-input-100-8f66884e1ac4>\u001b[0m in \u001b[0;36m<cell line: 2>\u001b[0;34m()\u001b[0m\n\u001b[1;32m      1\u001b[0m \u001b[0m_var_str\u001b[0m \u001b[0;34m=\u001b[0m \u001b[0;34m'hello'\u001b[0m\u001b[0;34m\u001b[0m\u001b[0;34m\u001b[0m\u001b[0m\n\u001b[0;32m----> 2\u001b[0;31m \u001b[0m_var_str\u001b[0m\u001b[0;34m[\u001b[0m\u001b[0;36m0\u001b[0m\u001b[0;34m]\u001b[0m \u001b[0;34m=\u001b[0m \u001b[0;34m'H'\u001b[0m\u001b[0;34m\u001b[0m\u001b[0;34m\u001b[0m\u001b[0m\n\u001b[0m",
            "\u001b[0;31mTypeError\u001b[0m: 'str' object does not support item assignment"
          ]
        }
      ]
    },
    {
      "cell_type": "code",
      "source": [
        "_var_tuple = (3,4,6,'a')\n",
        "_var_tuple[0] = 'b' # Tuple is immutable"
      ],
      "metadata": {
        "id": "531-wh3_Lkn_",
        "colab": {
          "base_uri": "https://localhost:8080/",
          "height": 159
        },
        "outputId": "60855a5b-96d1-4e0a-cd67-569ee8378b63"
      },
      "execution_count": null,
      "outputs": [
        {
          "output_type": "error",
          "ename": "TypeError",
          "evalue": "'tuple' object does not support item assignment",
          "traceback": [
            "\u001b[0;31m---------------------------------------------------------------------------\u001b[0m",
            "\u001b[0;31mTypeError\u001b[0m                                 Traceback (most recent call last)",
            "\u001b[0;32m<ipython-input-102-53b29e0e7cb9>\u001b[0m in \u001b[0;36m<cell line: 2>\u001b[0;34m()\u001b[0m\n\u001b[1;32m      1\u001b[0m \u001b[0m_var_tuple\u001b[0m \u001b[0;34m=\u001b[0m \u001b[0;34m(\u001b[0m\u001b[0;36m3\u001b[0m\u001b[0;34m,\u001b[0m\u001b[0;36m4\u001b[0m\u001b[0;34m,\u001b[0m\u001b[0;36m6\u001b[0m\u001b[0;34m,\u001b[0m\u001b[0;34m'a'\u001b[0m\u001b[0;34m)\u001b[0m\u001b[0;34m\u001b[0m\u001b[0;34m\u001b[0m\u001b[0m\n\u001b[0;32m----> 2\u001b[0;31m \u001b[0m_var_tuple\u001b[0m\u001b[0;34m[\u001b[0m\u001b[0;36m0\u001b[0m\u001b[0;34m]\u001b[0m \u001b[0;34m=\u001b[0m \u001b[0;34m'b'\u001b[0m\u001b[0;34m\u001b[0m\u001b[0;34m\u001b[0m\u001b[0m\n\u001b[0m",
            "\u001b[0;31mTypeError\u001b[0m: 'tuple' object does not support item assignment"
          ]
        }
      ]
    },
    {
      "cell_type": "code",
      "source": [
        "# Dict & Set --> mutable : How do we mutate it?\n"
      ],
      "metadata": {
        "id": "w7ZcLYbhM7en"
      },
      "execution_count": null,
      "outputs": []
    },
    {
      "cell_type": "code",
      "source": [
        "_string_var = 'hello' # 5 elements\n",
        "_list_var = ['h','e', 'l','l', 'o']  # 5 elements\n",
        "_tuple_var = ('h','e', 'l','l', 'o')  # 5 elements"
      ],
      "metadata": {
        "id": "Eh5m_Ap4VHZX"
      },
      "execution_count": null,
      "outputs": []
    },
    {
      "cell_type": "code",
      "source": [
        "# Why string & tuple is created as immutable?\n",
        "# to optimise the memory\n",
        "# Advance concept\n",
        "import sys\n",
        "print(sys.getsizeof(_string_var))\n",
        "print(sys.getsizeof(_list_var))\n",
        "print(sys.getsizeof(_tuple_var))"
      ],
      "metadata": {
        "colab": {
          "base_uri": "https://localhost:8080/"
        },
        "id": "hKI3v8TLNov3",
        "outputId": "0cf9a7fe-37f6-4629-e63e-7d1de072670d"
      },
      "execution_count": null,
      "outputs": [
        {
          "output_type": "stream",
          "name": "stdout",
          "text": [
            "54\n",
            "104\n",
            "80\n"
          ]
        }
      ]
    },
    {
      "cell_type": "code",
      "source": [
        "'a'>'A' # 97 > 65"
      ],
      "metadata": {
        "colab": {
          "base_uri": "https://localhost:8080/"
        },
        "id": "dTA2BDBgYX7E",
        "outputId": "4b6e689c-411d-4936-f2c4-525bda35d096"
      },
      "execution_count": null,
      "outputs": [
        {
          "output_type": "execute_result",
          "data": {
            "text/plain": [
              "True"
            ]
          },
          "metadata": {},
          "execution_count": 113
        }
      ]
    },
    {
      "cell_type": "code",
      "source": [
        "# Tasks for the next Class - Indexing & Slicing | Monday\n",
        "# 1. Revise the current class\n",
        "# 2. Go through the video for Indexing & Slicing\n",
        "# 3. Attept Quiz & Coding Assessment after chapter 1 is over.\n",
        "# 4. a vs 'a' --> Difference between these two\n",
        "# 5. Set --> Mutable Data types | How do we change the data here?"
      ],
      "metadata": {
        "id": "911meH80PSbH"
      },
      "execution_count": null,
      "outputs": []
    },
    {
      "cell_type": "code",
      "source": [],
      "metadata": {
        "id": "PsKhlrUXQJpg"
      },
      "execution_count": null,
      "outputs": []
    }
  ]
}