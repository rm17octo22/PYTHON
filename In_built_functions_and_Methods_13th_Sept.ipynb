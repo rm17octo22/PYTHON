{
  "nbformat": 4,
  "nbformat_minor": 0,
  "metadata": {
    "colab": {
      "provenance": [],
      "include_colab_link": true
    },
    "kernelspec": {
      "name": "python3",
      "display_name": "Python 3"
    },
    "language_info": {
      "name": "python"
    }
  },
  "cells": [
    {
      "cell_type": "markdown",
      "metadata": {
        "id": "view-in-github",
        "colab_type": "text"
      },
      "source": [
        "<a href=\"https://colab.research.google.com/github/rm17octo22/PYTHON/blob/master/In_built_functions_and_Methods_13th_Sept.ipynb\" target=\"_parent\"><img src=\"https://colab.research.google.com/assets/colab-badge.svg\" alt=\"Open In Colab\"/></a>"
      ]
    },
    {
      "cell_type": "markdown",
      "source": [
        "### In built Functions"
      ],
      "metadata": {
        "id": "hdIzytt1jHZk"
      }
    },
    {
      "cell_type": "markdown",
      "source": [
        "#### print, len & type"
      ],
      "metadata": {
        "id": "06zpKXGAcSC1"
      }
    },
    {
      "cell_type": "code",
      "source": [
        "# print : Displayes the value stored in the variable\n",
        "name = 'Rahul'\n",
        "program = 'Data Science'\n",
        "print(name) # My name is anand\n",
        "print(program)"
      ],
      "metadata": {
        "id": "bptyXzcYcQPf",
        "colab": {
          "base_uri": "https://localhost:8080/"
        },
        "outputId": "9d8d36c9-9f1d-4da1-a731-d1cb01256b8d"
      },
      "execution_count": null,
      "outputs": [
        {
          "output_type": "stream",
          "name": "stdout",
          "text": [
            "Rahul\n",
            "Data Science\n"
          ]
        }
      ]
    },
    {
      "cell_type": "code",
      "source": [
        "# let's consider the scenarion where I want to print\n",
        "# \"Hi, My name is <name>, I have enrolled in the <program>. Thank you\", Where Program is a variable which will change\n",
        "# Including variable with the text"
      ],
      "metadata": {
        "id": "PMtNoiovd-LV"
      },
      "execution_count": null,
      "outputs": []
    },
    {
      "cell_type": "code",
      "source": [
        "#Method 1 : Using Comma separated values # Most Common\n",
        "print('My name is',name,', I have enrolled in the',program,'Program .Thank you!')\n",
        "# Include Space after , (comma)"
      ],
      "metadata": {
        "colab": {
          "base_uri": "https://localhost:8080/"
        },
        "id": "vnH_CZImeT9q",
        "outputId": "104e1a12-f9ba-4fe9-899a-9d00b5f2faa0"
      },
      "execution_count": null,
      "outputs": [
        {
          "output_type": "stream",
          "name": "stdout",
          "text": [
            "My name is Rahul , I have enrolled in the Data Science Program .Thank you!\n"
          ]
        }
      ]
    },
    {
      "cell_type": "code",
      "source": [
        "# Method 2 : F string works with {variable} | Always curly bracket # 2nd Most Common\n",
        "print(f'My name is {name}, I have enrolled in the {program} program.') # fstring"
      ],
      "metadata": {
        "colab": {
          "base_uri": "https://localhost:8080/"
        },
        "id": "BXkLE01GfUP9",
        "outputId": "646cbc06-45f1-47b9-e1c0-f5f36845df95"
      },
      "execution_count": null,
      "outputs": [
        {
          "output_type": "stream",
          "name": "stdout",
          "text": [
            "My name is Rahul, I have enrolled in the Data Science program.\n"
          ]
        }
      ]
    },
    {
      "cell_type": "code",
      "source": [
        "_var = f'My name is {name}, I have enrolled in the {program} program.'\n",
        "print(_var)"
      ],
      "metadata": {
        "colab": {
          "base_uri": "https://localhost:8080/"
        },
        "id": "XHoylUR5Nu2-",
        "outputId": "c5a9a471-05b7-4b51-aa30-3f1d678741d4"
      },
      "execution_count": null,
      "outputs": [
        {
          "output_type": "stream",
          "name": "stdout",
          "text": [
            "My name is Rahul, I have enrolled in the Data Science program.\n"
          ]
        }
      ]
    },
    {
      "cell_type": "code",
      "source": [],
      "metadata": {
        "id": "B11ezucMPpCQ"
      },
      "execution_count": null,
      "outputs": []
    },
    {
      "cell_type": "code",
      "source": [
        "time = 45"
      ],
      "metadata": {
        "id": "oI_s_gWpPmjG"
      },
      "execution_count": null,
      "outputs": []
    },
    {
      "cell_type": "code",
      "source": [],
      "metadata": {
        "id": "BbsWD3nMQAXK"
      },
      "execution_count": null,
      "outputs": []
    },
    {
      "cell_type": "code",
      "source": [
        "# method 3 : .format()\n",
        "print(\"Hi, My name is {},I have enrolled in the {}.Thank you\".format(name,program,time))"
      ],
      "metadata": {
        "colab": {
          "base_uri": "https://localhost:8080/"
        },
        "id": "sLUuR0iggu5N",
        "outputId": "88d95188-03d6-4723-b73f-5f3f1b24502c"
      },
      "execution_count": null,
      "outputs": [
        {
          "output_type": "stream",
          "name": "stdout",
          "text": [
            "Hi, My name is Rahul,I have enrolled in the Data Science.Thank you 45\n"
          ]
        }
      ]
    },
    {
      "cell_type": "code",
      "source": [
        "_var = {'Alok':[84,85,90],'Rahul':[89, 95, 100]}\n",
        "a = _var['Alok']\n",
        "print(f'The score of Alok is {a}')\n",
        "\n",
        "b = list(_var.keys())\n",
        "print(f'Students are {len(b)}')"
      ],
      "metadata": {
        "colab": {
          "base_uri": "https://localhost:8080/"
        },
        "id": "BBIsmmT-QBCk",
        "outputId": "fe2ebf9d-f998-4d88-f196-ca8d07112afe"
      },
      "execution_count": null,
      "outputs": [
        {
          "output_type": "stream",
          "name": "stdout",
          "text": [
            "The score of Alok is [84, 85, 90]\n",
            "Students are 2\n"
          ]
        }
      ]
    },
    {
      "cell_type": "code",
      "source": [
        "print(f\"The score of Alok is {_var['Alok']}\")"
      ],
      "metadata": {
        "colab": {
          "base_uri": "https://localhost:8080/"
        },
        "id": "PnH6DVU3Q8F1",
        "outputId": "3aa1485a-58cf-4c55-fa38-80ed58dab44c"
      },
      "execution_count": null,
      "outputs": [
        {
          "output_type": "stream",
          "name": "stdout",
          "text": [
            "The score of Alok is [84, 85, 90]\n"
          ]
        }
      ]
    },
    {
      "cell_type": "code",
      "source": [
        "# Method 4 : Least popular (use of concatenation (+))\n",
        "print(\"Hi, My name is \" + name + \",I have enrolled in the \" + program +\".Thank you\")"
      ],
      "metadata": {
        "colab": {
          "base_uri": "https://localhost:8080/"
        },
        "id": "ehbOLWH3gH0-",
        "outputId": "b4771072-a869-4089-bbc3-da1df754ee99"
      },
      "execution_count": null,
      "outputs": [
        {
          "output_type": "stream",
          "name": "stdout",
          "text": [
            "Hi, My name is Anand,I have enrolled in the Machine Learning.Thank you\n"
          ]
        }
      ]
    },
    {
      "cell_type": "code",
      "source": [],
      "metadata": {
        "id": "vCP2I4dPP-RI"
      },
      "execution_count": null,
      "outputs": []
    },
    {
      "cell_type": "code",
      "source": [
        "## len() --> Count of elements | All non primitive data types\n",
        "_str = 'AlmaBetter'\n",
        "print(\"length of the string\",_str,':',len(_str))\n",
        "# String : Everything inside \"\", '', '''''' will be counted as element"
      ],
      "metadata": {
        "colab": {
          "base_uri": "https://localhost:8080/"
        },
        "id": "q5qS-Sp8hUer",
        "outputId": "e3824ce7-649f-4f6a-fc81-670e16e91793"
      },
      "execution_count": null,
      "outputs": [
        {
          "output_type": "stream",
          "name": "stdout",
          "text": [
            "length of the string AlmaBetter : 10\n"
          ]
        }
      ]
    },
    {
      "cell_type": "code",
      "source": [
        "_list = [4 , 5 , 6]\n",
        "# Everything inside string is counted\n",
        "# Rest other list, tuple,dictionary, set : elements are separated by comma\n",
        "# '4,5,6' : 5 elements\n",
        "len(_list) # No. of elements"
      ],
      "metadata": {
        "colab": {
          "base_uri": "https://localhost:8080/"
        },
        "id": "OuDzDDr7jK09",
        "outputId": "ce63e6c3-f74b-4e66-857d-952eb9e4f501"
      },
      "execution_count": null,
      "outputs": [
        {
          "output_type": "execute_result",
          "data": {
            "text/plain": [
              "3"
            ]
          },
          "metadata": {},
          "execution_count": 47
        }
      ]
    },
    {
      "cell_type": "code",
      "source": [
        "_tuple = (5,6,7,8,9,10,45,35,67)\n",
        "len(_tuple) # No. of elements"
      ],
      "metadata": {
        "colab": {
          "base_uri": "https://localhost:8080/"
        },
        "id": "P_zAw92mjp9I",
        "outputId": "e3d24742-d43a-43cb-9d68-90df52658277"
      },
      "execution_count": null,
      "outputs": [
        {
          "output_type": "execute_result",
          "data": {
            "text/plain": [
              "9"
            ]
          },
          "metadata": {},
          "execution_count": 49
        }
      ]
    },
    {
      "cell_type": "code",
      "source": [
        "## type: Data type of the value stored in the variable\n",
        "_var= {4,5} # Values with { } :\n",
        "type(_var)"
      ],
      "metadata": {
        "colab": {
          "base_uri": "https://localhost:8080/"
        },
        "id": "DF928wBNinNj",
        "outputId": "9d75df67-c342-4f44-e96d-5c726d5783e5"
      },
      "execution_count": null,
      "outputs": [
        {
          "output_type": "execute_result",
          "data": {
            "text/plain": [
              "set"
            ]
          },
          "metadata": {},
          "execution_count": 24
        }
      ]
    },
    {
      "cell_type": "code",
      "source": [
        "# print() with end  Pattern questions using for/ while loop"
      ],
      "metadata": {
        "id": "ujI9MQpORUU5"
      },
      "execution_count": null,
      "outputs": []
    },
    {
      "cell_type": "markdown",
      "source": [
        "#### TypeCasting of Data"
      ],
      "metadata": {
        "id": "-kqwzVAhQD4H"
      }
    },
    {
      "cell_type": "code",
      "source": [
        "# Typecasting : Changing one data types to another\n",
        "# int(), float(),bool(), str(), list(),tuple(), dict(), set()\n",
        "# Why do we need to do typecasting?\n",
        "# because data in current format is not usable or some logic can't be applied, you need to typecast to a data types which will be usable."
      ],
      "metadata": {
        "id": "e1SwDtonlkRs"
      },
      "execution_count": null,
      "outputs": []
    },
    {
      "cell_type": "code",
      "source": [
        "# Change it to integer\n",
        "# String to Integer\n",
        "string_num = \"123\"\n",
        "int_num = int(string_num)\n",
        "print(int_num)  # Output: 123\n",
        "# Note if any character is present like '123a' --> Then conversion will throw an error.\n",
        "\n",
        "# Float to Integer\n",
        "float_num = 45.67\n",
        "int_num = int(float_num)\n",
        "print(int_num)  # Output: 45\n",
        "\n",
        "# Boolean to Integer\n",
        "bool_value = False\n",
        "int_bool = int(bool_value)\n",
        "print(int_bool)  # Output: 0"
      ],
      "metadata": {
        "colab": {
          "base_uri": "https://localhost:8080/"
        },
        "id": "Lms5mLFfl2s3",
        "outputId": "a20222c8-e15d-45a9-8ea8-7bfcb4047c26"
      },
      "execution_count": null,
      "outputs": [
        {
          "output_type": "stream",
          "name": "stdout",
          "text": [
            "123\n",
            "45\n",
            "0\n"
          ]
        }
      ]
    },
    {
      "cell_type": "code",
      "source": [
        "# Float is in string\n",
        "# int('34.67')\n",
        "int(34.67) # This will be converted"
      ],
      "metadata": {
        "colab": {
          "base_uri": "https://localhost:8080/"
        },
        "id": "VXaXsz-pUKzt",
        "outputId": "c4f1d2e2-07ca-4794-e857-2c9a142e28c5"
      },
      "execution_count": null,
      "outputs": [
        {
          "output_type": "execute_result",
          "data": {
            "text/plain": [
              "34"
            ]
          },
          "metadata": {},
          "execution_count": 35
        }
      ]
    },
    {
      "cell_type": "code",
      "source": [
        "# int('45')\n",
        "# int('45.67')"
      ],
      "metadata": {
        "colab": {
          "base_uri": "https://localhost:8080/",
          "height": 158
        },
        "id": "SyV_Hi9JTjBa",
        "outputId": "f0782d27-94c7-4ecc-bfa3-d234bfba8ce5"
      },
      "execution_count": null,
      "outputs": [
        {
          "output_type": "error",
          "ename": "ValueError",
          "evalue": "invalid literal for int() with base 10: '45.67'",
          "traceback": [
            "\u001b[0;31m---------------------------------------------------------------------------\u001b[0m",
            "\u001b[0;31mValueError\u001b[0m                                Traceback (most recent call last)",
            "\u001b[0;32m<ipython-input-31-41100f230b37>\u001b[0m in \u001b[0;36m<cell line: 2>\u001b[0;34m()\u001b[0m\n\u001b[1;32m      1\u001b[0m \u001b[0;31m# int('45')\u001b[0m\u001b[0;34m\u001b[0m\u001b[0;34m\u001b[0m\u001b[0m\n\u001b[0;32m----> 2\u001b[0;31m \u001b[0mint\u001b[0m\u001b[0;34m(\u001b[0m\u001b[0;34m'45.67'\u001b[0m\u001b[0;34m)\u001b[0m\u001b[0;34m\u001b[0m\u001b[0;34m\u001b[0m\u001b[0m\n\u001b[0m",
            "\u001b[0;31mValueError\u001b[0m: invalid literal for int() with base 10: '45.67'"
          ]
        }
      ]
    },
    {
      "cell_type": "code",
      "source": [
        "_var = 10.45 # Float\n",
        "# Convert the value present in the _var to int\n"
      ],
      "metadata": {
        "colab": {
          "base_uri": "https://localhost:8080/"
        },
        "id": "CTZj44SjnBkt",
        "outputId": "223bc2f2-859a-4ec2-85f6-d7083902c37d"
      },
      "execution_count": null,
      "outputs": [
        {
          "output_type": "stream",
          "name": "stdout",
          "text": [
            "10\n"
          ]
        },
        {
          "output_type": "execute_result",
          "data": {
            "text/plain": [
              "int"
            ]
          },
          "metadata": {},
          "execution_count": 52
        }
      ]
    },
    {
      "cell_type": "code",
      "source": [
        "_var = True # Boolean True : 1 , False : 0\n",
        "# Convert the value present in the _var to int\n"
      ],
      "metadata": {
        "colab": {
          "base_uri": "https://localhost:8080/"
        },
        "id": "5NrHF_REnQ0-",
        "outputId": "4ca65491-018e-4074-8726-492a56b3f2cd"
      },
      "execution_count": null,
      "outputs": [
        {
          "output_type": "stream",
          "name": "stdout",
          "text": [
            "1\n"
          ]
        },
        {
          "output_type": "execute_result",
          "data": {
            "text/plain": [
              "int"
            ]
          },
          "metadata": {},
          "execution_count": 55
        }
      ]
    },
    {
      "cell_type": "code",
      "source": [
        "# Note : value is in String format which containts non numeric values with numberic : Can't be converted to int\n",
        "_var = '12a' # Non numeric value with numeric\n",
        "int(_var) # Error"
      ],
      "metadata": {
        "id": "obbSetxRnPKb"
      },
      "execution_count": null,
      "outputs": []
    },
    {
      "cell_type": "code",
      "source": [
        "# Convert from any other data type to float\n",
        "# String to Float\n",
        "string_num = \"123.45\"\n",
        "float_num = float(string_num) # float function to convert to float\n",
        "print(float_num)  # Output: 123.45\n",
        "\n",
        "# Integer to Float\n",
        "int_num = 123\n",
        "float_num = float(int_num)\n",
        "print(float_num)  # Output: 123.0\n",
        "\n",
        "# Boolean to Float\n",
        "bool_value = True\n",
        "float_bool = float(bool_value)\n",
        "print(float_bool)  # Output: 1.0\n",
        "\n",
        "#"
      ],
      "metadata": {
        "colab": {
          "base_uri": "https://localhost:8080/"
        },
        "id": "5ihzImf2n-pM",
        "outputId": "e6f1bd09-a0f1-4e17-ad28-b3d9b02f99f5"
      },
      "execution_count": null,
      "outputs": [
        {
          "output_type": "stream",
          "name": "stdout",
          "text": [
            "123.45\n",
            "123.0\n",
            "1.0\n"
          ]
        }
      ]
    },
    {
      "cell_type": "code",
      "source": [
        "# Note : value is in String format which containts non numeric values with numberic : Can't be converted to float\n",
        "_var = '12.45a' # Non numeric value with numeric\n",
        "float(_var) # Error"
      ],
      "metadata": {
        "id": "F9NLNlPqoi7T",
        "colab": {
          "base_uri": "https://localhost:8080/",
          "height": 176
        },
        "outputId": "b9cae862-a515-4a7c-cf1b-99b27592818b"
      },
      "execution_count": null,
      "outputs": [
        {
          "output_type": "error",
          "ename": "ValueError",
          "evalue": "could not convert string to float: '12.45a'",
          "traceback": [
            "\u001b[0;31m---------------------------------------------------------------------------\u001b[0m",
            "\u001b[0;31mValueError\u001b[0m                                Traceback (most recent call last)",
            "\u001b[0;32m<ipython-input-37-9a6ed8ce9619>\u001b[0m in \u001b[0;36m<cell line: 3>\u001b[0;34m()\u001b[0m\n\u001b[1;32m      1\u001b[0m \u001b[0;31m# Note : value is in String format which containts non numeric values with numberic : Can't be converted to float\u001b[0m\u001b[0;34m\u001b[0m\u001b[0;34m\u001b[0m\u001b[0m\n\u001b[1;32m      2\u001b[0m \u001b[0m_var\u001b[0m \u001b[0;34m=\u001b[0m \u001b[0;34m'12.45a'\u001b[0m \u001b[0;31m# Non numeric value with numeric\u001b[0m\u001b[0;34m\u001b[0m\u001b[0;34m\u001b[0m\u001b[0m\n\u001b[0;32m----> 3\u001b[0;31m \u001b[0mfloat\u001b[0m\u001b[0;34m(\u001b[0m\u001b[0m_var\u001b[0m\u001b[0;34m)\u001b[0m \u001b[0;31m# Error\u001b[0m\u001b[0;34m\u001b[0m\u001b[0;34m\u001b[0m\u001b[0m\n\u001b[0m",
            "\u001b[0;31mValueError\u001b[0m: could not convert string to float: '12.45a'"
          ]
        }
      ]
    },
    {
      "cell_type": "code",
      "source": [
        "# Convert from any other data type to string , \"\"\n",
        "# Integer to String\n",
        "int_num = 456\n",
        "str_num = str(int_num) # Converting int to string : Important : For loop\n",
        "# str_num  # Output:  \"456\"\n",
        "\n",
        "# # Float to String\n",
        "float_num = 78.90\n",
        "str_float = str(float_num)\n",
        "print(str_float) # Output: \"78.9\"\n",
        "\n",
        "# # Boolean to String\n",
        "bool_value = False\n",
        "str_bool = str(bool_value)\n",
        "print(str_bool)  # Output: \"False\"\n",
        "\n",
        "# # list to String\n",
        "list_value = [1,2,3,4]\n",
        "str_list = str(list_value)\n",
        "str_list  # Output: \"[1,2,3,4]\"\n",
        "\n",
        "# Same applied on tuple,set, dict"
      ],
      "metadata": {
        "colab": {
          "base_uri": "https://localhost:8080/",
          "height": 35
        },
        "id": "PtzmXqU9oa6E",
        "outputId": "72065553-2f64-4455-fb65-759d13a9d274"
      },
      "execution_count": null,
      "outputs": [
        {
          "output_type": "execute_result",
          "data": {
            "text/plain": [
              "'456'"
            ],
            "application/vnd.google.colaboratory.intrinsic+json": {
              "type": "string"
            }
          },
          "metadata": {},
          "execution_count": 38
        }
      ]
    },
    {
      "cell_type": "code",
      "source": [
        "_tup = (2,3,4,5)\n",
        "str(_tup)"
      ],
      "metadata": {
        "colab": {
          "base_uri": "https://localhost:8080/",
          "height": 35
        },
        "id": "G3ULoXNiVSvN",
        "outputId": "19c9124b-c5dc-49ca-916d-65c9ac6724a9"
      },
      "execution_count": null,
      "outputs": [
        {
          "output_type": "execute_result",
          "data": {
            "text/plain": [
              "'(2, 3, 4, 5)'"
            ],
            "application/vnd.google.colaboratory.intrinsic+json": {
              "type": "string"
            }
          },
          "metadata": {},
          "execution_count": 39
        }
      ]
    },
    {
      "cell_type": "code",
      "source": [
        "# Integer to Boolean\n",
        "int_num = 0\n",
        "bool_num = bool(int_num)\n",
        "print(bool_num)  # Output: False\n",
        "\n",
        "# Any value other than 0 is True\n",
        "\n",
        "# # Float to Boolean\n",
        "float_num = 0.0\n",
        "bool_float = bool(float_num)\n",
        "print(bool_float)  # Output: False\n",
        "\n",
        "# # String to Boolean\n",
        "str_value = \"\" # Unicode of true --> t, r, u ,e\n",
        "bool_str = bool(str_value)\n",
        "print(bool_str)  # Output: True\n",
        "\n",
        "# Note: if string is \"\" with zero elements then only False , otherwise True"
      ],
      "metadata": {
        "colab": {
          "base_uri": "https://localhost:8080/"
        },
        "id": "EUC__jdhqHV8",
        "outputId": "e8bc8b94-5fa1-49dc-8f95-14e4faff4713"
      },
      "execution_count": null,
      "outputs": [
        {
          "output_type": "stream",
          "name": "stdout",
          "text": [
            "False\n",
            "False\n",
            "False\n"
          ]
        }
      ]
    },
    {
      "cell_type": "code",
      "source": [],
      "metadata": {
        "id": "90dDKTfBWnHJ"
      },
      "execution_count": null,
      "outputs": []
    },
    {
      "cell_type": "code",
      "source": [
        "str_value = \"False\"\n",
        "bool_str = bool(str_value)\n",
        "print(bool_str)"
      ],
      "metadata": {
        "colab": {
          "base_uri": "https://localhost:8080/"
        },
        "id": "koNkcJFvV8eZ",
        "outputId": "6d712983-5900-4890-a95a-95de74232db1"
      },
      "execution_count": null,
      "outputs": [
        {
          "output_type": "stream",
          "name": "stdout",
          "text": [
            "True\n"
          ]
        }
      ]
    },
    {
      "cell_type": "code",
      "source": [
        "# Note : only 0 is False ,  any other value if converted to boolean it will be True\n",
        "int_num = 0\n",
        "bool_num = bool(int_num)\n",
        "print(bool_num)"
      ],
      "metadata": {
        "colab": {
          "base_uri": "https://localhost:8080/"
        },
        "id": "Wfbr0k4lqYy3",
        "outputId": "2dcbd896-8d2c-41c4-bc3f-4f4e4a218b93"
      },
      "execution_count": null,
      "outputs": [
        {
          "output_type": "stream",
          "name": "stdout",
          "text": [
            "False\n"
          ]
        }
      ]
    },
    {
      "cell_type": "code",
      "source": [
        "# set('Data')"
      ],
      "metadata": {
        "colab": {
          "base_uri": "https://localhost:8080/"
        },
        "id": "z7c5kvXrXsvD",
        "outputId": "9a97a4e7-2aaa-4559-b58f-549fc877ffcd"
      },
      "execution_count": null,
      "outputs": [
        {
          "output_type": "execute_result",
          "data": {
            "text/plain": [
              "{'D', 'a', 't'}"
            ]
          },
          "metadata": {},
          "execution_count": 58
        }
      ]
    },
    {
      "cell_type": "code",
      "source": [
        "# str(['P', 'y', 't', 'h', 'o', 'n'])\n",
        "# ''.join(['P', 'y', 't', 'h', 'o', 'n'])"
      ],
      "metadata": {
        "colab": {
          "base_uri": "https://localhost:8080/",
          "height": 35
        },
        "id": "R5Y64OSTX4uA",
        "outputId": "a36c3e47-eab4-4f59-a343-0f6ce7434a2f"
      },
      "execution_count": null,
      "outputs": [
        {
          "output_type": "execute_result",
          "data": {
            "text/plain": [
              "'Python'"
            ],
            "application/vnd.google.colaboratory.intrinsic+json": {
              "type": "string"
            }
          },
          "metadata": {},
          "execution_count": 60
        }
      ]
    },
    {
      "cell_type": "code",
      "source": [
        "# List and Tuple Conversion (list() and tuple())\n",
        "\n",
        "# String to List : Important to keep it mind\n",
        "string_word = \"Python\"\n",
        "list_word = list(string_word)\n",
        "print(list_word)  # Output: ['P', 'y', 't', 'h', 'o', 'n']\n",
        "# ['Python']\n",
        "\n",
        "# Tuple to List\n",
        "tuple_numbers = (1, 2, 3)\n",
        "list_numbers = list(tuple_numbers)\n",
        "print(list_numbers)  # Output: [1, 2, 3]\n",
        "\n",
        "# List to Tuple\n",
        "list_colors = ['Red', 'Green', 'Blue']\n",
        "tuple_colors = tuple(list_colors)\n",
        "print(tuple_colors)  # Output: ('Red', 'Green', 'Blue')\n",
        "# Efficient memory management :\n",
        "# Store the value as tuple and whenever you need to change any value : (tuple : Immutable)\n",
        "# temporarily convert it to list, change the value and convert it back to tuple."
      ],
      "metadata": {
        "colab": {
          "base_uri": "https://localhost:8080/"
        },
        "id": "QzgbdoVXrFDp",
        "outputId": "4ef403ff-489d-473b-a1fd-4e1e98f39b72"
      },
      "execution_count": null,
      "outputs": [
        {
          "output_type": "stream",
          "name": "stdout",
          "text": [
            "['P', 'y', 't', 'h', 'o', 'n']\n",
            "[1, 2, 3]\n",
            "('Red', 'Green', 'Blue')\n"
          ]
        }
      ]
    },
    {
      "cell_type": "code",
      "source": [
        "# List to Set\n",
        "list_numbers = [1, 2, 2, 3, 4, 4, 5] # Way to represent the data\n",
        "set_numbers = set(list_numbers)\n",
        "print(set_numbers)  # Output: {1, 2, 3, 4, 5}\n",
        "\n",
        "# String to Set\n",
        "string_characters = \"abraca[]da{}bra\"\n",
        "set_characters = set(string_characters)\n",
        "print(set_characters)  # Output: {'c', '[', 'd', '}', 'a', 'r', ']', 'b', '{'}"
      ],
      "metadata": {
        "colab": {
          "base_uri": "https://localhost:8080/"
        },
        "id": "WysQo20QtFSK",
        "outputId": "88fea06c-63cb-488c-dfaf-94b55fcfc7e4"
      },
      "execution_count": null,
      "outputs": [
        {
          "output_type": "stream",
          "name": "stdout",
          "text": [
            "{1, 2, 3, 4, 5}\n",
            "{'c', '[', 'd', '}', 'a', 'r', ']', 'b', '{'}\n"
          ]
        }
      ]
    },
    {
      "cell_type": "code",
      "source": [
        "# Set to list\n",
        "_set = {3,4,5,6}\n",
        "# str(_set)"
      ],
      "metadata": {
        "colab": {
          "base_uri": "https://localhost:8080/",
          "height": 35
        },
        "id": "Zz6XwALPYiEQ",
        "outputId": "e3a10eb6-92dd-4ee3-ba95-8259e0e325b4"
      },
      "execution_count": null,
      "outputs": [
        {
          "output_type": "execute_result",
          "data": {
            "text/plain": [
              "'{3, 4, 5, 6}'"
            ],
            "application/vnd.google.colaboratory.intrinsic+json": {
              "type": "string"
            }
          },
          "metadata": {},
          "execution_count": 63
        }
      ]
    },
    {
      "cell_type": "code",
      "source": [
        "# int('12') vs int('12a')"
      ],
      "metadata": {
        "id": "sjvZBH0VY-Xz"
      },
      "execution_count": null,
      "outputs": []
    },
    {
      "cell_type": "code",
      "source": [
        "# Note :\n",
        "_var = [ 1,2,3,4, (4,5), [6,7]]\n",
        "set(_var) # Error : because set doesn't accept list, dict & set"
      ],
      "metadata": {
        "colab": {
          "base_uri": "https://localhost:8080/",
          "height": 176
        },
        "id": "6hXf4RaLtdrd",
        "outputId": "eb79afca-f50a-4fe3-c98e-32e8bd2e82e0"
      },
      "execution_count": null,
      "outputs": [
        {
          "output_type": "error",
          "ename": "TypeError",
          "evalue": "unhashable type: 'list'",
          "traceback": [
            "\u001b[0;31m---------------------------------------------------------------------------\u001b[0m",
            "\u001b[0;31mTypeError\u001b[0m                                 Traceback (most recent call last)",
            "\u001b[0;32m<ipython-input-64-0e1fa998891e>\u001b[0m in \u001b[0;36m<cell line: 3>\u001b[0;34m()\u001b[0m\n\u001b[1;32m      1\u001b[0m \u001b[0;31m# Note :\u001b[0m\u001b[0;34m\u001b[0m\u001b[0;34m\u001b[0m\u001b[0m\n\u001b[1;32m      2\u001b[0m \u001b[0m_var\u001b[0m \u001b[0;34m=\u001b[0m \u001b[0;34m[\u001b[0m \u001b[0;36m1\u001b[0m\u001b[0;34m,\u001b[0m\u001b[0;36m2\u001b[0m\u001b[0;34m,\u001b[0m\u001b[0;36m3\u001b[0m\u001b[0;34m,\u001b[0m\u001b[0;36m4\u001b[0m\u001b[0;34m,\u001b[0m \u001b[0;34m(\u001b[0m\u001b[0;36m4\u001b[0m\u001b[0;34m,\u001b[0m\u001b[0;36m5\u001b[0m\u001b[0;34m)\u001b[0m\u001b[0;34m,\u001b[0m \u001b[0;34m[\u001b[0m\u001b[0;36m6\u001b[0m\u001b[0;34m,\u001b[0m\u001b[0;36m7\u001b[0m\u001b[0;34m]\u001b[0m\u001b[0;34m]\u001b[0m\u001b[0;34m\u001b[0m\u001b[0;34m\u001b[0m\u001b[0m\n\u001b[0;32m----> 3\u001b[0;31m \u001b[0mset\u001b[0m\u001b[0;34m(\u001b[0m\u001b[0m_var\u001b[0m\u001b[0;34m)\u001b[0m \u001b[0;31m# Error : because set doesn't accept list, dict & set\u001b[0m\u001b[0;34m\u001b[0m\u001b[0;34m\u001b[0m\u001b[0m\n\u001b[0m",
            "\u001b[0;31mTypeError\u001b[0m: unhashable type: 'list'"
          ]
        }
      ]
    },
    {
      "cell_type": "code",
      "source": [
        "# Nested tuple be converted to set\n",
        "_tup = ((3,4),5,6,7,(8,7))\n",
        "set(_tup) #Set accept tuple, it doesn't accept list, dict, set"
      ],
      "metadata": {
        "colab": {
          "base_uri": "https://localhost:8080/",
          "height": 176
        },
        "id": "uoKuAjbZZWLB",
        "outputId": "9f1ff476-9b08-4c21-c3df-5c6e1019bdf6"
      },
      "execution_count": null,
      "outputs": [
        {
          "output_type": "error",
          "ename": "TypeError",
          "evalue": "unhashable type: 'list'",
          "traceback": [
            "\u001b[0;31m---------------------------------------------------------------------------\u001b[0m",
            "\u001b[0;31mTypeError\u001b[0m                                 Traceback (most recent call last)",
            "\u001b[0;32m<ipython-input-66-837abbe3ec21>\u001b[0m in \u001b[0;36m<cell line: 3>\u001b[0;34m()\u001b[0m\n\u001b[1;32m      1\u001b[0m \u001b[0;31m# Nested tuple be converted to set\u001b[0m\u001b[0;34m\u001b[0m\u001b[0;34m\u001b[0m\u001b[0m\n\u001b[1;32m      2\u001b[0m \u001b[0m_tup\u001b[0m \u001b[0;34m=\u001b[0m \u001b[0;34m(\u001b[0m\u001b[0;34m(\u001b[0m\u001b[0;36m3\u001b[0m\u001b[0;34m,\u001b[0m\u001b[0;36m4\u001b[0m\u001b[0;34m)\u001b[0m\u001b[0;34m,\u001b[0m\u001b[0;36m5\u001b[0m\u001b[0;34m,\u001b[0m\u001b[0;36m6\u001b[0m\u001b[0;34m,\u001b[0m\u001b[0;36m7\u001b[0m\u001b[0;34m,\u001b[0m\u001b[0;34m[\u001b[0m\u001b[0;36m8\u001b[0m\u001b[0;34m,\u001b[0m\u001b[0;36m7\u001b[0m\u001b[0;34m]\u001b[0m\u001b[0;34m)\u001b[0m\u001b[0;34m\u001b[0m\u001b[0;34m\u001b[0m\u001b[0m\n\u001b[0;32m----> 3\u001b[0;31m \u001b[0mset\u001b[0m\u001b[0;34m(\u001b[0m\u001b[0m_tup\u001b[0m\u001b[0;34m)\u001b[0m \u001b[0;31m#Set accept tuple, it doesn't accept list, dict, set\u001b[0m\u001b[0;34m\u001b[0m\u001b[0;34m\u001b[0m\u001b[0m\n\u001b[0m",
            "\u001b[0;31mTypeError\u001b[0m: unhashable type: 'list'"
          ]
        }
      ]
    },
    {
      "cell_type": "code",
      "source": [
        "# Dictionary : keys & values\n",
        "_list = [3,4,5,6]\n",
        "dict(_list)# Error because of only values"
      ],
      "metadata": {
        "colab": {
          "base_uri": "https://localhost:8080/",
          "height": 176
        },
        "id": "Z1Zyhg0juRCL",
        "outputId": "3c1e1254-e0f8-45f1-9d0d-d0d91f3cb447"
      },
      "execution_count": null,
      "outputs": [
        {
          "output_type": "error",
          "ename": "TypeError",
          "evalue": "cannot convert dictionary update sequence element #0 to a sequence",
          "traceback": [
            "\u001b[0;31m---------------------------------------------------------------------------\u001b[0m",
            "\u001b[0;31mTypeError\u001b[0m                                 Traceback (most recent call last)",
            "\u001b[0;32m<ipython-input-98-9d5debcc8c6c>\u001b[0m in \u001b[0;36m<cell line: 3>\u001b[0;34m()\u001b[0m\n\u001b[1;32m      1\u001b[0m \u001b[0;31m# Dictionary : keys & values\u001b[0m\u001b[0;34m\u001b[0m\u001b[0;34m\u001b[0m\u001b[0m\n\u001b[1;32m      2\u001b[0m \u001b[0m_list\u001b[0m \u001b[0;34m=\u001b[0m \u001b[0;34m[\u001b[0m\u001b[0;36m3\u001b[0m\u001b[0;34m,\u001b[0m\u001b[0;36m4\u001b[0m\u001b[0;34m,\u001b[0m\u001b[0;36m5\u001b[0m\u001b[0;34m,\u001b[0m\u001b[0;36m6\u001b[0m\u001b[0;34m]\u001b[0m\u001b[0;34m\u001b[0m\u001b[0;34m\u001b[0m\u001b[0m\n\u001b[0;32m----> 3\u001b[0;31m \u001b[0mdict\u001b[0m\u001b[0;34m(\u001b[0m\u001b[0m_list\u001b[0m\u001b[0;34m)\u001b[0m\u001b[0;34m\u001b[0m\u001b[0;34m\u001b[0m\u001b[0m\n\u001b[0m",
            "\u001b[0;31mTypeError\u001b[0m: cannot convert dictionary update sequence element #0 to a sequence"
          ]
        }
      ]
    },
    {
      "cell_type": "code",
      "source": [
        "# List or tuple to dict | list of list\n",
        "_list = [[4,5], [6,7], [8,9]]\n",
        "dict(_list)\n"
      ],
      "metadata": {
        "colab": {
          "base_uri": "https://localhost:8080/"
        },
        "id": "TAXmKqKwufel",
        "outputId": "0b7fdde1-a0d7-4979-a3a4-18f01076a265"
      },
      "execution_count": null,
      "outputs": [
        {
          "output_type": "execute_result",
          "data": {
            "text/plain": [
              "{4: 5, 6: 7, 8: 9}"
            ]
          },
          "metadata": {},
          "execution_count": 99
        }
      ]
    },
    {
      "cell_type": "code",
      "source": [
        "_tuple = ((4,5), (6,7), (8,9))\n",
        "dict(_tuple)"
      ],
      "metadata": {
        "colab": {
          "base_uri": "https://localhost:8080/"
        },
        "id": "GtIUYp1YuvzY",
        "outputId": "76c8893b-a9bd-4fe8-cbf2-84d7e1410f6f"
      },
      "execution_count": null,
      "outputs": [
        {
          "output_type": "execute_result",
          "data": {
            "text/plain": [
              "{4: 5, 6: 7, 8: 9}"
            ]
          },
          "metadata": {},
          "execution_count": 100
        }
      ]
    },
    {
      "cell_type": "code",
      "source": [
        "_list_tuple = [(4,5), (6,7), (8,9)]\n",
        "dict(_list_tuple)"
      ],
      "metadata": {
        "colab": {
          "base_uri": "https://localhost:8080/"
        },
        "id": "viAzL1OKu2Tx",
        "outputId": "f9ef402e-35da-410d-e2aa-8e406a05aced"
      },
      "execution_count": null,
      "outputs": [
        {
          "output_type": "execute_result",
          "data": {
            "text/plain": [
              "{4: 5, 6: 7, 8: 9}"
            ]
          },
          "metadata": {},
          "execution_count": 101
        }
      ]
    },
    {
      "cell_type": "code",
      "source": [
        "# Restriction :\n",
        "# List to be considered as key and value should have only 2 elements\n",
        "_list_tuple = [(4,5,8), (6,7), (8,9)]\n",
        "dict(_list_tuple) # Error because only 2 elements must there to assign key & value"
      ],
      "metadata": {
        "id": "hw01NInmu8V_"
      },
      "execution_count": null,
      "outputs": []
    },
    {
      "cell_type": "code",
      "source": [
        "_list_tuple = [('a',[5,6,7]), (6,7), (8,9)]\n",
        "dict(_list_tuple)"
      ],
      "metadata": {
        "colab": {
          "base_uri": "https://localhost:8080/"
        },
        "id": "U6svjQiIvU-y",
        "outputId": "4f158089-d6d4-4f6b-f569-6b9342ebca06"
      },
      "execution_count": null,
      "outputs": [
        {
          "output_type": "execute_result",
          "data": {
            "text/plain": [
              "{'a': [5, 6, 7], 6: 7, 8: 9}"
            ]
          },
          "metadata": {},
          "execution_count": 103
        }
      ]
    },
    {
      "cell_type": "code",
      "source": [
        "# Note : In key : list, set & dict not accepted.\n",
        "_list_tuple = [([5,6,7], 'a'), (6,7), (8,9)]\n",
        "dict(_list_tuple) # Error because key will not accept list, set & dictionaries"
      ],
      "metadata": {
        "colab": {
          "base_uri": "https://localhost:8080/",
          "height": 176
        },
        "id": "3_NTyUFOvtj3",
        "outputId": "e43bfefb-eeaa-4077-e7f3-fdfb59c5e4f2"
      },
      "execution_count": null,
      "outputs": [
        {
          "output_type": "error",
          "ename": "TypeError",
          "evalue": "unhashable type: 'list'",
          "traceback": [
            "\u001b[0;31m---------------------------------------------------------------------------\u001b[0m",
            "\u001b[0;31mTypeError\u001b[0m                                 Traceback (most recent call last)",
            "\u001b[0;32m<ipython-input-104-00f3fd97e98e>\u001b[0m in \u001b[0;36m<cell line: 3>\u001b[0;34m()\u001b[0m\n\u001b[1;32m      1\u001b[0m \u001b[0;31m# Note : In key : list, set & dict not accepted.\u001b[0m\u001b[0;34m\u001b[0m\u001b[0;34m\u001b[0m\u001b[0m\n\u001b[1;32m      2\u001b[0m \u001b[0m_list_tuple\u001b[0m \u001b[0;34m=\u001b[0m \u001b[0;34m[\u001b[0m\u001b[0;34m(\u001b[0m\u001b[0;34m[\u001b[0m\u001b[0;36m5\u001b[0m\u001b[0;34m,\u001b[0m\u001b[0;36m6\u001b[0m\u001b[0;34m,\u001b[0m\u001b[0;36m7\u001b[0m\u001b[0;34m]\u001b[0m\u001b[0;34m,\u001b[0m \u001b[0;34m'a'\u001b[0m\u001b[0;34m)\u001b[0m\u001b[0;34m,\u001b[0m \u001b[0;34m(\u001b[0m\u001b[0;36m6\u001b[0m\u001b[0;34m,\u001b[0m\u001b[0;36m7\u001b[0m\u001b[0;34m)\u001b[0m\u001b[0;34m,\u001b[0m \u001b[0;34m(\u001b[0m\u001b[0;36m8\u001b[0m\u001b[0;34m,\u001b[0m\u001b[0;36m9\u001b[0m\u001b[0;34m)\u001b[0m\u001b[0;34m]\u001b[0m\u001b[0;34m\u001b[0m\u001b[0;34m\u001b[0m\u001b[0m\n\u001b[0;32m----> 3\u001b[0;31m \u001b[0mdict\u001b[0m\u001b[0;34m(\u001b[0m\u001b[0m_list_tuple\u001b[0m\u001b[0;34m)\u001b[0m\u001b[0;34m\u001b[0m\u001b[0;34m\u001b[0m\u001b[0m\n\u001b[0m",
            "\u001b[0;31mTypeError\u001b[0m: unhashable type: 'list'"
          ]
        }
      ]
    },
    {
      "cell_type": "code",
      "source": [
        "_list_tuple = [( 'a', [5,6,7]), (6,7), (8,9), (6,10)]\n",
        "dict(_list_tuple) # In case of duplicated keys , last value with key will be accepted."
      ],
      "metadata": {
        "colab": {
          "base_uri": "https://localhost:8080/"
        },
        "id": "LHUaeao_wPni",
        "outputId": "8b1bfa63-5e2c-4395-d801-27138a32206e"
      },
      "execution_count": null,
      "outputs": [
        {
          "output_type": "execute_result",
          "data": {
            "text/plain": [
              "{'a': [5, 6, 7], 6: 10, 8: 9}"
            ]
          },
          "metadata": {},
          "execution_count": 105
        }
      ]
    },
    {
      "cell_type": "code",
      "source": [
        "# From dictionary to other datatype\n",
        "_dict = {'a':4, 'b':6}\n",
        "print(list(_dict)) # By default give you the keys\n",
        "print(list(_dict.keys()))  # Same ans ss above\n",
        "print(list(_dict.values()))# Values are taken out and converted to list\n",
        "print(list(_dict.items())) # pair of keys and values as list of tuples.\n",
        "print(tuple(_dict.items())) # pair of keys and values as tuple of tuples."
      ],
      "metadata": {
        "colab": {
          "base_uri": "https://localhost:8080/"
        },
        "id": "wUWZGVEnwiwh",
        "outputId": "94800b08-b269-422b-c743-db1074c22c50"
      },
      "execution_count": null,
      "outputs": [
        {
          "output_type": "stream",
          "name": "stdout",
          "text": [
            "['a', 'b']\n",
            "['a', 'b']\n",
            "[4, 6]\n",
            "[('a', 4), ('b', 6)]\n",
            "(('a', 4), ('b', 6))\n"
          ]
        }
      ]
    },
    {
      "cell_type": "code",
      "source": [
        "_var = 'I have scored 40% marks in Maths'\n",
        "print(list(_var)) # Each & Every character will become an individual element.\n",
        "# Reason :"
      ],
      "metadata": {
        "colab": {
          "base_uri": "https://localhost:8080/"
        },
        "id": "53Q4myUKrT8P",
        "outputId": "c808f7d4-4ddf-4734-f2fc-01e99d570afa"
      },
      "execution_count": null,
      "outputs": [
        {
          "output_type": "stream",
          "name": "stdout",
          "text": [
            "['I', ' ', 'h', 'a', 'v', 'e', ' ', 's', 'c', 'o', 'r', 'e', 'd', ' ', '4', '0', '%', ' ', 'm', 'a', 'r', 'k', 's', ' ', 'i', 'n', ' ', 'M', 'a', 't', 'h', 's']\n"
          ]
        }
      ]
    },
    {
      "cell_type": "code",
      "source": [
        "# _var = 'I am Alok,'\n",
        "# _marks = [80,90]\n",
        "# print(_var, \"I have scored: \",_marks)"
      ],
      "metadata": {
        "colab": {
          "base_uri": "https://localhost:8080/"
        },
        "id": "uTnjrRilpRr4",
        "outputId": "100a93a5-1495-4951-9f5b-f493d516b6d4"
      },
      "execution_count": null,
      "outputs": [
        {
          "output_type": "stream",
          "name": "stdout",
          "text": [
            "I am Alok, I have scored:  [80, 90]\n"
          ]
        }
      ]
    },
    {
      "cell_type": "code",
      "source": [
        "# [ ] : Represent list data types, index, Slicing\n",
        "# () : Represent tuple, used with function to give the input"
      ],
      "metadata": {
        "id": "7nQv6xEMmcvJ"
      },
      "execution_count": null,
      "outputs": []
    },
    {
      "cell_type": "markdown",
      "source": [
        "#### Input & Eval"
      ],
      "metadata": {
        "id": "p4X58jbdlmOq"
      }
    },
    {
      "cell_type": "code",
      "source": [
        "# Input : It takes input from the user to store in the variable\n",
        "_var = input('Enter the age:') # In strings you put the instructions to input the value\n",
        "print(_var)\n",
        "# Note : by default input will store the value as string\n",
        "type(_var)"
      ],
      "metadata": {
        "id": "LZ6PAZPolpJ7",
        "colab": {
          "base_uri": "https://localhost:8080/"
        },
        "outputId": "afd6a13e-984f-4d5d-e908-3b5709e0d391"
      },
      "execution_count": null,
      "outputs": [
        {
          "output_type": "stream",
          "name": "stdout",
          "text": [
            "Enter the age:30\n",
            "30\n"
          ]
        },
        {
          "output_type": "execute_result",
          "data": {
            "text/plain": [
              "str"
            ]
          },
          "metadata": {},
          "execution_count": 115
        }
      ]
    },
    {
      "cell_type": "code",
      "source": [
        "_var = int(input('Enter the age:')) # In strings you put the instructions to input the value\n",
        "print(_var)\n",
        "# Note : by default input will store the value as string but here converted/typecasted to int\n",
        "type(_var)"
      ],
      "metadata": {
        "colab": {
          "base_uri": "https://localhost:8080/"
        },
        "id": "mVYeM-61yl9X",
        "outputId": "5643b399-b855-4085-dee9-fad51319e2eb"
      },
      "execution_count": null,
      "outputs": [
        {
          "output_type": "stream",
          "name": "stdout",
          "text": [
            "Enter the age:30\n",
            "30\n"
          ]
        },
        {
          "output_type": "execute_result",
          "data": {
            "text/plain": [
              "int"
            ]
          },
          "metadata": {},
          "execution_count": 116
        }
      ]
    },
    {
      "cell_type": "code",
      "source": [
        "_var = input('Enter your name:') # In strings you put the instructions to input the value\n",
        "print(_var)\n",
        "# Note : by default input will store the value as string but here converted/typecasted to int\n",
        "type(_var)"
      ],
      "metadata": {
        "colab": {
          "base_uri": "https://localhost:8080/"
        },
        "id": "2PSIYoSrzFtJ",
        "outputId": "ecde6df7-5d75-4f0a-9ec1-4fe3dbad551e"
      },
      "execution_count": null,
      "outputs": [
        {
          "output_type": "stream",
          "name": "stdout",
          "text": [
            "Enter your name:Alok\n",
            "Alok\n"
          ]
        },
        {
          "output_type": "execute_result",
          "data": {
            "text/plain": [
              "str"
            ]
          },
          "metadata": {},
          "execution_count": 117
        }
      ]
    },
    {
      "cell_type": "code",
      "source": [
        "# Major Issue with converting to list, tuple , dict & set\n",
        "_var = list(input('Enter the list of marks:'))\n",
        "print(type(_var))\n",
        "print(_var)"
      ],
      "metadata": {
        "colab": {
          "base_uri": "https://localhost:8080/"
        },
        "id": "ZoPVwOV0zO0d",
        "outputId": "efd1d908-03b2-4fda-9cc6-8a42b2414565"
      },
      "execution_count": null,
      "outputs": [
        {
          "output_type": "stream",
          "name": "stdout",
          "text": [
            "Enter the list of marks:[45,60]\n",
            "<class 'list'>\n",
            "['[', '4', '5', ',', '6', '0', ']']\n"
          ]
        }
      ]
    },
    {
      "cell_type": "code",
      "source": [
        "# eval function : Master converter from string to other data types.|| Master key\n",
        "\n",
        "_x = 5\n",
        "eval('print(_x)') # It executed whatever you have inside the quotes\n",
        "eval('[4,5,6,7]')"
      ],
      "metadata": {
        "colab": {
          "base_uri": "https://localhost:8080/"
        },
        "id": "vrnU-nbC0HGh",
        "outputId": "63f115e6-d874-4f5b-cadd-5a501030ec30"
      },
      "execution_count": null,
      "outputs": [
        {
          "output_type": "stream",
          "name": "stdout",
          "text": [
            "5\n"
          ]
        },
        {
          "output_type": "execute_result",
          "data": {
            "text/plain": [
              "[4, 5, 6, 7]"
            ]
          },
          "metadata": {},
          "execution_count": 124
        }
      ]
    },
    {
      "cell_type": "code",
      "source": [
        "[4,5,6,7]"
      ],
      "metadata": {
        "colab": {
          "base_uri": "https://localhost:8080/"
        },
        "id": "V1FOUVTU0yfC",
        "outputId": "8d4974a4-e2cf-4e25-f1cf-0b5ec47ea710"
      },
      "execution_count": null,
      "outputs": [
        {
          "output_type": "execute_result",
          "data": {
            "text/plain": [
              "[4, 5, 6, 7]"
            ]
          },
          "metadata": {},
          "execution_count": 125
        }
      ]
    },
    {
      "cell_type": "code",
      "source": [
        "# eval\n",
        "_var = eval(input('Enter the list of marks:'))\n",
        "print(type(_var))\n",
        "print(_var)"
      ],
      "metadata": {
        "colab": {
          "base_uri": "https://localhost:8080/"
        },
        "id": "ni2zFO3S08-o",
        "outputId": "03d62ff7-0e47-417f-8e93-a96996fe711d"
      },
      "execution_count": null,
      "outputs": [
        {
          "output_type": "stream",
          "name": "stdout",
          "text": [
            "Enter the list of marks:[45,60]\n",
            "<class 'list'>\n",
            "[45, 60]\n"
          ]
        }
      ]
    },
    {
      "cell_type": "code",
      "source": [
        "_var = eval(input('Enter the dict of marks:'))\n",
        "print(type(_var))\n",
        "print(_var)"
      ],
      "metadata": {
        "colab": {
          "base_uri": "https://localhost:8080/"
        },
        "id": "Ii9QpkiP1H8O",
        "outputId": "cf733758-f094-49e9-9bce-4863add3cfae"
      },
      "execution_count": null,
      "outputs": [
        {
          "output_type": "stream",
          "name": "stdout",
          "text": [
            "Enter the dict of marks:{4:5, 6:7}\n",
            "<class 'dict'>\n",
            "{4: 5, 6: 7}\n"
          ]
        }
      ]
    },
    {
      "cell_type": "code",
      "source": [
        "_var = eval(input('Enter the age'))\n",
        "print(type(_var))\n",
        "print(_var)"
      ],
      "metadata": {
        "colab": {
          "base_uri": "https://localhost:8080/"
        },
        "id": "TRz2cpL-1MrT",
        "outputId": "c8eb5931-de49-439c-f10f-f67532f79d27"
      },
      "execution_count": null,
      "outputs": [
        {
          "output_type": "stream",
          "name": "stdout",
          "text": [
            "Enter the age30\n",
            "<class 'int'>\n",
            "30\n"
          ]
        }
      ]
    },
    {
      "cell_type": "code",
      "source": [
        "# Industry Standard : Eval with input : In case of expected input other than string"
      ],
      "metadata": {
        "id": "92We5wGm1V7P"
      },
      "execution_count": null,
      "outputs": []
    },
    {
      "cell_type": "code",
      "source": [
        "_var = eval(input('Enter the name : '))\n",
        "print(type(_var))\n",
        "print(_var) # Error : becuase of string input to be considered as variable"
      ],
      "metadata": {
        "colab": {
          "base_uri": "https://localhost:8080/",
          "height": 228
        },
        "id": "bTOV8nr_1gn3",
        "outputId": "7812fcc3-26e0-4f59-f7c0-467614456bc2"
      },
      "execution_count": null,
      "outputs": [
        {
          "name": "stdout",
          "output_type": "stream",
          "text": [
            "Enter the nameAlok\n"
          ]
        },
        {
          "output_type": "error",
          "ename": "NameError",
          "evalue": "name 'Alok' is not defined",
          "traceback": [
            "\u001b[0;31m---------------------------------------------------------------------------\u001b[0m",
            "\u001b[0;31mNameError\u001b[0m                                 Traceback (most recent call last)",
            "\u001b[0;32m<ipython-input-129-3be77f9b1c37>\u001b[0m in \u001b[0;36m<cell line: 1>\u001b[0;34m()\u001b[0m\n\u001b[0;32m----> 1\u001b[0;31m \u001b[0m_var\u001b[0m \u001b[0;34m=\u001b[0m \u001b[0meval\u001b[0m\u001b[0;34m(\u001b[0m\u001b[0minput\u001b[0m\u001b[0;34m(\u001b[0m\u001b[0;34m'Enter the name'\u001b[0m\u001b[0;34m)\u001b[0m\u001b[0;34m)\u001b[0m\u001b[0;34m\u001b[0m\u001b[0;34m\u001b[0m\u001b[0m\n\u001b[0m\u001b[1;32m      2\u001b[0m \u001b[0mprint\u001b[0m\u001b[0;34m(\u001b[0m\u001b[0mtype\u001b[0m\u001b[0;34m(\u001b[0m\u001b[0m_var\u001b[0m\u001b[0;34m)\u001b[0m\u001b[0;34m)\u001b[0m\u001b[0;34m\u001b[0m\u001b[0;34m\u001b[0m\u001b[0m\n\u001b[1;32m      3\u001b[0m \u001b[0mprint\u001b[0m\u001b[0;34m(\u001b[0m\u001b[0m_var\u001b[0m\u001b[0;34m)\u001b[0m\u001b[0;34m\u001b[0m\u001b[0;34m\u001b[0m\u001b[0m\n",
            "\u001b[0;32m<string>\u001b[0m in \u001b[0;36m<module>\u001b[0;34m\u001b[0m\n",
            "\u001b[0;31mNameError\u001b[0m: name 'Alok' is not defined"
          ]
        }
      ]
    },
    {
      "cell_type": "code",
      "source": [
        "# Why has eval thrown the error?\n",
        "_x = 5\n",
        "eval('_x') # It executed whatever you have inside the quotes"
      ],
      "metadata": {
        "colab": {
          "base_uri": "https://localhost:8080/"
        },
        "id": "j6gNDWJX1lgY",
        "outputId": "b33d3863-3c8c-41f5-b3eb-b77462eb072f"
      },
      "execution_count": null,
      "outputs": [
        {
          "output_type": "execute_result",
          "data": {
            "text/plain": [
              "5"
            ]
          },
          "metadata": {},
          "execution_count": 130
        }
      ]
    },
    {
      "cell_type": "code",
      "source": [
        "eval('_x')"
      ],
      "metadata": {
        "colab": {
          "base_uri": "https://localhost:8080/"
        },
        "id": "XrNBvYZy2HJO",
        "outputId": "679b313e-5bf1-4b0a-e041-e519cf4231c2"
      },
      "execution_count": null,
      "outputs": [
        {
          "output_type": "execute_result",
          "data": {
            "text/plain": [
              "5"
            ]
          },
          "metadata": {},
          "execution_count": 131
        }
      ]
    },
    {
      "cell_type": "code",
      "source": [
        "_x"
      ],
      "metadata": {
        "colab": {
          "base_uri": "https://localhost:8080/"
        },
        "id": "hrptu7vj2IvE",
        "outputId": "7da66e50-c544-4c7e-a345-278c4ca9f5e7"
      },
      "execution_count": null,
      "outputs": [
        {
          "output_type": "execute_result",
          "data": {
            "text/plain": [
              "5"
            ]
          },
          "metadata": {},
          "execution_count": 134
        }
      ]
    },
    {
      "cell_type": "code",
      "source": [
        "# '_x' vs _x"
      ],
      "metadata": {
        "id": "U5G62KKy14sQ"
      },
      "execution_count": null,
      "outputs": []
    },
    {
      "cell_type": "code",
      "source": [
        "eval('Alok')"
      ],
      "metadata": {
        "id": "976yck241z-K"
      },
      "execution_count": null,
      "outputs": []
    },
    {
      "cell_type": "code",
      "source": [
        "# From String to any other data types :  eval()"
      ],
      "metadata": {
        "id": "GLudhBNV2eKb"
      },
      "execution_count": null,
      "outputs": []
    },
    {
      "cell_type": "markdown",
      "source": [
        "#### Mathematical Functions"
      ],
      "metadata": {
        "id": "nzL0VLpolqFD"
      }
    },
    {
      "cell_type": "code",
      "source": [
        "# round(), sum(), min(), max(), sorted(), abs()"
      ],
      "metadata": {
        "id": "L0QnaSslltvd"
      },
      "execution_count": null,
      "outputs": []
    },
    {
      "cell_type": "code",
      "source": [
        "_x = 4.564\n",
        "# Round off\n",
        "print(round(_x)) # round off till 0 digit after decimal\n",
        "print(round(_x,1)) # round off till 1 digit after decimal # after the 1st digit of decimal, next digit as >=5 , +1\n",
        "print(round(_x,2))"
      ],
      "metadata": {
        "colab": {
          "base_uri": "https://localhost:8080/"
        },
        "id": "gLFMkhz222uS",
        "outputId": "e04acaf0-070d-4e40-c141-cfa4e134734d"
      },
      "execution_count": null,
      "outputs": [
        {
          "output_type": "stream",
          "name": "stdout",
          "text": [
            "5\n",
            "4.6\n",
            "4.56\n"
          ]
        }
      ]
    },
    {
      "cell_type": "code",
      "source": [
        "#sum, min & max\n",
        "# sum : sum of elements\n",
        "# min : min of elements\n",
        "# max : max of elements\n",
        "# Functions : list, tuple, set & dictionary : Elements to be added must be Numeric int, float or boolean\n",
        "_var  = [3, 4 , 5 , 6, 5.6, False , -6]\n",
        "print(sum(_var))\n",
        "print(min(_var))\n",
        "print(max(_var))"
      ],
      "metadata": {
        "colab": {
          "base_uri": "https://localhost:8080/"
        },
        "id": "DVR5FRSR4SlE",
        "outputId": "f0c7f190-74f1-4c07-fcf6-8bee99a392ea"
      },
      "execution_count": null,
      "outputs": [
        {
          "output_type": "stream",
          "name": "stdout",
          "text": [
            "17.6\n",
            "-6\n",
            "6\n"
          ]
        }
      ]
    },
    {
      "cell_type": "code",
      "source": [
        "_var  = [[4,5], [6,7], [8,9]]\n",
        "# sum(_var) # error values to add are not numeric\n",
        "sum(_var[0]) # No error"
      ],
      "metadata": {
        "colab": {
          "base_uri": "https://localhost:8080/"
        },
        "id": "UHHNsDTJ460W",
        "outputId": "0446c190-4d6b-49ad-aa35-e76b6ac8c594"
      },
      "execution_count": null,
      "outputs": [
        {
          "output_type": "execute_result",
          "data": {
            "text/plain": [
              "9"
            ]
          },
          "metadata": {},
          "execution_count": 148
        }
      ]
    },
    {
      "cell_type": "code",
      "source": [
        "# sum([[4,5], [6,7], [8,9]])#  3 elements and what are the data types? list # Error"
      ],
      "metadata": {
        "id": "ge48MxB457_8"
      },
      "execution_count": null,
      "outputs": []
    },
    {
      "cell_type": "code",
      "source": [
        "#\n",
        "_marks =  [40,50,60]\n",
        "# Average of marks = sum of elements / no of elements\n",
        "avg = sum(_marks)/ len(_marks)\n",
        "print(avg)"
      ],
      "metadata": {
        "colab": {
          "base_uri": "https://localhost:8080/"
        },
        "id": "L3hD8Dv05fS-",
        "outputId": "0fd8f078-9bb6-4c0c-e03d-e75a4b88ae70"
      },
      "execution_count": null,
      "outputs": [
        {
          "output_type": "stream",
          "name": "stdout",
          "text": [
            "50.0\n"
          ]
        }
      ]
    },
    {
      "cell_type": "code",
      "source": [
        "_X = \"124\"  # String\n",
        "Z = eval ('print(_X)' ) # 124\n",
        "print ( type (Z))"
      ],
      "metadata": {
        "colab": {
          "base_uri": "https://localhost:8080/"
        },
        "id": "v-X0BMnV76s7",
        "outputId": "08ab3d50-6c5d-4aa0-a024-a2f80b4a5ade"
      },
      "execution_count": null,
      "outputs": [
        {
          "output_type": "stream",
          "name": "stdout",
          "text": [
            "124\n",
            "<class 'NoneType'>\n"
          ]
        }
      ]
    },
    {
      "cell_type": "code",
      "source": [
        "_X = \"124\"\n",
        "print(_X)"
      ],
      "metadata": {
        "colab": {
          "base_uri": "https://localhost:8080/"
        },
        "id": "zoR6Yutz8E_z",
        "outputId": "5422df82-b642-43bd-dabd-748fed9ae0c7"
      },
      "execution_count": null,
      "outputs": [
        {
          "output_type": "stream",
          "name": "stdout",
          "text": [
            "124\n"
          ]
        }
      ]
    },
    {
      "cell_type": "code",
      "source": [
        "a = 2\n",
        "b = print(a)"
      ],
      "metadata": {
        "colab": {
          "base_uri": "https://localhost:8080/"
        },
        "id": "SpGrtZOF8Qxt",
        "outputId": "1f13d84e-50a9-4dc8-f8c1-1d7d34989ce7"
      },
      "execution_count": null,
      "outputs": [
        {
          "output_type": "stream",
          "name": "stdout",
          "text": [
            "2\n"
          ]
        }
      ]
    },
    {
      "cell_type": "code",
      "source": [
        "print(b)"
      ],
      "metadata": {
        "colab": {
          "base_uri": "https://localhost:8080/"
        },
        "id": "NzXonfKw8UZd",
        "outputId": "660b127a-8ea3-466d-f58c-77f3c840a48e"
      },
      "execution_count": null,
      "outputs": [
        {
          "output_type": "stream",
          "name": "stdout",
          "text": [
            "None\n"
          ]
        }
      ]
    },
    {
      "cell_type": "code",
      "source": [
        "# Return vs print in Function : Custom Function"
      ],
      "metadata": {
        "id": "HC06fCGd8Mdp"
      },
      "execution_count": null,
      "outputs": []
    },
    {
      "cell_type": "code",
      "source": [
        "# abs : It gives you the absolute value of any numeric/maginitude irrespective of the sign (positive or negative)\n",
        "_x = 4.5\n",
        "abs(_x) # 4.5\n",
        "_y = - 5.6\n",
        "print(abs(_y)) # Mod : Mathematics : |-4| = 4 , |4| = 4 # -(-5.6)\n",
        "# Always output is positive"
      ],
      "metadata": {
        "colab": {
          "base_uri": "https://localhost:8080/"
        },
        "id": "pTU4Y6z5jO8P",
        "outputId": "5a0f27bd-fe37-499e-8cd6-1b7bf04a2087"
      },
      "execution_count": null,
      "outputs": [
        {
          "output_type": "stream",
          "name": "stdout",
          "text": [
            "5.6\n"
          ]
        }
      ]
    },
    {
      "cell_type": "code",
      "source": [
        "#sorted : Sort the values in ascending or descending order | Numeric value\n",
        "_list = [56,32,67,89,30,20] # Randomly displayed\n",
        "print(sorted(_list)) # By default it will sort in ascending order\n",
        "print(sorted(_list, reverse = True)) # Descending order"
      ],
      "metadata": {
        "colab": {
          "base_uri": "https://localhost:8080/"
        },
        "id": "6NJqoG4GoWPv",
        "outputId": "7e246dc1-d4da-4b9b-c7b6-9571bc8b85b1"
      },
      "execution_count": null,
      "outputs": [
        {
          "output_type": "stream",
          "name": "stdout",
          "text": [
            "[20, 30, 32, 56, 67, 89]\n",
            "[89, 67, 56, 32, 30, 20]\n"
          ]
        }
      ]
    },
    {
      "cell_type": "code",
      "source": [],
      "metadata": {
        "id": "jKFtxaNPp0kZ"
      },
      "execution_count": null,
      "outputs": []
    },
    {
      "cell_type": "markdown",
      "source": [
        "#### Iterator Functions"
      ],
      "metadata": {
        "id": "bsfIl3jIlyTW"
      }
    },
    {
      "cell_type": "code",
      "source": [
        "# range(), enumerate() , zip(): For / while loop"
      ],
      "metadata": {
        "id": "D1c5LEoTlz9u"
      },
      "execution_count": null,
      "outputs": []
    },
    {
      "cell_type": "code",
      "source": [
        "# range()--> used to generate series of numbers from i to j with stepsize k\n",
        "print(list(range(3, 7))) # Range format\n",
        "print(tuple(range(3, 7)))\n",
        "# j will be excluded | till one value prior it will give you the output\n",
        "# It works similar to slicing | it does not do slicing , but concept of i, J & K is followed same"
      ],
      "metadata": {
        "colab": {
          "base_uri": "https://localhost:8080/"
        },
        "id": "cuEBxDmCsmhZ",
        "outputId": "721ab23c-2f4e-4b89-d2a5-ebd44f21a46a"
      },
      "execution_count": null,
      "outputs": [
        {
          "output_type": "stream",
          "name": "stdout",
          "text": [
            "[3, 4, 5, 6]\n",
            "(3, 4, 5, 6)\n"
          ]
        }
      ]
    },
    {
      "cell_type": "code",
      "source": [
        "# [4,5,6,7,8]\n",
        "list(range(4,9)) # Why? Because is 9 is excluded"
      ],
      "metadata": {
        "colab": {
          "base_uri": "https://localhost:8080/"
        },
        "id": "m6xZPyM6tIoa",
        "outputId": "e4bb9fe2-6258-4436-eb5c-6453cc37de91"
      },
      "execution_count": null,
      "outputs": [
        {
          "output_type": "execute_result",
          "data": {
            "text/plain": [
              "[4, 5, 6, 7, 8]"
            ]
          },
          "metadata": {},
          "execution_count": 30
        }
      ]
    },
    {
      "cell_type": "code",
      "source": [
        "list(range(1,10,2)) # i : Start point , j : end point & K is the stepsize"
      ],
      "metadata": {
        "colab": {
          "base_uri": "https://localhost:8080/"
        },
        "id": "PRiLWS72taZV",
        "outputId": "7da7c9ff-a49f-4e42-868b-5667ad3b6b19"
      },
      "execution_count": null,
      "outputs": [
        {
          "output_type": "execute_result",
          "data": {
            "text/plain": [
              "[1, 3, 5, 7, 9]"
            ]
          },
          "metadata": {},
          "execution_count": 31
        }
      ]
    },
    {
      "cell_type": "code",
      "source": [
        "list(range(2,100,2)) #100 is excluded | K is stepsize"
      ],
      "metadata": {
        "id": "ymRPKNtStnPu"
      },
      "execution_count": null,
      "outputs": []
    },
    {
      "cell_type": "code",
      "source": [
        "list(range(10,3, -1)) # Reverse direction as k is negative"
      ],
      "metadata": {
        "colab": {
          "base_uri": "https://localhost:8080/"
        },
        "id": "GxudueLwtulQ",
        "outputId": "c78c511b-1694-4e34-ed54-b2b0a108835c"
      },
      "execution_count": null,
      "outputs": [
        {
          "output_type": "execute_result",
          "data": {
            "text/plain": [
              "[10, 9, 8, 7, 6, 5, 4]"
            ]
          },
          "metadata": {},
          "execution_count": 33
        }
      ]
    },
    {
      "cell_type": "code",
      "source": [
        "list(range(1000,300, -1)) # from 1000, 300 all values : 300 is excluded"
      ],
      "metadata": {
        "id": "LSawEE8muqVa"
      },
      "execution_count": null,
      "outputs": []
    },
    {
      "cell_type": "code",
      "source": [
        "list(range(-3,-100, -1)) #"
      ],
      "metadata": {
        "id": "Y8SmFLIivmt4"
      },
      "execution_count": null,
      "outputs": []
    },
    {
      "cell_type": "code",
      "source": [
        "list(range(-3,100, 1))"
      ],
      "metadata": {
        "id": "P8S8Beriv9vC"
      },
      "execution_count": null,
      "outputs": []
    },
    {
      "cell_type": "code",
      "source": [
        "# enumerate() --> Splits the value of a collection of elements in list with index & value\n",
        "# enumerate([Value]) --> Output = [(index, value)]\n",
        "_list = ['a', 34,10, 'b', True]\n",
        "list(enumerate(_list))"
      ],
      "metadata": {
        "colab": {
          "base_uri": "https://localhost:8080/"
        },
        "id": "vUgkGqfOvVIL",
        "outputId": "4048f2a5-c314-40a0-be3f-e2577db3ab18"
      },
      "execution_count": null,
      "outputs": [
        {
          "output_type": "execute_result",
          "data": {
            "text/plain": [
              "[(0, 'a'), (1, 34), (2, 10), (3, 'b'), (4, True)]"
            ]
          },
          "metadata": {},
          "execution_count": 40
        }
      ]
    },
    {
      "cell_type": "code",
      "source": [
        "tuple(enumerate(_list))"
      ],
      "metadata": {
        "colab": {
          "base_uri": "https://localhost:8080/"
        },
        "id": "wC75KiUuwm9i",
        "outputId": "b64d09d8-978d-4ce7-bba1-81b0999ca266"
      },
      "execution_count": null,
      "outputs": [
        {
          "output_type": "execute_result",
          "data": {
            "text/plain": [
              "((0, 'a'), (1, 34), (2, 10), (3, 'b'), (4, True))"
            ]
          },
          "metadata": {},
          "execution_count": 41
        }
      ]
    },
    {
      "cell_type": "code",
      "source": [
        "dict(enumerate(_list)) # Index as the key"
      ],
      "metadata": {
        "colab": {
          "base_uri": "https://localhost:8080/"
        },
        "id": "J0BGBsATwz7N",
        "outputId": "06729e3e-936d-4ab7-a740-c03e8ba9d675"
      },
      "execution_count": null,
      "outputs": [
        {
          "output_type": "execute_result",
          "data": {
            "text/plain": [
              "{0: 'a', 1: 34, 2: 10, 3: 'b', 4: True}"
            ]
          },
          "metadata": {},
          "execution_count": 42
        }
      ]
    },
    {
      "cell_type": "code",
      "source": [
        "_dict = {3:4, 5:6}\n",
        "list(enumerate(_dict)) # By Default Keys"
      ],
      "metadata": {
        "colab": {
          "base_uri": "https://localhost:8080/"
        },
        "id": "kKOS9detyb6J",
        "outputId": "3ea50e33-1457-4f2e-9bdb-5743b726cf2c"
      },
      "execution_count": null,
      "outputs": [
        {
          "output_type": "execute_result",
          "data": {
            "text/plain": [
              "[(0, 3), (1, 5)]"
            ]
          },
          "metadata": {},
          "execution_count": 50
        }
      ]
    },
    {
      "cell_type": "code",
      "source": [
        "list(enumerate(_dict.values()))"
      ],
      "metadata": {
        "colab": {
          "base_uri": "https://localhost:8080/"
        },
        "id": "WdVTR56yypGQ",
        "outputId": "4b53af59-de67-4e10-875c-8ea220a3dcf7"
      },
      "execution_count": null,
      "outputs": [
        {
          "output_type": "execute_result",
          "data": {
            "text/plain": [
              "[(0, 4), (1, 6)]"
            ]
          },
          "metadata": {},
          "execution_count": 51
        }
      ]
    },
    {
      "cell_type": "code",
      "source": [
        "_set = {'a', 5, 6, 'b'}\n",
        "_list_set = list(_set)\n",
        "print(_list_set)\n",
        "print(list(enumerate(_set)))\n",
        "print(list(enumerate(_list_set)))"
      ],
      "metadata": {
        "colab": {
          "base_uri": "https://localhost:8080/"
        },
        "id": "9VFgqLbSyvoh",
        "outputId": "19b1cbc2-64e0-40ec-f5b4-5bd1dd2aae58"
      },
      "execution_count": null,
      "outputs": [
        {
          "output_type": "stream",
          "name": "stdout",
          "text": [
            "['a', 'b', 5, 6]\n",
            "[(0, 'a'), (1, 'b'), (2, 5), (3, 6)]\n",
            "[(0, 'a'), (1, 'b'), (2, 5), (3, 6)]\n"
          ]
        }
      ]
    },
    {
      "cell_type": "code",
      "source": [
        "# Enumerate : list, string or tuple , because only with these , index makes sense\n",
        "# For dict & Set : Index doesn't make sense. | Unordered"
      ],
      "metadata": {
        "id": "YFgxbk9tysYJ"
      },
      "execution_count": null,
      "outputs": []
    },
    {
      "cell_type": "code",
      "source": [
        "set(enumerate({3:4, 5:6}))"
      ],
      "metadata": {
        "colab": {
          "base_uri": "https://localhost:8080/"
        },
        "id": "ybshuNOpyjlj",
        "outputId": "136d3cd2-40a3-40b2-f7d0-ba3e2c5d0e8d"
      },
      "execution_count": null,
      "outputs": [
        {
          "output_type": "execute_result",
          "data": {
            "text/plain": [
              "{(0, 3), (1, 5)}"
            ]
          },
          "metadata": {},
          "execution_count": 49
        }
      ]
    },
    {
      "cell_type": "code",
      "source": [
        "# zip() --> Zips the data : Combine two values present on same index\n",
        "_list1 = [2,6,1,8]\n",
        "_list2 = [6,7,8,9]\n",
        "list(zip(_list1,_list2))"
      ],
      "metadata": {
        "colab": {
          "base_uri": "https://localhost:8080/"
        },
        "id": "4zbwkekyxkpW",
        "outputId": "cb17db01-20a0-45de-f51d-b363d6dd2fdc"
      },
      "execution_count": null,
      "outputs": [
        {
          "output_type": "execute_result",
          "data": {
            "text/plain": [
              "[(2, 6), (6, 7), (1, 8), (8, 9)]"
            ]
          },
          "metadata": {},
          "execution_count": 44
        }
      ]
    },
    {
      "cell_type": "code",
      "source": [
        "_list1 = [2,6,1,8]\n",
        "_list2 = [6,7,8,9]\n",
        "_list3 = ['a', 'b', 'c', 'd']\n",
        "list(zip(_list1,_list2, _list3))"
      ],
      "metadata": {
        "colab": {
          "base_uri": "https://localhost:8080/"
        },
        "id": "lA-6Ei1MyNyJ",
        "outputId": "2331f99c-2f74-4ebe-9d4b-3b654184f9de"
      },
      "execution_count": null,
      "outputs": [
        {
          "output_type": "execute_result",
          "data": {
            "text/plain": [
              "[(2, 6, 'a'), (6, 7, 'b'), (1, 8, 'c'), (8, 9, 'd')]"
            ]
          },
          "metadata": {},
          "execution_count": 46
        }
      ]
    },
    {
      "cell_type": "code",
      "source": [
        "_list1 = [2,6,1,8]\n",
        "_list2 = [6,7,8,9]\n",
        "_list3 = ['a', 'b', 'c'] # One list with less no of values\n",
        "list(zip(_list1,_list2, _list3)) # minimum no of common elements available"
      ],
      "metadata": {
        "colab": {
          "base_uri": "https://localhost:8080/"
        },
        "id": "xv081MQQyX6U",
        "outputId": "26290dc8-d5b2-48b3-d34a-0eefca093bb3"
      },
      "execution_count": null,
      "outputs": [
        {
          "output_type": "execute_result",
          "data": {
            "text/plain": [
              "[(2, 6, 'a'), (6, 7, 'b'), (1, 8, 'c')]"
            ]
          },
          "metadata": {},
          "execution_count": 55
        }
      ]
    },
    {
      "cell_type": "code",
      "source": [
        "_list1 = [2,6,1,8]\n",
        "_list2 = [6,7,8,9]\n",
        "_list3 = ['a'] # One list with less no of values\n",
        "list(zip(_list1,_list2, _list3)) # minimum no of common elements available"
      ],
      "metadata": {
        "colab": {
          "base_uri": "https://localhost:8080/"
        },
        "id": "zSqIoz3Uz7SQ",
        "outputId": "bf72bf02-d001-462a-9302-4818cb1a6caf"
      },
      "execution_count": null,
      "outputs": [
        {
          "output_type": "execute_result",
          "data": {
            "text/plain": [
              "[(2, 6, 'a')]"
            ]
          },
          "metadata": {},
          "execution_count": 56
        }
      ]
    },
    {
      "cell_type": "code",
      "source": [
        "_list = ['a', 34, 3, 'n', 43, 'True']\n",
        "enumerated_list = list(enumerate(_list))\n",
        "print(enumerated_list)"
      ],
      "metadata": {
        "id": "LlQSVIse1RJf"
      },
      "execution_count": null,
      "outputs": []
    },
    {
      "cell_type": "code",
      "source": [],
      "metadata": {
        "id": "J4QCIK0g1k98"
      },
      "execution_count": null,
      "outputs": []
    },
    {
      "cell_type": "markdown",
      "source": [
        "#### del, dir, ord, bin, chr"
      ],
      "metadata": {
        "id": "cnoqRhW5l0bz"
      }
    },
    {
      "cell_type": "code",
      "source": [
        "_data = 'Science'"
      ],
      "metadata": {
        "id": "2hcT3wRh2GAi"
      },
      "execution_count": null,
      "outputs": []
    },
    {
      "cell_type": "code",
      "source": [
        "# dir, del , ord, bin, chr\n",
        "'_data' in dir() # List of all variables intitialised as string"
      ],
      "metadata": {
        "id": "MG4nZIA6l9Fl",
        "colab": {
          "base_uri": "https://localhost:8080/"
        },
        "outputId": "9ce2359d-f034-4d80-fbf1-dd22f76bc9b6"
      },
      "execution_count": null,
      "outputs": [
        {
          "output_type": "execute_result",
          "data": {
            "text/plain": [
              "True"
            ]
          },
          "metadata": {},
          "execution_count": 63
        }
      ]
    },
    {
      "cell_type": "code",
      "source": [
        "_xyz = 6"
      ],
      "metadata": {
        "id": "GeTwRRax2mnf"
      },
      "execution_count": null,
      "outputs": []
    },
    {
      "cell_type": "code",
      "source": [
        "dir() # List of names of all variables active in the python environment"
      ],
      "metadata": {
        "colab": {
          "base_uri": "https://localhost:8080/"
        },
        "id": "L1R7llJr2VmL",
        "outputId": "44301b77-72a5-44d2-a21a-063885956ab5"
      },
      "execution_count": null,
      "outputs": [
        {
          "output_type": "execute_result",
          "data": {
            "text/plain": [
              "['In',\n",
              " 'Out',\n",
              " '_',\n",
              " '_1',\n",
              " '_3',\n",
              " '_4',\n",
              " '__',\n",
              " '___',\n",
              " '__builtin__',\n",
              " '__builtins__',\n",
              " '__doc__',\n",
              " '__loader__',\n",
              " '__name__',\n",
              " '__package__',\n",
              " '__spec__',\n",
              " '_data',\n",
              " '_dh',\n",
              " '_i',\n",
              " '_i1',\n",
              " '_i2',\n",
              " '_i3',\n",
              " '_i4',\n",
              " '_i5',\n",
              " '_i6',\n",
              " '_ih',\n",
              " '_ii',\n",
              " '_iii',\n",
              " '_oh',\n",
              " '_xyz',\n",
              " 'exit',\n",
              " 'get_ipython',\n",
              " 'quit']"
            ]
          },
          "metadata": {},
          "execution_count": 6
        }
      ]
    },
    {
      "cell_type": "code",
      "source": [
        "['_xyz'] # variable name in a list"
      ],
      "metadata": {
        "id": "oVqKK42y3Kvw"
      },
      "execution_count": null,
      "outputs": []
    },
    {
      "cell_type": "code",
      "source": [
        "[_xyz] # Variable will represent the value"
      ],
      "metadata": {
        "colab": {
          "base_uri": "https://localhost:8080/"
        },
        "id": "tUmmTfG63QXK",
        "outputId": "6b3b840a-beb6-4497-97aa-63823eef98c8"
      },
      "execution_count": null,
      "outputs": [
        {
          "output_type": "execute_result",
          "data": {
            "text/plain": [
              "[6]"
            ]
          },
          "metadata": {},
          "execution_count": 4
        }
      ]
    },
    {
      "cell_type": "code",
      "source": [
        "# del  --> It deletes the variable\n",
        "del _xyz # Delete _xyz variable\n",
        "# It helps you remove all the irrelevant variable to optimise space."
      ],
      "metadata": {
        "id": "f6LurVnB3iHG"
      },
      "execution_count": null,
      "outputs": []
    },
    {
      "cell_type": "code",
      "source": [
        "dir()"
      ],
      "metadata": {
        "colab": {
          "base_uri": "https://localhost:8080/"
        },
        "id": "M6Zr455h35xL",
        "outputId": "ff12f35a-e96b-47fe-bcd2-c44eda5747f1"
      },
      "execution_count": null,
      "outputs": [
        {
          "output_type": "execute_result",
          "data": {
            "text/plain": [
              "['In',\n",
              " 'Out',\n",
              " '_',\n",
              " '_1',\n",
              " '_3',\n",
              " '_4',\n",
              " '_6',\n",
              " '__',\n",
              " '___',\n",
              " '__builtin__',\n",
              " '__builtins__',\n",
              " '__doc__',\n",
              " '__loader__',\n",
              " '__name__',\n",
              " '__package__',\n",
              " '__spec__',\n",
              " '_data',\n",
              " '_dh',\n",
              " '_i',\n",
              " '_i1',\n",
              " '_i2',\n",
              " '_i3',\n",
              " '_i4',\n",
              " '_i5',\n",
              " '_i6',\n",
              " '_i7',\n",
              " '_i8',\n",
              " '_ih',\n",
              " '_ii',\n",
              " '_iii',\n",
              " '_oh',\n",
              " 'exit',\n",
              " 'get_ipython',\n",
              " 'quit']"
            ]
          },
          "metadata": {},
          "execution_count": 8
        }
      ]
    },
    {
      "cell_type": "code",
      "source": [
        "# ord, bin, chr\n",
        "# Unicode & Binary"
      ],
      "metadata": {
        "id": "QBnt-Khy4Nbh"
      },
      "execution_count": null,
      "outputs": []
    },
    {
      "cell_type": "code",
      "source": [
        "# ord --> Unicode of any single character\n",
        "print(ord('a')) # Unicode of 'a'\n",
        "print(ord('A')) # Unicode of 'A'"
      ],
      "metadata": {
        "colab": {
          "base_uri": "https://localhost:8080/"
        },
        "id": "AbHhBdNt4XqM",
        "outputId": "1730520a-69f8-446a-f4bb-567e7e735792"
      },
      "execution_count": null,
      "outputs": [
        {
          "output_type": "stream",
          "name": "stdout",
          "text": [
            "97\n",
            "65\n"
          ]
        }
      ]
    },
    {
      "cell_type": "code",
      "source": [
        "print(ord('a')) # Unicode of 'a'\n",
        "print(ord('l')) # Unicode of 'l'\n",
        "print(ord('o')) # Unicode of 'o'\n",
        "print(ord('k')) # Unicode of 'k'\n",
        "print(ord('😄')) # Unicode of emoji"
      ],
      "metadata": {
        "colab": {
          "base_uri": "https://localhost:8080/"
        },
        "id": "D5Ws3gsH5Eux",
        "outputId": "88a3ad74-1501-424e-c949-ed0091af7329"
      },
      "execution_count": null,
      "outputs": [
        {
          "output_type": "stream",
          "name": "stdout",
          "text": [
            "97\n",
            "108\n",
            "111\n",
            "107\n",
            "128516\n"
          ]
        }
      ]
    },
    {
      "cell_type": "code",
      "source": [
        "# Chr: It gives you the character assigned to unicode\n",
        "print(chr(97))\n",
        "print(chr(128516))"
      ],
      "metadata": {
        "colab": {
          "base_uri": "https://localhost:8080/"
        },
        "id": "IPiHbxwQ5YTG",
        "outputId": "fdd3a890-9c93-4978-d9ad-d7c3c7d4ee18"
      },
      "execution_count": null,
      "outputs": [
        {
          "output_type": "stream",
          "name": "stdout",
          "text": [
            "a\n",
            "😄\n"
          ]
        }
      ]
    },
    {
      "cell_type": "code",
      "source": [
        "emotion = chr(128516)\n",
        "print(f'I am feeling {emotion}') # Using Unicode,  Emoji can be added\n",
        "# f string to include variable in print statement"
      ],
      "metadata": {
        "colab": {
          "base_uri": "https://localhost:8080/"
        },
        "id": "UjeyKDUQ51YB",
        "outputId": "f9d9ee04-6e7b-4314-c3c8-eaf3a13c31e2"
      },
      "execution_count": null,
      "outputs": [
        {
          "output_type": "stream",
          "name": "stdout",
          "text": [
            "I am feeling 😄\n"
          ]
        }
      ]
    },
    {
      "cell_type": "code",
      "source": [
        "print('I am feeling', emotion)"
      ],
      "metadata": {
        "colab": {
          "base_uri": "https://localhost:8080/"
        },
        "id": "retmnXWb6aS0",
        "outputId": "7cf51ef8-cfb9-4fbf-e43a-1ceb55d33714"
      },
      "execution_count": null,
      "outputs": [
        {
          "output_type": "stream",
          "name": "stdout",
          "text": [
            "I am feeling 😄\n"
          ]
        }
      ]
    },
    {
      "cell_type": "code",
      "source": [
        "# bin() : It converts the number to binary format"
      ],
      "metadata": {
        "id": "_t-9pdtV6DDk"
      },
      "execution_count": null,
      "outputs": []
    },
    {
      "cell_type": "code",
      "source": [
        "print(ord('a')) # Unicode of 'a'\n",
        "print(ord('l')) # Unicode of 'l'\n",
        "print(ord('o')) # Unicode of 'o'\n",
        "print(ord('k')) # Unicode of 'k'\n",
        "print(ord('😄')) # Unicode of emoji"
      ],
      "metadata": {
        "colab": {
          "base_uri": "https://localhost:8080/"
        },
        "id": "sK_3Cd8f6nBn",
        "outputId": "2e27856f-c536-4157-8431-821ce7d86541"
      },
      "execution_count": null,
      "outputs": [
        {
          "output_type": "stream",
          "name": "stdout",
          "text": [
            "97\n",
            "108\n",
            "111\n",
            "107\n",
            "128516\n"
          ]
        }
      ]
    },
    {
      "cell_type": "code",
      "source": [
        "print(bin(97))\n",
        "print(bin(108))\n",
        "print(bin(111))\n",
        "print(bin(107))"
      ],
      "metadata": {
        "colab": {
          "base_uri": "https://localhost:8080/"
        },
        "id": "k1Qtf0mJ6iZ_",
        "outputId": "08df36c9-d188-4fb8-f71a-720e48d1cff3"
      },
      "execution_count": null,
      "outputs": [
        {
          "output_type": "stream",
          "name": "stdout",
          "text": [
            "0b1100001\n",
            "0b1101100\n",
            "0b1101111\n",
            "0b1101011\n"
          ]
        }
      ]
    },
    {
      "cell_type": "code",
      "source": [
        "(2**6) + (2 ** 5) + (2**0)"
      ],
      "metadata": {
        "colab": {
          "base_uri": "https://localhost:8080/"
        },
        "id": "VIfS1diI75xL",
        "outputId": "55191cd7-750c-4585-aab4-0255786707b2"
      },
      "execution_count": null,
      "outputs": [
        {
          "output_type": "execute_result",
          "data": {
            "text/plain": [
              "97"
            ]
          },
          "metadata": {},
          "execution_count": 21
        }
      ]
    },
    {
      "cell_type": "code",
      "source": [
        "# From binary to int :function\n",
        "int('1100001',2) # Binary to int"
      ],
      "metadata": {
        "colab": {
          "base_uri": "https://localhost:8080/"
        },
        "id": "9z00v-yH8sXd",
        "outputId": "f89df43b-bc02-4729-f40d-bf5253b6b20f"
      },
      "execution_count": null,
      "outputs": [
        {
          "output_type": "execute_result",
          "data": {
            "text/plain": [
              "97"
            ]
          },
          "metadata": {},
          "execution_count": 24
        }
      ]
    },
    {
      "cell_type": "markdown",
      "source": [
        "### In built Methods"
      ],
      "metadata": {
        "id": "dDVGAaoPjDoK"
      }
    },
    {
      "cell_type": "markdown",
      "source": [
        "#### String\n"
      ],
      "metadata": {
        "id": "4iyffxs-B6MO"
      }
    },
    {
      "cell_type": "code",
      "source": [
        "# .count() --> Returns the number of times a specified value occurs in a string\n",
        "_string = 'Data Science'\n",
        "# Count the number of 'a' in the string\n",
        "print(_string.count('a')) # 2 : no.of times 'a' is present in the string\n",
        "# substring : .count will check the exact sequence of characters\n",
        "print(_string.count('ac')) # 0 : 'ac' together it's not present\n",
        "print(_string.count('at')) # 1 : 'at' is present together 1 time.\n",
        "# How many times 'a' and 'c' is present in the string?\n",
        "print(_string.count('a') + _string.count('c'))\n",
        "# Python is case sensitive Capital & Small are considered different values\n",
        "_string = 'DatA Science'\n",
        "print(_string.count('a'))  # Only small 'a' is counted"
      ],
      "metadata": {
        "id": "XqQMusdKjF38",
        "colab": {
          "base_uri": "https://localhost:8080/"
        },
        "outputId": "f61b1318-e2f7-4162-c249-0ab38693de28"
      },
      "execution_count": null,
      "outputs": [
        {
          "output_type": "stream",
          "name": "stdout",
          "text": [
            "2\n",
            "0\n",
            "1\n",
            "4\n",
            "1\n"
          ]
        }
      ]
    },
    {
      "cell_type": "code",
      "source": [
        "_string = 'Data Science'\n",
        "# 'a' & 'c' --> 4 | Individual element | Not together\n",
        "_string.count('a')  + _string.count('c')\n"
      ],
      "metadata": {
        "colab": {
          "base_uri": "https://localhost:8080/"
        },
        "id": "3R9g3uL0FhFv",
        "outputId": "a2cbe885-b5eb-4bb5-cab5-2c6024eb328c"
      },
      "execution_count": null,
      "outputs": [
        {
          "output_type": "execute_result",
          "data": {
            "text/plain": [
              "4"
            ]
          },
          "metadata": {},
          "execution_count": 42
        }
      ]
    },
    {
      "cell_type": "code",
      "source": [
        "# index() : Searches the string for a specified value and returns the position of where it was found.\n",
        "_string = 'Data Science'\n",
        "print(_string.index('S')) # Index where S is present | Positive Index\n",
        "# Note : In case of repeated values, index of first occurance\n",
        "print(_string.index('a')) # Index where a is present | Positive Index\n",
        "# To get all index of repeated values, we use for loop\n",
        "# Note : Index of the start of the pattern/ Substring\n",
        "print(_string.index('Sc')) # 5 : Starting index of the substring\n",
        "print(_string.index('Science')) # 5 : Starting index of the substring"
      ],
      "metadata": {
        "colab": {
          "base_uri": "https://localhost:8080/"
        },
        "id": "kwbsTugBCzaw",
        "outputId": "0f20ef4c-c37c-4173-e5a8-e3232d549009"
      },
      "execution_count": null,
      "outputs": [
        {
          "output_type": "stream",
          "name": "stdout",
          "text": [
            "5\n",
            "1\n",
            "5\n",
            "5\n"
          ]
        }
      ]
    },
    {
      "cell_type": "code",
      "source": [
        "# replace() : Returns a string where a specified value is replaced with a specified value.\n",
        "_string = 'Data Science'\n",
        "# Replace : 'Data' --> 'DATA\n",
        "print(_string.replace('Data', 'DATA'))# ('old','new')\n",
        "# String is immutable : How come we are able to change it?\n",
        "print(_string) # Actually your value has not changes , .replace will only display it not change the original value"
      ],
      "metadata": {
        "colab": {
          "base_uri": "https://localhost:8080/"
        },
        "id": "vun_2G2SE0En",
        "outputId": "a2faa09d-0f0f-48d6-c480-d372fdcd1bd7"
      },
      "execution_count": null,
      "outputs": [
        {
          "output_type": "stream",
          "name": "stdout",
          "text": [
            "DATA Science\n",
            "Data Science\n"
          ]
        }
      ]
    },
    {
      "cell_type": "code",
      "source": [
        "_string = _string.replace('Data', 'DATA') # Reassigning the value\n",
        "print(_string)"
      ],
      "metadata": {
        "colab": {
          "base_uri": "https://localhost:8080/"
        },
        "id": "F0UCKlQbe6th",
        "outputId": "6c1d64f9-63cb-4595-b2e1-f1d15d69f542"
      },
      "execution_count": null,
      "outputs": [
        {
          "output_type": "stream",
          "name": "stdout",
          "text": [
            "DATA Science\n"
          ]
        }
      ]
    },
    {
      "cell_type": "code",
      "source": [
        "_string = 'Data Science'\n",
        "_string.replace('Data', 'Science') # ('old', 'new')"
      ],
      "metadata": {
        "colab": {
          "base_uri": "https://localhost:8080/",
          "height": 35
        },
        "id": "U8vh7jKvgDHb",
        "outputId": "cb46c5ff-3597-495f-8f30-8d12dcd7490f"
      },
      "execution_count": null,
      "outputs": [
        {
          "output_type": "execute_result",
          "data": {
            "text/plain": [
              "'Science Science'"
            ],
            "application/vnd.google.colaboratory.intrinsic+json": {
              "type": "string"
            }
          },
          "metadata": {},
          "execution_count": 49
        }
      ]
    },
    {
      "cell_type": "code",
      "source": [
        "_string.replace('a', '&') # Data Cleaning"
      ],
      "metadata": {
        "colab": {
          "base_uri": "https://localhost:8080/",
          "height": 35
        },
        "id": "2lGRvxQnHpat",
        "outputId": "9ee43545-5fde-4c74-f346-df34c2a10621"
      },
      "execution_count": null,
      "outputs": [
        {
          "output_type": "execute_result",
          "data": {
            "text/plain": [
              "'D&t& Science'"
            ],
            "application/vnd.google.colaboratory.intrinsic+json": {
              "type": "string"
            }
          },
          "metadata": {},
          "execution_count": 51
        }
      ]
    },
    {
      "cell_type": "code",
      "source": [
        "# Lower(), Upper(), title()\n",
        "_x = 'Data science'\n",
        "print(_x.lower()) # alphabets converted to small case | Small letter\n",
        "print(_x.upper()) # alphabets converted to upper case | Capital letter\n",
        "print(_x.title()) # changes the first character of all words in a sentence to capital"
      ],
      "metadata": {
        "colab": {
          "base_uri": "https://localhost:8080/"
        },
        "id": "jg4vEnM7HNi4",
        "outputId": "d2ac39be-5993-4148-a8a0-f9677a05a4df"
      },
      "execution_count": null,
      "outputs": [
        {
          "output_type": "stream",
          "name": "stdout",
          "text": [
            "data science\n",
            "DATA SCIENCE\n",
            "Data Science\n"
          ]
        }
      ]
    },
    {
      "cell_type": "code",
      "source": [
        "_name = 'ravi sharma'\n",
        "print(_name.title())"
      ],
      "metadata": {
        "colab": {
          "base_uri": "https://localhost:8080/"
        },
        "id": "_HDe2rCxIFVb",
        "outputId": "97e427fb-8d71-48bc-843e-a1b52ef3d044"
      },
      "execution_count": null,
      "outputs": [
        {
          "output_type": "stream",
          "name": "stdout",
          "text": [
            "Ravi Sharma\n"
          ]
        }
      ]
    },
    {
      "cell_type": "code",
      "source": [
        "_sentence = 'i am learning data science'\n",
        "_sentence.title()"
      ],
      "metadata": {
        "colab": {
          "base_uri": "https://localhost:8080/",
          "height": 35
        },
        "id": "6E1ybHpcIkuN",
        "outputId": "17e922df-8e84-45f3-be3a-255a2b6aca43"
      },
      "execution_count": null,
      "outputs": [
        {
          "output_type": "execute_result",
          "data": {
            "text/plain": [
              "'I Am Learning Data Science'"
            ],
            "application/vnd.google.colaboratory.intrinsic+json": {
              "type": "string"
            }
          },
          "metadata": {},
          "execution_count": 54
        }
      ]
    },
    {
      "cell_type": "code",
      "source": [
        "# strip(), split(), join() --> V. Important Methods\n",
        "# Natural Language Processing\n",
        "# strip() --> Method which strips the leading & trailing whitespaces\n",
        "_string = '       Data Science  ' # Common Problem in the real world data\n",
        "_string.strip() # Data Cleaning :"
      ],
      "metadata": {
        "colab": {
          "base_uri": "https://localhost:8080/",
          "height": 35
        },
        "id": "qCYJ20l8Ibd9",
        "outputId": "10289d57-061a-42a1-b642-a20f6f0697ba"
      },
      "execution_count": null,
      "outputs": [
        {
          "output_type": "execute_result",
          "data": {
            "text/plain": [
              "'Data Science'"
            ],
            "application/vnd.google.colaboratory.intrinsic+json": {
              "type": "string"
            }
          },
          "metadata": {},
          "execution_count": 63
        }
      ]
    },
    {
      "cell_type": "code",
      "source": [
        "_string = _string.strip()\n",
        "len(_string)"
      ],
      "metadata": {
        "colab": {
          "base_uri": "https://localhost:8080/"
        },
        "id": "Ff5DN0CsJV6T",
        "outputId": "a206e6e2-23b3-4cb5-eae3-47cca255197f"
      },
      "execution_count": null,
      "outputs": [
        {
          "output_type": "execute_result",
          "data": {
            "text/plain": [
              "12"
            ]
          },
          "metadata": {},
          "execution_count": 58
        }
      ]
    },
    {
      "cell_type": "code",
      "source": [
        "# split() : Splits the string based on some criteria and returns list\n",
        "_String = 'Data Science'\n",
        "_String.split(' ') # Split on space"
      ],
      "metadata": {
        "colab": {
          "base_uri": "https://localhost:8080/"
        },
        "id": "luBkOe25JNls",
        "outputId": "109b2852-3de0-401a-8db1-2121c36efb62"
      },
      "execution_count": null,
      "outputs": [
        {
          "output_type": "execute_result",
          "data": {
            "text/plain": [
              "['Data', 'Science']"
            ]
          },
          "metadata": {},
          "execution_count": 61
        }
      ]
    },
    {
      "cell_type": "code",
      "source": [
        "_string = 'I.am.learning.data science'\n",
        "# Separate words\n",
        "_string.split('.')"
      ],
      "metadata": {
        "colab": {
          "base_uri": "https://localhost:8080/"
        },
        "id": "7FkvQvWoKOsE",
        "outputId": "4b87f7b8-eb24-493b-be1b-f59f3d4e95e2"
      },
      "execution_count": null,
      "outputs": [
        {
          "output_type": "execute_result",
          "data": {
            "text/plain": [
              "['I', 'am', 'learning', 'data science']"
            ]
          },
          "metadata": {},
          "execution_count": 64
        }
      ]
    },
    {
      "cell_type": "code",
      "source": [
        "_date = '2024/04/01'\n",
        "_date.split('/') # it will split year, month & date"
      ],
      "metadata": {
        "colab": {
          "base_uri": "https://localhost:8080/"
        },
        "id": "yAYGRjKKKpqP",
        "outputId": "8f2b0dea-b957-4bf8-ead1-54012ca03b53"
      },
      "execution_count": null,
      "outputs": [
        {
          "output_type": "execute_result",
          "data": {
            "text/plain": [
              "['2024', '04', '01']"
            ]
          },
          "metadata": {},
          "execution_count": 65
        }
      ]
    },
    {
      "cell_type": "code",
      "source": [
        "# How many words are there in a sentence?\n",
        "_Sentence = 'I am Learning at AlmaBetter'\n",
        "# How many words are there/\n",
        "# Solution 1\n",
        "_Sentence.count(' ') + 1 # Count of space + 1\n",
        "# Solution 2\n",
        "_sentence_word =  _Sentence.split(' ')\n",
        "print(len(_sentence_word)) #"
      ],
      "metadata": {
        "colab": {
          "base_uri": "https://localhost:8080/"
        },
        "id": "oZLc7bEwK28u",
        "outputId": "501c4c1b-ad3c-4716-bb35-c5c5b7f91ba9"
      },
      "execution_count": null,
      "outputs": [
        {
          "output_type": "stream",
          "name": "stdout",
          "text": [
            "5\n"
          ]
        }
      ]
    },
    {
      "cell_type": "code",
      "source": [
        "_Sentence.split(' ')"
      ],
      "metadata": {
        "colab": {
          "base_uri": "https://localhost:8080/"
        },
        "id": "VqNf6w9NLeU0",
        "outputId": "fdb62aa4-af8f-4f61-a978-3f8556867d60"
      },
      "execution_count": null,
      "outputs": [
        {
          "output_type": "execute_result",
          "data": {
            "text/plain": [
              "['I', 'am', 'Learning', 'at', 'AlmaBetter']"
            ]
          },
          "metadata": {},
          "execution_count": 68
        }
      ]
    },
    {
      "cell_type": "code",
      "source": [
        "# Join : Opposite of split() , converts the list of elements into string based on some joining criteria\n",
        "\n",
        "_date = ['2024', '04', '01']\n",
        "# How can I get this '2024/04/01'?\n",
        "# Join :\n",
        "# Exception : Expression of join :: 'criteriatojoin'.join(list)\n",
        "'/'.join(_date) # 'criteria'.join(list of elements)\n"
      ],
      "metadata": {
        "colab": {
          "base_uri": "https://localhost:8080/",
          "height": 35
        },
        "id": "j1PUQDX4LOJx",
        "outputId": "88cc96ca-d9d9-4bad-8590-13dc6415a6a1"
      },
      "execution_count": null,
      "outputs": [
        {
          "output_type": "execute_result",
          "data": {
            "text/plain": [
              "'2024/04/01'"
            ],
            "application/vnd.google.colaboratory.intrinsic+json": {
              "type": "string"
            }
          },
          "metadata": {},
          "execution_count": 69
        }
      ]
    },
    {
      "cell_type": "code",
      "source": [
        "_list = ['I', 'am', 'Learning', 'at', 'AlmaBetter']\n",
        "# Get the Sentence out of it.\n",
        "' '.join(_list)"
      ],
      "metadata": {
        "colab": {
          "base_uri": "https://localhost:8080/",
          "height": 35
        },
        "id": "BRpYPUi1Mcax",
        "outputId": "21aadfdc-a412-4ab7-f602-abf2ec0bb304"
      },
      "execution_count": null,
      "outputs": [
        {
          "output_type": "execute_result",
          "data": {
            "text/plain": [
              "'I am Learning at AlmaBetter'"
            ],
            "application/vnd.google.colaboratory.intrinsic+json": {
              "type": "string"
            }
          },
          "metadata": {},
          "execution_count": 70
        }
      ]
    },
    {
      "cell_type": "code",
      "source": [
        "# last concept to close the session.\n",
        "# Can multiple methods be used together?\n",
        "_string = '    Data Science'\n",
        "# First remove the redundant spaces, convert it to lower case and split the string on space\n",
        "_string.strip().lower().split(' ')\n",
        "# Python will execute left to right"
      ],
      "metadata": {
        "colab": {
          "base_uri": "https://localhost:8080/"
        },
        "id": "4ySvd-ohMygz",
        "outputId": "f7edba54-7788-4c26-cf15-c97dab5a09d0"
      },
      "execution_count": null,
      "outputs": [
        {
          "output_type": "execute_result",
          "data": {
            "text/plain": [
              "['data', 'science']"
            ]
          },
          "metadata": {},
          "execution_count": 73
        }
      ]
    },
    {
      "cell_type": "code",
      "source": [
        "dir()"
      ],
      "metadata": {
        "id": "ikr7vNqKNFvv",
        "colab": {
          "base_uri": "https://localhost:8080/"
        },
        "outputId": "77d94297-b415-4950-b623-0be376532077"
      },
      "execution_count": null,
      "outputs": [
        {
          "output_type": "execute_result",
          "data": {
            "text/plain": [
              "['In',\n",
              " 'Out',\n",
              " '_',\n",
              " '__',\n",
              " '___',\n",
              " '__builtin__',\n",
              " '__builtins__',\n",
              " '__doc__',\n",
              " '__loader__',\n",
              " '__name__',\n",
              " '__package__',\n",
              " '__spec__',\n",
              " '_dh',\n",
              " '_i',\n",
              " '_i1',\n",
              " '_i2',\n",
              " '_i3',\n",
              " '_i4',\n",
              " '_i5',\n",
              " '_ih',\n",
              " '_ii',\n",
              " '_iii',\n",
              " '_oh',\n",
              " 'ex1',\n",
              " 'ex2',\n",
              " 'exit',\n",
              " 'get_ipython',\n",
              " 'quit']"
            ]
          },
          "metadata": {},
          "execution_count": 5
        }
      ]
    },
    {
      "cell_type": "code",
      "source": [
        "_x = 5"
      ],
      "metadata": {
        "id": "EcvXMdex3-1H"
      },
      "execution_count": null,
      "outputs": []
    },
    {
      "cell_type": "code",
      "source": [
        "dir()"
      ],
      "metadata": {
        "colab": {
          "base_uri": "https://localhost:8080/"
        },
        "id": "0hBYroFT4LJf",
        "outputId": "594f99ce-5e93-4184-ec3e-fb0cd86e782a"
      },
      "execution_count": null,
      "outputs": [
        {
          "output_type": "execute_result",
          "data": {
            "text/plain": [
              "['In',\n",
              " 'Out',\n",
              " '_',\n",
              " '_5',\n",
              " '__',\n",
              " '___',\n",
              " '__builtin__',\n",
              " '__builtins__',\n",
              " '__doc__',\n",
              " '__loader__',\n",
              " '__name__',\n",
              " '__package__',\n",
              " '__spec__',\n",
              " '_dh',\n",
              " '_i',\n",
              " '_i1',\n",
              " '_i2',\n",
              " '_i3',\n",
              " '_i4',\n",
              " '_i5',\n",
              " '_i6',\n",
              " '_i7',\n",
              " '_ih',\n",
              " '_ii',\n",
              " '_iii',\n",
              " '_oh',\n",
              " '_x',\n",
              " 'ex1',\n",
              " 'ex2',\n",
              " 'exit',\n",
              " 'get_ipython',\n",
              " 'quit']"
            ]
          },
          "metadata": {},
          "execution_count": 7
        }
      ]
    },
    {
      "cell_type": "code",
      "source": [
        "_x = 5"
      ],
      "metadata": {
        "id": "yhfK4wYS7r-C"
      },
      "execution_count": null,
      "outputs": []
    },
    {
      "cell_type": "code",
      "source": [
        "del(_x) # Delete the variable"
      ],
      "metadata": {
        "id": "J5xGDvo74KlK"
      },
      "execution_count": null,
      "outputs": []
    },
    {
      "cell_type": "code",
      "source": [
        "# isnumeric(), isupper() , islower(), isalnum(), isalpha()\n",
        "# Conditional methods : string\n",
        "_string = '45678a' # all the characters here must be numeric\n",
        "print(_string.isnumeric())"
      ],
      "metadata": {
        "colab": {
          "base_uri": "https://localhost:8080/"
        },
        "id": "psrPuj2g7ofn",
        "outputId": "67468668-31f8-4060-d49c-05b5f6c1b777"
      },
      "execution_count": null,
      "outputs": [
        {
          "output_type": "stream",
          "name": "stdout",
          "text": [
            "False\n"
          ]
        }
      ]
    },
    {
      "cell_type": "code",
      "source": [
        "_string = '8.6' # all the characters here must be numeric/only numbers\n",
        "print(_string.isnumeric())"
      ],
      "metadata": {
        "colab": {
          "base_uri": "https://localhost:8080/"
        },
        "id": "Rmq7rco59qC7",
        "outputId": "965ef784-4809-4d6b-8c68-e09b13c4c39d"
      },
      "execution_count": null,
      "outputs": [
        {
          "output_type": "stream",
          "name": "stdout",
          "text": [
            "False\n"
          ]
        }
      ]
    },
    {
      "cell_type": "code",
      "source": [
        "# isupper() , islower(), istitle()\n",
        "_string = 'Abc Bce'\n",
        "print(_string.isupper()) # All characters are uppercase\n",
        "print(_string.islower()) # All characters are smallcase\n",
        "print(_string.istitle()) # String is in title case"
      ],
      "metadata": {
        "colab": {
          "base_uri": "https://localhost:8080/"
        },
        "id": "CpCFRiXf9Vp9",
        "outputId": "be4f7db8-5d74-436f-ec8f-1138731b1fef"
      },
      "execution_count": null,
      "outputs": [
        {
          "output_type": "stream",
          "name": "stdout",
          "text": [
            "False\n",
            "False\n",
            "True\n"
          ]
        }
      ]
    },
    {
      "cell_type": "code",
      "source": [
        "_name = 'Data Science' # If first alphabet of each word in a sentence is captial | Title case"
      ],
      "metadata": {
        "id": "_--mgEWT_zIJ"
      },
      "execution_count": null,
      "outputs": []
    },
    {
      "cell_type": "code",
      "source": [
        "_Str = '1,2,3' # 5 elements everything inside quotes will become a character\n",
        "_list = [1,2,3] # 3 elements"
      ],
      "metadata": {
        "id": "oKaI2xUs9kDg"
      },
      "execution_count": null,
      "outputs": []
    },
    {
      "cell_type": "code",
      "source": [
        "# isalnum() : Returns True if all characters in the string are in the alphabet or number\n",
        "# isalpha() : Returns True if all characters in the string are in the alphabet\n",
        "_str = '32232dwddw' # all characters are only numbers or alphabets\n",
        "print(_str.isalnum()) # True\n",
        "print(_str.isalpha()) # False"
      ],
      "metadata": {
        "colab": {
          "base_uri": "https://localhost:8080/"
        },
        "id": "xShlc5kY_wqO",
        "outputId": "a697a7ca-e5c9-4e02-902b-0fbd826ad03b"
      },
      "execution_count": null,
      "outputs": [
        {
          "output_type": "stream",
          "name": "stdout",
          "text": [
            "True\n",
            "False\n"
          ]
        }
      ]
    },
    {
      "cell_type": "code",
      "source": [
        "_str = 'dwddw'\n",
        "print(_str.isalnum()) # True\n",
        "print(_str.isalpha()) # True"
      ],
      "metadata": {
        "colab": {
          "base_uri": "https://localhost:8080/"
        },
        "id": "hmOqRMV4AL-i",
        "outputId": "6d591be4-1a48-4118-b16c-2b6256b8f77c"
      },
      "execution_count": null,
      "outputs": [
        {
          "output_type": "stream",
          "name": "stdout",
          "text": [
            "True\n",
            "True\n"
          ]
        }
      ]
    },
    {
      "cell_type": "code",
      "source": [
        "# .isalnum(), .isalpha(), .isnumeric() # Data Cleaning"
      ],
      "metadata": {
        "id": "cE29ReFfAirC"
      },
      "execution_count": null,
      "outputs": []
    },
    {
      "cell_type": "code",
      "source": [
        "# List\n",
        "# Count() : Counts the elements present in the list\n",
        "_list = [2,3,4,5,6,6,7,7,'a', 'b', 'a']\n",
        "print(_list.count('a')) # 2"
      ],
      "metadata": {
        "colab": {
          "base_uri": "https://localhost:8080/"
        },
        "id": "dOdbh0lyBXGQ",
        "outputId": "7775ec65-4b3a-4eea-a3c5-2ebe1e0299fb"
      },
      "execution_count": null,
      "outputs": [
        {
          "output_type": "stream",
          "name": "stdout",
          "text": [
            "2\n"
          ]
        }
      ]
    },
    {
      "cell_type": "code",
      "source": [
        "# index() : index of the first occurance of the element\n",
        "print(_list.index('a')) #"
      ],
      "metadata": {
        "colab": {
          "base_uri": "https://localhost:8080/"
        },
        "id": "481gDUb1B-my",
        "outputId": "fb8f5655-e0dc-439b-d844-7e3440c0e7af"
      },
      "execution_count": null,
      "outputs": [
        {
          "output_type": "stream",
          "name": "stdout",
          "text": [
            "8\n"
          ]
        }
      ]
    },
    {
      "cell_type": "code",
      "source": [
        "_list = [2,3,4,5,6,6,7,7,'a', 'b', 'a']"
      ],
      "metadata": {
        "id": "pPmLc87pDbtI"
      },
      "execution_count": null,
      "outputs": []
    },
    {
      "cell_type": "code",
      "source": [
        "# append() : Adds an element at the end of the list\n",
        "_list.append('hello') # 'hello' at the end of the list\n",
        "print(_list) # Original Variable has changed , List is mutable"
      ],
      "metadata": {
        "colab": {
          "base_uri": "https://localhost:8080/"
        },
        "id": "4SV8m0vWCMqv",
        "outputId": "8d050b51-496a-4575-b557-6f778a7d2272"
      },
      "execution_count": null,
      "outputs": [
        {
          "output_type": "stream",
          "name": "stdout",
          "text": [
            "[2, 3, 4, 5, 6, 6, 7, 7, 'a', 'b', 'a', 'hello']\n"
          ]
        }
      ]
    },
    {
      "cell_type": "code",
      "source": [
        "_String = 'Data Science'\n",
        "print(_String.replace('Data','DATA'))\n",
        "print(_String)"
      ],
      "metadata": {
        "colab": {
          "base_uri": "https://localhost:8080/"
        },
        "id": "m26ZBmRLDQJL",
        "outputId": "9fc3f4b7-62e1-4bc3-f177-23773bb95601"
      },
      "execution_count": null,
      "outputs": [
        {
          "output_type": "stream",
          "name": "stdout",
          "text": [
            "DATA Science\n",
            "Data Science\n"
          ]
        }
      ]
    },
    {
      "cell_type": "code",
      "source": [
        "_list = [2,3,4,5,6,6,7,7,'a', 'b', 'a']\n",
        "# Add : [6,7,8] Add at the end of the list\n",
        "# Extend : [2,3,4,5,6,6,7,7,'a', 'b', 'a',6,7,8]\n",
        "_x = [6,7,8]\n",
        "_list.append(_x)\n",
        "print(_list)"
      ],
      "metadata": {
        "colab": {
          "base_uri": "https://localhost:8080/"
        },
        "id": "oeMaVmj3D1Ym",
        "outputId": "727eb614-1cc0-4763-8d46-8efd62145bcb"
      },
      "execution_count": null,
      "outputs": [
        {
          "output_type": "stream",
          "name": "stdout",
          "text": [
            "[2, 3, 4, 5, 6, 6, 7, 7, 'a', 'b', 'a', [6, 7, 8]]\n"
          ]
        }
      ]
    },
    {
      "cell_type": "code",
      "source": [
        "_list = [2,3,4,5,6,6,7,7,'a', 'b', 'a']\n",
        "#\n",
        "_list.append(6)\n",
        "_list.append(7)\n",
        "_list.append(8)\n",
        "print(_list)"
      ],
      "metadata": {
        "colab": {
          "base_uri": "https://localhost:8080/"
        },
        "id": "orlV1nE5Ej7P",
        "outputId": "b39c8fc3-acf6-4099-8d3b-1755507e2f1e"
      },
      "execution_count": null,
      "outputs": [
        {
          "output_type": "stream",
          "name": "stdout",
          "text": [
            "[2, 3, 4, 5, 6, 6, 7, 7, 'a', 'b', 'a', 6, 7, 8]\n"
          ]
        }
      ]
    },
    {
      "cell_type": "code",
      "source": [
        "# extend() : Add the elements of a list (or any iterable) to the end of the current list\n",
        "_list = [2,3,4,5,6,6,7,7,'a', 'b', 'a']\n",
        "_x = [6,7,8]\n",
        "_list.extend(_x)\n",
        "print(_list)"
      ],
      "metadata": {
        "colab": {
          "base_uri": "https://localhost:8080/"
        },
        "id": "ineOdn_hDy6X",
        "outputId": "cef08895-e0ff-496f-8fd4-8031035df874"
      },
      "execution_count": null,
      "outputs": [
        {
          "output_type": "stream",
          "name": "stdout",
          "text": [
            "[2, 3, 4, 5, 6, 6, 7, 7, 'a', 'b', 'a', 6, 7, 8]\n"
          ]
        }
      ]
    },
    {
      "cell_type": "code",
      "source": [
        "# insert() : Adds an element at the specified position insert(position, element)\n",
        "_list = [2,3,4,5,6,6,7,7,'a', 'b', 'a']\n",
        "_x = [6,7,8] # at 1st index\n",
        "_list.insert(0,_x)\n",
        "print(_list)\n",
        "# Note: Multiple elements can be added at once."
      ],
      "metadata": {
        "colab": {
          "base_uri": "https://localhost:8080/"
        },
        "id": "eq8qmqu3E-6M",
        "outputId": "6e0a466c-7264-4064-d36d-a33f022c3388"
      },
      "execution_count": null,
      "outputs": [
        {
          "output_type": "stream",
          "name": "stdout",
          "text": [
            "[[6, 7, 8], 2, 3, 4, 5, 6, 6, 7, 7, 'a', 'b', 'a']\n"
          ]
        }
      ]
    },
    {
      "cell_type": "code",
      "source": [
        "#CRUD : Create, Read , Update & Delete\n",
        "# List\n",
        "# Create : Using []\n",
        "# Read : len(), .count(),.index(), print(), type()\n",
        "# Update : .append(), .extend(), .insert()\n",
        "# Delete : .pop(), .remove(), del(), clear()"
      ],
      "metadata": {
        "id": "TZ7HXoGmGSFJ"
      },
      "execution_count": null,
      "outputs": []
    },
    {
      "cell_type": "code",
      "source": [
        "print(_list)"
      ],
      "metadata": {
        "colab": {
          "base_uri": "https://localhost:8080/"
        },
        "id": "iYLuo7PQH8qq",
        "outputId": "00a25e0b-3ab3-4702-9676-ec14ea19c2be"
      },
      "execution_count": null,
      "outputs": [
        {
          "output_type": "stream",
          "name": "stdout",
          "text": [
            "[[6, 7, 8], 2, 3, 4, 5, 6, 6, 7, 7, 'a', 'b', 'a']\n"
          ]
        }
      ]
    },
    {
      "cell_type": "code",
      "source": [
        "# .pop() : Removes the element at the specified position (.pop(position) )\n",
        "_list.pop(0) # Output as which element is removed and original list is updated"
      ],
      "metadata": {
        "colab": {
          "base_uri": "https://localhost:8080/"
        },
        "id": "SzEvtnnmHvdm",
        "outputId": "7c0e559b-ac5c-45e3-87f8-2cc880018314"
      },
      "execution_count": null,
      "outputs": [
        {
          "output_type": "execute_result",
          "data": {
            "text/plain": [
              "[6, 7, 8]"
            ]
          },
          "metadata": {},
          "execution_count": 42
        }
      ]
    },
    {
      "cell_type": "code",
      "source": [
        "print(_list)"
      ],
      "metadata": {
        "colab": {
          "base_uri": "https://localhost:8080/"
        },
        "id": "5clFUMkOIxr3",
        "outputId": "e636918f-8d95-4a58-85e5-6fcf2303f849"
      },
      "execution_count": null,
      "outputs": [
        {
          "output_type": "stream",
          "name": "stdout",
          "text": [
            "[2, 3, 4, 5, 6, 6, 7, 7, 'a', 'b', 'a']\n"
          ]
        }
      ]
    },
    {
      "cell_type": "code",
      "source": [
        "# Note : if you don't specify the position then by default last element is removed\n",
        "_list.pop() # Input is blank, by default last element"
      ],
      "metadata": {
        "colab": {
          "base_uri": "https://localhost:8080/",
          "height": 35
        },
        "id": "QMmQfwijInvr",
        "outputId": "cb176f73-60d4-465d-d6d5-ce2b580d8fa8"
      },
      "execution_count": null,
      "outputs": [
        {
          "output_type": "execute_result",
          "data": {
            "text/plain": [
              "'a'"
            ],
            "application/vnd.google.colaboratory.intrinsic+json": {
              "type": "string"
            }
          },
          "metadata": {},
          "execution_count": 45
        }
      ]
    },
    {
      "cell_type": "code",
      "source": [
        "print(_list)"
      ],
      "metadata": {
        "colab": {
          "base_uri": "https://localhost:8080/"
        },
        "id": "Dw5ZrOZbIDtm",
        "outputId": "b13c78a7-5ad9-4bf3-9df7-565c40a3cdb7"
      },
      "execution_count": null,
      "outputs": [
        {
          "output_type": "stream",
          "name": "stdout",
          "text": [
            "[2, 3, 4, 5, 6, 6, 7, 7, 'a', 'b']\n"
          ]
        }
      ]
    },
    {
      "cell_type": "code",
      "source": [
        "# del() : Delete the variable itself"
      ],
      "metadata": {
        "id": "f3WtrgklIKs4"
      },
      "execution_count": null,
      "outputs": []
    },
    {
      "cell_type": "code",
      "source": [
        "# remove(): Removes the first item with the specified value\n",
        "# Remove the element 5 from the list\n",
        "_list.remove(5) # Here 5 as the value will be the input\n",
        "print(_list)"
      ],
      "metadata": {
        "colab": {
          "base_uri": "https://localhost:8080/"
        },
        "id": "ywIOaFURIl6f",
        "outputId": "15821054-7aef-4461-87dc-717d13cc417c"
      },
      "execution_count": null,
      "outputs": [
        {
          "output_type": "stream",
          "name": "stdout",
          "text": [
            "[2, 3, 4, 6, 6, 7, 7, 'a', 'b']\n"
          ]
        }
      ]
    },
    {
      "cell_type": "code",
      "source": [
        "_list.remove(7)\n",
        "print(_list)"
      ],
      "metadata": {
        "colab": {
          "base_uri": "https://localhost:8080/"
        },
        "id": "onyvkoHmJtKU",
        "outputId": "a6a6d0a3-a451-4956-b15c-1eb99c46d9b7"
      },
      "execution_count": null,
      "outputs": [
        {
          "output_type": "stream",
          "name": "stdout",
          "text": [
            "[2, 3, 4, 6, 6, 'a', 'b']\n"
          ]
        }
      ]
    },
    {
      "cell_type": "code",
      "source": [
        "# Note : Remove the first occurance of any element."
      ],
      "metadata": {
        "id": "ZJPwIyXVJO-2"
      },
      "execution_count": null,
      "outputs": []
    },
    {
      "cell_type": "code",
      "source": [
        "# .sort() : Sorts the list\n",
        "_list = [45,32,12,40,67,54]\n",
        "_list.sort()\n",
        "print(_list) # My original list is sorted in ascending order\n",
        "_list.sort(reverse = True)\n",
        "print(_list)"
      ],
      "metadata": {
        "colab": {
          "base_uri": "https://localhost:8080/"
        },
        "id": "QU9rQwsDJ_tA",
        "outputId": "0531216d-79a3-448d-c14e-a67ff6eab5c8"
      },
      "execution_count": null,
      "outputs": [
        {
          "output_type": "stream",
          "name": "stdout",
          "text": [
            "[12, 32, 40, 45, 54, 67]\n",
            "[67, 54, 45, 40, 32, 12]\n"
          ]
        }
      ]
    },
    {
      "cell_type": "code",
      "source": [
        "# sorted() vs .sort()\n",
        "_list = [45,32,12,40,67,54]\n",
        "print(sorted(_list))\n",
        "print(_list) # Original list is not changing"
      ],
      "metadata": {
        "colab": {
          "base_uri": "https://localhost:8080/"
        },
        "id": "gP6qGOTsLKn6",
        "outputId": "0c68c6de-64af-4726-976e-1d688f26d24a"
      },
      "execution_count": null,
      "outputs": [
        {
          "output_type": "stream",
          "name": "stdout",
          "text": [
            "[12, 32, 40, 45, 54, 67]\n",
            "[45, 32, 12, 40, 67, 54]\n"
          ]
        }
      ]
    },
    {
      "cell_type": "code",
      "source": [
        "# _list2 = sorted(_list)"
      ],
      "metadata": {
        "id": "VPcwLbDPMAUe"
      },
      "execution_count": null,
      "outputs": []
    },
    {
      "cell_type": "code",
      "source": [
        "_list = [45,32,12,40,67,54]\n",
        "_list.sort() # No output rather changes the original list\n",
        "print(_list)# Original list has changed"
      ],
      "metadata": {
        "colab": {
          "base_uri": "https://localhost:8080/"
        },
        "id": "rw_SsaojLlOo",
        "outputId": "7908a0da-4f78-46be-c906-f581f78cdcde"
      },
      "execution_count": null,
      "outputs": [
        {
          "output_type": "stream",
          "name": "stdout",
          "text": [
            "[12, 32, 40, 45, 54, 67]\n"
          ]
        }
      ]
    },
    {
      "cell_type": "code",
      "source": [
        "# clear(), copy()\n",
        "# clear() : Removes all elements from the list\n",
        "print(_list)"
      ],
      "metadata": {
        "colab": {
          "base_uri": "https://localhost:8080/"
        },
        "id": "kmv-PEKLLqXq",
        "outputId": "bf630cec-7ebf-46af-eccf-8bb3524b80ba"
      },
      "execution_count": null,
      "outputs": [
        {
          "output_type": "stream",
          "name": "stdout",
          "text": [
            "[12, 32, 40, 45, 54, 67]\n"
          ]
        }
      ]
    },
    {
      "cell_type": "code",
      "source": [
        "_list.clear()"
      ],
      "metadata": {
        "id": "gvLvPjlOMeZS"
      },
      "execution_count": null,
      "outputs": []
    },
    {
      "cell_type": "code",
      "source": [
        "print(_list)"
      ],
      "metadata": {
        "colab": {
          "base_uri": "https://localhost:8080/"
        },
        "id": "dD6Id6nGMhHJ",
        "outputId": "1ffb644d-bec0-4a09-be55-069a8b46ac58"
      },
      "execution_count": null,
      "outputs": [
        {
          "output_type": "stream",
          "name": "stdout",
          "text": [
            "[]\n"
          ]
        }
      ]
    },
    {
      "cell_type": "code",
      "source": [
        "del _list"
      ],
      "metadata": {
        "id": "sSkFgaadM4dx"
      },
      "execution_count": null,
      "outputs": []
    },
    {
      "cell_type": "code",
      "source": [
        "print(_list)"
      ],
      "metadata": {
        "colab": {
          "base_uri": "https://localhost:8080/",
          "height": 141
        },
        "id": "OlD3Zv6-M594",
        "outputId": "f17d291a-5497-4a1e-f3e5-b444a07508c5"
      },
      "execution_count": null,
      "outputs": [
        {
          "output_type": "error",
          "ename": "NameError",
          "evalue": "name '_list' is not defined",
          "traceback": [
            "\u001b[0;31m---------------------------------------------------------------------------\u001b[0m",
            "\u001b[0;31mNameError\u001b[0m                                 Traceback (most recent call last)",
            "\u001b[0;32m<ipython-input-62-d30a9fc017b6>\u001b[0m in \u001b[0;36m<cell line: 1>\u001b[0;34m()\u001b[0m\n\u001b[0;32m----> 1\u001b[0;31m \u001b[0mprint\u001b[0m\u001b[0;34m(\u001b[0m\u001b[0m_list\u001b[0m\u001b[0;34m)\u001b[0m\u001b[0;34m\u001b[0m\u001b[0;34m\u001b[0m\u001b[0m\n\u001b[0m",
            "\u001b[0;31mNameError\u001b[0m: name '_list' is not defined"
          ]
        }
      ]
    },
    {
      "cell_type": "code",
      "source": [
        "# .clear() vs del()\n",
        "# .clear() : Remove all elements but variable is still present.\n",
        "# del() : Deletes the variables itself."
      ],
      "metadata": {
        "id": "seT96Ds7MmAu"
      },
      "execution_count": null,
      "outputs": []
    },
    {
      "cell_type": "code",
      "source": [
        "# .copy()\n",
        "_list1 = ['a','b','c']\n",
        "_list2 = _list1 # Deep Copy"
      ],
      "metadata": {
        "id": "QcSE26uoMjQr"
      },
      "execution_count": null,
      "outputs": []
    },
    {
      "cell_type": "code",
      "source": [
        "print(_list2)"
      ],
      "metadata": {
        "colab": {
          "base_uri": "https://localhost:8080/"
        },
        "id": "FIxopkNhNo_H",
        "outputId": "70fd2abd-402e-4c98-a131-24d4f38f4826"
      },
      "execution_count": null,
      "outputs": [
        {
          "output_type": "stream",
          "name": "stdout",
          "text": [
            "['a', 'b', 'c']\n"
          ]
        }
      ]
    },
    {
      "cell_type": "code",
      "source": [
        "_list1.append('d')\n",
        "print(_list1)"
      ],
      "metadata": {
        "colab": {
          "base_uri": "https://localhost:8080/"
        },
        "id": "i_KMMSNYNrec",
        "outputId": "83ddcf59-7d91-4814-da48-486e6a54b304"
      },
      "execution_count": null,
      "outputs": [
        {
          "output_type": "stream",
          "name": "stdout",
          "text": [
            "['a', 'b', 'c', 'd']\n"
          ]
        }
      ]
    },
    {
      "cell_type": "code",
      "source": [
        "print(_list2) # Ideally it should not change"
      ],
      "metadata": {
        "colab": {
          "base_uri": "https://localhost:8080/"
        },
        "id": "H24g_XX8Nx6S",
        "outputId": "36332329-afa2-4aa6-fa0f-017d919ec81f"
      },
      "execution_count": null,
      "outputs": [
        {
          "output_type": "stream",
          "name": "stdout",
          "text": [
            "['a', 'b', 'c', 'd']\n"
          ]
        }
      ]
    },
    {
      "cell_type": "code",
      "source": [
        "_list2.append('e')\n",
        "print(_list2)"
      ],
      "metadata": {
        "colab": {
          "base_uri": "https://localhost:8080/"
        },
        "id": "bdX-Bnc2OBKC",
        "outputId": "469e454d-7b5b-4da6-fadb-07ed281733a5"
      },
      "execution_count": null,
      "outputs": [
        {
          "output_type": "stream",
          "name": "stdout",
          "text": [
            "['a', 'b', 'c', 'd', 'e']\n"
          ]
        }
      ]
    },
    {
      "cell_type": "code",
      "source": [
        "print(_list1)"
      ],
      "metadata": {
        "colab": {
          "base_uri": "https://localhost:8080/"
        },
        "id": "To6ArcK7OImI",
        "outputId": "d0db0598-b929-4f28-a906-3728a8d9219c"
      },
      "execution_count": null,
      "outputs": [
        {
          "output_type": "stream",
          "name": "stdout",
          "text": [
            "['a', 'b', 'c', 'd', 'e']\n"
          ]
        }
      ]
    },
    {
      "cell_type": "code",
      "source": [
        "# Python :\n",
        "# Deep Copy and Shallow copy # No primitive Data types\n",
        "# Directly = is used then same address of value is pointed by two variables\n",
        "_list1 = ['a','b','c']\n",
        "_list2 = _list1.copy() # Shallow Copy # Clone"
      ],
      "metadata": {
        "id": "76Ml8JE3OKA6"
      },
      "execution_count": null,
      "outputs": []
    },
    {
      "cell_type": "code",
      "source": [
        "_list1.append('d')\n",
        "print(_list1)"
      ],
      "metadata": {
        "colab": {
          "base_uri": "https://localhost:8080/"
        },
        "id": "pc_lFcLhPbSr",
        "outputId": "636ad6a0-ed48-414f-fa23-39270054b0a4"
      },
      "execution_count": null,
      "outputs": [
        {
          "output_type": "stream",
          "name": "stdout",
          "text": [
            "['a', 'b', 'c', 'd']\n"
          ]
        }
      ]
    },
    {
      "cell_type": "code",
      "source": [
        "print(_list2)"
      ],
      "metadata": {
        "colab": {
          "base_uri": "https://localhost:8080/"
        },
        "id": "CgYGQj7pPea7",
        "outputId": "9ba8d1f9-dc80-40ec-bbf7-f01e90dc25b3"
      },
      "execution_count": null,
      "outputs": [
        {
          "output_type": "stream",
          "name": "stdout",
          "text": [
            "['a', 'b', 'c']\n"
          ]
        }
      ]
    },
    {
      "cell_type": "code",
      "source": [
        "_list2.append('e')"
      ],
      "metadata": {
        "id": "eRTRErPAPgKP"
      },
      "execution_count": null,
      "outputs": []
    },
    {
      "cell_type": "code",
      "source": [
        "print(_list1)"
      ],
      "metadata": {
        "colab": {
          "base_uri": "https://localhost:8080/"
        },
        "id": "Av_iSC0lQiG7",
        "outputId": "d47509ee-7ea0-4d1d-e55b-1338c4d6ca4f"
      },
      "execution_count": null,
      "outputs": [
        {
          "output_type": "stream",
          "name": "stdout",
          "text": [
            "['a', 'b', 'c', 'd']\n"
          ]
        }
      ]
    },
    {
      "cell_type": "code",
      "source": [
        "# Identity operators | is , is not | Deep copy or shallow copy\n",
        "_list1 = [3,4,5,6]\n",
        "_list2 = _list1\n",
        "print(_list2 is _list1) # Identity operator | Deep Copy"
      ],
      "metadata": {
        "colab": {
          "base_uri": "https://localhost:8080/"
        },
        "id": "csjNXTDfQkNe",
        "outputId": "67d83e0b-9097-4b2c-ee97-2b3280ae5221"
      },
      "execution_count": null,
      "outputs": [
        {
          "output_type": "stream",
          "name": "stdout",
          "text": [
            "True\n"
          ]
        }
      ]
    },
    {
      "cell_type": "code",
      "source": [
        "_list1 = [3,4,5,6]\n",
        "_list2 = _list1.copy()\n",
        "print(_list2 is _list1) # Identity operator | Shallow Copy"
      ],
      "metadata": {
        "colab": {
          "base_uri": "https://localhost:8080/"
        },
        "id": "qkqG30fyQ8tm",
        "outputId": "0795188a-c86e-49bc-a90f-6c2596aa2d30"
      },
      "execution_count": null,
      "outputs": [
        {
          "output_type": "stream",
          "name": "stdout",
          "text": [
            "False\n"
          ]
        }
      ]
    },
    {
      "cell_type": "code",
      "source": [
        "# is not :: Opposite of :: is"
      ],
      "metadata": {
        "id": "FIYw5M6aRDXt"
      },
      "execution_count": null,
      "outputs": []
    },
    {
      "cell_type": "code",
      "source": [
        "# Dictionary :\n",
        "#. keys(), .values(), .items()\n",
        "_dict = {'a':1, 'b':2, 'c':3}\n",
        "print(_dict.keys()) # List of keys\n",
        "print(_dict.values()) # List of Values\n",
        "print(_dict.items()) # List of keys & values as a tuple"
      ],
      "metadata": {
        "colab": {
          "base_uri": "https://localhost:8080/"
        },
        "id": "d80lwETCS4Ha",
        "outputId": "027f706b-f8df-4d21-8d2a-6e063fc5868a"
      },
      "execution_count": null,
      "outputs": [
        {
          "output_type": "stream",
          "name": "stdout",
          "text": [
            "dict_keys(['a', 'b', 'c'])\n",
            "dict_values([1, 2, 3])\n",
            "dict_items([('a', 1), ('b', 2), ('c', 3)])\n"
          ]
        }
      ]
    },
    {
      "cell_type": "code",
      "source": [
        "# .update() : Multiple key & value update as once\n",
        "# Add in the _dict : {'d':4, 'e':5}\n",
        "_dict.update({'d':4, 'e':5})\n",
        "print(_dict)\n",
        "# Dictionary is mutable, directly original variable is updated"
      ],
      "metadata": {
        "colab": {
          "base_uri": "https://localhost:8080/"
        },
        "id": "52qvTwCHUs0n",
        "outputId": "2548fbf1-461c-478f-8703-2e714b07e9cd"
      },
      "execution_count": null,
      "outputs": [
        {
          "output_type": "stream",
          "name": "stdout",
          "text": [
            "{'a': 1, 'b': 2, 'c': 3, 'd': 4, 'e': 5}\n"
          ]
        }
      ]
    },
    {
      "cell_type": "code",
      "source": [
        "# Another way of updating key & value pair  : One Key & Value update at a time\n",
        "# Add in the _dict : {'f':6}\n",
        "_dict['f'] = 6 # Add or update key & value pair | One key at a time\n",
        "print(_dict)"
      ],
      "metadata": {
        "colab": {
          "base_uri": "https://localhost:8080/"
        },
        "id": "vUvDbFBtVVb4",
        "outputId": "0255d855-83b1-44d2-f599-30ffac08471b"
      },
      "execution_count": null,
      "outputs": [
        {
          "output_type": "stream",
          "name": "stdout",
          "text": [
            "{'a': 1, 'b': 2, 'c': 3, 'd': 4, 'e': 5, 'f': 6}\n"
          ]
        }
      ]
    },
    {
      "cell_type": "code",
      "source": [
        "# pop() : Removes the element with the specified key\n",
        "_dict.pop('f') #"
      ],
      "metadata": {
        "colab": {
          "base_uri": "https://localhost:8080/"
        },
        "id": "WQAMTQN7V5vv",
        "outputId": "00877823-4ecd-43a5-8831-784a1cf7c6aa"
      },
      "execution_count": null,
      "outputs": [
        {
          "output_type": "execute_result",
          "data": {
            "text/plain": [
              "6"
            ]
          },
          "metadata": {},
          "execution_count": 80
        }
      ]
    },
    {
      "cell_type": "code",
      "source": [
        "print(_dict)"
      ],
      "metadata": {
        "colab": {
          "base_uri": "https://localhost:8080/"
        },
        "id": "QL3Q7XnCWn97",
        "outputId": "f50d85ce-b5fd-4b77-d846-d587cdec6c37"
      },
      "execution_count": null,
      "outputs": [
        {
          "output_type": "stream",
          "name": "stdout",
          "text": [
            "{'a': 1, 'b': 2, 'c': 3, 'd': 4, 'e': 5}\n"
          ]
        }
      ]
    },
    {
      "cell_type": "code",
      "source": [
        "# del() : It can be used to delete the variable or delete specific key\n",
        "del _dict['e'] # Delete the key & value pair\n",
        "print(_dict)"
      ],
      "metadata": {
        "colab": {
          "base_uri": "https://localhost:8080/"
        },
        "id": "XB55NUniWpGJ",
        "outputId": "d2eee9af-9726-43f1-87aa-5b0169ee365c"
      },
      "execution_count": null,
      "outputs": [
        {
          "output_type": "stream",
          "name": "stdout",
          "text": [
            "{'a': 1, 'b': 2, 'c': 3, 'd': 4}\n"
          ]
        }
      ]
    },
    {
      "cell_type": "code",
      "source": [
        "# .clear() : Remove all elements from the dict | Make it empty dict\n",
        "# .copy() : used to create Shallow copy of dictionary\n"
      ],
      "metadata": {
        "id": "m7EyrYdjW1wU"
      },
      "execution_count": null,
      "outputs": []
    },
    {
      "cell_type": "code",
      "source": [
        "# Set | Mutable\n",
        "# .add() : Single Element\n",
        "_set = {2,3,4}\n",
        "_set.add(5)\n",
        "print(_set) # original variable is updated."
      ],
      "metadata": {
        "colab": {
          "base_uri": "https://localhost:8080/"
        },
        "id": "QGX_UFJVXuli",
        "outputId": "94a7b6a1-ff89-4974-e575-e593d633bdbb"
      },
      "execution_count": null,
      "outputs": [
        {
          "output_type": "stream",
          "name": "stdout",
          "text": [
            "{2, 3, 4, 5}\n"
          ]
        }
      ]
    },
    {
      "cell_type": "code",
      "source": [
        "# .update() : Multiple elements\n",
        "_set.update({'a','b','c'}) # Multiple Elements can added (List of items or set of items)\n",
        "print(_set)"
      ],
      "metadata": {
        "colab": {
          "base_uri": "https://localhost:8080/"
        },
        "id": "xegkZbvlX3oq",
        "outputId": "7c949cb0-d820-4aa7-f6a2-593776b82ee1"
      },
      "execution_count": null,
      "outputs": [
        {
          "output_type": "stream",
          "name": "stdout",
          "text": [
            "{'a', 2, 3, 4, 5, 'b', 'c'}\n"
          ]
        }
      ]
    },
    {
      "cell_type": "code",
      "source": [
        "_set.update({'a','b','c','d'}) # Multiple Elements can added (List of items or set of items)\n",
        "print(_set)"
      ],
      "metadata": {
        "colab": {
          "base_uri": "https://localhost:8080/"
        },
        "id": "w0AteLklYG7k",
        "outputId": "047def55-d3a3-4456-f774-0e7a25d4b06c"
      },
      "execution_count": null,
      "outputs": [
        {
          "output_type": "stream",
          "name": "stdout",
          "text": [
            "{'a', 2, 3, 4, 5, 'd', 'b', 'c'}\n"
          ]
        }
      ]
    },
    {
      "cell_type": "code",
      "source": [],
      "metadata": {
        "id": "iqJtNfEpYlDb"
      },
      "execution_count": null,
      "outputs": []
    },
    {
      "cell_type": "code",
      "source": [
        "# Note: In case of any duplicated value, it will ingore it.\n",
        "# Set is unordered, don't worry about the sequence."
      ],
      "metadata": {
        "id": "vo09j-TaYW8F"
      },
      "execution_count": null,
      "outputs": []
    },
    {
      "cell_type": "code",
      "source": [
        "# List, String & Tuple : it accepts duplicate values\n",
        "# Dictionary : Keys must be unique but values can be duplicated\n",
        "# Set : Values must be unique"
      ],
      "metadata": {
        "id": "qiZsGxU2Yqkk"
      },
      "execution_count": null,
      "outputs": []
    },
    {
      "cell_type": "code",
      "source": [
        "# union(), intersection(), difference()\n",
        "_set1 = {3,4,5,6}\n",
        "_set2 = {5,6,7,8}\n",
        "print(_set1.union(_set2)) # {3,4,5,6,7,8} | Set Operator : |\n",
        "print(_set1.intersection(_set2)) # {5,6} | Set Operator : &\n",
        "print(_set1.difference(_set2)) # {3,4} | Set Operator : - # Output the element only present in _set1\n",
        "print(_set2.difference(_set1)) # {7,8} | Set Operator : - # Output the element only present in _set2"
      ],
      "metadata": {
        "colab": {
          "base_uri": "https://localhost:8080/"
        },
        "id": "deD4cNukY898",
        "outputId": "fe23359b-2809-4240-989f-c4add1372908"
      },
      "execution_count": null,
      "outputs": [
        {
          "output_type": "stream",
          "name": "stdout",
          "text": [
            "{3, 4, 5, 6, 7, 8}\n",
            "{5, 6}\n",
            "{3, 4}\n",
            "{8, 7}\n"
          ]
        }
      ]
    },
    {
      "cell_type": "code",
      "source": [
        "# symmetric_difference() : print all elements except the common elements | Set Operator : ^\n",
        "print(_set1.symmetric_difference(_set2))# It removes the common element\n",
        "print(_set2.symmetric_difference(_set1))"
      ],
      "metadata": {
        "colab": {
          "base_uri": "https://localhost:8080/"
        },
        "id": "xqSeVgXuZl2l",
        "outputId": "08d350cc-0d22-450f-dd9b-c31241cb524f"
      },
      "execution_count": null,
      "outputs": [
        {
          "output_type": "stream",
          "name": "stdout",
          "text": [
            "{3, 4, 7, 8}\n",
            "{3, 4, 7, 8}\n"
          ]
        }
      ]
    },
    {
      "cell_type": "code",
      "source": [
        "# & , | & - to get the .symmetric_difference()\n",
        "(_set1 | _set2) - (_set1 & _set2) # Symmetric Difference"
      ],
      "metadata": {
        "colab": {
          "base_uri": "https://localhost:8080/"
        },
        "id": "6T8XVCDvaLRN",
        "outputId": "bba231ae-8175-4f83-f06d-7fc485125bfd"
      },
      "execution_count": null,
      "outputs": [
        {
          "output_type": "execute_result",
          "data": {
            "text/plain": [
              "{3, 4, 7, 8}"
            ]
          },
          "metadata": {},
          "execution_count": 92
        }
      ]
    },
    {
      "cell_type": "code",
      "source": [
        "_set1 ^ _set2 # Symmetric Difference"
      ],
      "metadata": {
        "colab": {
          "base_uri": "https://localhost:8080/"
        },
        "id": "1wuariIuaprE",
        "outputId": "da41ea78-0e07-46f8-c572-ebe5e3c8a534"
      },
      "execution_count": null,
      "outputs": [
        {
          "output_type": "execute_result",
          "data": {
            "text/plain": [
              "{3, 4, 7, 8}"
            ]
          },
          "metadata": {},
          "execution_count": 93
        }
      ]
    },
    {
      "cell_type": "code",
      "source": [
        "# Method vs Operator\n",
        "# Union  (|)\n",
        "# Intersection (&)\n",
        "# Difference (-)\n",
        "# Symmetric Difference (^)\n"
      ],
      "metadata": {
        "id": "Eh9j14hXaxzn"
      },
      "execution_count": null,
      "outputs": []
    },
    {
      "cell_type": "code",
      "source": [
        "# .remove : it removes the specifed element\n",
        "_set1 = {3,4,5,6}\n",
        "_set1.remove(6) #\n",
        "print(_set1)"
      ],
      "metadata": {
        "colab": {
          "base_uri": "https://localhost:8080/"
        },
        "id": "_eN-8NtWbJU4",
        "outputId": "92084311-8092-4f34-be58-d115e8b34085"
      },
      "execution_count": null,
      "outputs": [
        {
          "output_type": "stream",
          "name": "stdout",
          "text": [
            "{3, 4, 5}\n"
          ]
        }
      ]
    },
    {
      "cell_type": "code",
      "source": [
        "# clear() & .copy()"
      ],
      "metadata": {
        "id": "PS6zaC3Qbcr2"
      },
      "execution_count": null,
      "outputs": []
    }
  ]
}