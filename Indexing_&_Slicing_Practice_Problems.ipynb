{
  "nbformat": 4,
  "nbformat_minor": 0,
  "metadata": {
    "colab": {
      "provenance": [],
      "include_colab_link": true
    },
    "kernelspec": {
      "name": "python3",
      "display_name": "Python 3"
    },
    "language_info": {
      "name": "python"
    }
  },
  "cells": [
    {
      "cell_type": "markdown",
      "metadata": {
        "id": "view-in-github",
        "colab_type": "text"
      },
      "source": [
        "<a href=\"https://colab.research.google.com/github/rm17octo22/PYTHON/blob/main/Indexing_%26_Slicing_Practice_Problems.ipynb\" target=\"_parent\"><img src=\"https://colab.research.google.com/assets/colab-badge.svg\" alt=\"Open In Colab\"/></a>"
      ]
    },
    {
      "cell_type": "code",
      "source": [
        "# Given a list colors = ['red', 'green', 'blue'], print the second element.\n",
        "colors = ['red', 'green', 'blue']\n",
        "print(colors[1])\n",
        "\n"
      ],
      "metadata": {
        "id": "ncKWZDNLbLxm",
        "outputId": "fb14be65-3609-4944-a979-9d7fea765f79",
        "colab": {
          "base_uri": "https://localhost:8080/"
        }
      },
      "execution_count": 1,
      "outputs": [
        {
          "output_type": "stream",
          "name": "stdout",
          "text": [
            "green\n"
          ]
        }
      ]
    },
    {
      "cell_type": "code",
      "execution_count": 6,
      "metadata": {
        "id": "r7CgwmAbZ9c3",
        "outputId": "96c89d8a-79bc-4d25-e62b-16e40e5ad9e5",
        "colab": {
          "base_uri": "https://localhost:8080/"
        }
      },
      "outputs": [
        {
          "output_type": "stream",
          "name": "stdout",
          "text": [
            "hon\n",
            "hon\n"
          ]
        }
      ],
      "source": [
        "# Given a string word = \"Python\", print the last three characters.\n",
        "word = \"Python\" # 'hon'\n",
        "print(word[-3:6])\n",
        "print(word[3:6])"
      ]
    },
    {
      "cell_type": "code",
      "source": [
        "# Create a list grades with elements 'A', 'B', 'C', 'D', 'E'. Print only the even-indexed grades.\n",
        "grades = ['A', 'B', 'C', 'D', 'E'] # Slice : ['A', 'C', 'E' ]\n",
        "print(grades[0::2])\n",
        "print(grades[-5::2])\n"
      ],
      "metadata": {
        "id": "u4PwP7-BbZxa",
        "outputId": "c57275c7-4a6f-4559-b7e9-2f8eedf40ad5",
        "colab": {
          "base_uri": "https://localhost:8080/"
        }
      },
      "execution_count": 8,
      "outputs": [
        {
          "output_type": "stream",
          "name": "stdout",
          "text": [
            "['A', 'C', 'E']\n",
            "['A', 'C', 'E']\n"
          ]
        }
      ]
    },
    {
      "cell_type": "code",
      "source": [
        "# Create a list of tuples inventory representing\n",
        "# product details: [(101, \"Laptop\", 1200, 102, \"Mouse\", 20 , 103, \"Keyboard\", 50)]. Print only the product names.\n",
        "inventory = [ (101, \"Laptop\", 1200, 102, \"Mouse\", 20 , 103, \"Keyboard\", 50) ]\n",
        "# Slice : (\"Laptop\",\"Mouse\",\"Keyboard\")\n",
        "\n",
        "print(inventory[0][1::3])\n",
        "print(inventory[0][-8::3])\n",
        "print(inventory[0::3])\n",
        "print(inventory[-1][1::3])\n",
        "print(inventory[-1][-8::3])\n",
        "\n"
      ],
      "metadata": {
        "id": "3H1FLZN1beUU",
        "outputId": "08e1a878-13d7-43b1-906f-7f6f7f153b15",
        "colab": {
          "base_uri": "https://localhost:8080/"
        }
      },
      "execution_count": 16,
      "outputs": [
        {
          "output_type": "stream",
          "name": "stdout",
          "text": [
            "('Laptop', 'Mouse', 'Keyboard')\n",
            "('Laptop', 'Mouse', 'Keyboard')\n",
            "[(101, 'Laptop', 1200, 102, 'Mouse', 20, 103, 'Keyboard', 50)]\n",
            "('Laptop', 'Mouse', 'Keyboard')\n",
            "('Laptop', 'Mouse', 'Keyboard')\n"
          ]
        }
      ]
    },
    {
      "cell_type": "code",
      "source": [
        "'''\n",
        "Scenario:\n",
        "An online fashion retailer is looking to reduce cart abandonment rates by analyzing the behavior of customers who leave items in their carts without completing a purchase. They believe that studying the sequence of products added to the cart—especially those added just before customers leave—can help in crafting personalized follow-up offers or reminders.\n",
        "\n",
        "The company tracks the order in which products are added to the cart, and they want to understand patterns related to the items added right before abandonment.\n",
        "\n",
        "Question:\n",
        "You are given a list, cart_items = [\"T-shirt\", \"Jeans\", \"Sunglasses\", \"Sneakers\", \"Hat\", \"Belt\", \"Watch\"], representing the items added to a cart in the order the customer selected them. The customer abandoned the cart before checking out.\n",
        "\n",
        "Write a Python function to retrieve every second item from the last item added to the cart using reverse slicing. This analysis will help the retailer understand which products customers tend to consider but not buy.\n",
        "\n",
        "Objective:\n",
        "Use the retrieved data to help the retailer identify accessories or apparel that are frequently considered but left behind, enabling better-targeted follow-up campaigns.\n",
        "\n",
        "Expected Output:\n",
        "['Watch', 'Hat', 'Sunglasses']\n",
        "\n",
        "'''\n",
        "\n",
        "cart_items = [\"T-shirt\", \"Jeans\", \"Sunglasses\", \"Sneakers\", \"Hat\", \"Belt\", \"Watch\"]\n",
        "print(cart_items[::-1])\n",
        "print(cart_items[6:0:-2])\n",
        "print(cart_items[-1:0:-2])\n",
        "print(cart_items[-1:-7:-2])\n",
        "print(cart_items[-1::-2])"
      ],
      "metadata": {
        "id": "M9VaSkCwPyxU",
        "outputId": "94637c68-eccc-465c-c737-a3a04cc28560",
        "colab": {
          "base_uri": "https://localhost:8080/"
        }
      },
      "execution_count": 28,
      "outputs": [
        {
          "output_type": "stream",
          "name": "stdout",
          "text": [
            "['Watch', 'Belt', 'Hat', 'Sneakers', 'Sunglasses', 'Jeans', 'T-shirt']\n",
            "['Watch', 'Hat', 'Sunglasses']\n",
            "['Watch', 'Hat', 'Sunglasses']\n",
            "['Watch', 'Hat', 'Sunglasses']\n",
            "['Watch', 'Hat', 'Sunglasses', 'T-shirt']\n"
          ]
        }
      ]
    }
  ]
}