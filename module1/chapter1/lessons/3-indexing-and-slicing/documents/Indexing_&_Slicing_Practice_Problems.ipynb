{
  "nbformat": 4,
  "nbformat_minor": 0,
  "metadata": {
    "colab": {
      "provenance": [],
      "include_colab_link": true
    },
    "kernelspec": {
      "name": "python3",
      "display_name": "Python 3"
    },
    "language_info": {
      "name": "python"
    }
  },
  "cells": [
    {
      "cell_type": "markdown",
      "metadata": {
        "id": "view-in-github",
        "colab_type": "text"
      },
      "source": [
        "<a href=\"https://colab.research.google.com/github/rm17octo22/PYTHON/blob/master/Indexing_%26_Slicing_Practice_Problems.ipynb\" target=\"_parent\"><img src=\"https://colab.research.google.com/assets/colab-badge.svg\" alt=\"Open In Colab\"/></a>"
      ]
    },
    {
      "cell_type": "code",
      "source": [
        "# Given a list colors = ['red', 'green', 'blue'],\n",
        "# print the second element.\n",
        "colors = ['red', 'green', 'blue']\n",
        "# indexing\n",
        "# Positive Index : starts from 0\n",
        "# negative index : starts from -1\n",
        "# Solution 1 : Positive Index\n",
        "print(colors[1])\n",
        "# Solution 2 : Negative Index\n",
        "print(colors[-2])\n"
      ],
      "metadata": {
        "id": "ncKWZDNLbLxm",
        "colab": {
          "base_uri": "https://localhost:8080/"
        },
        "outputId": "1ea3d4dd-cbc4-4509-fba5-b095050d8733"
      },
      "execution_count": null,
      "outputs": [
        {
          "output_type": "stream",
          "name": "stdout",
          "text": [
            "green\n",
            "green\n"
          ]
        }
      ]
    },
    {
      "cell_type": "code",
      "execution_count": null,
      "metadata": {
        "id": "r7CgwmAbZ9c3",
        "colab": {
          "base_uri": "https://localhost:8080/"
        },
        "outputId": "8ca8cef8-652f-4e29-ded7-5869e5247f6e"
      },
      "outputs": [
        {
          "output_type": "stream",
          "name": "stdout",
          "text": [
            "hon\n",
            "hon\n",
            "hon\n",
            "hon\n",
            "hon\n"
          ]
        }
      ],
      "source": [
        "# Given a string word = \"Python\", print the last three characters.\n",
        "word = \"Python\"\n",
        "# 'hon'\n",
        "\n",
        "# Slicing :\n",
        "# Forward slicing : left to right direction\n",
        "# i : 3 or -3 | Start\n",
        "# j : blank or 5 + 1 = 6 | Stop | What we can't use? Negative Index : -1 + 1 = 0\n",
        "# k : Positive 1 or skip or blank| Step\n",
        "\n",
        "print(word[ 3:6 :1 ])\n",
        "print(word[ -3:6 : ])\n",
        "print(word[ -3: : ])\n",
        "print(word[ -3: ])\n",
        "print(word[ 3: ])\n",
        "# All solutions are right.\n"
      ]
    },
    {
      "cell_type": "code",
      "source": [
        "# len\n",
        "print(len(word[3:]))\n",
        "print(type(word[-3:]))\n"
      ],
      "metadata": {
        "colab": {
          "base_uri": "https://localhost:8080/"
        },
        "id": "jDAD7oqkiyYV",
        "outputId": "135c0825-30a5-412b-cfe9-7f965128657d"
      },
      "execution_count": null,
      "outputs": [
        {
          "output_type": "stream",
          "name": "stdout",
          "text": [
            "3\n",
            "<class 'str'>\n"
          ]
        }
      ]
    },
    {
      "cell_type": "code",
      "source": [
        "len(word)"
      ],
      "metadata": {
        "colab": {
          "base_uri": "https://localhost:8080/"
        },
        "id": "G1Zf1ksNjIzg",
        "outputId": "8aabbc15-092a-4b7c-a05f-9d10cefc8471"
      },
      "execution_count": null,
      "outputs": [
        {
          "output_type": "execute_result",
          "data": {
            "text/plain": [
              "6"
            ]
          },
          "metadata": {},
          "execution_count": 13
        }
      ]
    },
    {
      "cell_type": "code",
      "source": [
        "print(word[-3:len(word)])"
      ],
      "metadata": {
        "colab": {
          "base_uri": "https://localhost:8080/"
        },
        "id": "JOQ4R7CJjEil",
        "outputId": "48f85820-dbc5-4a38-962b-3ac6ffb8435d"
      },
      "execution_count": null,
      "outputs": [
        {
          "output_type": "stream",
          "name": "stdout",
          "text": [
            "hon\n"
          ]
        }
      ]
    },
    {
      "cell_type": "code",
      "source": [
        "# Create a list grades with elements 'A', 'B', 'C', 'D', 'E'. Print only the even-indexed grades.\n",
        "grades = ['A', 'B', 'C', 'D', 'E'] # Slice : ['A', 'C', 'E' ]\n",
        "\n",
        "# Slicing : Forward Slicing\n",
        "# i : blank or 0 or -5\n",
        "# j : blank or 4 + 1 = 5\n",
        "# k : 2 | Every second element is printed\n",
        "\n",
        "print(grades[::2])\n",
        "print(grades[-5::2])\n",
        "print(grades[-5:5:2])"
      ],
      "metadata": {
        "id": "u4PwP7-BbZxa",
        "colab": {
          "base_uri": "https://localhost:8080/"
        },
        "outputId": "9367e35a-01cb-47e9-b85b-74dba97fbeb4"
      },
      "execution_count": null,
      "outputs": [
        {
          "output_type": "stream",
          "name": "stdout",
          "text": [
            "['A', 'C', 'E']\n",
            "['A', 'C', 'E']\n",
            "['A', 'C', 'E']\n"
          ]
        }
      ]
    },
    {
      "cell_type": "code",
      "source": [
        "# Create a list of tuples inventory representing\n",
        "# product details: [(101, \"Laptop\", 1200, 102, \"Mouse\", 20 , 103, \"Keyboard\", 50)].\n",
        "# Print only the product names.\n",
        "inventory = [ (101, \"Laptop\", 1200, 102, \"Mouse\", 20 , 103, \"Keyboard\", 50) ]\n",
        "# Slice : (\"Laptop\",\"Mouse\",\"Keyboard\")\n",
        "# How many elements are there in the list? --> 1\n",
        "print(len(inventory)) # 1\n",
        "\n",
        "# i : 1 or -8\n",
        "# j : 7 + 1 = 8 or -2 +1 = -1 or blank\n",
        "# k : 3\n",
        "print(inventory[0][ 1 : 8 : 3])\n",
        "print(inventory[0][ 1 : -1 : 3])\n",
        "print(inventory[0][ -8 :  : 3])"
      ],
      "metadata": {
        "id": "3H1FLZN1beUU",
        "colab": {
          "base_uri": "https://localhost:8080/"
        },
        "outputId": "d6d9311f-5786-43eb-a605-b3d39caccef6"
      },
      "execution_count": null,
      "outputs": [
        {
          "output_type": "stream",
          "name": "stdout",
          "text": [
            "1\n",
            "('Laptop', 'Mouse', 'Keyboard')\n",
            "('Laptop', 'Mouse', 'Keyboard')\n",
            "('Laptop', 'Mouse', 'Keyboard')\n"
          ]
        }
      ]
    },
    {
      "cell_type": "code",
      "source": [
        "# len() --> will work with all non primitive data types\n",
        "# String, list, tuple, dict, set\n",
        "_tuple = ('Laptop', 'Mouse', 'Keyboard')\n",
        "print(len(_tuple))\n",
        "print(len(inventory[0]))"
      ],
      "metadata": {
        "colab": {
          "base_uri": "https://localhost:8080/"
        },
        "id": "XqRlPi9-mHv2",
        "outputId": "8053ffa9-041b-4656-c635-0813eeb8d3d1"
      },
      "execution_count": null,
      "outputs": [
        {
          "output_type": "stream",
          "name": "stdout",
          "text": [
            "3\n",
            "9\n"
          ]
        }
      ]
    },
    {
      "cell_type": "code",
      "source": [
        "print(type(inventory))\n",
        "print(type(inventory[0]))"
      ],
      "metadata": {
        "colab": {
          "base_uri": "https://localhost:8080/"
        },
        "id": "MA3nH4V7mXhe",
        "outputId": "38c15198-adc9-4380-aea8-982852ef91ae"
      },
      "execution_count": null,
      "outputs": [
        {
          "output_type": "stream",
          "name": "stdout",
          "text": [
            "<class 'list'>\n",
            "<class 'tuple'>\n"
          ]
        }
      ]
    },
    {
      "cell_type": "code",
      "source": [
        "_tuple= ('Laptop', 'Mouse', 'Keyboard')\n",
        "n = len(_tuple) # 3\n",
        "_tuple[n - 1]"
      ],
      "metadata": {
        "colab": {
          "base_uri": "https://localhost:8080/",
          "height": 35
        },
        "id": "pMwJhb-3nLsH",
        "outputId": "7a821a88-cf23-4d50-9f18-108dfbebe1c3"
      },
      "execution_count": null,
      "outputs": [
        {
          "output_type": "execute_result",
          "data": {
            "text/plain": [
              "'Keyboard'"
            ],
            "application/vnd.google.colaboratory.intrinsic+json": {
              "type": "string"
            }
          },
          "metadata": {},
          "execution_count": 29
        }
      ]
    },
    {
      "cell_type": "code",
      "source": [
        "'''\n",
        "Scenario:\n",
        "An online fashion retailer is looking to reduce cart\n",
        "abandonment rates by analyzing the behavior of customers who leave items in\n",
        "their carts without completing a purchase.\n",
        "They believe that studying the sequence of products added to the cart—especially those added just before customers leave—can help in crafting personalized follow-up offers or reminders.\n",
        "\n",
        "The company tracks the order in which products are added to the cart, and they want to understand patterns related to the items added right before abandonment.\n",
        "\n",
        "Question:\n",
        "You are given a list, cart_items = [\"T-shirt\", \"Jeans\", \"Sunglasses\", \"Sneakers\", \"Hat\", \"Belt\", \"Watch\"], representing the items added to a cart in the order the customer selected them. The customer abandoned the cart before checking out.\n",
        "\n",
        "Write a Python function to retrieve every second item from the last item added to the cart using reverse slicing. This analysis will help the retailer understand which products customers tend to consider but not buy.\n",
        "\n",
        "Objective:\n",
        "Use the retrieved data to help the retailer identify accessories or apparel that are frequently considered but left behind, enabling better-targeted follow-up campaigns.\n",
        "\n",
        "Expected Output:\n",
        "['Watch', 'Hat', 'Sunglasses']\n",
        "\n",
        "'''\n",
        "cart_items = [\"T-shirt\", \"Jeans\", \"Sunglasses\", \"Sneakers\", \"Hat\", \"Belt\", \"Watch\"]\n",
        "\n",
        "# ['Watch', 'Hat', 'Sunglasses']\n",
        "# Slicing : Reverse Slicing\n",
        "\n",
        "# i : -1 or 6 or blank\n",
        "# j : index of last element of the slice in the main data -1 | +ve Index : 2 -1 : 1 | -ve Index : -5 -1 : -6\n",
        "# k : neg : Reverse Slicing | -2\n",
        "# minus will tell the python to go reverse and value 2 will the jump\n",
        "print(cart_items[-1:1:-2])\n"
      ],
      "metadata": {
        "id": "M9VaSkCwPyxU",
        "colab": {
          "base_uri": "https://localhost:8080/"
        },
        "outputId": "984233d0-7633-44f4-9204-9617fb235bb3"
      },
      "execution_count": null,
      "outputs": [
        {
          "output_type": "stream",
          "name": "stdout",
          "text": [
            "['Watch', 'Hat', 'Sunglasses']\n"
          ]
        }
      ]
    },
    {
      "cell_type": "code",
      "source": [
        "cart_items = [\"T-shirt\", \"Jeans\", \"Sunglasses\", \"Sneakers\", \"Hat\", \"Belt\", \"Watch\"]"
      ],
      "metadata": {
        "id": "WKMqj0sXqf1g"
      },
      "execution_count": null,
      "outputs": []
    },
    {
      "cell_type": "code",
      "source": [
        "print(cart_items[2::-2])"
      ],
      "metadata": {
        "colab": {
          "base_uri": "https://localhost:8080/"
        },
        "id": "qPto6RTQqFFV",
        "outputId": "438bbbbc-7c07-4b75-9217-0b9517b48e5b"
      },
      "execution_count": null,
      "outputs": [
        {
          "output_type": "stream",
          "name": "stdout",
          "text": [
            "['Sunglasses', 'T-shirt']\n"
          ]
        }
      ]
    },
    {
      "cell_type": "code",
      "source": [
        "# i = 2\n",
        "# j = blank\n",
        "# k = neg 2 (-2)"
      ],
      "metadata": {
        "id": "fik3Gtk4qYxE"
      },
      "execution_count": null,
      "outputs": []
    },
    {
      "cell_type": "code",
      "source": [
        "print(cart_items[2:6:-2])"
      ],
      "metadata": {
        "id": "vE5vvRkfq--v"
      },
      "execution_count": null,
      "outputs": []
    }
  ]
}