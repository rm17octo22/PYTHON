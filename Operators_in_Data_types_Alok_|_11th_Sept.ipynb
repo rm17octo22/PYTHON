{
  "nbformat": 4,
  "nbformat_minor": 0,
  "metadata": {
    "colab": {
      "provenance": [],
      "include_colab_link": true
    },
    "kernelspec": {
      "name": "python3",
      "display_name": "Python 3"
    },
    "language_info": {
      "name": "python"
    }
  },
  "cells": [
    {
      "cell_type": "markdown",
      "metadata": {
        "id": "view-in-github",
        "colab_type": "text"
      },
      "source": [
        "<a href=\"https://colab.research.google.com/github/rm17octo22/PYTHON/blob/main/Operators_in_Data_types_Alok_%7C_11th_Sept.ipynb\" target=\"_parent\"><img src=\"https://colab.research.google.com/assets/colab-badge.svg\" alt=\"Open In Colab\"/></a>"
      ]
    },
    {
      "cell_type": "markdown",
      "source": [
        "#### Arithmetic Operators"
      ],
      "metadata": {
        "id": "HwLn53ZvCWQz"
      }
    },
    {
      "cell_type": "code",
      "source": [
        "# +  : Addition\n",
        "# - : Subtraction\n",
        "# * : Multiplication\n",
        "# /: Division\n",
        "# //: Floor Division (Quotient)\n",
        "# % : Modulo (Remainder)\n",
        "# ** : Exponential"
      ],
      "metadata": {
        "id": "PrhQ1IvXAA-I"
      },
      "execution_count": null,
      "outputs": []
    },
    {
      "cell_type": "code",
      "source": [
        "# 27 : Cube root of 27 | 3\n",
        "27 ** (1/3)"
      ],
      "metadata": {
        "colab": {
          "base_uri": "https://localhost:8080/"
        },
        "id": "pP7lqMqG0u8w",
        "outputId": "b2f882cd-9c53-4d89-87c1-a2023562b52e"
      },
      "execution_count": null,
      "outputs": [
        {
          "output_type": "execute_result",
          "data": {
            "text/plain": [
              "3.0"
            ]
          },
          "metadata": {},
          "execution_count": 1
        }
      ]
    },
    {
      "cell_type": "code",
      "source": [
        "# 87 is divided by 5 | Quotient & remainder\n",
        "print(87 // 5) # Floor Division | Quotient\n",
        "print(87 % 5) # Modulo Operator | Remainder"
      ],
      "metadata": {
        "colab": {
          "base_uri": "https://localhost:8080/"
        },
        "id": "QneFVLq01TkW",
        "outputId": "7d028b31-ddf6-4bf2-896c-3a78ed52afb0"
      },
      "execution_count": null,
      "outputs": [
        {
          "output_type": "stream",
          "name": "stdout",
          "text": [
            "17\n",
            "2\n"
          ]
        }
      ]
    },
    {
      "cell_type": "code",
      "source": [
        "# Even or Odd\n",
        "# Even : If number is divided by 2 | Remainder = 0\n",
        "\n",
        "print(35 % 2) # odd\n",
        "print(40 % 2) # Even"
      ],
      "metadata": {
        "colab": {
          "base_uri": "https://localhost:8080/"
        },
        "id": "naUvhtpf1rbs",
        "outputId": "3dbc4f70-ac72-4fd8-ad75-0dcd49cff55f"
      },
      "execution_count": null,
      "outputs": [
        {
          "output_type": "stream",
          "name": "stdout",
          "text": [
            "1\n",
            "0\n"
          ]
        }
      ]
    },
    {
      "cell_type": "code",
      "source": [
        "# All arithmetic Operators are applicable to Int, Float & Boolean\n",
        "# primitives | +, -, *, /, //, %, **"
      ],
      "metadata": {
        "id": "uFfi-0783BAV"
      },
      "execution_count": null,
      "outputs": []
    },
    {
      "cell_type": "code",
      "source": [
        "# Application on other Data Types | Non primitives\n",
        "# + : Applied on String, List & Tuple | Concatenation | Join\n",
        "# * : Applied on String, List & Tuple | Repeatation\n"
      ],
      "metadata": {
        "id": "1peO6WArFcNw"
      },
      "execution_count": null,
      "outputs": []
    },
    {
      "cell_type": "code",
      "source": [
        "_str1  = 'hello'\n",
        "_str2 = 'world'\n",
        "_str1 +_str2 # helloworld is glued together | concatenated | join\n"
      ],
      "metadata": {
        "colab": {
          "base_uri": "https://localhost:8080/",
          "height": 35
        },
        "id": "6Er7D_RC3OqK",
        "outputId": "f5f59a9b-5a77-448c-96c8-438151e279b0"
      },
      "execution_count": null,
      "outputs": [
        {
          "output_type": "execute_result",
          "data": {
            "text/plain": [
              "'helloworld'"
            ],
            "application/vnd.google.colaboratory.intrinsic+json": {
              "type": "string"
            }
          },
          "metadata": {},
          "execution_count": 5
        }
      ]
    },
    {
      "cell_type": "code",
      "source": [
        "_str1  = 'hello '\n",
        "_str2 = 'world'\n",
        "_str1 +_str2"
      ],
      "metadata": {
        "colab": {
          "base_uri": "https://localhost:8080/",
          "height": 35
        },
        "id": "3fCyKKjc3qmR",
        "outputId": "95aeec8b-9215-40c7-a926-e89303a06ea7"
      },
      "execution_count": null,
      "outputs": [
        {
          "output_type": "execute_result",
          "data": {
            "text/plain": [
              "'hello world'"
            ],
            "application/vnd.google.colaboratory.intrinsic+json": {
              "type": "string"
            }
          },
          "metadata": {},
          "execution_count": 6
        }
      ]
    },
    {
      "cell_type": "code",
      "source": [
        "_str1  = 'hello'\n",
        "_str2 = 'world'\n",
        "_str1 +' ' + _str2"
      ],
      "metadata": {
        "colab": {
          "base_uri": "https://localhost:8080/",
          "height": 35
        },
        "id": "xCAKlqfP2RFy",
        "outputId": "439c9445-ae19-44a9-91ce-6cad995a6d33"
      },
      "execution_count": null,
      "outputs": [
        {
          "output_type": "execute_result",
          "data": {
            "text/plain": [
              "'hello world'"
            ],
            "application/vnd.google.colaboratory.intrinsic+json": {
              "type": "string"
            }
          },
          "metadata": {},
          "execution_count": 7
        }
      ]
    },
    {
      "cell_type": "code",
      "source": [
        "_list1 = [2,3,4]\n",
        "_list2 = [5,6,7]\n",
        "_list1 + _list2 # List with all values concatenated"
      ],
      "metadata": {
        "colab": {
          "base_uri": "https://localhost:8080/"
        },
        "id": "AiWNqBKQ2WVc",
        "outputId": "fe772fb6-ecb4-4756-c4e2-45340bd9965c"
      },
      "execution_count": null,
      "outputs": [
        {
          "output_type": "execute_result",
          "data": {
            "text/plain": [
              "[2, 3, 4, 5, 6, 7]"
            ]
          },
          "metadata": {},
          "execution_count": 8
        }
      ]
    },
    {
      "cell_type": "code",
      "source": [
        "# Tuple : Practice it by yourself."
      ],
      "metadata": {
        "id": "yDblkuzB2hgS"
      },
      "execution_count": null,
      "outputs": []
    },
    {
      "cell_type": "code",
      "source": [
        "# Concatenation with + will always happen with\n",
        "# str + str\n",
        "# list + list\n",
        "# tuple + tuple"
      ],
      "metadata": {
        "id": "4LKo21Y52quu"
      },
      "execution_count": null,
      "outputs": []
    },
    {
      "cell_type": "code",
      "source": [
        "# Repeatation\n",
        "# * :  Multiplication will be done with int\n",
        "_String = 'hello'\n",
        "_String * 5 # Repeats the data"
      ],
      "metadata": {
        "colab": {
          "base_uri": "https://localhost:8080/",
          "height": 35
        },
        "id": "vON2Cgxx38JU",
        "outputId": "7ca72aa0-da44-4f5e-dc15-f6bf10c9a56c"
      },
      "execution_count": null,
      "outputs": [
        {
          "output_type": "execute_result",
          "data": {
            "text/plain": [
              "'hellohellohellohellohello'"
            ],
            "application/vnd.google.colaboratory.intrinsic+json": {
              "type": "string"
            }
          },
          "metadata": {},
          "execution_count": 9
        }
      ]
    },
    {
      "cell_type": "code",
      "source": [
        "# @\n",
        "# @@\n",
        "# @@@\n",
        "# @@@@\n",
        "# @@@@@\n",
        "# Triangle pattern\n",
        "# * --> Repeatation"
      ],
      "metadata": {
        "id": "OdcRxBi841ND"
      },
      "execution_count": null,
      "outputs": []
    },
    {
      "cell_type": "code",
      "source": [],
      "metadata": {
        "colab": {
          "base_uri": "https://localhost:8080/",
          "height": 35
        },
        "id": "bQ06_KmG4wqz",
        "outputId": "79472072-d56a-44e7-e8b1-2df89e746db4"
      },
      "execution_count": null,
      "outputs": [
        {
          "output_type": "execute_result",
          "data": {
            "text/plain": [
              "'hello hello hello hello '"
            ],
            "application/vnd.google.colaboratory.intrinsic+json": {
              "type": "string"
            }
          },
          "metadata": {},
          "execution_count": 42
        }
      ]
    },
    {
      "cell_type": "code",
      "source": [],
      "metadata": {
        "colab": {
          "base_uri": "https://localhost:8080/",
          "height": 35
        },
        "id": "4hN3teFa56AJ",
        "outputId": "fe612ef2-1902-40d0-9359-35f11e141557"
      },
      "execution_count": null,
      "outputs": [
        {
          "output_type": "execute_result",
          "data": {
            "text/plain": [
              "'hello hello hello hello '"
            ],
            "application/vnd.google.colaboratory.intrinsic+json": {
              "type": "string"
            }
          },
          "metadata": {},
          "execution_count": 48
        }
      ]
    },
    {
      "cell_type": "code",
      "source": [
        "# to multiply each element with 4 in a list: For loop"
      ],
      "metadata": {
        "id": "C2c2GtjN4_EC"
      },
      "execution_count": null,
      "outputs": []
    },
    {
      "cell_type": "code",
      "source": [],
      "metadata": {
        "colab": {
          "base_uri": "https://localhost:8080/",
          "height": 35
        },
        "id": "SKI4G9tE5Qq2",
        "outputId": "8e1d9c5c-0d15-4683-850c-f5d56b7c6724"
      },
      "execution_count": null,
      "outputs": [
        {
          "output_type": "execute_result",
          "data": {
            "text/plain": [
              "'abcabcabc'"
            ],
            "application/vnd.google.colaboratory.intrinsic+json": {
              "type": "string"
            }
          },
          "metadata": {},
          "execution_count": 45
        }
      ]
    },
    {
      "cell_type": "code",
      "source": [
        "# + or * --> Applied on string, tuple & list\n",
        "# + : Concat\n",
        "# * : Repeatation"
      ],
      "metadata": {
        "colab": {
          "base_uri": "https://localhost:8080/"
        },
        "id": "B3c22Y-f5ZXn",
        "outputId": "0759a0ef-b6e6-47ec-95e9-76aa92a6079c"
      },
      "execution_count": null,
      "outputs": [
        {
          "output_type": "execute_result",
          "data": {
            "text/plain": [
              "('abc', 'abc', 'abc')"
            ]
          },
          "metadata": {},
          "execution_count": 46
        }
      ]
    },
    {
      "cell_type": "markdown",
      "source": [
        "#### Comparison Operators"
      ],
      "metadata": {
        "id": "-HQknrw3Cam9"
      }
    },
    {
      "cell_type": "code",
      "source": [
        "# ==  : is equal to\n",
        "# != : Not equal to\n",
        "# > : Greater than\n",
        "# < : Smaller than\n",
        "# >= : Greater than or Equal to\n",
        "# <=  : Smaller than or Equal to\n",
        "\n",
        "# Output is boolean | True or False"
      ],
      "metadata": {
        "id": "e_BEvmWZCcVZ"
      },
      "execution_count": null,
      "outputs": []
    },
    {
      "cell_type": "code",
      "source": [
        "# All comparison operators are used with int, float & Boolean\n",
        "45 > True # Output ? --> Python : True : 1 , False : 0"
      ],
      "metadata": {
        "id": "HlOuNMga7oWn",
        "colab": {
          "base_uri": "https://localhost:8080/"
        },
        "outputId": "fc451565-8b46-471a-bf6b-803face5ae37"
      },
      "execution_count": null,
      "outputs": [
        {
          "output_type": "execute_result",
          "data": {
            "text/plain": [
              "True"
            ]
          },
          "metadata": {},
          "execution_count": 10
        }
      ]
    },
    {
      "cell_type": "code",
      "source": [
        "-1 < False # Output ? --> False - 0 | -1 < 0"
      ],
      "metadata": {
        "colab": {
          "base_uri": "https://localhost:8080/"
        },
        "id": "AiSsQSyB329H",
        "outputId": "5d708f40-aefc-4578-c97b-35e1ff397875"
      },
      "execution_count": null,
      "outputs": [
        {
          "output_type": "execute_result",
          "data": {
            "text/plain": [
              "True"
            ]
          },
          "metadata": {},
          "execution_count": 11
        }
      ]
    },
    {
      "cell_type": "code",
      "source": [
        "'a' > 'A' # Why? Unicode assigned to it. 97 > 65"
      ],
      "metadata": {
        "colab": {
          "base_uri": "https://localhost:8080/"
        },
        "id": "ZIVto1CM4MXJ",
        "outputId": "c302d1b7-26f0-4c40-b0c1-293f8f3585dc"
      },
      "execution_count": null,
      "outputs": [
        {
          "output_type": "execute_result",
          "data": {
            "text/plain": [
              "True"
            ]
          },
          "metadata": {},
          "execution_count": 12
        }
      ]
    },
    {
      "cell_type": "code",
      "source": [
        "# We don't use Comparison operator with string, List, tuple, dict, set\n",
        "# Apart from ==, !="
      ],
      "metadata": {
        "id": "qWct7QRq41c1"
      },
      "execution_count": null,
      "outputs": []
    },
    {
      "cell_type": "code",
      "source": [
        "# Application on other data types\n",
        "# == : Applicable on String, List, tuple, Dict & Set\n",
        "# != : Applicable on String, List, tuple, Dict & Set\n"
      ],
      "metadata": {
        "colab": {
          "base_uri": "https://localhost:8080/"
        },
        "id": "z2vzS6l2GS39",
        "outputId": "2621399d-c31e-4774-b346-cb941ff9b904"
      },
      "execution_count": null,
      "outputs": [
        {
          "output_type": "execute_result",
          "data": {
            "text/plain": [
              "True"
            ]
          },
          "metadata": {},
          "execution_count": 56
        }
      ]
    },
    {
      "cell_type": "code",
      "source": [
        "[4,5,6] == [6,7] # False"
      ],
      "metadata": {
        "colab": {
          "base_uri": "https://localhost:8080/"
        },
        "id": "R0Td_zRd5OTt",
        "outputId": "d9372611-619c-44ff-8d2e-dcf2eac6aa02"
      },
      "execution_count": null,
      "outputs": [
        {
          "output_type": "execute_result",
          "data": {
            "text/plain": [
              "False"
            ]
          },
          "metadata": {},
          "execution_count": 13
        }
      ]
    },
    {
      "cell_type": "code",
      "source": [
        "[40,50] > [6,7, 'a'] # Can't Interpret it"
      ],
      "metadata": {
        "colab": {
          "base_uri": "https://localhost:8080/"
        },
        "id": "fGrhEPnL5RBM",
        "outputId": "2a571d90-9b6a-4b54-9cf3-16a907362a3e"
      },
      "execution_count": null,
      "outputs": [
        {
          "output_type": "execute_result",
          "data": {
            "text/plain": [
              "True"
            ]
          },
          "metadata": {},
          "execution_count": 17
        }
      ]
    },
    {
      "cell_type": "code",
      "source": [
        "_list1 = [4,5,6]\n",
        "_list2 = [6,7, 'a']\n",
        "len(_list1) >len(_list2) #False"
      ],
      "metadata": {
        "colab": {
          "base_uri": "https://localhost:8080/"
        },
        "id": "qXm6H3TU5hp_",
        "outputId": "29387525-ab41-4287-cd4d-5381c214da93"
      },
      "execution_count": null,
      "outputs": [
        {
          "output_type": "execute_result",
          "data": {
            "text/plain": [
              "False"
            ]
          },
          "metadata": {},
          "execution_count": 18
        }
      ]
    },
    {
      "cell_type": "code",
      "source": [
        "len(_list1) >= len(_list2) #True\n",
        "# >= : Greater than or equal to"
      ],
      "metadata": {
        "colab": {
          "base_uri": "https://localhost:8080/"
        },
        "id": "pr9v3uiQ5ueE",
        "outputId": "39a8cecb-3c4c-4469-95b1-0370f10a868e"
      },
      "execution_count": null,
      "outputs": [
        {
          "output_type": "execute_result",
          "data": {
            "text/plain": [
              "True"
            ]
          },
          "metadata": {},
          "execution_count": 19
        }
      ]
    },
    {
      "cell_type": "code",
      "source": [
        "# 1 > 0 or 1 < 0\n"
      ],
      "metadata": {
        "colab": {
          "base_uri": "https://localhost:8080/"
        },
        "id": "vd1vZQYG-Veb",
        "outputId": "0afde76a-aabe-47c5-83e3-2535a9a2ae0e"
      },
      "execution_count": null,
      "outputs": [
        {
          "output_type": "execute_result",
          "data": {
            "text/plain": [
              "False"
            ]
          },
          "metadata": {},
          "execution_count": 58
        }
      ]
    },
    {
      "cell_type": "markdown",
      "source": [
        "#### Logical Operators"
      ],
      "metadata": {
        "id": "qi_xmOYiCc9M"
      }
    },
    {
      "cell_type": "code",
      "source": [
        "# and\n",
        "# or\n",
        "# Not\n",
        "# Output :  Boolean\n",
        "# Logical operator is applicable on top of comparison operator\n"
      ],
      "metadata": {
        "colab": {
          "base_uri": "https://localhost:8080/"
        },
        "id": "7War7Dj1CtX8",
        "outputId": "32fa551b-2209-467c-d27d-7456122672eb"
      },
      "execution_count": null,
      "outputs": [
        {
          "output_type": "execute_result",
          "data": {
            "text/plain": [
              "True"
            ]
          },
          "metadata": {},
          "execution_count": 11
        }
      ]
    },
    {
      "cell_type": "code",
      "source": [
        "# input: Function which takes input from user"
      ],
      "metadata": {
        "id": "Z8pgmjIAAByU"
      },
      "execution_count": null,
      "outputs": []
    },
    {
      "cell_type": "code",
      "source": [
        "_weather = input('Enter today\\'s weather: ')\n",
        "_health = input('Are you fit or unfit? : ')"
      ],
      "metadata": {
        "colab": {
          "base_uri": "https://localhost:8080/"
        },
        "id": "h5GPl1TC-4dv",
        "outputId": "dfe84648-4eb2-467d-f390-0f9326e71ea7"
      },
      "execution_count": null,
      "outputs": [
        {
          "name": "stdout",
          "output_type": "stream",
          "text": [
            "Enter today's weather: sunny\n",
            "Are you fit or unfit? : unfit\n"
          ]
        }
      ]
    },
    {
      "cell_type": "code",
      "source": [
        "_Weather ='rainy' # Twist is : your are writing it as an input"
      ],
      "metadata": {
        "id": "A900YgKt663H"
      },
      "execution_count": null,
      "outputs": []
    },
    {
      "cell_type": "code",
      "source": [
        "print(_weather) #\n",
        "print(_health)"
      ],
      "metadata": {
        "colab": {
          "base_uri": "https://localhost:8080/"
        },
        "id": "LOu5jCvD60m3",
        "outputId": "8cecda3b-870b-4f1c-9edc-669480474851"
      },
      "execution_count": null,
      "outputs": [
        {
          "output_type": "stream",
          "name": "stdout",
          "text": [
            "rainy\n",
            "fit\n"
          ]
        }
      ]
    },
    {
      "cell_type": "code",
      "source": [
        "_weather == 'sunny' and _health == 'fit' # False\n",
        "# I want to play cricket only if _weather is sunny and _health is fit\n",
        "# 'rainy' =='sunny' --> False\n",
        "# 'fit' == 'fit' --> True\n",
        "# False and True\n",
        "# and --> both condition must be satisfied | True | Stubborn"
      ],
      "metadata": {
        "colab": {
          "base_uri": "https://localhost:8080/"
        },
        "id": "6_0y6g5v-4GD",
        "outputId": "d80aafe2-8783-455d-bcea-ff21de611b03"
      },
      "execution_count": null,
      "outputs": [
        {
          "output_type": "execute_result",
          "data": {
            "text/plain": [
              "False"
            ]
          },
          "metadata": {},
          "execution_count": 27
        }
      ]
    },
    {
      "cell_type": "code",
      "source": [
        "# And : both conditions must be True\n",
        "# True and True : True\n",
        "# False and True : False\n",
        "# True and False : False\n",
        "# False and False : False"
      ],
      "metadata": {
        "id": "G1mfK3xw7VPe"
      },
      "execution_count": null,
      "outputs": []
    },
    {
      "cell_type": "code",
      "source": [
        "_weather = input('Enter today\\'s weather: ')\n",
        "_health = input('Are you fit or unfit? : ')"
      ],
      "metadata": {
        "colab": {
          "base_uri": "https://localhost:8080/"
        },
        "id": "N8VLewQo8PL2",
        "outputId": "87dbe053-5b89-45ae-b8fd-fc3c37d8b10b"
      },
      "execution_count": null,
      "outputs": [
        {
          "name": "stdout",
          "output_type": "stream",
          "text": [
            "Enter today's weather: sunny\n",
            "Are you fit or unfit? : unfit\n"
          ]
        }
      ]
    },
    {
      "cell_type": "code",
      "source": [
        "_weather == 'sunny' or _health == 'fit'\n",
        "# Or: Any one of condition is True then output is true\n",
        "# True or True : True\n",
        "# True or False : True\n",
        "# False or True : True\n",
        "# False or False : False"
      ],
      "metadata": {
        "colab": {
          "base_uri": "https://localhost:8080/"
        },
        "id": "IllwiK4eAjjF",
        "outputId": "ddca30e2-9d62-4e88-b5ec-f9fa3cf515ce"
      },
      "execution_count": null,
      "outputs": [
        {
          "output_type": "execute_result",
          "data": {
            "text/plain": [
              "True"
            ]
          },
          "metadata": {},
          "execution_count": 29
        }
      ]
    },
    {
      "cell_type": "code",
      "source": [
        "# and , or --> Super important concept | Filter the data"
      ],
      "metadata": {
        "id": "ZOHf1Kip8rcJ"
      },
      "execution_count": null,
      "outputs": []
    },
    {
      "cell_type": "code",
      "source": [
        "# not : Reverse the decision of the output |\n",
        "# If output is False --> True and Vice Versa\n",
        "not(_weather == 'sunny') # Reverse it"
      ],
      "metadata": {
        "colab": {
          "base_uri": "https://localhost:8080/"
        },
        "id": "jpPXOhUGBVdV",
        "outputId": "fd6ce5fe-3f2c-4da4-85b8-13005639766c"
      },
      "execution_count": null,
      "outputs": [
        {
          "output_type": "execute_result",
          "data": {
            "text/plain": [
              "False"
            ]
          },
          "metadata": {},
          "execution_count": 31
        }
      ]
    },
    {
      "cell_type": "code",
      "source": [
        "# not - Highest precedence | Importance\n",
        "# and - Intermediate precedence | Importance\n",
        "# or - Lowest precedence | Importance"
      ],
      "metadata": {
        "id": "9Kth4ag8KQ6C"
      },
      "execution_count": null,
      "outputs": []
    },
    {
      "cell_type": "code",
      "source": [
        "not(False) or True and True\n",
        "# not(False) --> True | True or True and True\n",
        "# True and True --> True | True or True\n",
        "# True or True --> True"
      ],
      "metadata": {
        "colab": {
          "base_uri": "https://localhost:8080/"
        },
        "id": "nT94Xl4X9dIm",
        "outputId": "03102343-17e5-471a-cb4a-d02a8fcb1261"
      },
      "execution_count": null,
      "outputs": [
        {
          "output_type": "execute_result",
          "data": {
            "text/plain": [
              "True"
            ]
          },
          "metadata": {},
          "execution_count": 32
        }
      ]
    },
    {
      "cell_type": "code",
      "source": [
        "not(True) or True and True #\n",
        "# not(True) --> False | False or True and True\n",
        "# True and True --> True  | False or True\n",
        "# False or True --> True"
      ],
      "metadata": {
        "colab": {
          "base_uri": "https://localhost:8080/"
        },
        "id": "F9yVYIak9t1H",
        "outputId": "9175214f-4202-47c2-d98f-40797bb8e9ad"
      },
      "execution_count": null,
      "outputs": [
        {
          "output_type": "execute_result",
          "data": {
            "text/plain": [
              "True"
            ]
          },
          "metadata": {},
          "execution_count": 34
        }
      ]
    },
    {
      "cell_type": "code",
      "source": [
        "# To avoid confusion and ensure the intended order of execution,\n",
        "# it’s often a good practice to use parentheses:\n",
        "# result = not (True or False) and (True or False)"
      ],
      "metadata": {
        "id": "gWNzjsbpKW-h"
      },
      "execution_count": null,
      "outputs": []
    },
    {
      "cell_type": "code",
      "source": [
        " #order of Execution in and , or and not\n",
        " # Not, and , or\n",
        "\n",
        " _x = 10\n",
        " _y = 9\n",
        " _z = 6\n",
        "\n"
      ],
      "metadata": {
        "id": "AMIqwVnQT-xt"
      },
      "execution_count": null,
      "outputs": []
    },
    {
      "cell_type": "code",
      "source": [
        "# Run it by yourself to understand the concept.\n",
        "not(_x > _y) and _y < _z or _x > _z # True"
      ],
      "metadata": {
        "colab": {
          "base_uri": "https://localhost:8080/"
        },
        "id": "uwptzQlJQNH9",
        "outputId": "bfb4afa8-32db-43c2-c003-17db2519a6fb"
      },
      "execution_count": null,
      "outputs": [
        {
          "output_type": "execute_result",
          "data": {
            "text/plain": [
              "True"
            ]
          },
          "metadata": {},
          "execution_count": 52
        }
      ]
    },
    {
      "cell_type": "code",
      "source": [
        "False and True or False\n",
        "# 1: False and True | False : Expression False  or False"
      ],
      "metadata": {
        "colab": {
          "base_uri": "https://localhost:8080/"
        },
        "id": "vnInSIicRI8Y",
        "outputId": "e9f94570-bac0-4ccb-9032-5cc855ad8ea1"
      },
      "execution_count": null,
      "outputs": [
        {
          "output_type": "execute_result",
          "data": {
            "text/plain": [
              "False"
            ]
          },
          "metadata": {},
          "execution_count": 53
        }
      ]
    },
    {
      "cell_type": "code",
      "source": [
        "# and : All conditions must be True to get output as True\n",
        "# True and True : True\n",
        "# False and True : False\n",
        "# True and False : False\n",
        "# False and False : False\n",
        "\n",
        "# or : Atleast one condition should be True to get output as True\n",
        "# True or True : True\n",
        "# False or True : True\n",
        "# True or False : True\n",
        "# False or False : False\n"
      ],
      "metadata": {
        "id": "DCUrUuR3R4O6"
      },
      "execution_count": null,
      "outputs": []
    },
    {
      "cell_type": "markdown",
      "source": [
        "#### Assignment Operators"
      ],
      "metadata": {
        "id": "Ie1O82GrDTul"
      }
    },
    {
      "cell_type": "code",
      "source": [
        "# = : Assignment Operator\n",
        "# Arithmetic Operator & Assignment Operator Combo\n",
        "# +=\n",
        "# -=\n",
        "# *=\n",
        "# /=\n",
        "# %=\n",
        "# //=\n",
        "# **=\n",
        "\n",
        "# What is the role of = ? It assigns the value to any variable\n",
        "_x = 6 # Assigning the value 6 or storing 6 in the variable _x\n"
      ],
      "metadata": {
        "id": "ZeTpB-FXDXDF"
      },
      "execution_count": null,
      "outputs": []
    },
    {
      "cell_type": "code",
      "source": [
        "x = 7 # value of x is 7\n",
        "x  = x + 5 # 7 + 5 # 12 is reassigned to x\n",
        "print(x) # 12"
      ],
      "metadata": {
        "colab": {
          "base_uri": "https://localhost:8080/"
        },
        "id": "u3qMZkZY-0lv",
        "outputId": "a78b5962-3b2c-4989-d574-168bb409f883"
      },
      "execution_count": null,
      "outputs": [
        {
          "output_type": "stream",
          "name": "stdout",
          "text": [
            "12\n"
          ]
        }
      ]
    },
    {
      "cell_type": "code",
      "source": [
        "x = x + 3 # 12 +3 = 15\n",
        "print(x) # 15 is reassigned to x"
      ],
      "metadata": {
        "colab": {
          "base_uri": "https://localhost:8080/"
        },
        "id": "qZYaqiUy_GBG",
        "outputId": "5fa5ac6c-0600-4f10-8a02-c6eb7733f5c4"
      },
      "execution_count": null,
      "outputs": [
        {
          "output_type": "stream",
          "name": "stdout",
          "text": [
            "15\n"
          ]
        }
      ]
    },
    {
      "cell_type": "code",
      "source": [
        "# Shorthand\n",
        "x += 6 # x = x + 6\n",
        "print(x)"
      ],
      "metadata": {
        "colab": {
          "base_uri": "https://localhost:8080/"
        },
        "id": "Yl2Rhc1-_TjN",
        "outputId": "341eb4f7-27fa-4f96-c420-4819d7a8e7a8"
      },
      "execution_count": null,
      "outputs": [
        {
          "output_type": "stream",
          "name": "stdout",
          "text": [
            "21\n"
          ]
        }
      ]
    },
    {
      "cell_type": "code",
      "source": [
        "_x = 9"
      ],
      "metadata": {
        "id": "r8DfYv0l_iPW"
      },
      "execution_count": null,
      "outputs": []
    },
    {
      "cell_type": "code",
      "source": [
        "# _x + 7 vs  _x += 7 ? What's the difference?\n",
        "# Case1 :\n",
        "_x + 7 # it gives output but not stored anywhere | value of _x will not change\n",
        "print(_x) # 9\n",
        "# Case 2 :\n",
        "_x += 7 # It does the addition to 7 to the current value of _x and stores new value to _x\n",
        "print(_x) # 16\n",
        "# _x = _x (current value) + 7"
      ],
      "metadata": {
        "colab": {
          "base_uri": "https://localhost:8080/"
        },
        "id": "PZClhIb4EuuQ",
        "outputId": "7c77e6d1-d21c-4450-b174-d0613499490d"
      },
      "execution_count": null,
      "outputs": [
        {
          "output_type": "stream",
          "name": "stdout",
          "text": [
            "9\n",
            "16\n"
          ]
        }
      ]
    },
    {
      "cell_type": "code",
      "source": [
        "_x =+ 7 # _x = +7\n",
        "print(_x)"
      ],
      "metadata": {
        "colab": {
          "base_uri": "https://localhost:8080/"
        },
        "id": "6R02Dbzv_7Ak",
        "outputId": "9fb2ccb4-6592-4d03-cb03-ddb7e2f76278"
      },
      "execution_count": null,
      "outputs": [
        {
          "output_type": "stream",
          "name": "stdout",
          "text": [
            "7\n"
          ]
        }
      ]
    },
    {
      "cell_type": "code",
      "source": [
        "# # -=\n",
        "# *=\n",
        "# /=\n",
        "# %=\n",
        "# //=\n",
        "# **=\n",
        "\n",
        "_y = 6\n",
        "_y -= 3 # _y = _y - 3\n",
        "print(_y) # 3\n",
        "_y *= 4 # _y = _y * 4\n",
        "print(_y) # 12\n",
        "_y /= 3 # _y = _y / 3\n",
        "print(_y) # 4.0\n",
        "_y %= 2 # _y = _y % 2\n",
        "print(_y) # 0\n",
        "# For loop & While loop i = i +1 / i +=1\n",
        "# Division gives you output as float.\n"
      ],
      "metadata": {
        "colab": {
          "base_uri": "https://localhost:8080/"
        },
        "id": "Mv7YpAk5FZus",
        "outputId": "47d445dc-e15b-4e85-dbc4-fc574320f9a6"
      },
      "execution_count": null,
      "outputs": [
        {
          "output_type": "stream",
          "name": "stdout",
          "text": [
            "3\n",
            "12\n",
            "4.0\n",
            "0.0\n"
          ]
        }
      ]
    },
    {
      "cell_type": "code",
      "source": [
        "7//3 # Floor Division : Quotient"
      ],
      "metadata": {
        "colab": {
          "base_uri": "https://localhost:8080/"
        },
        "id": "p2Qb7atrGZmx",
        "outputId": "9796921a-4720-44ea-9067-4ba2cc1405cf"
      },
      "execution_count": null,
      "outputs": [
        {
          "output_type": "execute_result",
          "data": {
            "text/plain": [
              "2"
            ]
          },
          "metadata": {},
          "execution_count": 17
        }
      ]
    },
    {
      "cell_type": "code",
      "source": [
        "# Assignment operator += will give me Boolean output\n",
        "# True or False |Ans : False"
      ],
      "metadata": {
        "id": "0Rw76DxQAlQg"
      },
      "execution_count": null,
      "outputs": []
    },
    {
      "cell_type": "code",
      "source": [
        "x = 5\n",
        "y = 10\n",
        "x -= y # x = x - y\n",
        "print(x) # -5\n",
        "print(y) # 10 | Are we changing of y?"
      ],
      "metadata": {
        "colab": {
          "base_uri": "https://localhost:8080/"
        },
        "id": "r9EDVc3SA_Sp",
        "outputId": "8319eb43-e778-4382-94b9-d7750650bfc7"
      },
      "execution_count": null,
      "outputs": [
        {
          "output_type": "stream",
          "name": "stdout",
          "text": [
            "-5\n",
            "10\n"
          ]
        }
      ]
    },
    {
      "cell_type": "markdown",
      "source": [
        "#### Membership Operators"
      ],
      "metadata": {
        "id": "2AYZG3H7Ct0V"
      }
    },
    {
      "cell_type": "code",
      "source": [
        "# in , not in | Non Primitive : Collection of elements\n",
        "# Output : True & False | boolean\n",
        "# if any element is present in the list, string, tuple, dict, set | Non primitive Data Types"
      ],
      "metadata": {
        "id": "YalDTCgtCw8E"
      },
      "execution_count": null,
      "outputs": []
    },
    {
      "cell_type": "code",
      "source": [
        "# Example\n",
        "_list = [5,6,7,8]\n",
        "print( 6 in _list) # True\n",
        "print( 9 in _list) # False"
      ],
      "metadata": {
        "id": "rUQUmaAKC0Kj",
        "colab": {
          "base_uri": "https://localhost:8080/"
        },
        "outputId": "0d9a3c56-b061-40ac-bfa9-b279580666c7"
      },
      "execution_count": null,
      "outputs": [
        {
          "output_type": "stream",
          "name": "stdout",
          "text": [
            "True\n",
            "False\n"
          ]
        }
      ]
    },
    {
      "cell_type": "code",
      "source": [
        "print( 6 not in _list) # False\n",
        "print( 9 not in _list) # True"
      ],
      "metadata": {
        "id": "qBD1eYOpDccs",
        "colab": {
          "base_uri": "https://localhost:8080/"
        },
        "outputId": "1362299b-6357-4b31-ae96-ad134ad7ff0b"
      },
      "execution_count": null,
      "outputs": [
        {
          "output_type": "stream",
          "name": "stdout",
          "text": [
            "False\n",
            "True\n"
          ]
        }
      ]
    },
    {
      "cell_type": "code",
      "source": [
        "_list = [4 ,5 , [6,7], 9]\n",
        "print( 6 in _list)\n",
        "print([6,7] in _list)"
      ],
      "metadata": {
        "colab": {
          "base_uri": "https://localhost:8080/"
        },
        "id": "KQkdsDG-CHqb",
        "outputId": "f2274312-92a7-44eb-a303-6fcef6c79e80"
      },
      "execution_count": null,
      "outputs": [
        {
          "output_type": "stream",
          "name": "stdout",
          "text": [
            "False\n",
            "True\n"
          ]
        }
      ]
    },
    {
      "cell_type": "code",
      "source": [
        "# String, List, tuple, Set, Dict\n",
        "_str = 'hello '\n",
        "print(' ' in _str )"
      ],
      "metadata": {
        "colab": {
          "base_uri": "https://localhost:8080/"
        },
        "id": "5csFXB9BCdkO",
        "outputId": "15914ef7-24f0-4e89-9424-97da40d75176"
      },
      "execution_count": null,
      "outputs": [
        {
          "output_type": "stream",
          "name": "stdout",
          "text": [
            "True\n"
          ]
        }
      ]
    },
    {
      "cell_type": "code",
      "source": [
        "_str = 'hello'\n",
        "print(' ' in _str )"
      ],
      "metadata": {
        "colab": {
          "base_uri": "https://localhost:8080/"
        },
        "id": "ctHx8OPfCm9T",
        "outputId": "8fc38a6c-8fb1-41a8-a27a-4f4ed5e5086e"
      },
      "execution_count": null,
      "outputs": [
        {
          "output_type": "stream",
          "name": "stdout",
          "text": [
            "False\n"
          ]
        }
      ]
    },
    {
      "cell_type": "code",
      "source": [
        "_set = {4,5,6,7}\n",
        "print(7 in _set)"
      ],
      "metadata": {
        "colab": {
          "base_uri": "https://localhost:8080/"
        },
        "id": "kgkuvy4SCqPu",
        "outputId": "f9f55e43-6530-444c-e657-8608eb2697f0"
      },
      "execution_count": null,
      "outputs": [
        {
          "output_type": "stream",
          "name": "stdout",
          "text": [
            "True\n"
          ]
        }
      ]
    },
    {
      "cell_type": "code",
      "source": [
        "_dict = {4 : 5, 'a':7, (5,6):9} # Key & value\n",
        "print(7 in _dict) # False | By default _dict --> check in keys\n",
        "print(4 in _dict) # True | 4 as key is present\n",
        "print('a' in _dict) # True\n",
        "print( 9 in _dict) # False"
      ],
      "metadata": {
        "colab": {
          "base_uri": "https://localhost:8080/"
        },
        "id": "_zYM-hVLC4hy",
        "outputId": "71784c4e-891a-4a62-c1ef-e870ee1a7ceb"
      },
      "execution_count": null,
      "outputs": [
        {
          "output_type": "stream",
          "name": "stdout",
          "text": [
            "False\n",
            "True\n",
            "True\n",
            "False\n"
          ]
        }
      ]
    },
    {
      "cell_type": "code",
      "source": [
        "# You want to search in values\n",
        "# .keys(), .values() --> methods\n",
        "print('a' in _dict.keys())# True Specifically mentioned for keys\n",
        "print(9 in _dict.values()) # True | Searching in Values"
      ],
      "metadata": {
        "colab": {
          "base_uri": "https://localhost:8080/"
        },
        "id": "pRvApSaODXjf",
        "outputId": "8a8c87fd-6f14-4e92-96af-6a8bd59b5f1b"
      },
      "execution_count": null,
      "outputs": [
        {
          "output_type": "stream",
          "name": "stdout",
          "text": [
            "True\n",
            "True\n"
          ]
        }
      ]
    },
    {
      "cell_type": "code",
      "source": [
        "# Dictionary | Different\n",
        "_dict = {4:5, 'a':7, (5,6):9}\n",
        "print(4 in _dict)#True # By default it checks keys\n",
        "print( 5 in _dict) # False # By Default it checks keys\n",
        "# Values or keys separately\n",
        "# 2 methods : .keys(), .values()  | Dictionary\n",
        "print(4 in _dict.keys())#True # By default it checks keys\n",
        "print( 5 in _dict.keys()) # False # By Default it checks keys"
      ],
      "metadata": {
        "colab": {
          "base_uri": "https://localhost:8080/"
        },
        "id": "gPncGpcgIFhh",
        "outputId": "f06f3250-3b9e-4126-ccc8-837f2ac20371"
      },
      "execution_count": null,
      "outputs": [
        {
          "output_type": "stream",
          "name": "stdout",
          "text": [
            "True\n",
            "False\n",
            "True\n",
            "False\n"
          ]
        }
      ]
    },
    {
      "cell_type": "markdown",
      "source": [
        "#### Set Operator"
      ],
      "metadata": {
        "id": "kV7gHu1xLKJ6"
      }
    },
    {
      "cell_type": "code",
      "source": [
        "# & : Intersection (Common Element)\n",
        "# | : Union (All Elements)\n",
        "# - : difference (All elements of one set except the common)\n",
        "# ^ : Set Difference (All elements from both sets except the common)\n",
        "\n",
        "_set_1 = {1,2,3,4}\n",
        "_set_2 = {4,5,6}\n",
        "# Intersection : &\n",
        "print(_set_1 & _set_2 )\n",
        "# # Union : | (Pipe)\n",
        "print(_set_1 | _set_2)\n",
        "\n",
        "# # Difference : -\n",
        "print(_set_1 - _set_2) # Elements Only present in _set_1 but not in _set_2\n",
        "print(_set_2 - _set_1 ) # Elements Only present in _set_2 not in _set_1\n",
        "\n",
        "# Set Difference\n",
        "print(_set_1^_set_2) # All elements from both sets except the common"
      ],
      "metadata": {
        "id": "UJKSZudbLLQu",
        "colab": {
          "base_uri": "https://localhost:8080/"
        },
        "outputId": "60a46b05-d28e-41f2-d9e2-6addf7798524"
      },
      "execution_count": null,
      "outputs": [
        {
          "output_type": "stream",
          "name": "stdout",
          "text": [
            "{4}\n",
            "{1, 2, 3, 4, 5, 6}\n",
            "{1, 2, 3}\n",
            "{5, 6}\n",
            "{1, 2, 3, 5, 6}\n"
          ]
        }
      ]
    },
    {
      "cell_type": "code",
      "source": [
        "# Dictionary Keys operate same as set\n",
        "# Same restriction on Data types\n",
        "# Same Operators\n",
        "_dict_1 = {1 : 'a',2 : 'b',3:'c',4:'d'}\n",
        "_dict_2 = {4:'w',5:'u',6:'z'}\n"
      ],
      "metadata": {
        "id": "Za1r1MqGObWU"
      },
      "execution_count": null,
      "outputs": []
    },
    {
      "cell_type": "code",
      "source": [
        "_dict_1.keys() & _dict_2.keys() # Output is similar to set\n",
        "# _dict_1.keys() : 1,2,3,4\n",
        "# _dict_2.keys() : 4,5,6\n",
        "# Intersection of both - {4}\n",
        "# Keys act similar to set"
      ],
      "metadata": {
        "colab": {
          "base_uri": "https://localhost:8080/"
        },
        "id": "11juF90iOt1Z",
        "outputId": "da069b0a-ab13-4dfa-9d72-84ddbd738cb7"
      },
      "execution_count": null,
      "outputs": [
        {
          "output_type": "execute_result",
          "data": {
            "text/plain": [
              "{4}"
            ]
          },
          "metadata": {},
          "execution_count": 49
        }
      ]
    },
    {
      "cell_type": "code",
      "source": [
        "# Dictionary :\n",
        "# properties of keys\n",
        "# Keys - Unique, (List, dict & set as the value not accepted)\n",
        "# Set :\n",
        "# Unique, (List, dict & set as the value not accepted)\n",
        "# That's why : .keys & Sets behave similarly\n",
        "# Set : All Functions or methods applied on set will apply on keys."
      ],
      "metadata": {
        "id": "IIiqK7C5O4-L"
      },
      "execution_count": null,
      "outputs": []
    },
    {
      "cell_type": "code",
      "source": [
        "# import pandas\n",
        "\n",
        "# pandas.read_excel('link',sheet)\n",
        "# pandas.read_csv('link')"
      ],
      "metadata": {
        "id": "iiibNHeIBreE"
      },
      "execution_count": null,
      "outputs": []
    },
    {
      "cell_type": "code",
      "source": [
        "# Linux + Windows : Dual boot : Linux for coding +\n",
        "# Mac\n",
        "# Windows"
      ],
      "metadata": {
        "id": "1UQTHszECRgj"
      },
      "execution_count": null,
      "outputs": []
    },
    {
      "cell_type": "markdown",
      "source": [
        "#### Identity Operator will be discussed with In built Functions & methods."
      ],
      "metadata": {
        "id": "sqb00ENNHxiR"
      }
    }
  ]
}