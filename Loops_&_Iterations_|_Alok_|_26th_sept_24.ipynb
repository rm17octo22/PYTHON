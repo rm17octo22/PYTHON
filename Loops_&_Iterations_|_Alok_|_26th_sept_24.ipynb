{
  "nbformat": 4,
  "nbformat_minor": 0,
  "metadata": {
    "colab": {
      "provenance": [],
      "include_colab_link": true
    },
    "kernelspec": {
      "name": "python3",
      "display_name": "Python 3"
    },
    "language_info": {
      "name": "python"
    }
  },
  "cells": [
    {
      "cell_type": "markdown",
      "metadata": {
        "id": "view-in-github",
        "colab_type": "text"
      },
      "source": [
        "<a href=\"https://colab.research.google.com/github/rm17octo22/PYTHON/blob/main/Loops_%26_Iterations_%7C_Alok_%7C_26th_sept_24.ipynb\" target=\"_parent\"><img src=\"https://colab.research.google.com/assets/colab-badge.svg\" alt=\"Open In Colab\"/></a>"
      ]
    },
    {
      "cell_type": "markdown",
      "source": [
        "#### Introduction to Looping Concepts"
      ],
      "metadata": {
        "id": "LR4Yg3iWJWRT"
      }
    },
    {
      "cell_type": "code",
      "execution_count": null,
      "metadata": {
        "id": "79cSJhquHmQ6"
      },
      "outputs": [],
      "source": [
        "# For Loops are used to iterate over a sequence (such as a list, tuple, dictionary, string, or range).\n",
        "# They allow you to execute a block of code repeatedly for each element in the sequence.\n",
        "\n",
        "# Key Concepts:\n",
        "\n",
        "# Iteration: The process of looping through elements of a sequence.\n",
        "# Loop Variable: The variable that takes the value of each element in the sequence during each iteration.\n",
        "# Accumulation: Using a secondary variable to collect or accumulate results across iterations.\n",
        "\n"
      ]
    },
    {
      "cell_type": "code",
      "source": [
        "# Basic Structure of For loop\n",
        "for item in sequence:\n",
        "\n",
        "    # Code block to execute"
      ],
      "metadata": {
        "id": "A8UtJTsdJLc4"
      },
      "execution_count": null,
      "outputs": []
    },
    {
      "cell_type": "markdown",
      "source": [
        "##### Example 1: Basic For Loop"
      ],
      "metadata": {
        "id": "r2PogxLXJidh"
      }
    },
    {
      "cell_type": "code",
      "source": [
        "\n",
        "# List of numbers\n",
        "numbers = [10, 20, 30, 40, 50] # Collection of elements\n",
        "\n",
        "# Loop through each number and print it\n",
        "for i in numbers :\n",
        "  print(i)\n"
      ],
      "metadata": {
        "id": "Y4RtUVk0JRkg",
        "colab": {
          "base_uri": "https://localhost:8080/"
        },
        "outputId": "5d570eb0-a110-460c-a8d0-61b8cc7d1b28"
      },
      "execution_count": null,
      "outputs": [
        {
          "output_type": "stream",
          "name": "stdout",
          "text": [
            "10\n",
            "20\n",
            "30\n",
            "40\n",
            "50\n"
          ]
        }
      ]
    },
    {
      "cell_type": "code",
      "source": [
        "# 5 Iterations --> 5 elements in the numbers (list)\n",
        "# Interation 1 : i = 10 print(i) --> 10\n",
        "# Interation 2 : i = 20 print(i) --> 20\n",
        "# Interation 3 : i = 30 print(i) --> 30\n",
        "#  Interation 4 : i = 40 print(i) --> 40\n",
        "# Interation 5 : i = 50 print(i) --> 50"
      ],
      "metadata": {
        "id": "TT4EI4GHA1Gm"
      },
      "execution_count": null,
      "outputs": []
    },
    {
      "cell_type": "code",
      "source": [
        "# Python with For\n",
        "# Assign the value in i sequentially : Loop from numbers list.\n",
        "\n"
      ],
      "metadata": {
        "id": "VwqmNlrt8NFD"
      },
      "execution_count": null,
      "outputs": []
    },
    {
      "cell_type": "code",
      "source": [
        "# List of numbers\n",
        "numbers = [98, 34, 56, 40, 50, 100]\n",
        "\n",
        "# Loop through each number and print it\n",
        "for i in numbers:\n",
        "  print(i)\n",
        "\n",
        "# How many iterations will run? 6"
      ],
      "metadata": {
        "colab": {
          "base_uri": "https://localhost:8080/"
        },
        "id": "_oyhq0K7865G",
        "outputId": "21a159c4-bcc2-4fde-f9c5-dfd84257ce67"
      },
      "execution_count": null,
      "outputs": [
        {
          "output_type": "stream",
          "name": "stdout",
          "text": [
            "98\n",
            "34\n",
            "56\n",
            "40\n",
            "50\n",
            "100\n"
          ]
        }
      ]
    },
    {
      "cell_type": "code",
      "source": [],
      "metadata": {
        "id": "Kh5Fu2ns8-yz"
      },
      "execution_count": null,
      "outputs": []
    },
    {
      "cell_type": "markdown",
      "source": [
        "##### Example 2: Using a Secondary Variable to Accumulate Results\n"
      ],
      "metadata": {
        "id": "TJcOe5qCJo6S"
      }
    },
    {
      "cell_type": "code",
      "source": [
        "# List of numbers\n",
        "numbers = [10, 20, 30, 40, 50]\n",
        "# Sum of total elements\n",
        "_total = 0 # Secondary Variable\n",
        "\n",
        "for i in numbers:\n",
        "  _total = _total + i\n",
        "\n",
        "print(_total)\n"
      ],
      "metadata": {
        "id": "0eA5ctf9JfPQ",
        "colab": {
          "base_uri": "https://localhost:8080/"
        },
        "outputId": "4ba60814-a449-4de6-aa15-48f8f78de9f4"
      },
      "execution_count": null,
      "outputs": [
        {
          "output_type": "stream",
          "name": "stdout",
          "text": [
            "150\n"
          ]
        }
      ]
    },
    {
      "cell_type": "code",
      "source": [
        "# Iterations - 5\n",
        "\n",
        "# Iteration 1 :\n",
        "# i = 10\n",
        "# _total = _total + i | _total = 0 + 10 = 10\n",
        "# Iteration 2 :\n",
        "# i = 20\n",
        "# _total = _total + i | _total = 10 + 20 = 30\n",
        "\n",
        "# Iteration 3 :\n",
        "# i = 30\n",
        "# _total = _total + i | _total = 30 + 30 = 60\n",
        "\n",
        "# Iteration 4 :\n",
        "# i = 40\n",
        "# _total = _total + i | _total = 60 + 40 = 100\n",
        "\n",
        "# Iteration 5 :\n",
        "# i = 50\n",
        "# _total = _total + i | _total = 100 + 50 = 150"
      ],
      "metadata": {
        "id": "HMgwIvvTCYCQ"
      },
      "execution_count": null,
      "outputs": []
    },
    {
      "cell_type": "code",
      "source": [
        "sum(numbers)"
      ],
      "metadata": {
        "colab": {
          "base_uri": "https://localhost:8080/"
        },
        "id": "lyJSPmrmAYGM",
        "outputId": "9dabd3f8-bab2-4bae-b76d-7134d15ee703"
      },
      "execution_count": null,
      "outputs": [
        {
          "output_type": "execute_result",
          "data": {
            "text/plain": [
              "15"
            ]
          },
          "metadata": {},
          "execution_count": 4
        }
      ]
    },
    {
      "cell_type": "code",
      "source": [],
      "metadata": {
        "id": "arSlWDb1-WWt"
      },
      "execution_count": null,
      "outputs": []
    },
    {
      "cell_type": "code",
      "source": [
        "# Counting Occurrences of an Element - 'apple'\n",
        "# List of elements\n",
        "elements = ['apple', 'banana', 'apple', 'orange', 'banana', 'apple']\n",
        "_count = 0\n",
        "for i in elements:\n",
        "  if i == 'apple':\n",
        "    _count = _count + 1\n",
        "\n",
        "print(_count)"
      ],
      "metadata": {
        "id": "vh-hLYe2J1QF",
        "colab": {
          "base_uri": "https://localhost:8080/"
        },
        "outputId": "158c6483-40eb-49d6-80ef-d11594cf0499"
      },
      "execution_count": null,
      "outputs": [
        {
          "output_type": "stream",
          "name": "stdout",
          "text": [
            "3\n"
          ]
        }
      ]
    },
    {
      "cell_type": "code",
      "source": [
        "del _count"
      ],
      "metadata": {
        "id": "8vIgKc86ELlT"
      },
      "execution_count": null,
      "outputs": []
    },
    {
      "cell_type": "code",
      "source": [
        "# Iterations - 6\n",
        "\n",
        "# Iteration 1 :\n",
        "# i = 'apple'\n",
        "# if i == 'apple': # True\n",
        "#     _count = _count + 1 # _count = 0 + 1 = 1\n",
        "\n",
        "# Iteration 2 :\n",
        "# i = 'banana'\n",
        "# if i == 'apple': # False\n",
        "#     _count = _count + 1 # This line will not get executed\n",
        "\n",
        "# Iteration 3 :\n",
        "# i = 'apple'\n",
        "# if i == 'apple': # True\n",
        "#     _count = _count + 1 # _count = 1 + 1 = 2\n",
        "\n",
        "# Iteration 4 :\n",
        "# i = 'orange'\n",
        "# if i == 'apple': # False\n",
        "#     _count = _count + 1 # This line will not get executed\n",
        "\n",
        "\n",
        "# Iteration 5 :\n",
        "# i = 'banana'\n",
        "# if i == 'apple': # False\n",
        "#     _count = _count + 1 # This line will not get executed\n",
        "\n",
        "\n",
        "# Iteration 6 :\n",
        "# i = 'apple'\n",
        "# if i == 'apple': # True\n",
        "#     _count = _count + 1 # _count = 2 + 1 = 3"
      ],
      "metadata": {
        "id": "KowOC5MRBAF0"
      },
      "execution_count": null,
      "outputs": []
    },
    {
      "cell_type": "markdown",
      "source": [
        "##### Example 3 : break & continue in loop"
      ],
      "metadata": {
        "id": "5-OVYGPOK4dM"
      }
    },
    {
      "cell_type": "code",
      "source": [
        "# The break statement is used to exit a loop early.\n",
        "numbers = [1, 2, 3, 4, 5]\n",
        "\n",
        "for i in numbers:\n",
        "  if i == 3:\n",
        "    break\n",
        "  print(i)\n"
      ],
      "metadata": {
        "id": "JqXKUOhQJ5vH",
        "colab": {
          "base_uri": "https://localhost:8080/"
        },
        "outputId": "95e5200b-62e4-44a6-c187-fca2ec69ca4a"
      },
      "execution_count": null,
      "outputs": [
        {
          "output_type": "stream",
          "name": "stdout",
          "text": [
            "1\n",
            "2\n"
          ]
        }
      ]
    },
    {
      "cell_type": "code",
      "source": [
        "# Iterations :5  | Ideally\n",
        "# I1 : i = 1\n",
        "# if i == 3: False\n",
        "  #   break # Not executed\n",
        "  # print(i) --> 1\n",
        "\n",
        "# I2 : i = 2\n",
        "# if i == 3: False\n",
        "  #   break # Not executed\n",
        "  # print(i) --> 2\n",
        "\n",
        "# I3 : i = 3\n",
        "# if i == 3: True\n",
        "  #   break # Loop ends\n",
        "  # print(i) --> Not executed\n",
        "\n",
        "# Stopped\n"
      ],
      "metadata": {
        "id": "esRqw-wIDnYX"
      },
      "execution_count": null,
      "outputs": []
    },
    {
      "cell_type": "code",
      "source": [
        "# Using continue in a For Loop\n",
        "# The continue statement skips the current iteration and moves to the next one.\n",
        "numbers = [1, 2, 3, 4, 5]\n",
        "for i in numbers:\n",
        "    if i == 3:\n",
        "        continue  # Skip the iteration when num equals 3\n",
        "    print(i)\n",
        "\n"
      ],
      "metadata": {
        "id": "2d7cRgo7LSUX",
        "colab": {
          "base_uri": "https://localhost:8080/"
        },
        "outputId": "4aeb4bc1-9f4d-4ad8-ec6b-b618dacd44e5"
      },
      "execution_count": null,
      "outputs": [
        {
          "output_type": "stream",
          "name": "stdout",
          "text": [
            "1\n",
            "2\n",
            "4\n",
            "5\n"
          ]
        }
      ]
    },
    {
      "cell_type": "code",
      "source": [
        "# iterations : 5 |Ideally\n",
        "# I1 : i = 1\n",
        "# if i == 3: False\n",
        "#         continue  # not getting executed\n",
        "#     print(i) # Executed --> 1\n",
        "\n",
        "# I2 : i = 2\n",
        "# if i == 3: False\n",
        "#         continue  # not getting executed\n",
        "#     print(i) # Executed --> 2\n",
        "\n",
        "# I3 : i = 3\n",
        "# if i == 3: True\n",
        "#         continue  # Will get executed.\n",
        "#     print(i) # Not get executed --> Jump to next iteration\n",
        "\n",
        "# # I4 : i = 4\n",
        "# if i == 3: False\n",
        "#         continue  # not getting executed\n",
        "#     print(i) # Executed --> 4\n",
        "\n",
        "# # I5 : i = 5\n",
        "# if i == 3: False\n",
        "#         continue  # not getting executed\n",
        "#     print(i) # Executed --> 5"
      ],
      "metadata": {
        "id": "fI_nVNqtEvQr"
      },
      "execution_count": null,
      "outputs": []
    },
    {
      "cell_type": "code",
      "source": [
        "# for i in 345:\n",
        "#   print(i)"
      ],
      "metadata": {
        "colab": {
          "base_uri": "https://localhost:8080/",
          "height": 159
        },
        "id": "g3enlvjdHuij",
        "outputId": "5bb845b7-1bc1-4121-e289-7744bba025b5"
      },
      "execution_count": null,
      "outputs": [
        {
          "output_type": "error",
          "ename": "TypeError",
          "evalue": "'int' object is not iterable",
          "traceback": [
            "\u001b[0;31m---------------------------------------------------------------------------\u001b[0m",
            "\u001b[0;31mTypeError\u001b[0m                                 Traceback (most recent call last)",
            "\u001b[0;32m<ipython-input-13-5af09a5c0185>\u001b[0m in \u001b[0;36m<cell line: 1>\u001b[0;34m()\u001b[0m\n\u001b[0;32m----> 1\u001b[0;31m \u001b[0;32mfor\u001b[0m \u001b[0mi\u001b[0m \u001b[0;32min\u001b[0m \u001b[0;36m345\u001b[0m\u001b[0;34m:\u001b[0m\u001b[0;34m\u001b[0m\u001b[0;34m\u001b[0m\u001b[0m\n\u001b[0m\u001b[1;32m      2\u001b[0m   \u001b[0mprint\u001b[0m\u001b[0;34m(\u001b[0m\u001b[0mi\u001b[0m\u001b[0;34m)\u001b[0m\u001b[0;34m\u001b[0m\u001b[0;34m\u001b[0m\u001b[0m\n",
            "\u001b[0;31mTypeError\u001b[0m: 'int' object is not iterable"
          ]
        }
      ]
    },
    {
      "cell_type": "markdown",
      "source": [
        "##### Example 4:\n",
        "Range: Generate sequences of numbers.\n",
        "\n",
        "Zip: Iterate over multiple sequences.\n",
        "\n",
        "Enumerate: Get index and value."
      ],
      "metadata": {
        "id": "0DEbZoJXRaH5"
      }
    },
    {
      "cell_type": "code",
      "source": [
        "list(range(2,10)) # will 10 be included"
      ],
      "metadata": {
        "colab": {
          "base_uri": "https://localhost:8080/"
        },
        "id": "jlYT22YeIVQK",
        "outputId": "e86d49fb-3de0-48ae-ec0b-fd5a77061144"
      },
      "execution_count": null,
      "outputs": [
        {
          "output_type": "execute_result",
          "data": {
            "text/plain": [
              "[2, 3, 4, 5, 6, 7, 8, 9]"
            ]
          },
          "metadata": {},
          "execution_count": 14
        }
      ]
    },
    {
      "cell_type": "code",
      "source": [
        "_list1 = [23,45,67]\n",
        "_list2 = [3,4,5]\n",
        "\n",
        "list(zip(_list1, _list2))"
      ],
      "metadata": {
        "colab": {
          "base_uri": "https://localhost:8080/"
        },
        "id": "gjDiEFXcIe9f",
        "outputId": "e2135701-adcc-4431-bfff-1f94789d655a"
      },
      "execution_count": null,
      "outputs": [
        {
          "output_type": "execute_result",
          "data": {
            "text/plain": [
              "[(23, 3), (45, 4), (67, 5)]"
            ]
          },
          "metadata": {},
          "execution_count": 15
        }
      ]
    },
    {
      "cell_type": "code",
      "source": [
        "list(enumerate(_list1))"
      ],
      "metadata": {
        "colab": {
          "base_uri": "https://localhost:8080/"
        },
        "id": "t8MAFz59Io1F",
        "outputId": "4b1ec2d4-4d46-4779-ff70-71486c5789c0"
      },
      "execution_count": null,
      "outputs": [
        {
          "output_type": "execute_result",
          "data": {
            "text/plain": [
              "[(0, 23), (1, 45), (2, 67)]"
            ]
          },
          "metadata": {},
          "execution_count": 16
        }
      ]
    },
    {
      "cell_type": "code",
      "source": [
        "# Using range() with For Loops\n",
        "# The range() function generates a sequence of numbers,\n",
        "# which is useful for iterating a specific number of times.\n",
        "for i in range(2,11):\n",
        "    print(i)\n",
        "\n"
      ],
      "metadata": {
        "id": "YJZM5eOMRo98",
        "colab": {
          "base_uri": "https://localhost:8080/"
        },
        "outputId": "23338b06-d0b6-4c42-f368-0e52a8b6de95"
      },
      "execution_count": null,
      "outputs": [
        {
          "output_type": "stream",
          "name": "stdout",
          "text": [
            "2\n",
            "3\n",
            "4\n",
            "5\n",
            "6\n",
            "7\n",
            "8\n",
            "9\n",
            "10\n"
          ]
        }
      ]
    },
    {
      "cell_type": "code",
      "source": [
        "for i in range(9,3, -1):\n",
        "  print(i)"
      ],
      "metadata": {
        "colab": {
          "base_uri": "https://localhost:8080/"
        },
        "id": "8nmwD32dI6Mj",
        "outputId": "89e74b3f-5205-4fc2-8620-6284f934d3a7"
      },
      "execution_count": null,
      "outputs": [
        {
          "output_type": "stream",
          "name": "stdout",
          "text": [
            "9\n",
            "8\n",
            "7\n",
            "6\n",
            "5\n",
            "4\n"
          ]
        }
      ]
    },
    {
      "cell_type": "code",
      "source": [
        "# Using zip() in a For Loop\n",
        "# The zip() function allows you to iterate over two or more sequences simultaneously.\n",
        "amount = [50, 100, 200]\n",
        "dis = [85, 90, 95]\n",
        "\n",
        "# list(zip(amount, dis)) # Index wise\n",
        "# [(50, 85), (100, 90), (200, 95)] --> 3 elements\n",
        "\n",
        "for i in zip(amount, dis):\n",
        "  print(i)\n",
        "\n",
        "#"
      ],
      "metadata": {
        "id": "R-bLBMkXR2VZ",
        "colab": {
          "base_uri": "https://localhost:8080/"
        },
        "outputId": "5b987d80-3699-43c3-a163-564d1bfa06c3"
      },
      "execution_count": null,
      "outputs": [
        {
          "output_type": "stream",
          "name": "stdout",
          "text": [
            "(50, 85)\n",
            "(100, 90)\n",
            "(200, 95)\n"
          ]
        }
      ]
    },
    {
      "cell_type": "code",
      "source": [
        "amount = [50, 100, 200]\n",
        "dis = [85, 90, 95]\n",
        "_int = [45,60]\n",
        "\n",
        "list(zip(amount,dis,_int))\n"
      ],
      "metadata": {
        "colab": {
          "base_uri": "https://localhost:8080/"
        },
        "id": "RQbOtK6TJpD7",
        "outputId": "eda7c87e-3ca7-4dd6-b9fb-3749af40f5b6"
      },
      "execution_count": null,
      "outputs": [
        {
          "output_type": "execute_result",
          "data": {
            "text/plain": [
              "[(50, 85, 45), (100, 90, 60)]"
            ]
          },
          "metadata": {},
          "execution_count": 21
        }
      ]
    },
    {
      "cell_type": "code",
      "source": [
        "# level 2 unpacking\n",
        "# Special case in for loop\n",
        "for i,j in zip(amount, dis):\n",
        "  print(i)\n",
        "  print(j)\n"
      ],
      "metadata": {
        "id": "B_yPNkVTJoT9",
        "colab": {
          "base_uri": "https://localhost:8080/"
        },
        "outputId": "fedf5ec6-7b82-40a2-d9de-979091ed8cac"
      },
      "execution_count": null,
      "outputs": [
        {
          "output_type": "stream",
          "name": "stdout",
          "text": [
            "50\n",
            "85\n",
            "100\n",
            "90\n",
            "200\n",
            "95\n"
          ]
        }
      ]
    },
    {
      "cell_type": "code",
      "source": [
        "for i,j,k in [['a','b','c'], [1,2,3]]:\n",
        "  print(i)\n",
        "  print(j)\n",
        "  print(k)"
      ],
      "metadata": {
        "colab": {
          "base_uri": "https://localhost:8080/"
        },
        "id": "W8pv_VX3J_Eb",
        "outputId": "da41ad12-8df1-449c-e51f-a83f8a41a342"
      },
      "execution_count": null,
      "outputs": [
        {
          "output_type": "stream",
          "name": "stdout",
          "text": [
            "a\n",
            "b\n",
            "c\n",
            "1\n",
            "2\n",
            "3\n"
          ]
        }
      ]
    },
    {
      "cell_type": "code",
      "source": [
        "for i,j,k in [['a','b','c'], [1,2]]:\n",
        "  print(i)\n",
        "  print(j)\n",
        "  print(k)"
      ],
      "metadata": {
        "colab": {
          "base_uri": "https://localhost:8080/",
          "height": 245
        },
        "id": "YcdYsTSYLQZH",
        "outputId": "7c77cb72-b24b-4af5-d15d-a567349729d2"
      },
      "execution_count": null,
      "outputs": [
        {
          "output_type": "stream",
          "name": "stdout",
          "text": [
            "a\n",
            "b\n",
            "c\n"
          ]
        },
        {
          "output_type": "error",
          "ename": "ValueError",
          "evalue": "not enough values to unpack (expected 3, got 2)",
          "traceback": [
            "\u001b[0;31m---------------------------------------------------------------------------\u001b[0m",
            "\u001b[0;31mValueError\u001b[0m                                Traceback (most recent call last)",
            "\u001b[0;32m<ipython-input-24-f6a2b49b23ce>\u001b[0m in \u001b[0;36m<cell line: 1>\u001b[0;34m()\u001b[0m\n\u001b[0;32m----> 1\u001b[0;31m \u001b[0;32mfor\u001b[0m \u001b[0mi\u001b[0m\u001b[0;34m,\u001b[0m\u001b[0mj\u001b[0m\u001b[0;34m,\u001b[0m\u001b[0mk\u001b[0m \u001b[0;32min\u001b[0m \u001b[0;34m[\u001b[0m\u001b[0;34m[\u001b[0m\u001b[0;34m'a'\u001b[0m\u001b[0;34m,\u001b[0m\u001b[0;34m'b'\u001b[0m\u001b[0;34m,\u001b[0m\u001b[0;34m'c'\u001b[0m\u001b[0;34m]\u001b[0m\u001b[0;34m,\u001b[0m \u001b[0;34m[\u001b[0m\u001b[0;36m1\u001b[0m\u001b[0;34m,\u001b[0m\u001b[0;36m2\u001b[0m\u001b[0;34m]\u001b[0m\u001b[0;34m]\u001b[0m\u001b[0;34m:\u001b[0m\u001b[0;34m\u001b[0m\u001b[0;34m\u001b[0m\u001b[0m\n\u001b[0m\u001b[1;32m      2\u001b[0m   \u001b[0mprint\u001b[0m\u001b[0;34m(\u001b[0m\u001b[0mi\u001b[0m\u001b[0;34m)\u001b[0m\u001b[0;34m\u001b[0m\u001b[0;34m\u001b[0m\u001b[0m\n\u001b[1;32m      3\u001b[0m   \u001b[0mprint\u001b[0m\u001b[0;34m(\u001b[0m\u001b[0mj\u001b[0m\u001b[0;34m)\u001b[0m\u001b[0;34m\u001b[0m\u001b[0;34m\u001b[0m\u001b[0m\n\u001b[1;32m      4\u001b[0m   \u001b[0mprint\u001b[0m\u001b[0;34m(\u001b[0m\u001b[0mk\u001b[0m\u001b[0;34m)\u001b[0m\u001b[0;34m\u001b[0m\u001b[0;34m\u001b[0m\u001b[0m\n",
            "\u001b[0;31mValueError\u001b[0m: not enough values to unpack (expected 3, got 2)"
          ]
        }
      ]
    },
    {
      "cell_type": "code",
      "source": [
        "for i,j in [['a','b','c'], [1,2,3]]:\n",
        "  print(i)\n",
        "  print(j)"
      ],
      "metadata": {
        "colab": {
          "base_uri": "https://localhost:8080/",
          "height": 176
        },
        "id": "nP-yEESbLTEr",
        "outputId": "79ed03e6-c604-45a9-e9be-8698cc2f621f"
      },
      "execution_count": null,
      "outputs": [
        {
          "output_type": "error",
          "ename": "ValueError",
          "evalue": "too many values to unpack (expected 2)",
          "traceback": [
            "\u001b[0;31m---------------------------------------------------------------------------\u001b[0m",
            "\u001b[0;31mValueError\u001b[0m                                Traceback (most recent call last)",
            "\u001b[0;32m<ipython-input-25-9068b26773f1>\u001b[0m in \u001b[0;36m<cell line: 1>\u001b[0;34m()\u001b[0m\n\u001b[0;32m----> 1\u001b[0;31m \u001b[0;32mfor\u001b[0m \u001b[0mi\u001b[0m\u001b[0;34m,\u001b[0m\u001b[0mj\u001b[0m \u001b[0;32min\u001b[0m \u001b[0;34m[\u001b[0m\u001b[0;34m[\u001b[0m\u001b[0;34m'a'\u001b[0m\u001b[0;34m,\u001b[0m\u001b[0;34m'b'\u001b[0m\u001b[0;34m,\u001b[0m\u001b[0;34m'c'\u001b[0m\u001b[0;34m]\u001b[0m\u001b[0;34m,\u001b[0m \u001b[0;34m[\u001b[0m\u001b[0;36m1\u001b[0m\u001b[0;34m,\u001b[0m\u001b[0;36m2\u001b[0m\u001b[0;34m,\u001b[0m\u001b[0;36m3\u001b[0m\u001b[0;34m]\u001b[0m\u001b[0;34m]\u001b[0m\u001b[0;34m:\u001b[0m\u001b[0;34m\u001b[0m\u001b[0;34m\u001b[0m\u001b[0m\n\u001b[0m\u001b[1;32m      2\u001b[0m   \u001b[0mprint\u001b[0m\u001b[0;34m(\u001b[0m\u001b[0mi\u001b[0m\u001b[0;34m)\u001b[0m\u001b[0;34m\u001b[0m\u001b[0;34m\u001b[0m\u001b[0m\n\u001b[1;32m      3\u001b[0m   \u001b[0mprint\u001b[0m\u001b[0;34m(\u001b[0m\u001b[0mj\u001b[0m\u001b[0;34m)\u001b[0m\u001b[0;34m\u001b[0m\u001b[0;34m\u001b[0m\u001b[0m\n",
            "\u001b[0;31mValueError\u001b[0m: too many values to unpack (expected 2)"
          ]
        }
      ]
    },
    {
      "cell_type": "code",
      "source": [
        "# Using enumerate() in a For Loop\n",
        "# The enumerate() function adds a counter to an iterable and\n",
        "# returns it in the form of an enumerate object,\n",
        "# which can be useful when you need both the index and the value.\n",
        "\n",
        "subject = ['Data Science', 'Maths', 'Python']\n",
        "for i, j in enumerate(subject):\n",
        "    print(f\"Index {i}: {j}\")\n",
        "\n",
        "# [(0, 'Data Science'), (1, 'Maths'), (2, 'Python')]\n",
        "# I1 : i = 0, j = \"Data Science\"\n",
        "# I2 : i = 1, j = \"Maths\"\n",
        "# I3 : i = 2, j = \"Python\""
      ],
      "metadata": {
        "id": "cT3GJGLFSQBJ",
        "colab": {
          "base_uri": "https://localhost:8080/"
        },
        "outputId": "8c21e5e5-f7d8-40c2-f0fd-cf37b697f3e1"
      },
      "execution_count": null,
      "outputs": [
        {
          "output_type": "stream",
          "name": "stdout",
          "text": [
            "Index 0: Data Science\n",
            "Index 1: Maths\n",
            "Index 2: Python\n"
          ]
        }
      ]
    },
    {
      "cell_type": "code",
      "source": [
        "list(enumerate(subject))"
      ],
      "metadata": {
        "colab": {
          "base_uri": "https://localhost:8080/"
        },
        "id": "viKIW4FfLlWC",
        "outputId": "7d7d0ead-5a6e-4f90-ac35-307c76771a9e"
      },
      "execution_count": null,
      "outputs": [
        {
          "output_type": "execute_result",
          "data": {
            "text/plain": [
              "[(0, 'Data Science'), (1, 'Maths'), (2, 'Python')]"
            ]
          },
          "metadata": {},
          "execution_count": 28
        }
      ]
    },
    {
      "cell_type": "code",
      "source": [
        "subject = ['Data Science', 'Maths', 'Python']\n",
        "for _index, _sub in enumerate(subject):\n",
        "    print(f\"Index {_index}: {_sub}\")"
      ],
      "metadata": {
        "colab": {
          "base_uri": "https://localhost:8080/"
        },
        "id": "6xrRUqCMNxSg",
        "outputId": "b2aa5229-d80d-4477-9994-0482a6002cc7"
      },
      "execution_count": null,
      "outputs": [
        {
          "output_type": "stream",
          "name": "stdout",
          "text": [
            "Index 0: Data Science\n",
            "Index 1: Maths\n",
            "Index 2: Python\n"
          ]
        }
      ]
    },
    {
      "cell_type": "markdown",
      "source": [
        "#### Practice Questions"
      ],
      "metadata": {
        "id": "zMoOgDQjRSoh"
      }
    },
    {
      "cell_type": "code",
      "source": [
        "# Question 1 :\n",
        "'''\n",
        "Write a Python program that prints the square of each number from 1 to 10.\n",
        "\n",
        "Hint: Use the range function to generate numbers from 1 to 10.\n",
        "'''\n",
        "\n",
        "a = int(input('Enter the lower limit:'))\n",
        "b = int(input('Enter the upper limit:'))\n",
        "\n",
        "for i in range(a, b+1):\n",
        "  print(f'Square of {i} : {i**2}')\n",
        "\n",
        "# Iterations\n",
        "# i = 1 , 1**2 = 1"
      ],
      "metadata": {
        "id": "uMLAKyrrRVSx",
        "colab": {
          "base_uri": "https://localhost:8080/"
        },
        "outputId": "dab6932a-f9df-4e8b-e401-4b851d5584c8"
      },
      "execution_count": null,
      "outputs": [
        {
          "output_type": "stream",
          "name": "stdout",
          "text": [
            "Enter the lower limit:679\n",
            "Enter the upper limit:694\n",
            "Square of 679 : 461041\n",
            "Square of 680 : 462400\n",
            "Square of 681 : 463761\n",
            "Square of 682 : 465124\n",
            "Square of 683 : 466489\n",
            "Square of 684 : 467856\n",
            "Square of 685 : 469225\n",
            "Square of 686 : 470596\n",
            "Square of 687 : 471969\n",
            "Square of 688 : 473344\n",
            "Square of 689 : 474721\n",
            "Square of 690 : 476100\n",
            "Square of 691 : 477481\n",
            "Square of 692 : 478864\n",
            "Square of 693 : 480249\n",
            "Square of 694 : 481636\n"
          ]
        }
      ]
    },
    {
      "cell_type": "code",
      "source": [
        "# Question 2 :\n",
        "'''\n",
        "You have a list of numbers:\n",
        "\n",
        "numbers = [23, 56, 32, 78, 45, 43, 10]\n",
        "Write a Python program to print each number in the list followed by whether it is \"Even\" or \"Odd\".\n",
        "'''\n",
        "# Expected Output:\n",
        "\n",
        "# 23 - Odd\n",
        "# 56 - Even\n",
        "# 32 - Even\n",
        "# 78 - Even\n",
        "# 45 - Odd\n",
        "# 43 - Odd\n",
        "# 10 - Even\n",
        "\n",
        "numbers = [23, 56, 32, 78, 45, 43, 10]\n",
        "\n",
        "for i in numbers:\n",
        "  if i % 2 ==0:\n",
        "    print(f'{i} - Even')\n",
        "  else:\n",
        "    print(f'{i} - Odd')\n",
        "\n",
        "\n"
      ],
      "metadata": {
        "id": "w26K4l0SU0r9",
        "colab": {
          "base_uri": "https://localhost:8080/"
        },
        "outputId": "6e86e1e5-d95a-4b71-e8cb-b7dcec43212f"
      },
      "execution_count": null,
      "outputs": [
        {
          "output_type": "stream",
          "name": "stdout",
          "text": [
            "23 - Odd\n",
            "56 - Even\n",
            "32 - Even\n",
            "78 - Even\n",
            "45 - Odd\n",
            "43 - Odd\n",
            "10 - Even\n"
          ]
        }
      ]
    },
    {
      "cell_type": "code",
      "source": [
        "# Question 3:\n",
        "'''\n",
        "# Find Factor:\n",
        "# Given a number (e.g., 12), find and print its factors using a for loop.\n",
        "# 12 : # Factors of 12\n",
        "# 1\n",
        "# 2\n",
        "# 3\n",
        "# 4\n",
        "# 6\n",
        "# 12\n",
        "'''\n",
        "\n",
        "_number = int(input('Enter the number:')) # 20\n",
        "\n",
        "for _var in range(1,_number + 1):# range(1,21) --> 1-20\n",
        "  if _number % _var ==0:\n",
        "    print(f'{_number} is divisible by {_var}')\n"
      ],
      "metadata": {
        "id": "n-QOyEi1VQM4",
        "colab": {
          "base_uri": "https://localhost:8080/"
        },
        "outputId": "03a9a7ee-dd01-40e3-ecf0-4ebf1c469aaf"
      },
      "execution_count": null,
      "outputs": [
        {
          "output_type": "stream",
          "name": "stdout",
          "text": [
            "Enter the number:20\n",
            "20 is divisible by 1\n",
            "20 is divisible by 2\n",
            "20 is divisible by 4\n",
            "20 is divisible by 5\n",
            "20 is divisible by 10\n",
            "20 is divisible by 20\n"
          ]
        }
      ]
    },
    {
      "cell_type": "code",
      "source": [
        "# Fundamentals of Logic building in For loop-\n",
        "# Inputs -- values which you need an input\n",
        "\n",
        "# Logic --\n",
        "# Collection of elements on which for loop will run\n",
        "# Value of i : How values are changing?- Sequentially\n",
        "# What are you going to do with i?\n",
        "\n",
        "# Output"
      ],
      "metadata": {
        "id": "R7VOLKt6OOzX"
      },
      "execution_count": null,
      "outputs": []
    },
    {
      "cell_type": "code",
      "source": [
        "'''\n",
        "sir why it is false while doing if (0.2 + 0.3 == 0.3):\n",
        "print(\"True\")\n",
        "else:\n",
        "print(\"False\") ??\n",
        "\n",
        "'''\n",
        "# (2.2 + 0.1)"
      ],
      "metadata": {
        "colab": {
          "base_uri": "https://localhost:8080/"
        },
        "id": "-fR-F3iHQaNm",
        "outputId": "34ddaebe-6c8f-4829-c286-40f25b95510b"
      },
      "execution_count": null,
      "outputs": [
        {
          "output_type": "execute_result",
          "data": {
            "text/plain": [
              "2.3000000000000003"
            ]
          },
          "metadata": {},
          "execution_count": 41
        }
      ]
    },
    {
      "cell_type": "code",
      "source": [
        "_tup = (1,2,3,4)\n",
        "# Remove 4\n",
        "_list = list(_tup)\n",
        "_list.remove(4)\n",
        "_tup = tuple(_list)\n",
        "print(_tup)"
      ],
      "metadata": {
        "colab": {
          "base_uri": "https://localhost:8080/"
        },
        "id": "vwZyi41XQ7Dp",
        "outputId": "9a7d4213-18dd-4ebe-cc32-76bea3714cc2"
      },
      "execution_count": null,
      "outputs": [
        {
          "output_type": "stream",
          "name": "stdout",
          "text": [
            "(1, 2, 3)\n"
          ]
        }
      ]
    },
    {
      "cell_type": "code",
      "source": [
        "# Question 4 :\n",
        "'''\n",
        "Write a Python function that iterates through a list of numbers\n",
        "and accumulates the sum of all even numbers.\n",
        "\n",
        "'''\n",
        "numbers = [1, 2, 3, 4, 5, 6, 7, 8, 9, 10]\n",
        "\n"
      ],
      "metadata": {
        "id": "Ho9HBz_GVwu5"
      },
      "execution_count": null,
      "outputs": []
    },
    {
      "cell_type": "code",
      "source": [
        "# Question 5 :\n",
        "'''\n",
        "Calculate the sum of squares of numbers from 1 to n using a for loop.\n",
        "1^2 + 2^2 + 3^2 + 4^2 + 5^2..n^2\n",
        "\n",
        "'''\n"
      ],
      "metadata": {
        "id": "KdOfoZEpV8jb",
        "colab": {
          "base_uri": "https://localhost:8080/"
        },
        "outputId": "2613cb64-5d4f-4196-ee99-365bf4a1d942"
      },
      "execution_count": null,
      "outputs": [
        {
          "output_type": "stream",
          "name": "stdout",
          "text": [
            "Enter the value:5\n",
            "55\n"
          ]
        }
      ]
    },
    {
      "cell_type": "code",
      "source": [
        "# Question 6 :\n",
        "'''\n",
        "Calculate the sum of numbers from 1 to n using a for loop.\n",
        "1/1^3 + 1/2^2 + 1/3^3 + 1/4^2 + 1/5^3....\n",
        "\n",
        "Odd - cube\n",
        "Even - Square\n",
        "'''\n",
        "\n",
        "\n",
        "\n",
        "\n",
        "\n"
      ],
      "metadata": {
        "id": "prBJ6H8TWRLw"
      },
      "execution_count": null,
      "outputs": []
    },
    {
      "cell_type": "code",
      "source": [
        "# Question 7 :\n",
        "'''\n",
        "Find the Factorial of any number\n",
        "0! = 1\n",
        "5! =  1 * 2 * 3 * 4 *5\n",
        "1! = 1\n",
        "2! = 1*2\n",
        "'''\n"
      ],
      "metadata": {
        "id": "sq6GUi6LWxJT",
        "colab": {
          "base_uri": "https://localhost:8080/"
        },
        "outputId": "7c5c7816-6489-48b8-fbc7-db3fd4143184"
      },
      "execution_count": null,
      "outputs": [
        {
          "output_type": "stream",
          "name": "stdout",
          "text": [
            "Enter the value:2\n",
            "2\n"
          ]
        }
      ]
    },
    {
      "cell_type": "code",
      "source": [
        "# Question 8 :\n",
        "'''\n",
        "For any num print the total sum of digits\n",
        "Input : 123  Output  1+2+3= 6\n",
        "'''\n",
        "\n"
      ],
      "metadata": {
        "id": "eNxa7WgOXPbH",
        "colab": {
          "base_uri": "https://localhost:8080/"
        },
        "outputId": "1129b218-a756-462b-e514-3994b87b3eba"
      },
      "execution_count": null,
      "outputs": [
        {
          "output_type": "stream",
          "name": "stdout",
          "text": [
            "Enter the number:123\n",
            "6\n"
          ]
        }
      ]
    },
    {
      "cell_type": "code",
      "source": [],
      "metadata": {
        "id": "deXJN5Q3sB5G"
      },
      "execution_count": null,
      "outputs": []
    },
    {
      "cell_type": "code",
      "source": [
        "# Question 9 :\n",
        "'''\n",
        "Write a Python function that takes an integer as input and checks whether it is a prime number.\n",
        "A prime number is a number greater than 1 that has no divisors other than 1 and itself.\n",
        "'''\n",
        "\n"
      ],
      "metadata": {
        "id": "ZmqyrSM7XZif",
        "colab": {
          "base_uri": "https://localhost:8080/"
        },
        "outputId": "f297224e-bc39-427b-a83f-3a6afc9f793c"
      },
      "execution_count": null,
      "outputs": [
        {
          "output_type": "stream",
          "name": "stdout",
          "text": [
            "Enter the number6666666666666666666\n",
            "False\n"
          ]
        }
      ]
    },
    {
      "cell_type": "code",
      "source": [
        "# Question 10 :\n",
        "'''\n",
        "Write a Python function that iterates through a list of items using enumerate(). If an item is out of stock (represented by None),\n",
        "use the continue statement to skip printing that item. Otherwise, print the index and item name.\n",
        "shopping_list = ['apples', None, 'bread', 'milk', None, 'eggs']\n",
        "'''\n",
        "shopping_list = ['apples', None, 'bread', 'milk', None, 'eggs']\n",
        "\n",
        "\n"
      ],
      "metadata": {
        "id": "SX5dzFB0ZuVY",
        "colab": {
          "base_uri": "https://localhost:8080/"
        },
        "outputId": "9ef1412a-417d-41c8-e951-090558739dec"
      },
      "execution_count": null,
      "outputs": [
        {
          "output_type": "stream",
          "name": "stdout",
          "text": [
            "0 apples\n",
            "2 bread\n",
            "3 milk\n",
            "5 eggs\n"
          ]
        }
      ]
    },
    {
      "cell_type": "code",
      "source": [
        "# Question 11 : Pattern questions\n",
        "'''\n",
        "Write a Python program to print the following pattern based on depth on n\n",
        "n = 5\n",
        "*\n",
        "**\n",
        "***\n",
        "****\n",
        "*****\n",
        "'''\n"
      ],
      "metadata": {
        "id": "0PMTfnYhaE5r",
        "colab": {
          "base_uri": "https://localhost:8080/"
        },
        "outputId": "2c9c3df4-335f-445c-b1fa-2a567e208242"
      },
      "execution_count": null,
      "outputs": [
        {
          "output_type": "stream",
          "name": "stdout",
          "text": [
            "Enter the depth of pattern:5\n",
            "*\n",
            "**\n",
            "***\n",
            "****\n",
            "*****\n"
          ]
        }
      ]
    },
    {
      "cell_type": "code",
      "source": [
        "# '*' * 4"
      ],
      "metadata": {
        "colab": {
          "base_uri": "https://localhost:8080/",
          "height": 35
        },
        "id": "vWB88D2JerCW",
        "outputId": "17689e8b-bf65-4024-89fb-701d1a7645aa"
      },
      "execution_count": null,
      "outputs": [
        {
          "output_type": "execute_result",
          "data": {
            "text/plain": [
              "'****'"
            ],
            "application/vnd.google.colaboratory.intrinsic+json": {
              "type": "string"
            }
          },
          "metadata": {},
          "execution_count": 15
        }
      ]
    },
    {
      "cell_type": "code",
      "source": [
        "# Question 12:\n",
        "'''\n",
        "# Looping over dictionary and find the defective product\n",
        "'''\n",
        "ex = {'Product A': False, 'Product B': True, 'Product C': False, 'Product D': False, 'Product E': True }\n",
        "\n"
      ],
      "metadata": {
        "id": "O2JA0CT6kb7N",
        "colab": {
          "base_uri": "https://localhost:8080/"
        },
        "outputId": "d81132ff-01dc-49e9-a6e6-5b20c5114285"
      },
      "execution_count": null,
      "outputs": [
        {
          "output_type": "stream",
          "name": "stdout",
          "text": [
            "Product A\n",
            "Product C\n",
            "Product D\n"
          ]
        }
      ]
    },
    {
      "cell_type": "code",
      "source": [
        "# Question 13 :\n",
        "'''\n",
        "#Find the links not working from the log data\n",
        "'''\n",
        "log = { '/home' : 200, '/about':200, '/home/product':200, '/home/product/electronic': 404,'/home/product/fashion': 200 }\n",
        "\n",
        "\n"
      ],
      "metadata": {
        "id": "NEGwjE_4oDi0",
        "colab": {
          "base_uri": "https://localhost:8080/"
        },
        "outputId": "8dda98f8-0507-4adb-dd94-c191c9105de3"
      },
      "execution_count": null,
      "outputs": [
        {
          "output_type": "stream",
          "name": "stdout",
          "text": [
            "/home/product/electronic\n"
          ]
        }
      ]
    },
    {
      "cell_type": "code",
      "source": [],
      "metadata": {
        "id": "fPuYo0tgijh0"
      },
      "execution_count": null,
      "outputs": []
    },
    {
      "cell_type": "code",
      "source": [
        "# Question 14:\n",
        "\n",
        "# Print the longest word in the sentence\n"
      ],
      "metadata": {
        "id": "jS7y31WFkxIf",
        "colab": {
          "base_uri": "https://localhost:8080/"
        },
        "outputId": "251f6ea1-18df-418b-97cf-07763524eef4"
      },
      "execution_count": null,
      "outputs": [
        {
          "output_type": "stream",
          "name": "stdout",
          "text": [
            "interesting\n"
          ]
        }
      ]
    },
    {
      "cell_type": "code",
      "source": [
        "# Question 15:\n",
        "'''\n",
        "Write a program that counts the number of vowels in a given string.\n",
        "\n",
        "Expected output\n",
        "\n",
        "# String : 'AlmaBetter' output : 4\n",
        "# String : 'Data Science' output : 5\n",
        "'''\n",
        "\n"
      ],
      "metadata": {
        "id": "0uAP-J8ziVEu",
        "colab": {
          "base_uri": "https://localhost:8080/"
        },
        "outputId": "c1b0236e-9221-4a46-9472-c32d58eae749"
      },
      "execution_count": null,
      "outputs": [
        {
          "output_type": "stream",
          "name": "stdout",
          "text": [
            "Enter the word:AlmaBetter\n",
            "4\n"
          ]
        }
      ]
    },
    {
      "cell_type": "code",
      "source": [
        "# Question 16:\n",
        "'''\n",
        "Create a dictionary with key as unique characters in a word\n",
        "and value as number of times character is repeating\n",
        "Input : 'AlmaBetter' output : {'A': 1, 'a': 1, 't': 2, 'm': 1, 'e': 2, 'r': 1, 'l': 1, 'B': 1}\n",
        "Input : 'Data' output : {'D': 1, 'a': 2, 't': 1}\n",
        "'''\n"
      ],
      "metadata": {
        "id": "1lwUVERwk3wM",
        "colab": {
          "base_uri": "https://localhost:8080/"
        },
        "outputId": "ec5e85e8-69e4-48b5-8f4e-caee621eeafc"
      },
      "execution_count": null,
      "outputs": [
        {
          "output_type": "stream",
          "name": "stdout",
          "text": [
            "Enter the word:AlmaBetter\n",
            "{'A': 1, 'l': 1, 'm': 1, 'a': 1, 'B': 1, 'e': 2, 't': 2, 'r': 1}\n"
          ]
        }
      ]
    },
    {
      "cell_type": "code",
      "source": [],
      "metadata": {
        "id": "5j2w5Vpqnxwo"
      },
      "execution_count": null,
      "outputs": []
    },
    {
      "cell_type": "code",
      "source": [
        "# Question 17:\n",
        "# Provide the output as even values in the list  as input\n",
        "# _list = [3,4,5,6,7,8] , output = [4,6,8]\n",
        "\n",
        "_list = [3,4,5,6,7,8]\n",
        "output = []\n",
        "for i in _list:\n",
        "  if i % 2 == 0 :\n",
        "    output.append(i)\n",
        "print(output)\n",
        "# Append : Method, it adds one element as the end"
      ],
      "metadata": {
        "colab": {
          "base_uri": "https://localhost:8080/"
        },
        "id": "9HcdU5YBodZ7",
        "outputId": "c9a1415f-4395-4350-a795-1cbe3eddfe86"
      },
      "execution_count": null,
      "outputs": [
        {
          "output_type": "stream",
          "name": "stdout",
          "text": [
            "[4, 6, 8]\n"
          ]
        }
      ]
    },
    {
      "cell_type": "code",
      "source": [
        "# Question 18:\n",
        "# Input : Word - 'AlmaBetter' --> 'lmBttr' | Consonants\n",
        "\n"
      ],
      "metadata": {
        "colab": {
          "base_uri": "https://localhost:8080/"
        },
        "id": "3DxqPsb5pwES",
        "outputId": "227f41e1-a18a-4c95-b19e-3c76a587220b"
      },
      "execution_count": null,
      "outputs": [
        {
          "output_type": "stream",
          "name": "stdout",
          "text": [
            "Enter the word:AlmaBetter\n",
            "lmBttr\n"
          ]
        }
      ]
    },
    {
      "cell_type": "markdown",
      "source": [
        "#### Nested For loop"
      ],
      "metadata": {
        "id": "8pubZPaLmljt"
      }
    },
    {
      "cell_type": "code",
      "source": [
        "# Practice\n",
        "# Nested for loop means\n",
        "# For loop inside the for loop\n",
        "for i in ...:\n",
        "  for j in ...:\n",
        "    for k in ...:\n"
      ],
      "metadata": {
        "id": "GT9RXaNjoZxV"
      },
      "execution_count": null,
      "outputs": []
    },
    {
      "cell_type": "code",
      "source": [
        "list_1 = [1,2,3,4]\n",
        "list_2 = ['a','b','c','d']\n",
        "\n",
        "for i in list_1:\n",
        "  for j in list_2:\n",
        "    print(f'Value of i: {i} and Value of j : {j}')\n"
      ],
      "metadata": {
        "id": "Glj5o3-7ongl",
        "colab": {
          "base_uri": "https://localhost:8080/"
        },
        "outputId": "f3f6a9c1-9c7f-4f68-f1f9-ff97fa34616f"
      },
      "execution_count": null,
      "outputs": [
        {
          "output_type": "stream",
          "name": "stdout",
          "text": [
            "Value of i: 1 and Value of j : a\n",
            "Value of i: 1 and Value of j : b\n",
            "Value of i: 1 and Value of j : c\n",
            "Value of i: 1 and Value of j : d\n",
            "Value of i: 2 and Value of j : a\n",
            "Value of i: 2 and Value of j : b\n",
            "Value of i: 2 and Value of j : c\n",
            "Value of i: 2 and Value of j : d\n",
            "Value of i: 3 and Value of j : a\n",
            "Value of i: 3 and Value of j : b\n",
            "Value of i: 3 and Value of j : c\n",
            "Value of i: 3 and Value of j : d\n",
            "Value of i: 4 and Value of j : a\n",
            "Value of i: 4 and Value of j : b\n",
            "Value of i: 4 and Value of j : c\n",
            "Value of i: 4 and Value of j : d\n"
          ]
        }
      ]
    },
    {
      "cell_type": "code",
      "source": [
        "# Question 16: Nested for loop\n",
        "'''\n",
        "Print this pattern -\n",
        "1\n",
        "12\n",
        "123\n",
        "1234\n",
        "12345\n",
        "'''\n",
        "\n"
      ],
      "metadata": {
        "colab": {
          "base_uri": "https://localhost:8080/"
        },
        "id": "g_5hX8fcj47m",
        "outputId": "371d4b21-b4f6-47fa-9cb4-dd73a411a24a"
      },
      "execution_count": null,
      "outputs": [
        {
          "output_type": "stream",
          "name": "stdout",
          "text": [
            "5\n",
            "1\n",
            "12\n",
            "123\n",
            "1234\n",
            "12345\n"
          ]
        }
      ]
    },
    {
      "cell_type": "markdown",
      "source": [
        "#### Self Practice (6 Questions + 3 Questions present on dasboard)"
      ],
      "metadata": {
        "id": "vWW3e_LWaiUx"
      }
    },
    {
      "cell_type": "code",
      "source": [
        "# Question 1 : (Easy)\n",
        "'''\n",
        "For any num print the total sum of digits applying the logic of if number is even do square, else do cube\n",
        "\n",
        "Input : 123  Output = 32  # 1^3 + 2^2 + 3^3 = 1 + 4 + 27\n",
        "Input : 467  Output  = 395  # 4 ^ 2 + 6 ^ 2 + 7 ^3 = 16 + 36 + 343\n",
        "\n",
        "'''\n",
        "\n",
        "\n",
        "\n"
      ],
      "metadata": {
        "colab": {
          "base_uri": "https://localhost:8080/"
        },
        "id": "i0-obOWhfWiu",
        "outputId": "a988ba43-ed07-4c8a-ee5e-0791c6297b50"
      },
      "execution_count": null,
      "outputs": [
        {
          "output_type": "stream",
          "name": "stdout",
          "text": [
            "32\n"
          ]
        }
      ]
    },
    {
      "cell_type": "code",
      "source": [
        "# Question 2: (hard)\n",
        "'''\n",
        "The Fibonacci series is a sequence of numbers where each number is\n",
        "the sum of the two preceding ones, starting from 0 and 1.\n",
        "The series begins as follows:\n",
        "\n",
        "# Fibonacci Series : 0, 1, 1, 2, 3, 5, 8, 13, 21, 34,...\n",
        "# input = 0 , fibonacci_output = [0]\n",
        "# input = 1 , fibonacci_output = [0,1]\n",
        "# input = 2 , fibonacci_output = [0,1,1]\n",
        "# input = 3 , fibonacci_output = [0,1,1,2]\n",
        "# input = 4 , fibonacci_output = [0,1,1,2,3]\n",
        "# input = 5 , fibonacci_output = [0,1,1,2,3,5] # till 5th index print the fibonacci series\n",
        "'''\n",
        "\n"
      ],
      "metadata": {
        "id": "Dgxs6L3AnBS9",
        "colab": {
          "base_uri": "https://localhost:8080/"
        },
        "outputId": "27853d95-67db-4f61-cc0f-4cf394c22987"
      },
      "execution_count": null,
      "outputs": [
        {
          "output_type": "stream",
          "name": "stdout",
          "text": [
            "4\n",
            "[0, 1, 1, 2, 3]\n"
          ]
        }
      ]
    },
    {
      "cell_type": "code",
      "source": [
        "# Question 3: (Hard)\n",
        "'''\n",
        "Print the pyramid pattern using a for loop.\n",
        "     *\n",
        "    ***\n",
        "   *****\n",
        "  *******\n",
        " *********\n",
        "***********\n",
        "'''\n"
      ],
      "metadata": {
        "id": "I_bD4oyTnrIA",
        "colab": {
          "base_uri": "https://localhost:8080/"
        },
        "outputId": "ea3b5628-5e61-4ec2-e3bc-c78c2f04ec25"
      },
      "execution_count": null,
      "outputs": [
        {
          "output_type": "stream",
          "name": "stdout",
          "text": [
            "5\n",
            "    *\n",
            "   ***\n",
            "  *****\n",
            " *******\n",
            "*********\n"
          ]
        }
      ]
    },
    {
      "cell_type": "code",
      "source": [
        "# Question 4 : # nested for loop :  Nested For loop | Tricky | Take the help of chatgpt and understand\n",
        "'''\n",
        "Given a list of integers, write a Python function that generates and\n",
        "prints all possible sublists of the given list.\n",
        "A sublist is defined as a contiguous segment of the list.\n",
        "\n",
        "input_list = [23, 45, 67, 56]\n",
        "Output =\n",
        "[23]\n",
        "[23, 45]\n",
        "[23, 45, 67]\n",
        "[23, 45, 67, 56]\n",
        "[45]\n",
        "[45, 67]\n",
        "[45, 67, 56]\n",
        "[67]\n",
        "[67, 56]\n",
        "[56]\n",
        "\n",
        "'''\n",
        "\n",
        "\n",
        "\n"
      ],
      "metadata": {
        "id": "ypeVEdbZoVQW",
        "colab": {
          "base_uri": "https://localhost:8080/"
        },
        "outputId": "6b82ad18-2b1e-4e7c-877d-418f15314933"
      },
      "execution_count": null,
      "outputs": [
        {
          "output_type": "stream",
          "name": "stdout",
          "text": [
            "[23]\n",
            "[23, 45]\n",
            "[23, 45, 67]\n",
            "[23, 45, 67, 56]\n",
            "[45]\n",
            "[45, 67]\n",
            "[45, 67, 56]\n",
            "[67]\n",
            "[67, 56]\n",
            "[56]\n"
          ]
        }
      ]
    },
    {
      "cell_type": "code",
      "source": [
        "'''\n",
        "Given a list of integers, write a Python function that generates and\n",
        "prints max values of each possible sublists of the given list.\n",
        "A sublist is defined as a contiguous segment of the list.\n",
        "\n",
        "input_list = [23, 45, 67, 56]\n",
        "Output =\n",
        "23, 45, 67,67, 45,67,67,67,67,56\n",
        "\n",
        "Logic -\n",
        "\n",
        "[23] --> 23\n",
        "[23, 45] --> 45\n",
        "[23, 45, 67] --> 67\n",
        "[23, 45, 67, 56] --> 67\n",
        "[45] --> 45\n",
        "[45, 67] --> 67\n",
        "[45, 67, 56] --> 67\n",
        "[67] --> 67\n",
        "[67, 56] --> 67\n",
        "[56] --> 56\n",
        "\n",
        "'''"
      ],
      "metadata": {
        "id": "8ed4l1Gj35N2"
      },
      "execution_count": null,
      "outputs": []
    },
    {
      "cell_type": "code",
      "source": [],
      "metadata": {
        "id": "uv1VsngAAjA4"
      },
      "execution_count": null,
      "outputs": []
    }
  ]
}