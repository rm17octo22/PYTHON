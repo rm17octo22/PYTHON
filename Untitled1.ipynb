{
  "nbformat": 4,
  "nbformat_minor": 0,
  "metadata": {
    "colab": {
      "provenance": [],
      "authorship_tag": "ABX9TyNSVB1PqY39kFkrFk+NZFDK",
      "include_colab_link": true
    },
    "kernelspec": {
      "name": "python3",
      "display_name": "Python 3"
    },
    "language_info": {
      "name": "python"
    }
  },
  "cells": [
    {
      "cell_type": "markdown",
      "metadata": {
        "id": "view-in-github",
        "colab_type": "text"
      },
      "source": [
        "<a href=\"https://colab.research.google.com/github/rm17octo22/PYTHON/blob/main/Untitled1.ipynb\" target=\"_parent\"><img src=\"https://colab.research.google.com/assets/colab-badge.svg\" alt=\"Open In Colab\"/></a>"
      ]
    },
    {
      "cell_type": "code",
      "execution_count": null,
      "metadata": {
        "colab": {
          "base_uri": "https://localhost:8080/",
          "height": 228
        },
        "id": "VkgZluaDLeEQ",
        "outputId": "9547bd25-68e7-4fe9-af76-0d212b09b6dc"
      },
      "outputs": [
        {
          "name": "stdout",
          "output_type": "stream",
          "text": [
            "enter a positive number: \n"
          ]
        },
        {
          "output_type": "error",
          "ename": "ValueError",
          "evalue": "invalid literal for int() with base 10: ''",
          "traceback": [
            "\u001b[0;31m---------------------------------------------------------------------------\u001b[0m",
            "\u001b[0;31mValueError\u001b[0m                                Traceback (most recent call last)",
            "\u001b[0;32m<ipython-input-6-a51db2032339>\u001b[0m in \u001b[0;36m<cell line: 12>\u001b[0;34m()\u001b[0m\n\u001b[1;32m     10\u001b[0m '''\n\u001b[1;32m     11\u001b[0m \u001b[0;34m\u001b[0m\u001b[0m\n\u001b[0;32m---> 12\u001b[0;31m \u001b[0mn\u001b[0m \u001b[0;34m=\u001b[0m \u001b[0mint\u001b[0m\u001b[0;34m(\u001b[0m\u001b[0minput\u001b[0m\u001b[0;34m(\u001b[0m\u001b[0;34m\"enter a positive number: \"\u001b[0m\u001b[0;34m)\u001b[0m\u001b[0;34m)\u001b[0m\u001b[0;34m\u001b[0m\u001b[0;34m\u001b[0m\u001b[0m\n\u001b[0m\u001b[1;32m     13\u001b[0m \u001b[0msum_even\u001b[0m \u001b[0;34m=\u001b[0m \u001b[0;36m0\u001b[0m\u001b[0;34m\u001b[0m\u001b[0;34m\u001b[0m\u001b[0m\n\u001b[1;32m     14\u001b[0m \u001b[0mnum\u001b[0m \u001b[0;34m=\u001b[0m \u001b[0;36m1\u001b[0m\u001b[0;34m\u001b[0m\u001b[0;34m\u001b[0m\u001b[0m\n",
            "\u001b[0;31mValueError\u001b[0m: invalid literal for int() with base 10: ''"
          ]
        }
      ],
      "source": [
        "# Question 1: (Easy)\n",
        "'''\n",
        "Sum of Even Numbers\n",
        "Description: Write a Python program that takes a positive integer n as input\n",
        "and uses a while loop to calculate the sum of all even numbers from 1 to n.\n",
        "Example:\n",
        "\n",
        "Input: n = 10\n",
        "Output: Sum of even numbers = 30 (since 2 + 4 + 6 + 8 + 10 = 30)\n",
        "'''\n",
        "\n",
        "n = int(input(\"enter a positive number: \"))\n",
        "sum_even = 0\n",
        "num = 1\n",
        "\n",
        "while num <= n:\n",
        "    if num % 2 == 0:\n",
        "        sum_even += num\n",
        "    num+=1\n",
        "print(sum_even)"
      ]
    },
    {
      "cell_type": "code",
      "source": [
        "# Question 2: (Easy)\n",
        "'''\n",
        "Count Vowels in a String\n",
        "Description: Write a Python program that takes a string as input\n",
        "and uses a while loop to count the number of vowels (a, e, i, o, u) in the string.\n",
        "Ignore the case of the characters.\n",
        "Example:\n",
        "\n",
        "Input: string = \"Hello World\"\n",
        "Output: Number of vowels = 3 (since 'e', 'o', and 'o' are vowels)\n",
        "'''\n",
        "\n",
        "_str = input(\"enter a string : \")\n",
        "_count = 0\n",
        "\n",
        "for i in _str:\n",
        "    if i in 'aeiou':\n",
        "        _count += 1\n",
        "print(_count)\n",
        "\n",
        "########################################################\n",
        "\n",
        "_str = input(\"enter a string : \")\n",
        "_count = 0\n",
        "\n",
        "while _str[i] <= len(_str):\n",
        "    if _str[i] in 'aeiou':\n",
        "        _count += 1\n",
        "    _str[i] += 1\n",
        "print(_count)"
      ],
      "metadata": {
        "id": "e1b4N_u3VRgA"
      },
      "execution_count": null,
      "outputs": []
    },
    {
      "cell_type": "code",
      "source": [
        "# Question 3 (Hard)\n",
        "'''\n",
        "Find the Greatest Common Divisor (GCD) / HCF (Highest common factor)\n",
        "Description: Write a Python program that takes two positive integers as input and uses a while loop to find their greatest common divisor (GCD) using the Euclidean algorithm.\n",
        "\n",
        "Example:\n",
        "\n",
        "Input: a = 48, b = 18\n",
        "Output: GCD = 6\n",
        "'''\n",
        "\n",
        "\n",
        "# int1 = 48\n",
        "#int2 = 18\n",
        "\n",
        "#factor of 48 and stored in list/set\n",
        "#factor of 18 and stored in list/set\n",
        "\n",
        "# compare (list1 & list2) ---->>> common o/p is stored in final_list/set\n",
        "\n",
        "# check which is the biggest number in _final_list ----- ans :- gcd = 6\n"
      ],
      "metadata": {
        "colab": {
          "base_uri": "https://localhost:8080/",
          "height": 53
        },
        "id": "1In3wGxYVSoS",
        "outputId": "69117a84-39b0-43f6-e7f6-bf9709cc1226"
      },
      "execution_count": null,
      "outputs": [
        {
          "output_type": "execute_result",
          "data": {
            "text/plain": [
              "'\\nFind the Greatest Common Divisor (GCD) / HCF (Highest common factor)\\nDescription: Write a Python program that takes two positive integers as input and uses a while loop to find their greatest common divisor (GCD) using the Euclidean algorithm.\\n\\nExample:\\n\\nInput: a = 48, b = 18\\nOutput: GCD = 6\\n'"
            ],
            "application/vnd.google.colaboratory.intrinsic+json": {
              "type": "string"
            }
          },
          "metadata": {},
          "execution_count": 7
        }
      ]
    },
    {
      "cell_type": "code",
      "source": [
        "print(type(\"ravi\"))\n",
        "x = (\"ravi\",'patel')\n",
        "print(type(x))\n",
        "\n",
        "y = \"ravi\"\n",
        "print(type(y))\n",
        "\n",
        "_x_ = 5\n",
        "print(type(_x_))\n",
        "\n",
        "x1 = 'my ravi'\n",
        "print(x1.split(' '))\n",
        "\n",
        "x1 = ['r','a','v','i']\n",
        "print(' '.join(x1))\n",
        "print('-'.join(x1))"
      ],
      "metadata": {
        "id": "wqmWuvTqcUQ9",
        "colab": {
          "base_uri": "https://localhost:8080/"
        },
        "outputId": "eb56324b-1c59-45ba-b7a9-878feaf7f428"
      },
      "execution_count": null,
      "outputs": [
        {
          "output_type": "stream",
          "name": "stdout",
          "text": [
            "<class 'str'>\n",
            "<class 'tuple'>\n",
            "<class 'str'>\n",
            "<class 'int'>\n",
            "['my', 'ravi']\n",
            "r a v i\n",
            "r-a-v-i\n"
          ]
        }
      ]
    },
    {
      "cell_type": "code",
      "source": [
        "# Armstrong Number\n",
        "# 4567 == 4 ** 4 + 5 ** 4 + 6 **4 + 7 ** 4\n",
        "# 345 == 3 ** 3 + 4 ** 3+ 5 ** 3\n",
        "# 239 == 2 ** (3) + 3 ** (3) + 9 ** (3)\n",
        "# 153 == 1 ** (3) + 5 ** (3) + 3**3 = 1+ 125+27\n",
        "# 1634 : Armstrong number\n",
        "# 1-9 : Armstrong number\n",
        "# 45678 : 4 ** 5 + 5 ** 5 ....\n",
        "\n",
        "\n",
        "x = int(input(\"enter a number : \"))\n",
        "_str = str(x)\n",
        "_total = 0\n",
        "\n",
        "for i in _str:\n",
        "    _total += int(i)** len(_str)\n",
        "\n",
        "print(_total)\n",
        "\n",
        "if x == _total:\n",
        "    print(f\"{x} is an armstrong number\")\n",
        "else:\n",
        "    print(f\"{x} is not an armstrong number\")\n"
      ],
      "metadata": {
        "colab": {
          "base_uri": "https://localhost:8080/"
        },
        "id": "J056rT3oZjeh",
        "outputId": "9c734eda-acb1-4112-91b5-fa82ccb06ef4"
      },
      "execution_count": null,
      "outputs": [
        {
          "output_type": "stream",
          "name": "stdout",
          "text": [
            "enter a number : 153\n",
            "153\n",
            "153 is an armstrong number\n"
          ]
        }
      ]
    },
    {
      "cell_type": "code",
      "source": [
        "#      *\n",
        "#     ***\n",
        "#    *****\n",
        "#   *******\n",
        "#  *********\n",
        "# ***********\n",
        "#  *********\n",
        "#   *******\n",
        "#    *****\n",
        "#     ***\n",
        "#      *\n",
        "depth = int(input('Enter the depth:'))\n",
        "\n",
        "spaces = list(range(depth-1,-1, -1)) # [5,4,3,2,1,0]\n",
        "star = list(range(1,2* depth, 2)) # [1,3,5,7,9,11]\n",
        "\n",
        "for i,j in zip(spaces,star): #\n",
        "  print(' ' * i, '*' * j)\n",
        "\n",
        "spaces = list(range(depth-2,-1, -1))[::-1] # [0, 1, 2, 3, 4, 5]\n",
        "star = list(range(1,2* depth -1 , 2))[::-1] # [11, 9, 7, 5, 3, 1]\n",
        "\n",
        "for i,j in zip(spaces,star): #\n",
        "  print(' ' * i, '*' * j)"
      ],
      "metadata": {
        "colab": {
          "base_uri": "https://localhost:8080/"
        },
        "id": "vpx9utJOdNrl",
        "outputId": "aabe3112-1ba1-4223-9361-59c40a5b07c5"
      },
      "execution_count": null,
      "outputs": [
        {
          "output_type": "stream",
          "name": "stdout",
          "text": [
            "Enter the depth:6\n",
            "      *\n",
            "     ***\n",
            "    *****\n",
            "   *******\n",
            "  *********\n",
            " ***********\n",
            " *********\n",
            "  *******\n",
            "   *****\n",
            "    ***\n",
            "     *\n"
          ]
        }
      ]
    },
    {
      "cell_type": "code",
      "source": [
        "depth = 6\n",
        "spaces = list(range(depth-2,-1, -1))[::-1]\n",
        "print(spaces)\n",
        "\n",
        "depth = 6\n",
        "star = list(range(1,2* depth - 1, 2))[::-1]\n",
        "print(star)"
      ],
      "metadata": {
        "colab": {
          "base_uri": "https://localhost:8080/"
        },
        "id": "d8FVSnFbmiBh",
        "outputId": "6bec3f84-32e1-4dda-aa8c-4103b4d62ec9"
      },
      "execution_count": null,
      "outputs": [
        {
          "output_type": "stream",
          "name": "stdout",
          "text": [
            "[0, 1, 2, 3, 4]\n",
            "[9, 7, 5, 3, 1]\n"
          ]
        }
      ]
    },
    {
      "cell_type": "code",
      "source": [
        "'''\n",
        "Given a list of integers, write a Python function that generates and\n",
        "prints max values of each possible sublists of the given list.\n",
        "A sublist is defined as a contiguous segment of the list.\n",
        "\n",
        "input_list = [23, 45, 67, 56]\n",
        "Output =\n",
        "23, 45, 67,67, 45,67,67,67,67,56\n",
        "\n",
        "Logic -\n",
        "\n",
        "[23] --> 23\n",
        "[23, 45] --> 45\n",
        "[23, 45, 67] --> 67\n",
        "[23, 45, 67, 56] --> 67\n",
        "[45] --> 45\n",
        "[45, 67] --> 67\n",
        "[45, 67, 56] --> 67\n",
        "[67] --> 67\n",
        "[67, 56] --> 67\n",
        "[56] --> 56\n",
        "\n",
        "'''"
      ],
      "metadata": {
        "colab": {
          "base_uri": "https://localhost:8080/",
          "height": 70
        },
        "id": "34NXnb_xymjI",
        "outputId": "4e38aeef-404f-4baf-eec2-f0fb9110a46e"
      },
      "execution_count": null,
      "outputs": [
        {
          "output_type": "execute_result",
          "data": {
            "text/plain": [
              "'\\nGiven a list of integers, write a Python function that generates and\\nprints max values of each possible sublists of the given list.\\nA sublist is defined as a contiguous segment of the list.\\n\\ninput_list = [23, 45, 67, 56]\\nOutput =\\n23, 45, 67,67, 45,67,67,67,67,56\\n\\nLogic -\\n\\n[23] --> 23\\n[23, 45] --> 45\\n[23, 45, 67] --> 67\\n[23, 45, 67, 56] --> 67\\n[45] --> 45\\n[45, 67] --> 67\\n[45, 67, 56] --> 67\\n[67] --> 67\\n[67, 56] --> 67\\n[56] --> 56\\n\\n'"
            ],
            "application/vnd.google.colaboratory.intrinsic+json": {
              "type": "string"
            }
          },
          "metadata": {},
          "execution_count": 24
        }
      ]
    },
    {
      "cell_type": "code",
      "source": [
        "#Question 1\n",
        "'''\n",
        "Question 1: Sum of First N Natural Numbers\n",
        "Description: Write a Python program that takes a positive integer n as input\n",
        "and uses a while loop to calculate the sum of the first n natural numbers.\n",
        "\n",
        "'''\n",
        "\n",
        "\n",
        "_num = int(input(\"enter a positive number : \"))\n",
        "_sum = 0\n",
        "\n",
        "for i in range(1,_num+1):\n",
        "  _sum += i\n",
        "print(_sum)\n",
        "\n",
        "_num = int(input(\"enter a positive number : \"))\n",
        "_sum = 0\n",
        "i = 1\n",
        "while i <= _num:\n",
        "\n",
        "    _sum += i\n",
        "    i += 1\n",
        "print(_sum)\n"
      ],
      "metadata": {
        "colab": {
          "base_uri": "https://localhost:8080/"
        },
        "id": "T0FisDfeyngo",
        "outputId": "aadb9ee2-ebd1-4407-c09b-9d3c7af84fb9"
      },
      "execution_count": null,
      "outputs": [
        {
          "output_type": "stream",
          "name": "stdout",
          "text": [
            "enter a positive number : 5\n",
            "15\n",
            "enter a positive number : 5\n",
            "15\n"
          ]
        }
      ]
    },
    {
      "cell_type": "code",
      "source": [
        "# Question 3\n",
        "'''\n",
        "Find the Factorial of a Number\n",
        "Description: Write a Python program that takes a\n",
        "positive integer n as input and uses a while loop to calculate its factorial.\n",
        "0! = 1\n",
        "1! = 1\n",
        "2! = 2\n",
        "3! = 6\n",
        "4! = 24\n",
        "5! = 120 (5*4*3*2*1 || 1*2*3*4*5)\n",
        "'''\n",
        "n=int(input('Enter the number to calculate the factorial(n!):'))\n",
        "x = 1\n",
        "\n",
        "for i in range(1,n+1):\n",
        "   x *= i\n",
        "print(x)\n",
        "\n",
        "# n=int(input('Enter the number to calculate the factorial(n!):'))\n",
        "fact = 1\n",
        "\n",
        "while  n > 0 :\n",
        "    fact *= n\n",
        "    n -= 1\n",
        "\n",
        "print(fact)"
      ],
      "metadata": {
        "colab": {
          "base_uri": "https://localhost:8080/"
        },
        "id": "laFkSaUw6hYp",
        "outputId": "c91274d7-5988-4348-e291-6773e729e630"
      },
      "execution_count": null,
      "outputs": [
        {
          "output_type": "stream",
          "name": "stdout",
          "text": [
            "Enter the number to calculate the factorial(n!):5\n",
            "120\n",
            "120\n"
          ]
        }
      ]
    },
    {
      "cell_type": "code",
      "source": [
        "# Question 4 (Hard)\n",
        "'''\n",
        "Write a Python code\n",
        "that takes a positive integer n as input.\n",
        "The output should repeatedly sum the digits of n until a single-digit number is obtained.\n",
        "\n",
        "If the resulting single-digit number is 7, the output should print \"Thala for a reason\".\n",
        "Otherwise, it should return the single-digit number.\n",
        "\n",
        "Input -- 1234 --> 1+2+3+4 -- > 10 --> 1+ 0 --> 1\n",
        "\n",
        "# Single digit is equal to 7 : Thala for a reason\n",
        "'''\n",
        "\n",
        "_num = int(input(\"enter a number : \"))\n",
        "_total = 0\n",
        "\n",
        "for i in str(_num):\n",
        "   _total += int(i)\n",
        "\n",
        "print(_total)\n",
        "\n",
        "if _total == 7:\n",
        "  print(\"thala\")\n",
        "else:\n",
        "  print(\"its not a thala\")\n",
        "\n",
        "\n",
        "_num = input(\"enter a number : \")\n",
        "_x = str(_num)\n",
        "_total = 0\n",
        "i = 0\n",
        "\n",
        "while   i <= len(_x):\n",
        "  _total += int(i)\n",
        "  i += 1\n",
        "\n",
        "print(_total)\n",
        "\n",
        "\n",
        "if _total == 7:\n",
        "  print(\"thala\")\n",
        "else:\n",
        "  print(\"its not a thala\")\n",
        "\n"
      ],
      "metadata": {
        "colab": {
          "base_uri": "https://localhost:8080/"
        },
        "id": "GCi0LAS_98PU",
        "outputId": "7f319944-b273-4acd-cd29-70665b1f1e2b"
      },
      "execution_count": null,
      "outputs": [
        {
          "output_type": "stream",
          "name": "stdout",
          "text": [
            "enter a number : 1234\n",
            "10\n",
            "its not a thala\n",
            "enter a number : 1234\n",
            "10\n",
            "its not a thala\n"
          ]
        }
      ]
    },
    {
      "cell_type": "code",
      "source": [
        "_str = input(\"enter a string : \")\n",
        "_count = 0\n",
        "\n",
        "for i in _str:\n",
        "   if i.lower() in 'aeiou':\n",
        "      _count += 1\n",
        "print(_count)\n",
        "\n",
        "_str = input(\"enter a string : \")\n",
        "_count = 0\n",
        "i = 0\n",
        "\n",
        "while i < len(_str):\n",
        "  if _str[i] in 'aeiou':\n",
        "      _count += 1\n",
        "  i += 1\n",
        "print(_count)\n",
        "\n"
      ],
      "metadata": {
        "colab": {
          "base_uri": "https://localhost:8080/"
        },
        "id": "RgEupcIxBodJ",
        "outputId": "242cad99-8008-45c3-e211-90fe19e7f389"
      },
      "execution_count": null,
      "outputs": [
        {
          "output_type": "stream",
          "name": "stdout",
          "text": [
            "enter a string : ravi\n",
            "2\n",
            "enter a string : my name is ravi patel\n",
            "7\n"
          ]
        }
      ]
    },
    {
      "cell_type": "code",
      "source": [
        "divisor = int(input('Enter the Divisor:')) # 18\n",
        "dividend = int(input('Enter the Dividend:')) # 48\n",
        "\n",
        "while divisor !=0:\n",
        "  divisor, dividend = dividend % divisor, divisor\n",
        "  print(f'Dividend : {dividend}, Divisor : {divisor}')\n",
        "# print(dividend)"
      ],
      "metadata": {
        "colab": {
          "base_uri": "https://localhost:8080/"
        },
        "id": "AiUKl8wGP4Ja",
        "outputId": "61f19e7e-967d-47d0-981b-4235a35a68c0"
      },
      "execution_count": null,
      "outputs": [
        {
          "output_type": "stream",
          "name": "stdout",
          "text": [
            "Enter the Divisor:12\n",
            "Enter the Dividend:12\n",
            "Dividend : 12, Divisor : 0\n"
          ]
        }
      ]
    },
    {
      "cell_type": "code",
      "source": [
        "##################################################    DOUBT   ###############################################\n",
        "\n",
        "\n",
        "'''\n",
        "Input:\n",
        "7548\n",
        "\n",
        "Output:\n",
        "Step-1 Sum: 24\n",
        "Step-2 Sum: 6\n",
        "\n",
        "'''\n",
        "\n",
        "_num = int(input(\"enter a number : \")) # 7548\n",
        "_str_num = str(_num)          # '7548'\n",
        "\n",
        "while  len(_str_num) > 1:    # 4 > 1---- > True\n",
        "    sum = 0\n",
        "    for i in _str_num:\n",
        "        sum += int(i)\n",
        "    print(f'Step-1 Sum: {sum}')\n",
        "    _str_num = str(sum)\n"
      ],
      "metadata": {
        "colab": {
          "base_uri": "https://localhost:8080/"
        },
        "id": "oAoi0s1FP8ha",
        "outputId": "24919c64-8c3b-4a96-9028-6948bce2a204"
      },
      "execution_count": null,
      "outputs": [
        {
          "output_type": "stream",
          "name": "stdout",
          "text": [
            "enter a number : 7548\n",
            "Step-1 Sum: 24\n",
            "Step-1 Sum: 6\n"
          ]
        }
      ]
    },
    {
      "cell_type": "code",
      "source": [
        "'''\n",
        "\n",
        "Write a Python program to find the closest palindrome from a given string.\n",
        "\n",
        "Example 1:\n",
        "Input:\n",
        "cat\n",
        "\n",
        "Output:\n",
        "cac\n",
        "\n",
        "Example 2:\n",
        "Input:\n",
        "madan\n",
        "\n",
        "Output:\n",
        "madam\n",
        "\n",
        "'''\n",
        "\n"
      ],
      "metadata": {
        "id": "nsoCmnIho5vx"
      },
      "execution_count": null,
      "outputs": []
    },
    {
      "cell_type": "code",
      "source": [
        "'''\n",
        "\n",
        "In Statistics, Mean (average) is a common term used to analyze the data.\n",
        "Thus, we should know how to program this Statistical term using Python. For this, write a Python program to calculate the sum and average (Mean) of n integer numbers (input from the user). Input 0 to finish the list.\n",
        "\n",
        "Example 1:\n",
        "Input:\n",
        "2\n",
        "4\n",
        "6\n",
        "8\n",
        "10\n",
        "0\n",
        "\n",
        "Output:\n",
        "Average and Sum of the above numbers are: 6.0 30.0\n",
        "\n",
        "Example 2:\n",
        "Input:\n",
        "15\n",
        "16\n",
        "12\n",
        "0\n",
        "\n",
        "Output:\n",
        "Average and Sum of the above numbers are: 14.333333333333334 43.0\n",
        "\n",
        "'''\n",
        "\n"
      ],
      "metadata": {
        "id": "UbOE6M8PpPEH",
        "colab": {
          "base_uri": "https://localhost:8080/",
          "height": 70
        },
        "outputId": "1a07d4bd-cdec-42a8-c7a6-3691324ae163"
      },
      "execution_count": 7,
      "outputs": [
        {
          "output_type": "execute_result",
          "data": {
            "text/plain": [
              "'\\n\\nIn Statistics, Mean (average) is a common term used to analyze the data. \\nThus, we should know how to program this Statistical term using Python. For this, write a Python program to calculate the sum and average (Mean) of n integer numbers (input from the user). Input 0 to finish the list.\\n\\nExample 1:\\nInput:\\n2\\n4\\n6\\n8\\n10\\n0\\n\\nOutput:\\nAverage and Sum of the above numbers are: 6.0 30.0\\n\\nExample 2:\\nInput:\\n15\\n16\\n12\\n0\\n\\nOutput:\\nAverage and Sum of the above numbers are: 14.333333333333334 43.0\\n\\n'"
            ],
            "application/vnd.google.colaboratory.intrinsic+json": {
              "type": "string"
            }
          },
          "metadata": {},
          "execution_count": 7
        }
      ]
    },
    {
      "cell_type": "code",
      "source": [
        "# Challenge : you have to solve\n",
        "'''\n",
        "n = 5\n",
        "\n",
        "55555\n",
        "54445\n",
        "53335\n",
        "52225\n",
        "51115\n",
        "50005\n",
        "'''\n",
        "n = int(input(\"enter a number\"))\n",
        "for i in range(5,-1,-1):\n",
        "  print(f'{n}{i}{i}{i}{n}')"
      ],
      "metadata": {
        "colab": {
          "base_uri": "https://localhost:8080/"
        },
        "id": "bMK3-oHZMTQO",
        "outputId": "789354b3-ac36-45ca-804c-0adb1c4d46e9"
      },
      "execution_count": 1,
      "outputs": [
        {
          "output_type": "stream",
          "name": "stdout",
          "text": [
            "enter a number5\n",
            "55555\n",
            "54445\n",
            "53335\n",
            "52225\n",
            "51115\n",
            "50005\n"
          ]
        }
      ]
    },
    {
      "cell_type": "code",
      "source": [
        "# Practice 1\n",
        "'''\n",
        "Question 1: Square Even Numbers\n",
        "Write a Python function that takes an list as an input and returns the squares of only the even numbers.\n",
        "Use the filter() function to filter even numbers, and the map() function to apply squaring.\n",
        "'''\n",
        "\n",
        "_list = [2,4,5,6,7,8,9]\n",
        "# Output : [4,16,36,64]\n",
        "\n",
        "\n",
        "# filter for even numbers\n",
        "_list12 = []\n",
        "for i in _list:\n",
        "  if i%2 == 0:\n",
        "    _list12.append(i)\n",
        "\n",
        "print(_list12)\n",
        "\n",
        "\n",
        "def _even(x):\n",
        "  if x%2 == 0:\n",
        "    return True\n",
        "\n",
        "print(list(filter(_even ,_list )))\n",
        "# map for square\n",
        "\n"
      ],
      "metadata": {
        "colab": {
          "base_uri": "https://localhost:8080/"
        },
        "id": "Ag_VFjaVzQKW",
        "outputId": "a82ee1f4-bb45-412a-9500-90a1c2b21b03"
      },
      "execution_count": 11,
      "outputs": [
        {
          "output_type": "stream",
          "name": "stdout",
          "text": [
            "[2, 4, 6, 8]\n",
            "[2, 4, 6, 8]\n"
          ]
        }
      ]
    },
    {
      "cell_type": "code",
      "source": [
        "# Practice 2\n",
        "'''\n",
        "List Comprehension to Create Pairs\n",
        "Given a list of numbers, write a Python code that uses list comprehension\n",
        "to generate a new list of tuples, where each tuple contains a odd numbers and its square.\n",
        "input = [1, 2, 3, 4]  # Output: [(1, 1), (3, 9)]\n",
        "'''\n",
        "\n",
        "_list = [1,2,3,4]\n",
        "\n"
      ],
      "metadata": {
        "id": "Dfrf0E5t9ZIc"
      },
      "execution_count": null,
      "outputs": []
    },
    {
      "cell_type": "code",
      "source": [
        "'''\n",
        "Write a program function to print twin primes less than 1000.\n",
        "If two consecutive odd numbers are both prime then they are known as twin primes\n",
        "Twin Prime:\n",
        " (3, 5)\n",
        "(5, 7)\n",
        "(11, 13)\n",
        "(17, 19)\n",
        " ....\n",
        "'''\n",
        "\n",
        "for i in range(1,1000):\n",
        "\n",
        "\n",
        "\n"
      ],
      "metadata": {
        "id": "pHPHAD6b9gvv"
      },
      "execution_count": null,
      "outputs": []
    },
    {
      "cell_type": "code",
      "source": [
        "'''\n",
        "Write a  Python function that prints out the first n rows of Pascal's triangle.\n",
        "\n",
        "Note : Pascal's triangle is an arithmetic and geometric figure first imagined by Blaise Pascal.\n",
        "Input - n : 6\n",
        "Output -\n",
        "[1]\n",
        "[1, 1]\n",
        "[1, 2, 1]\n",
        "[1, 3, 3, 1]\n",
        "[1, 4, 6, 4, 1]\n",
        "[1, 5, 10, 10, 5, 1]\n",
        "\n",
        "'''\n",
        "\n",
        "\n",
        "depth = int(input(\"enter a depth : \"))\n",
        "space = range(depth - 1, -1 ,-1)\n",
        "\n"
      ],
      "metadata": {
        "id": "62MJ2jhC9hus"
      },
      "execution_count": null,
      "outputs": []
    },
    {
      "cell_type": "code",
      "source": [
        "# Practice 1\n",
        "'''\n",
        "Question 1: Square Even Numbers\n",
        "Write a Python function that takes an list as an input and returns the squares of only the even numbers.\n",
        "Use the filter() function to filter even numbers, and the map() function to apply squaring.\n",
        "'''\n",
        "\n",
        "_list = [2,4,5,6,7,8,9]\n",
        "# Output : [4,16,36,64]\n",
        "\n"
      ],
      "metadata": {
        "id": "GFIzgCymWser"
      },
      "execution_count": null,
      "outputs": []
    },
    {
      "cell_type": "code",
      "source": [
        "# Practice 2\n",
        "'''\n",
        "List Comprehension to Create Pairs\n",
        "Given a list of numbers, write a Python code that uses list comprehension\n",
        "to generate a new list of tuples, where each tuple contains a odd numbers and its square.\n",
        "input = [1, 2, 3, 4]  # Output: [(1, 1), (3, 9)]\n",
        "'''\n",
        "\n",
        "_list = [1,2,3,4]\n",
        "\n",
        "\n"
      ],
      "metadata": {
        "id": "74SjsszGWsbF"
      },
      "execution_count": null,
      "outputs": []
    },
    {
      "cell_type": "code",
      "source": [
        "# Practice 3\n",
        "word = 'Engineering'\n",
        "# {} : set of Unique Vowels\n",
        "# Set comprehension\n"
      ],
      "metadata": {
        "id": "piUHYDtJWsQH"
      },
      "execution_count": null,
      "outputs": []
    },
    {
      "cell_type": "code",
      "source": [
        "# Practice 4\n",
        "'''\n",
        "Question: Sorting a Dictionary by Values\n",
        "Given a dictionary where the keys are strings and the values are integers,\n",
        "write a Python function that sorts the dictionary by its values in ascending order.\n",
        "Use the sorted() function with a lambda expression.\n",
        "\n",
        "Example:\n",
        "\n",
        "python\n",
        "Copy code\n",
        "my_dict = {'apple': 3, 'banana': 1, 'cherry': 2}\n",
        "\n",
        "# Your function here\n",
        "\n",
        "# Expected Output:\n",
        "# ['banana', 'cherry', 'apple']\n",
        "Hint: You can pass a lambda function as the key argument to the sorted() function to sort by dictionary values.\n",
        "'''"
      ],
      "metadata": {
        "id": "0-6X_Q8UWsBT"
      },
      "execution_count": null,
      "outputs": []
    }
  ]
}