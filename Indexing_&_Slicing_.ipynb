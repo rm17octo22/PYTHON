{
  "nbformat": 4,
  "nbformat_minor": 0,
  "metadata": {
    "colab": {
      "provenance": [],
      "include_colab_link": true
    },
    "kernelspec": {
      "name": "python3",
      "display_name": "Python 3"
    },
    "language_info": {
      "name": "python"
    }
  },
  "cells": [
    {
      "cell_type": "markdown",
      "metadata": {
        "id": "view-in-github",
        "colab_type": "text"
      },
      "source": [
        "<a href=\"https://colab.research.google.com/github/rm17octo22/PYTHON/blob/master/Indexing_%26_Slicing_.ipynb\" target=\"_parent\"><img src=\"https://colab.research.google.com/assets/colab-badge.svg\" alt=\"Open In Colab\"/></a>"
      ]
    },
    {
      "cell_type": "code",
      "source": [
        "# Ordered  --> (Position + Elements both matter) : String, List & Tuple\n",
        "# Unordered --> Dict, Set (Elements)"
      ],
      "metadata": {
        "id": "v3sns8zSGLqh"
      },
      "execution_count": null,
      "outputs": []
    },
    {
      "cell_type": "code",
      "source": [
        "_set = {1,2,3,4}\n",
        "_set_new = _set | {6,7}\n",
        "print(_set_new) # Included : Set Operator | --> Union\n",
        "# Operators class"
      ],
      "metadata": {
        "colab": {
          "base_uri": "https://localhost:8080/"
        },
        "id": "96VofIgcVP9H",
        "outputId": "ae0d185d-0e02-40fd-f1dd-85d3dfa712e3"
      },
      "execution_count": null,
      "outputs": [
        {
          "output_type": "stream",
          "name": "stdout",
          "text": [
            "{1, 2, 3, 4, 6, 7}\n"
          ]
        }
      ]
    },
    {
      "cell_type": "code",
      "source": [],
      "metadata": {
        "id": "JwhOMCbhViTL"
      },
      "execution_count": null,
      "outputs": []
    },
    {
      "cell_type": "markdown",
      "source": [
        "#### Indexing in Python (Positive & Negative)"
      ],
      "metadata": {
        "id": "uh3zhthAyoEv"
      }
    },
    {
      "cell_type": "code",
      "execution_count": null,
      "metadata": {
        "id": "KP42_Lg5x45w"
      },
      "outputs": [],
      "source": [
        "# Index is the address of data in the String, List & Tuple\n",
        "# Key is the address of data in dict"
      ]
    },
    {
      "cell_type": "code",
      "source": [
        "_marks = [80, 85, 90]\n",
        "# What is the score of third person?\n",
        "_marks[2] # Score of third person"
      ],
      "metadata": {
        "colab": {
          "base_uri": "https://localhost:8080/"
        },
        "id": "tu_ehT2kN-Dc",
        "outputId": "d6c30caa-ed6c-4b2f-c3d5-334f721d63e1"
      },
      "execution_count": null,
      "outputs": [
        {
          "output_type": "execute_result",
          "data": {
            "text/plain": [
              "90"
            ]
          },
          "metadata": {},
          "execution_count": 71
        }
      ]
    },
    {
      "cell_type": "code",
      "source": [
        "_marks[-1]"
      ],
      "metadata": {
        "colab": {
          "base_uri": "https://localhost:8080/"
        },
        "id": "I17H7rXzX81K",
        "outputId": "7a28bd4f-ad73-4870-9698-b73cfeacae2e"
      },
      "execution_count": null,
      "outputs": [
        {
          "output_type": "execute_result",
          "data": {
            "text/plain": [
              "90"
            ]
          },
          "metadata": {},
          "execution_count": 72
        }
      ]
    },
    {
      "cell_type": "code",
      "source": [
        "# Why negative Index is important?\n",
        "# Give me second element\n",
        "_marks = [80, 85, 90,100,36,78, 98]\n",
        "_marks[1] # Positive Index | Easy to come up with\n",
        "_marks[-6] # negative Index"
      ],
      "metadata": {
        "colab": {
          "base_uri": "https://localhost:8080/"
        },
        "id": "z4U8LOqHRocS",
        "outputId": "21e4bb1d-302d-4202-c844-3350e5da74c4"
      },
      "execution_count": null,
      "outputs": [
        {
          "output_type": "execute_result",
          "data": {
            "text/plain": [
              "85"
            ]
          },
          "metadata": {},
          "execution_count": 73
        }
      ]
    },
    {
      "cell_type": "code",
      "source": [
        "# Give me second last element\n",
        "print(_marks[-2]) # Negative Index | Easy to come up with\n",
        "print(_marks[5]) # Positive Index"
      ],
      "metadata": {
        "colab": {
          "base_uri": "https://localhost:8080/"
        },
        "id": "IxkPooPSSlHV",
        "outputId": "5d7b5dba-ccf5-4a22-d3ec-c3a19aa1f442"
      },
      "execution_count": null,
      "outputs": [
        {
          "output_type": "stream",
          "name": "stdout",
          "text": [
            "78\n",
            "78\n"
          ]
        }
      ]
    },
    {
      "cell_type": "code",
      "source": [],
      "metadata": {
        "id": "cSl2HzLRSsIz"
      },
      "execution_count": null,
      "outputs": []
    },
    {
      "cell_type": "code",
      "source": [
        "# from the last : -ve index\n",
        "# From the beginning : + ve Index\n",
        "# Best Practice"
      ],
      "metadata": {
        "id": "TucyWsDCSyva"
      },
      "execution_count": null,
      "outputs": []
    },
    {
      "cell_type": "code",
      "source": [
        "# When you have large list?\n",
        "_large_list = [4,5,6,6,7,8,8,745345,36546,56,65464,8676,23245,9879,87, 98,100,150,43]"
      ],
      "metadata": {
        "id": "g4unsCPUTISn"
      },
      "execution_count": null,
      "outputs": []
    },
    {
      "cell_type": "code",
      "source": [
        "# last element?\n",
        "_large_list[-1] # Negative index of -1"
      ],
      "metadata": {
        "colab": {
          "base_uri": "https://localhost:8080/"
        },
        "id": "98Dwc5FYTZY7",
        "outputId": "8d314022-a51c-4e2b-9a01-e1ef70009a42"
      },
      "execution_count": null,
      "outputs": [
        {
          "output_type": "execute_result",
          "data": {
            "text/plain": [
              "43"
            ]
          },
          "metadata": {},
          "execution_count": 76
        }
      ]
    },
    {
      "cell_type": "code",
      "source": [
        "# List || Same will applied on String & Tuples"
      ],
      "metadata": {
        "id": "Ljcy0V7cZbLm"
      },
      "execution_count": null,
      "outputs": []
    },
    {
      "cell_type": "code",
      "source": [
        "_string = 'Data Science'\n",
        "# Second last character\n",
        "_string[-2]"
      ],
      "metadata": {
        "colab": {
          "base_uri": "https://localhost:8080/",
          "height": 35
        },
        "id": "RoDp-3ijZ4Oa",
        "outputId": "7a2fd3ea-b718-40c9-a7f6-190a0f5967b4"
      },
      "execution_count": null,
      "outputs": [
        {
          "output_type": "execute_result",
          "data": {
            "text/plain": [
              "'c'"
            ],
            "application/vnd.google.colaboratory.intrinsic+json": {
              "type": "string"
            }
          },
          "metadata": {},
          "execution_count": 77
        }
      ]
    },
    {
      "cell_type": "code",
      "source": [
        "# fourth character\n",
        "_string[3] # Indexing starts from 0\n",
        "# .index() --> method || Inbuilt functions & methods"
      ],
      "metadata": {
        "colab": {
          "base_uri": "https://localhost:8080/",
          "height": 35
        },
        "id": "Ox7X8WeBaFl6",
        "outputId": "99dde44d-abd1-499d-df99-d641104ea2fe"
      },
      "execution_count": null,
      "outputs": [
        {
          "output_type": "execute_result",
          "data": {
            "text/plain": [
              "'a'"
            ],
            "application/vnd.google.colaboratory.intrinsic+json": {
              "type": "string"
            }
          },
          "metadata": {},
          "execution_count": 78
        }
      ]
    },
    {
      "cell_type": "code",
      "source": [
        "_tuple = (9,7,6,34)\n",
        "_tuple[1] # Second Element"
      ],
      "metadata": {
        "colab": {
          "base_uri": "https://localhost:8080/"
        },
        "id": "gZ6eR43eaWXE",
        "outputId": "59623880-4565-48fd-ff80-a8895e0efbc8"
      },
      "execution_count": null,
      "outputs": [
        {
          "output_type": "execute_result",
          "data": {
            "text/plain": [
              "7"
            ]
          },
          "metadata": {},
          "execution_count": 80
        }
      ]
    },
    {
      "cell_type": "code",
      "source": [
        "_tuple[-1] # last element"
      ],
      "metadata": {
        "colab": {
          "base_uri": "https://localhost:8080/"
        },
        "id": "VobRvXRAadll",
        "outputId": "a9a8550a-e484-476a-a34d-c125c5523a59"
      },
      "execution_count": null,
      "outputs": [
        {
          "output_type": "execute_result",
          "data": {
            "text/plain": [
              "34"
            ]
          },
          "metadata": {},
          "execution_count": 81
        }
      ]
    },
    {
      "cell_type": "code",
      "source": [
        "# Dict & Set : Unordered\n",
        "# Python will not assign the index | postive or negative\n"
      ],
      "metadata": {
        "id": "m9NSNDRUaj4b"
      },
      "execution_count": null,
      "outputs": []
    },
    {
      "cell_type": "code",
      "source": [
        "alok = {'course':'Data Science', 'Intitute':'AlmaBetter'}\n",
        "# Dictionary : keys & value\n",
        "# alok[-1] # Not possible | Unordered | Python has not assigned the position to it.\n",
        "# Assign the address Manually in form of keys\n",
        "alok['course'] # Key acts as an index | which is assigned manually\n"
      ],
      "metadata": {
        "colab": {
          "base_uri": "https://localhost:8080/",
          "height": 35
        },
        "id": "valY9lg-axuc",
        "outputId": "1ae8e90d-ee4f-45c2-88d0-193a3c9ba26e"
      },
      "execution_count": null,
      "outputs": [
        {
          "output_type": "execute_result",
          "data": {
            "text/plain": [
              "'Data Science'"
            ],
            "application/vnd.google.colaboratory.intrinsic+json": {
              "type": "string"
            }
          },
          "metadata": {},
          "execution_count": 85
        }
      ]
    },
    {
      "cell_type": "code",
      "source": [
        "alok['Intitute'] # Key acts as an index"
      ],
      "metadata": {
        "colab": {
          "base_uri": "https://localhost:8080/",
          "height": 35
        },
        "id": "lyAV3jYCbnQJ",
        "outputId": "4acc293b-ea8b-4d3c-dc64-999e4e6a3d42"
      },
      "execution_count": null,
      "outputs": [
        {
          "output_type": "execute_result",
          "data": {
            "text/plain": [
              "'AlmaBetter'"
            ],
            "application/vnd.google.colaboratory.intrinsic+json": {
              "type": "string"
            }
          },
          "metadata": {},
          "execution_count": 86
        }
      ]
    },
    {
      "cell_type": "code",
      "source": [
        "alok['Institute'] = 'AlmaBetter'\n",
        "del alok['Intitute']\n",
        "print(alok)"
      ],
      "metadata": {
        "colab": {
          "base_uri": "https://localhost:8080/"
        },
        "id": "aUjRmgiRbw6V",
        "outputId": "f732bd90-ece2-46c3-a317-e16487fa4cf6"
      },
      "execution_count": null,
      "outputs": [
        {
          "output_type": "stream",
          "name": "stdout",
          "text": [
            "{'course': 'Data Science', 'Institute': 'AlmaBetter'}\n"
          ]
        }
      ]
    },
    {
      "cell_type": "code",
      "source": [
        "# Set | Unordered : it is meant to be unordered | No address\n",
        "_set = {4,5,6,7} # Use whole set together |\n",
        "# typecasting will be used to get the data if required"
      ],
      "metadata": {
        "id": "vMfCo8XIcWBk"
      },
      "execution_count": null,
      "outputs": []
    },
    {
      "cell_type": "code",
      "source": [
        "#float(input()) --> string to float typecasting"
      ],
      "metadata": {
        "id": "4lkNdyFSc5ha"
      },
      "execution_count": null,
      "outputs": []
    },
    {
      "cell_type": "markdown",
      "source": [
        "#### Indexing on Nested List, Tuple & Dict"
      ],
      "metadata": {
        "id": "iQDT7q6VyuKV"
      }
    },
    {
      "cell_type": "code",
      "source": [
        "_nested_list = [1,2,56,76,[89,70,56,90], 75, 23, \"Hello World\"]\n",
        "# Nested List : List inside a list\n",
        "# How many elements are in _nested_list variable?\n",
        "len(_nested_list)"
      ],
      "metadata": {
        "id": "hUT-ZH8Ky6SS",
        "colab": {
          "base_uri": "https://localhost:8080/"
        },
        "outputId": "61be3f04-f173-431e-847f-dc80da4fa701"
      },
      "execution_count": null,
      "outputs": [
        {
          "output_type": "execute_result",
          "data": {
            "text/plain": [
              "8"
            ]
          },
          "metadata": {},
          "execution_count": 89
        }
      ]
    },
    {
      "cell_type": "code",
      "source": [
        "# How do I get the data 70 out of the nested list?\n",
        "_nested_list[4] # [89, 70, 56, 90]\n",
        "_nested_list[4][1] # 70"
      ],
      "metadata": {
        "colab": {
          "base_uri": "https://localhost:8080/"
        },
        "id": "GkzwtSmuaSH5",
        "outputId": "a38813bb-d2f9-4d1e-cd59-c18d03c372f5"
      },
      "execution_count": null,
      "outputs": [
        {
          "output_type": "execute_result",
          "data": {
            "text/plain": [
              "70"
            ]
          },
          "metadata": {},
          "execution_count": 93
        }
      ]
    },
    {
      "cell_type": "code",
      "source": [
        "_list = [ [4,5,6], [9,10,12] ]\n",
        "# Extract 12 from the _list\n",
        "print(_list[1][2]) # Solution 1\n",
        "print(_list[1][-1]) # Solution 2\n",
        "print(_list[-1][-1]) # Solution 3\n",
        "print(_list[-1][2]) # Solution 4\n",
        "# Positive index starts from 0\n",
        "# Negative index starts from -1"
      ],
      "metadata": {
        "colab": {
          "base_uri": "https://localhost:8080/"
        },
        "id": "480cLcQ9eb0b",
        "outputId": "e0d51764-dd3c-4783-a449-819abaae7002"
      },
      "execution_count": null,
      "outputs": [
        {
          "output_type": "stream",
          "name": "stdout",
          "text": [
            "12\n",
            "12\n",
            "12\n",
            "12\n"
          ]
        }
      ]
    },
    {
      "cell_type": "code",
      "source": [
        "_nested_list = [1,2,56,76,[89,70,56,90], 75, 23, \"Hello World\"]"
      ],
      "metadata": {
        "id": "7UJRs-w4YFbp"
      },
      "execution_count": null,
      "outputs": []
    },
    {
      "cell_type": "code",
      "source": [
        "# How do I get W out of the hello World\n",
        "print(_nested_list[7][6]) # Positive Index\n",
        "print(_nested_list[-1][-5]) # Negative Index\n",
        "print(_nested_list[-1][6]) # Negative Index\n",
        "# We will count the space | 5th index"
      ],
      "metadata": {
        "colab": {
          "base_uri": "https://localhost:8080/"
        },
        "id": "Q3ZGA2JdYFZC",
        "outputId": "46f23b83-c4b4-4b30-a6bd-13e7d10bf3cc"
      },
      "execution_count": null,
      "outputs": [
        {
          "output_type": "stream",
          "name": "stdout",
          "text": [
            "W\n",
            "W\n",
            "W\n"
          ]
        }
      ]
    },
    {
      "cell_type": "code",
      "source": [
        "print(_nested_list[7][5]) # Space"
      ],
      "metadata": {
        "colab": {
          "base_uri": "https://localhost:8080/"
        },
        "id": "J00fwuTxgLuh",
        "outputId": "ec328779-ef2f-4525-c8c7-b16bf8b18541"
      },
      "execution_count": null,
      "outputs": [
        {
          "output_type": "stream",
          "name": "stdout",
          "text": [
            " \n"
          ]
        }
      ]
    },
    {
      "cell_type": "code",
      "source": [
        "\n",
        "_nested_list = [1, 2 , 56, 76,[89,70,[56,90],100], 75, 23,{'a':(8,7,6), 'c':'Data'} ,\"Hello World\"]\n",
        "# Can we put dictionary inside a list? --> yes\n"
      ],
      "metadata": {
        "id": "8IeI1ly3cxo7"
      },
      "execution_count": null,
      "outputs": []
    },
    {
      "cell_type": "code",
      "source": [
        "# 'Data' out of the _nested_list\n",
        "_nested_list[-2]['c'] # _nested_list[-2][c] this is different.\n"
      ],
      "metadata": {
        "colab": {
          "base_uri": "https://localhost:8080/",
          "height": 35
        },
        "id": "dHCTSQh6gyNP",
        "outputId": "4a1f0289-61fd-4f97-e1d3-67bccced1410"
      },
      "execution_count": null,
      "outputs": [
        {
          "output_type": "execute_result",
          "data": {
            "text/plain": [
              "'Data'"
            ],
            "application/vnd.google.colaboratory.intrinsic+json": {
              "type": "string"
            }
          },
          "metadata": {},
          "execution_count": 107
        }
      ]
    },
    {
      "cell_type": "code",
      "source": [
        "# 7 out of (8,7,6)\n",
        "print(_nested_list[-2]['a'][1])\n",
        "print(_nested_list[-2]['a'][-2])"
      ],
      "metadata": {
        "colab": {
          "base_uri": "https://localhost:8080/"
        },
        "id": "cMUTc4mIhOIt",
        "outputId": "70618106-fb99-4e32-f91d-d060d0e6f33a"
      },
      "execution_count": null,
      "outputs": [
        {
          "output_type": "stream",
          "name": "stdout",
          "text": [
            "7\n",
            "7\n"
          ]
        }
      ]
    },
    {
      "cell_type": "code",
      "source": [
        "_dict = {'a':{'b':'c'}} # Nested dictionary\n",
        "print(_dict)"
      ],
      "metadata": {
        "colab": {
          "base_uri": "https://localhost:8080/"
        },
        "id": "pQ2x1s7Yh6e4",
        "outputId": "3530af26-e176-4ca3-b87e-e76f210a00d4"
      },
      "execution_count": null,
      "outputs": [
        {
          "output_type": "stream",
          "name": "stdout",
          "text": [
            "{'a': {'b': 'c'}}\n"
          ]
        }
      ]
    },
    {
      "cell_type": "code",
      "source": [
        "# 'c' out of _dict\n",
        "_dict['a']['b']"
      ],
      "metadata": {
        "colab": {
          "base_uri": "https://localhost:8080/",
          "height": 35
        },
        "id": "vJB5ZojhiHCu",
        "outputId": "12b04a91-0428-4718-a797-dc384c3be24f"
      },
      "execution_count": null,
      "outputs": [
        {
          "output_type": "execute_result",
          "data": {
            "text/plain": [
              "'c'"
            ],
            "application/vnd.google.colaboratory.intrinsic+json": {
              "type": "string"
            }
          },
          "metadata": {},
          "execution_count": 117
        }
      ]
    },
    {
      "cell_type": "code",
      "source": [
        "_dict = {1:1, 2:2}# No restriction as such"
      ],
      "metadata": {
        "id": "V7u6tlDpiB_v"
      },
      "execution_count": null,
      "outputs": []
    },
    {
      "cell_type": "code",
      "source": [
        "# String : You can never have nested String (Yes or No)\n",
        "_string = \"abc,'def',tqr\" # Every character has a position\n",
        "_string[3]"
      ],
      "metadata": {
        "colab": {
          "base_uri": "https://localhost:8080/",
          "height": 35
        },
        "id": "KIWTWPfoitCd",
        "outputId": "0a149939-4c98-4996-a446-4c5f50688bbd"
      },
      "execution_count": null,
      "outputs": [
        {
          "output_type": "execute_result",
          "data": {
            "text/plain": [
              "','"
            ],
            "application/vnd.google.colaboratory.intrinsic+json": {
              "type": "string"
            }
          },
          "metadata": {},
          "execution_count": 118
        }
      ]
    },
    {
      "cell_type": "code",
      "source": [
        "# Nested Set | Set inside a Set (No) | Restriction on list, dict, Set as a data\n",
        "# _Set = {4,5,6,{7,8}}"
      ],
      "metadata": {
        "id": "XyOSwh1fjXVP"
      },
      "execution_count": null,
      "outputs": []
    },
    {
      "cell_type": "markdown",
      "source": [
        "#### Slicing on List, String, Tuple"
      ],
      "metadata": {
        "id": "yfKcQfJjy6yG"
      }
    },
    {
      "cell_type": "code",
      "source": [
        "_list = [5,6,7,8,9] # [6,7,8]\n",
        "# i : 1\n",
        "# j : 3\n",
        "# _list[i : j : k]\n",
        "_list[1:3] # values present at index  1 & 2 | 3 is not included"
      ],
      "metadata": {
        "colab": {
          "base_uri": "https://localhost:8080/"
        },
        "id": "0Kc6reP-ohSm",
        "outputId": "58a20e8e-ebd1-485d-944d-5ff8236a4a7c"
      },
      "execution_count": null,
      "outputs": [
        {
          "output_type": "execute_result",
          "data": {
            "text/plain": [
              "[6, 7]"
            ]
          },
          "metadata": {},
          "execution_count": 121
        }
      ]
    },
    {
      "cell_type": "code",
      "source": [
        "# i : 1\n",
        "# j : 4\n",
        "_list[1 : 4 ] # Values present at index 1,2 &3 | 4 is not included"
      ],
      "metadata": {
        "colab": {
          "base_uri": "https://localhost:8080/"
        },
        "id": "LQeIkbYIohQC",
        "outputId": "2899660f-3b02-497b-9dc6-c8660434d697"
      },
      "execution_count": null,
      "outputs": [
        {
          "output_type": "execute_result",
          "data": {
            "text/plain": [
              "[6, 7, 8]"
            ]
          },
          "metadata": {},
          "execution_count": 122
        }
      ]
    },
    {
      "cell_type": "code",
      "source": [
        "# i = Index of the first element of the slice in the main data\n",
        "# j = index of the last element of the slice in the main data + 1"
      ],
      "metadata": {
        "id": "aUXQy5A8og9w"
      },
      "execution_count": null,
      "outputs": []
    },
    {
      "cell_type": "code",
      "source": [
        "_list = ['a','b', 'c', 'd', 'e', 'f']\n",
        "# ['c','d','e', 'f'] : Slice\n",
        "_list[2:6]\n",
        "# i = 2\n",
        "# j =  5  + 1 = 6"
      ],
      "metadata": {
        "colab": {
          "base_uri": "https://localhost:8080/"
        },
        "id": "GPOZLbiDqMFL",
        "outputId": "bc108d28-91a2-466d-c037-e414ef413cea"
      },
      "execution_count": null,
      "outputs": [
        {
          "output_type": "execute_result",
          "data": {
            "text/plain": [
              "['c', 'd', 'e', 'f']"
            ]
          },
          "metadata": {},
          "execution_count": 123
        }
      ]
    },
    {
      "cell_type": "code",
      "source": [
        "_list[2:5]  # Python will go one element before it: Exclusive 4"
      ],
      "metadata": {
        "colab": {
          "base_uri": "https://localhost:8080/"
        },
        "id": "Ro0yUx7JrzAU",
        "outputId": "2076b15f-aff2-48d6-c641-b71c3a38a1bd"
      },
      "execution_count": null,
      "outputs": [
        {
          "output_type": "execute_result",
          "data": {
            "text/plain": [
              "['c', 'd', 'e']"
            ]
          },
          "metadata": {},
          "execution_count": 126
        }
      ]
    },
    {
      "cell_type": "code",
      "source": [
        "_list = ['a','b', 'c', 'd', 'e', 'f']\n",
        "# ['c','d','e'] : Slice\n",
        "# Negative Index\n",
        "# i = -4 (Start)\n",
        "# j = -2 + 1 (End) = -1\n",
        "_list[-4:-1]"
      ],
      "metadata": {
        "colab": {
          "base_uri": "https://localhost:8080/"
        },
        "id": "PpyrwPrUqnQr",
        "outputId": "b2600bcf-e2db-4f80-f495-d27d59474a4c"
      },
      "execution_count": null,
      "outputs": [
        {
          "output_type": "execute_result",
          "data": {
            "text/plain": [
              "['c', 'd', 'e']"
            ]
          },
          "metadata": {},
          "execution_count": 124
        }
      ]
    },
    {
      "cell_type": "code",
      "source": [],
      "metadata": {
        "id": "_k0F7tsOrxjk"
      },
      "execution_count": null,
      "outputs": []
    },
    {
      "cell_type": "code",
      "source": [
        "_list = ['a','b', 'c', 'd', 'e', 'f']\n",
        "# ['a','b', 'c'] # Slice\n",
        "# Positive Index\n",
        "# i = 0\n",
        "# j =  2 + 1 = 3\n",
        "_list[0:3]"
      ],
      "metadata": {
        "colab": {
          "base_uri": "https://localhost:8080/"
        },
        "id": "9oCVmzXlrO3U",
        "outputId": "6a339899-e3c9-458f-e578-4f2effdb4baf"
      },
      "execution_count": null,
      "outputs": [
        {
          "output_type": "execute_result",
          "data": {
            "text/plain": [
              "['a', 'b', 'c']"
            ]
          },
          "metadata": {},
          "execution_count": 125
        }
      ]
    },
    {
      "cell_type": "code",
      "source": [
        "_list = ['a','b', 'c', 'd', 'e', 'f']\n",
        "# output : slice - ['d','e','f']\n",
        "\n",
        "# Positive index\n",
        "# i : 3\n",
        "# j : 5 + 1= 6\n",
        "_list[3:6]\n",
        "\n"
      ],
      "metadata": {
        "colab": {
          "base_uri": "https://localhost:8080/"
        },
        "id": "Rpzo0R7WsDiF",
        "outputId": "1cb5083b-cb7f-48a9-cdc1-a5ba0fd37a64"
      },
      "execution_count": null,
      "outputs": [
        {
          "output_type": "execute_result",
          "data": {
            "text/plain": [
              "['d', 'e', 'f']"
            ]
          },
          "metadata": {},
          "execution_count": 127
        }
      ]
    },
    {
      "cell_type": "code",
      "source": [
        "# Negative index (Edge Case)\n",
        "# i : -3\n",
        "# j : -1 + 1 = 0\n",
        "_list[-3:0]"
      ],
      "metadata": {
        "colab": {
          "base_uri": "https://localhost:8080/"
        },
        "id": "rQ22C-Lysg_f",
        "outputId": "35d51c69-d162-48fb-d9f0-f4c8b5a27eb0"
      },
      "execution_count": null,
      "outputs": [
        {
          "output_type": "execute_result",
          "data": {
            "text/plain": [
              "[]"
            ]
          },
          "metadata": {},
          "execution_count": 128
        }
      ]
    },
    {
      "cell_type": "code",
      "source": [
        "# Trick :\n",
        "# i as blank | Start slicing from the first element | when your first element in slice is same as first element in main list\n",
        "# j as blank | keep slicing till the end | When your last element of slice is same as last element in the main list\n"
      ],
      "metadata": {
        "id": "m_6NmFmvs363"
      },
      "execution_count": null,
      "outputs": []
    },
    {
      "cell_type": "code",
      "source": [
        "_list = ['a','b', 'c', 'd', 'e', 'f']\n",
        "# output : slice - ['d','e','f']\n",
        "# i : -3\n",
        "# j : blank | go till the end\n",
        "_list[-3: ]"
      ],
      "metadata": {
        "colab": {
          "base_uri": "https://localhost:8080/"
        },
        "id": "lfZ9HKtTtMa0",
        "outputId": "c04bfda0-9901-451b-cbd7-96467f89a383"
      },
      "execution_count": null,
      "outputs": [
        {
          "output_type": "execute_result",
          "data": {
            "text/plain": [
              "['d', 'e', 'f']"
            ]
          },
          "metadata": {},
          "execution_count": 129
        }
      ]
    },
    {
      "cell_type": "code",
      "source": [
        "# i : 3\n",
        "# j : blank\n",
        "_list[3: ]"
      ],
      "metadata": {
        "colab": {
          "base_uri": "https://localhost:8080/"
        },
        "id": "1So5dzwNti-k",
        "outputId": "65a0c131-c151-48fe-ea57-3ab195b0c193"
      },
      "execution_count": null,
      "outputs": [
        {
          "output_type": "execute_result",
          "data": {
            "text/plain": [
              "['d', 'e', 'f']"
            ]
          },
          "metadata": {},
          "execution_count": 130
        }
      ]
    },
    {
      "cell_type": "code",
      "source": [
        "_list = ['a','b', 'c', 'd', 'e', 'f']\n",
        "# output : slice - ['a','b','c','d']\n",
        "# Positive Index\n",
        "# i : blank or 0\n",
        "# j : 3 + 1 = 4\n",
        "print(_list[0:4])\n",
        "print(_list[:4])"
      ],
      "metadata": {
        "colab": {
          "base_uri": "https://localhost:8080/"
        },
        "id": "ZnOrM56Rtn_t",
        "outputId": "155601a2-079e-4200-f64e-f1694d09e2e9"
      },
      "execution_count": null,
      "outputs": [
        {
          "output_type": "stream",
          "name": "stdout",
          "text": [
            "['a', 'b', 'c', 'd']\n",
            "['a', 'b', 'c', 'd']\n"
          ]
        }
      ]
    },
    {
      "cell_type": "code",
      "source": [
        "_list[ : ] #both i & j is blank"
      ],
      "metadata": {
        "colab": {
          "base_uri": "https://localhost:8080/"
        },
        "id": "0iJEAOogt96i",
        "outputId": "fdccd4f6-d725-4151-86f2-f0c414ea2b73"
      },
      "execution_count": null,
      "outputs": [
        {
          "output_type": "execute_result",
          "data": {
            "text/plain": [
              "['a', 'b', 'c', 'd', 'e', 'f']"
            ]
          },
          "metadata": {},
          "execution_count": 132
        }
      ]
    },
    {
      "cell_type": "code",
      "source": [
        "# k : Step\n",
        "_list = ['a','b', 'c', 'd', 'e', 'f', 'g']\n",
        "# output = ['b', 'd', 'f'] # 1 element is skipped\n",
        "# i : 1\n",
        "# j : 5 + 1 = 6\n",
        "# k :\n",
        "_list[1:6] # if you don't put any value of k, by default it is k = 1"
      ],
      "metadata": {
        "colab": {
          "base_uri": "https://localhost:8080/"
        },
        "id": "zBM6QNDGuNwU",
        "outputId": "8310d07a-2271-4b2b-ae77-7d3fbbd78b0a"
      },
      "execution_count": null,
      "outputs": [
        {
          "output_type": "execute_result",
          "data": {
            "text/plain": [
              "['b', 'c', 'd', 'e', 'f']"
            ]
          },
          "metadata": {},
          "execution_count": 134
        }
      ]
    },
    {
      "cell_type": "code",
      "source": [
        "_list[1 : 6: 1]"
      ],
      "metadata": {
        "colab": {
          "base_uri": "https://localhost:8080/"
        },
        "id": "yUrg1gGcu7nr",
        "outputId": "9d0d247e-39d1-4380-998f-4f5d75d3f86b"
      },
      "execution_count": null,
      "outputs": [
        {
          "output_type": "execute_result",
          "data": {
            "text/plain": [
              "['b', 'c', 'd', 'e', 'f']"
            ]
          },
          "metadata": {},
          "execution_count": 135
        }
      ]
    },
    {
      "cell_type": "code",
      "source": [
        "_list[1 : 6: 2]"
      ],
      "metadata": {
        "colab": {
          "base_uri": "https://localhost:8080/"
        },
        "id": "z7n47GCRvLPn",
        "outputId": "feeec300-32a2-4641-bd7c-5824d3f9da05"
      },
      "execution_count": null,
      "outputs": [
        {
          "output_type": "execute_result",
          "data": {
            "text/plain": [
              "['b', 'd', 'f']"
            ]
          },
          "metadata": {},
          "execution_count": 136
        }
      ]
    },
    {
      "cell_type": "code",
      "source": [
        "_list = ['a','b', 'c', 'd', 'e', 'f', 'g']\n",
        "# Output : ['a', 'd', 'g']\n",
        "# i : blank or 0\n",
        "# j : blank or 6 + 1 = 7 | (-1 + 1 = 0 : Python will get confused)\n",
        "# k :\n",
        "_list[0:7: 1] # Value of k ?? 1"
      ],
      "metadata": {
        "colab": {
          "base_uri": "https://localhost:8080/"
        },
        "id": "Q2OUNrPUvZu-",
        "outputId": "5419e4ba-d349-4539-ca13-14429137f238"
      },
      "execution_count": null,
      "outputs": [
        {
          "output_type": "execute_result",
          "data": {
            "text/plain": [
              "['a', 'b', 'c', 'd', 'e', 'f', 'g']"
            ]
          },
          "metadata": {},
          "execution_count": 137
        }
      ]
    },
    {
      "cell_type": "code",
      "source": [
        "_list[0:7: 3] # Value of k ?? 1"
      ],
      "metadata": {
        "colab": {
          "base_uri": "https://localhost:8080/"
        },
        "id": "SMbI-x1WwJR5",
        "outputId": "3d9e527f-a922-4e59-933d-5e412405ab56"
      },
      "execution_count": null,
      "outputs": [
        {
          "output_type": "execute_result",
          "data": {
            "text/plain": [
              "['a', 'd', 'g']"
            ]
          },
          "metadata": {},
          "execution_count": 138
        }
      ]
    },
    {
      "cell_type": "code",
      "source": [
        "_list[:: 3]"
      ],
      "metadata": {
        "colab": {
          "base_uri": "https://localhost:8080/"
        },
        "id": "_0rdcipkxBxK",
        "outputId": "c06241bb-1d76-42d0-fc53-b76897540815"
      },
      "execution_count": null,
      "outputs": [
        {
          "output_type": "execute_result",
          "data": {
            "text/plain": [
              "['a', 'd', 'g']"
            ]
          },
          "metadata": {},
          "execution_count": 139
        }
      ]
    },
    {
      "cell_type": "code",
      "source": [
        "# Always you will have symmetry in your pattern\n",
        "# Slicing | k as step\n",
        "# Looping concept | for | while loop"
      ],
      "metadata": {
        "id": "XjUxMnqRwhkF"
      },
      "execution_count": null,
      "outputs": []
    },
    {
      "cell_type": "code",
      "source": [
        "_string_var = 'hello'\n",
        "# Substring : Subpart of the string 'el'"
      ],
      "metadata": {
        "id": "UXDTJsfuzkM7"
      },
      "execution_count": null,
      "outputs": []
    },
    {
      "cell_type": "code",
      "source": [
        "# i & j\n",
        "# i : Index of Starting element of Substring 'el'\n",
        "# j : Index of Last element of substring + 1\n",
        "# What ever you put in the value of j : Slicing will be done till one position before it.\n"
      ],
      "metadata": {
        "id": "mvDvF9n1Zne5"
      },
      "execution_count": null,
      "outputs": []
    },
    {
      "cell_type": "code",
      "source": [
        "_list_var = [4,5,6,'a','b',10]"
      ],
      "metadata": {
        "id": "EnEiUU9VZnaA"
      },
      "execution_count": null,
      "outputs": []
    },
    {
      "cell_type": "code",
      "source": [
        "# Output Sublist = [6,'a','b']\n"
      ],
      "metadata": {
        "id": "yufNbJRhg3pm"
      },
      "execution_count": null,
      "outputs": []
    },
    {
      "cell_type": "code",
      "source": [
        "# Negative Index\n",
        "# i : neg index of the starting element of sublist\n",
        "# j : neg Index of the last element : -2 + 1 : -1\n",
        "# Whatever value is put in J, python will get the data one position before it.\n",
        "\n"
      ],
      "metadata": {
        "id": "dYBw8J40l4P3"
      },
      "execution_count": null,
      "outputs": []
    },
    {
      "cell_type": "code",
      "source": [
        "_list_var = [4,5,6,'a','b',10]"
      ],
      "metadata": {
        "id": "E9nJKEFhm_QK"
      },
      "execution_count": null,
      "outputs": []
    },
    {
      "cell_type": "code",
      "source": [
        "# Interesting rule -\n",
        "# Slicing from the first element of the list/String/ Tuple, keep  i as blank\n",
        "# Slicing till the last element of the list/String/ Tuple, Keep j as blank"
      ],
      "metadata": {
        "id": "5R35S8zKnWCx"
      },
      "execution_count": null,
      "outputs": []
    },
    {
      "cell_type": "code",
      "source": [
        "# First element of the sublist is same as the first element of the list\n",
        "# i blank : By default starting from 0 index\n",
        "_list_var[ : 3 ]"
      ],
      "metadata": {
        "colab": {
          "base_uri": "https://localhost:8080/"
        },
        "id": "xirej46_npG0",
        "outputId": "88af6bfb-1fa1-4eee-d850-2357d13f7629"
      },
      "execution_count": null,
      "outputs": [
        {
          "output_type": "execute_result",
          "data": {
            "text/plain": [
              "[4, 5, 6]"
            ]
          },
          "metadata": {},
          "execution_count": 28
        }
      ]
    },
    {
      "cell_type": "code",
      "source": [
        "#  Sublist ['a','b',10]\n",
        "# last element of the sublist is same as the last element of the list\n",
        "# j blank : By default it goes till the end.\n",
        "_list_var[ 3 : ]"
      ],
      "metadata": {
        "colab": {
          "base_uri": "https://localhost:8080/"
        },
        "id": "SqQNcRjuoAwu",
        "outputId": "4abbdc78-bab1-4842-d0c5-40180a38526b"
      },
      "execution_count": null,
      "outputs": [
        {
          "output_type": "execute_result",
          "data": {
            "text/plain": [
              "['a', 'b', 10]"
            ]
          },
          "metadata": {},
          "execution_count": 29
        }
      ]
    },
    {
      "cell_type": "code",
      "source": [
        "# Custom Values to be picked : For loop"
      ],
      "metadata": {
        "id": "bO4oIuqJooLM"
      },
      "execution_count": null,
      "outputs": []
    },
    {
      "cell_type": "code",
      "source": [
        "# What is K : Step"
      ],
      "metadata": {
        "id": "LoH0bBLdqdY8"
      },
      "execution_count": null,
      "outputs": []
    },
    {
      "cell_type": "code",
      "source": [
        "_list_var = [ 4, 5, 6, 'a' , 'b' , 'c' , 10 ]"
      ],
      "metadata": {
        "id": "3eDvjjs7rIp9"
      },
      "execution_count": null,
      "outputs": []
    },
    {
      "cell_type": "code",
      "source": [
        "# Substring\n",
        "# [5,'a','c']\n",
        "# i : Index of the first element\n",
        "# J : Index of the last element : 5 + 1 =6\n",
        "# K : Step 1 : Same Sequence without skip : elements will be printed\n",
        "_list_var[1 : 6 : 2]"
      ],
      "metadata": {
        "colab": {
          "base_uri": "https://localhost:8080/"
        },
        "id": "kPxmuyVmrPPz",
        "outputId": "4bc35049-4134-4874-b09d-56f9f36a9d77"
      },
      "execution_count": null,
      "outputs": [
        {
          "output_type": "execute_result",
          "data": {
            "text/plain": [
              "[5, 'a', 'c']"
            ]
          },
          "metadata": {},
          "execution_count": 39
        }
      ]
    },
    {
      "cell_type": "markdown",
      "source": [
        "#### Reverse Slicing"
      ],
      "metadata": {
        "id": "N_8W0DTjzksc"
      }
    },
    {
      "cell_type": "code",
      "source": [
        "_list = [5,6,7,8,9]\n",
        "# [8,7,6] --> Reverse slicing\n",
        "# i : 3\n",
        "# j : index of the last element - 1 : 1-1 = 0\n",
        "# k : -1 (if value of k is negative , Go from right to left | reverse direction)\n",
        "_list[3:0:-1]"
      ],
      "metadata": {
        "colab": {
          "base_uri": "https://localhost:8080/"
        },
        "id": "BhQ5A6Njz7_1",
        "outputId": "422e579d-c292-4130-cd04-d02f2572fdcc"
      },
      "execution_count": null,
      "outputs": [
        {
          "output_type": "execute_result",
          "data": {
            "text/plain": [
              "[8, 7, 6]"
            ]
          },
          "metadata": {},
          "execution_count": 140
        }
      ]
    },
    {
      "cell_type": "code",
      "source": [
        "_list[::-1] # k = -1 { Print in the reverse direction}"
      ],
      "metadata": {
        "colab": {
          "base_uri": "https://localhost:8080/"
        },
        "id": "569P7BSG0jGM",
        "outputId": "9db2eb4b-6171-4363-fb73-6eeb393269cd"
      },
      "execution_count": null,
      "outputs": [
        {
          "output_type": "execute_result",
          "data": {
            "text/plain": [
              "[9, 8, 7, 6, 5]"
            ]
          },
          "metadata": {},
          "execution_count": 141
        }
      ]
    },
    {
      "cell_type": "code",
      "source": [
        "_string = 'hello world'\n",
        "# 'worl' --> Left to right\n",
        "\n",
        "# K determines which direction you are trying to slice\n",
        "# left to right : K : +ve\n",
        "# right to left : k : -ve\n",
        "\n",
        "# 'lrow' --> right to left | Reverse direction\n",
        "_string[ -2 : -6 : -1 ]\n",
        "# i : Index of Starting element (-2 or 9) | Starting\n",
        "# j: Index of Last element - 1 ( -5 -1 : -6) | End\n",
        "# K : -ve value determines which direction to start\n",
        "# K +ve : forward Direction | Left to right\n",
        "# K -ve : Reverse Direction | Right to left\n"
      ],
      "metadata": {
        "id": "nhwSqoQ9zrrQ",
        "colab": {
          "base_uri": "https://localhost:8080/",
          "height": 35
        },
        "outputId": "ec7cb853-5791-436a-ee9c-1aeef570f1c7"
      },
      "execution_count": null,
      "outputs": [
        {
          "output_type": "execute_result",
          "data": {
            "text/plain": [
              "'lrow'"
            ],
            "application/vnd.google.colaboratory.intrinsic+json": {
              "type": "string"
            }
          },
          "metadata": {},
          "execution_count": 50
        }
      ]
    },
    {
      "cell_type": "markdown",
      "source": [
        "#### Update data based on indexing or Slicing"
      ],
      "metadata": {
        "id": "1qK6hCFDz_R8"
      }
    },
    {
      "cell_type": "code",
      "source": [
        "_string = 'hello'\n",
        "_string[0] ='H' # No\n",
        "# String is immutable"
      ],
      "metadata": {
        "colab": {
          "base_uri": "https://localhost:8080/",
          "height": 161
        },
        "id": "TmwHsVTos5Fb",
        "outputId": "f79a79d1-5a7d-41ac-8292-25607a740f23"
      },
      "execution_count": null,
      "outputs": [
        {
          "output_type": "error",
          "ename": "TypeError",
          "evalue": "'str' object does not support item assignment",
          "traceback": [
            "\u001b[0;31m---------------------------------------------------------------------------\u001b[0m",
            "\u001b[0;31mTypeError\u001b[0m                                 Traceback (most recent call last)",
            "\u001b[0;32m<ipython-input-1-dcf9a313b9cd>\u001b[0m in \u001b[0;36m<cell line: 2>\u001b[0;34m()\u001b[0m\n\u001b[1;32m      1\u001b[0m \u001b[0m_string\u001b[0m \u001b[0;34m=\u001b[0m \u001b[0;34m'hello'\u001b[0m\u001b[0;34m\u001b[0m\u001b[0;34m\u001b[0m\u001b[0m\n\u001b[0;32m----> 2\u001b[0;31m \u001b[0m_string\u001b[0m\u001b[0;34m[\u001b[0m\u001b[0;36m0\u001b[0m\u001b[0;34m]\u001b[0m \u001b[0;34m=\u001b[0m\u001b[0;34m'H'\u001b[0m \u001b[0;31m# No\u001b[0m\u001b[0;34m\u001b[0m\u001b[0;34m\u001b[0m\u001b[0m\n\u001b[0m",
            "\u001b[0;31mTypeError\u001b[0m: 'str' object does not support item assignment"
          ]
        }
      ]
    },
    {
      "cell_type": "code",
      "source": [
        "_list = ['h', 'e', 'l', 'l','o']\n",
        "_list[0] = \"H\" # yes\n",
        "# List is mutable\n",
        "print(_list)"
      ],
      "metadata": {
        "colab": {
          "base_uri": "https://localhost:8080/"
        },
        "id": "-bEf0YVRtI_r",
        "outputId": "06539c0e-5d99-4775-e652-34b0f55d172b"
      },
      "execution_count": null,
      "outputs": [
        {
          "output_type": "stream",
          "name": "stdout",
          "text": [
            "['H', 'e', 'l', 'l', 'o']\n"
          ]
        }
      ]
    },
    {
      "cell_type": "code",
      "source": [
        "_tuple = ('h', 'e', 'l', 'l','o')\n",
        "_tuple[0] = \"H\" # yes\n",
        "# List is mutable\n",
        "print(_tuple)"
      ],
      "metadata": {
        "colab": {
          "base_uri": "https://localhost:8080/",
          "height": 196
        },
        "id": "kVEisUhWtZ7j",
        "outputId": "8b10743d-5f84-45a2-aa4f-befdf54c2b95"
      },
      "execution_count": null,
      "outputs": [
        {
          "output_type": "error",
          "ename": "TypeError",
          "evalue": "'tuple' object does not support item assignment",
          "traceback": [
            "\u001b[0;31m---------------------------------------------------------------------------\u001b[0m",
            "\u001b[0;31mTypeError\u001b[0m                                 Traceback (most recent call last)",
            "\u001b[0;32m<ipython-input-4-d315283dbfaf>\u001b[0m in \u001b[0;36m<cell line: 2>\u001b[0;34m()\u001b[0m\n\u001b[1;32m      1\u001b[0m \u001b[0m_tuple\u001b[0m \u001b[0;34m=\u001b[0m \u001b[0;34m(\u001b[0m\u001b[0;34m'h'\u001b[0m\u001b[0;34m,\u001b[0m \u001b[0;34m'e'\u001b[0m\u001b[0;34m,\u001b[0m \u001b[0;34m'l'\u001b[0m\u001b[0;34m,\u001b[0m \u001b[0;34m'l'\u001b[0m\u001b[0;34m,\u001b[0m\u001b[0;34m'o'\u001b[0m\u001b[0;34m)\u001b[0m\u001b[0;34m\u001b[0m\u001b[0;34m\u001b[0m\u001b[0m\n\u001b[0;32m----> 2\u001b[0;31m \u001b[0m_tuple\u001b[0m\u001b[0;34m[\u001b[0m\u001b[0;36m0\u001b[0m\u001b[0;34m]\u001b[0m \u001b[0;34m=\u001b[0m \u001b[0;34m\"H\"\u001b[0m \u001b[0;31m# yes\u001b[0m\u001b[0;34m\u001b[0m\u001b[0;34m\u001b[0m\u001b[0m\n\u001b[0m\u001b[1;32m      3\u001b[0m \u001b[0;31m# List is mutable\u001b[0m\u001b[0;34m\u001b[0m\u001b[0;34m\u001b[0m\u001b[0m\n\u001b[1;32m      4\u001b[0m \u001b[0mprint\u001b[0m\u001b[0;34m(\u001b[0m\u001b[0m_tuple\u001b[0m\u001b[0;34m)\u001b[0m\u001b[0;34m\u001b[0m\u001b[0;34m\u001b[0m\u001b[0m\n",
            "\u001b[0;31mTypeError\u001b[0m: 'tuple' object does not support item assignment"
          ]
        }
      ]
    },
    {
      "cell_type": "code",
      "source": [
        "# String & tuple : Immutable | you can;t change the data\n",
        "# List : Mutable | You can change the data\n",
        "# Indexing & Slicing concepts are applied on ordered data | String, List & tuple"
      ],
      "metadata": {
        "id": "Y3CDyy-mtf0m"
      },
      "execution_count": null,
      "outputs": []
    },
    {
      "cell_type": "code",
      "source": [
        "_list = [30,50, 60, 70, 90]\n",
        "# Replace [50,60,70] --> ['a', 'b', 'c']\n",
        "_list[ 1: 4 ] = ['a', 'b', 'c']\n",
        "print(_list)"
      ],
      "metadata": {
        "colab": {
          "base_uri": "https://localhost:8080/"
        },
        "id": "PkP262E9tmPk",
        "outputId": "706426b6-2b82-4631-dbc6-46250eb9f8c5"
      },
      "execution_count": null,
      "outputs": [
        {
          "output_type": "stream",
          "name": "stdout",
          "text": [
            "[30, 'a', 'b', 'c', 90]\n"
          ]
        }
      ]
    },
    {
      "cell_type": "code",
      "source": [
        "_list[ 1: 4 ] = ['a', 'b', 'c', 'd']\n",
        "print(_list)"
      ],
      "metadata": {
        "colab": {
          "base_uri": "https://localhost:8080/"
        },
        "id": "hFdazPCJuXXS",
        "outputId": "1e46c8c4-874e-4308-839f-d59bcdb63a27"
      },
      "execution_count": null,
      "outputs": [
        {
          "output_type": "stream",
          "name": "stdout",
          "text": [
            "[30, 'a', 'b', 'c', 'd', 90]\n"
          ]
        }
      ]
    },
    {
      "cell_type": "code",
      "source": [
        "_list = [30,50, 60, 70, 90]\n",
        "_list[ 1: 4 ] = ['a', 'b']\n",
        "print(_list)"
      ],
      "metadata": {
        "colab": {
          "base_uri": "https://localhost:8080/"
        },
        "id": "ZeGPqAPnufjy",
        "outputId": "a163e2a1-d681-420e-8c92-65bd7197e175"
      },
      "execution_count": null,
      "outputs": [
        {
          "output_type": "stream",
          "name": "stdout",
          "text": [
            "[30, 'a', 'b', 90]\n"
          ]
        }
      ]
    },
    {
      "cell_type": "code",
      "source": [
        "# Only list can be updated using indexing and slicing concept."
      ],
      "metadata": {
        "id": "b5POent4u_AA"
      },
      "execution_count": null,
      "outputs": []
    },
    {
      "cell_type": "code",
      "source": [],
      "metadata": {
        "id": "x828-RQ7vDPX"
      },
      "execution_count": null,
      "outputs": []
    },
    {
      "cell_type": "code",
      "source": [
        "# List or Dict\n",
        "students = [['Alice', 25], ['Bob', 30], ['Charlie', 22]]\n",
        "# Change the age of Bob from 30 to 35\n",
        "students[1][1] = 35\n",
        "# locate it first and then change the value\n"
      ],
      "metadata": {
        "id": "UdjYJqA00DRr"
      },
      "execution_count": null,
      "outputs": []
    },
    {
      "cell_type": "code",
      "source": [
        "students"
      ],
      "metadata": {
        "colab": {
          "base_uri": "https://localhost:8080/"
        },
        "id": "YTdn-TP_vpGd",
        "outputId": "7665d9c9-37c1-4bf4-c3ca-f47f71d8c2bc"
      },
      "execution_count": null,
      "outputs": [
        {
          "output_type": "execute_result",
          "data": {
            "text/plain": [
              "[['Alice', 25], ['Bob', 35], ['Charlie', 22]]"
            ]
          },
          "metadata": {},
          "execution_count": 61
        }
      ]
    },
    {
      "cell_type": "code",
      "source": [
        "_student_dict = {'Alice': 25, 'Bob': 30, 'Charlie': 22}\n",
        "# Change the age of Bob from 30 to 35\n",
        "_student_dict['Bob'] = 35\n",
        "# Locate the data"
      ],
      "metadata": {
        "id": "s9aXBD8avsT7"
      },
      "execution_count": null,
      "outputs": []
    },
    {
      "cell_type": "code",
      "source": [
        "_student_dict"
      ],
      "metadata": {
        "id": "FLVLiZ9dwNm7",
        "outputId": "a6bd4ff8-c376-4fb6-bf8b-292c3576cdd5",
        "colab": {
          "base_uri": "https://localhost:8080/"
        }
      },
      "execution_count": null,
      "outputs": [
        {
          "output_type": "execute_result",
          "data": {
            "text/plain": [
              "{'Alice': 25, 'Bob': 35, 'Charlie': 22}"
            ]
          },
          "metadata": {},
          "execution_count": 63
        }
      ]
    },
    {
      "cell_type": "code",
      "source": [
        "# String , tuple : Immutable : Data Can't be changed.\n",
        "# Set: Unordered : You won't be able to do the indexing."
      ],
      "metadata": {
        "id": "7BHHjaYuMC29"
      },
      "execution_count": null,
      "outputs": []
    },
    {
      "cell_type": "code",
      "source": [
        "# Update data based on slicing\n",
        "# Locate\n",
        "_list = [5,6,7,8]\n",
        "# [6,7] & ['a','b']\n",
        "# Specify the place\n",
        "_list[1:3] = ['a', 'b']"
      ],
      "metadata": {
        "id": "c1esDxOgMCw9"
      },
      "execution_count": null,
      "outputs": []
    },
    {
      "cell_type": "code",
      "source": [
        "print(_list) # Locate & Change"
      ],
      "metadata": {
        "colab": {
          "base_uri": "https://localhost:8080/"
        },
        "id": "faA-93x4ZCe7",
        "outputId": "9e2d7557-351e-4c43-d9f7-6e9b869be608"
      },
      "execution_count": null,
      "outputs": [
        {
          "output_type": "stream",
          "name": "stdout",
          "text": [
            "[5, 'a', 'b', 8]\n"
          ]
        }
      ]
    },
    {
      "cell_type": "code",
      "source": [
        "# Value : dict\n",
        "_dict = {4:5, 7:8}\n",
        "_dict[7] = 'a'"
      ],
      "metadata": {
        "id": "1s1JAZfgZP-v"
      },
      "execution_count": null,
      "outputs": []
    },
    {
      "cell_type": "code",
      "source": [
        "_dict"
      ],
      "metadata": {
        "colab": {
          "base_uri": "https://localhost:8080/"
        },
        "id": "SrKOfdz5ZiRM",
        "outputId": "b927a745-cd22-43f2-c130-ca35021e718f"
      },
      "execution_count": null,
      "outputs": [
        {
          "output_type": "execute_result",
          "data": {
            "text/plain": [
              "{4: 5, 7: 'a'}"
            ]
          },
          "metadata": {},
          "execution_count": 68
        }
      ]
    },
    {
      "cell_type": "code",
      "source": [
        "# List, dict & Set --> Mutable | Dict & Set are unordered : no Indexing or slicing\n",
        "# String, tuple --> Immutable"
      ],
      "metadata": {
        "id": "ivX52i8pvUmE"
      },
      "execution_count": null,
      "outputs": []
    },
    {
      "cell_type": "code",
      "source": [
        "# Dictionary | Update the data | Mutable\n",
        "_dict = {'a':3, 'b':2, 'c':10}\n",
        "# Update from 'c':10 to 'c' : 20\n",
        "_dict['c'] = 20 # Data is updated here.\n",
        "print(_dict)"
      ],
      "metadata": {
        "colab": {
          "base_uri": "https://localhost:8080/"
        },
        "id": "XX_y-V8MvKme",
        "outputId": "dbabbc82-120d-4789-9ac8-b771c0543742"
      },
      "execution_count": null,
      "outputs": [
        {
          "output_type": "stream",
          "name": "stdout",
          "text": [
            "{'a': 3, 'b': 2, 'c': 20}\n"
          ]
        }
      ]
    },
    {
      "cell_type": "code",
      "source": [
        "# _dict.update({'a':5,'b':'abc'}) # method\n",
        "print(_dict)"
      ],
      "metadata": {
        "colab": {
          "base_uri": "https://localhost:8080/"
        },
        "id": "7GVCrdnfvqeB",
        "outputId": "10b0ff31-e7de-4d31-b58f-9e3099c750b0"
      },
      "execution_count": null,
      "outputs": [
        {
          "output_type": "stream",
          "name": "stdout",
          "text": [
            "{'a': 5, 'b': 'abc', 'c': 20}\n"
          ]
        }
      ]
    },
    {
      "cell_type": "code",
      "source": [
        "# del function to delete the key, value pair\n",
        "del _dict['b'] # Key and value pair will be deleted\n",
        "print(_dict)"
      ],
      "metadata": {
        "colab": {
          "base_uri": "https://localhost:8080/"
        },
        "id": "rpIQziemwFA-",
        "outputId": "96ce1ddb-680d-4c6c-a424-b69d7390d459"
      },
      "execution_count": null,
      "outputs": [
        {
          "output_type": "stream",
          "name": "stdout",
          "text": [
            "{'a': 5, 'c': 20}\n"
          ]
        }
      ]
    },
    {
      "cell_type": "code",
      "source": [
        "del(_dict['c'])"
      ],
      "metadata": {
        "id": "ex6ulxu5watR"
      },
      "execution_count": null,
      "outputs": []
    },
    {
      "cell_type": "code",
      "source": [
        "print(_dict)"
      ],
      "metadata": {
        "colab": {
          "base_uri": "https://localhost:8080/"
        },
        "id": "ajaIbSHxwiP1",
        "outputId": "fd287dae-035b-4a5b-8048-0c501a3ec560"
      },
      "execution_count": null,
      "outputs": [
        {
          "output_type": "stream",
          "name": "stdout",
          "text": [
            "{'a': 5}\n"
          ]
        }
      ]
    },
    {
      "cell_type": "code",
      "source": [
        "_dict = {'alok':80, 'xyz':90, 'abc':86}\n",
        "# 'abc' :86 --> 'lmn' :86\n",
        "_dict['lmn'] = 86\n",
        "print(_dict)\n",
        "del _dict['abc']\n",
        "print(_dict)"
      ],
      "metadata": {
        "colab": {
          "base_uri": "https://localhost:8080/"
        },
        "id": "ZaeqJYgZwkuH",
        "outputId": "8dc7ea4f-e59d-4b09-b4a1-55f859bc5c43"
      },
      "execution_count": null,
      "outputs": [
        {
          "output_type": "stream",
          "name": "stdout",
          "text": [
            "{'alok': 80, 'xyz': 90, 'abc': 86, 'lmn': 86}\n",
            "{'alok': 80, 'xyz': 90, 'lmn': 86}\n"
          ]
        }
      ]
    },
    {
      "cell_type": "code",
      "source": [],
      "metadata": {
        "id": "bn9f9f__xBhN"
      },
      "execution_count": null,
      "outputs": []
    }
  ]
}